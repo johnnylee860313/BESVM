{
 "cells": [
  {
   "cell_type": "markdown",
   "metadata": {},
   "source": [
    "1.feature with same err or not\n",
    "2.err value"
   ]
  },
  {
   "cell_type": "code",
   "execution_count": 20,
   "metadata": {},
   "outputs": [],
   "source": [
    "import jupyter_Importer\n",
    "from MLModels_FeatureImportance import featureImportance_linearRegression\n",
    "from MLModels_FeatureImportance import featureImportance_permutation\n",
    "from MLModels_FeatureImportance import featureImportance_DTree\n",
    "\n",
    "import pandas as pd\n",
    "import numpy as np\n",
    "import math\n",
    "from sklearn import preprocessing\n",
    "\n",
    "from sklearn.svm import SVC\n",
    "from sklearn.neighbors import KNeighborsClassifier\n",
    "from sklearn.cluster import KMeans\n",
    "from sklearn.model_selection import train_test_split"
   ]
  },
  {
   "cell_type": "code",
   "execution_count": 21,
   "metadata": {},
   "outputs": [
    {
     "data": {
      "text/html": [
       "<div>\n",
       "<style scoped>\n",
       "    .dataframe tbody tr th:only-of-type {\n",
       "        vertical-align: middle;\n",
       "    }\n",
       "\n",
       "    .dataframe tbody tr th {\n",
       "        vertical-align: top;\n",
       "    }\n",
       "\n",
       "    .dataframe thead th {\n",
       "        text-align: right;\n",
       "    }\n",
       "</style>\n",
       "<table border=\"1\" class=\"dataframe\">\n",
       "  <thead>\n",
       "    <tr style=\"text-align: right;\">\n",
       "      <th></th>\n",
       "      <th>x1</th>\n",
       "      <th>x2</th>\n",
       "      <th>x3</th>\n",
       "      <th>x4</th>\n",
       "      <th>x5</th>\n",
       "      <th>x6</th>\n",
       "      <th>y</th>\n",
       "    </tr>\n",
       "  </thead>\n",
       "  <tbody>\n",
       "    <tr>\n",
       "      <th>0</th>\n",
       "      <td>date</td>\n",
       "      <td>Temperature</td>\n",
       "      <td>Humidity</td>\n",
       "      <td>Light</td>\n",
       "      <td>CO2</td>\n",
       "      <td>HumidityRatio</td>\n",
       "      <td>Occupancy</td>\n",
       "    </tr>\n",
       "    <tr>\n",
       "      <th>1</th>\n",
       "      <td>2015-02-02 14:19:00</td>\n",
       "      <td>23.7</td>\n",
       "      <td>26.272</td>\n",
       "      <td>585.2</td>\n",
       "      <td>749.2</td>\n",
       "      <td>0.0047641630241641</td>\n",
       "      <td>1</td>\n",
       "    </tr>\n",
       "    <tr>\n",
       "      <th>2</th>\n",
       "      <td>2015-02-02 14:19:59</td>\n",
       "      <td>23.718</td>\n",
       "      <td>26.29</td>\n",
       "      <td>578.4</td>\n",
       "      <td>760.4</td>\n",
       "      <td>0.0047726609921251</td>\n",
       "      <td>1</td>\n",
       "    </tr>\n",
       "    <tr>\n",
       "      <th>3</th>\n",
       "      <td>2015-02-02 14:21:00</td>\n",
       "      <td>23.73</td>\n",
       "      <td>26.23</td>\n",
       "      <td>572.666666666667</td>\n",
       "      <td>769.666666666667</td>\n",
       "      <td>0.0047651525524654</td>\n",
       "      <td>1</td>\n",
       "    </tr>\n",
       "    <tr>\n",
       "      <th>4</th>\n",
       "      <td>2015-02-02 14:22:00</td>\n",
       "      <td>23.7225</td>\n",
       "      <td>26.125</td>\n",
       "      <td>493.75</td>\n",
       "      <td>774.75</td>\n",
       "      <td>0.0047437733559968</td>\n",
       "      <td>1</td>\n",
       "    </tr>\n",
       "  </tbody>\n",
       "</table>\n",
       "</div>"
      ],
      "text/plain": [
       "                    x1           x2        x3                x4  \\\n",
       "0                 date  Temperature  Humidity             Light   \n",
       "1  2015-02-02 14:19:00         23.7    26.272             585.2   \n",
       "2  2015-02-02 14:19:59       23.718     26.29             578.4   \n",
       "3  2015-02-02 14:21:00        23.73     26.23  572.666666666667   \n",
       "4  2015-02-02 14:22:00      23.7225    26.125            493.75   \n",
       "\n",
       "                 x5                  x6          y  \n",
       "0               CO2       HumidityRatio  Occupancy  \n",
       "1             749.2  0.0047641630241641          1  \n",
       "2             760.4  0.0047726609921251          1  \n",
       "3  769.666666666667  0.0047651525524654          1  \n",
       "4            774.75  0.0047437733559968          1  "
      ]
     },
     "execution_count": 21,
     "metadata": {},
     "output_type": "execute_result"
    }
   ],
   "source": [
    "dataset = pd.read_csv(\"Occupancy.csv\", names = ['x' + str(i) for i in range(1, 7)] + ['y'], sep = \",\")\n",
    "dataset.head()"
   ]
  },
  {
   "cell_type": "code",
   "execution_count": 22,
   "metadata": {},
   "outputs": [
    {
     "data": {
      "text/html": [
       "<div>\n",
       "<style scoped>\n",
       "    .dataframe tbody tr th:only-of-type {\n",
       "        vertical-align: middle;\n",
       "    }\n",
       "\n",
       "    .dataframe tbody tr th {\n",
       "        vertical-align: top;\n",
       "    }\n",
       "\n",
       "    .dataframe thead th {\n",
       "        text-align: right;\n",
       "    }\n",
       "</style>\n",
       "<table border=\"1\" class=\"dataframe\">\n",
       "  <thead>\n",
       "    <tr style=\"text-align: right;\">\n",
       "      <th></th>\n",
       "      <th>x1</th>\n",
       "      <th>x2</th>\n",
       "      <th>y</th>\n",
       "    </tr>\n",
       "  </thead>\n",
       "  <tbody>\n",
       "    <tr>\n",
       "      <th>1</th>\n",
       "      <td>585.200000</td>\n",
       "      <td>749.200000</td>\n",
       "      <td>1</td>\n",
       "    </tr>\n",
       "    <tr>\n",
       "      <th>2</th>\n",
       "      <td>578.400000</td>\n",
       "      <td>760.400000</td>\n",
       "      <td>1</td>\n",
       "    </tr>\n",
       "    <tr>\n",
       "      <th>3</th>\n",
       "      <td>572.666667</td>\n",
       "      <td>769.666667</td>\n",
       "      <td>1</td>\n",
       "    </tr>\n",
       "    <tr>\n",
       "      <th>4</th>\n",
       "      <td>493.750000</td>\n",
       "      <td>774.750000</td>\n",
       "      <td>1</td>\n",
       "    </tr>\n",
       "    <tr>\n",
       "      <th>5</th>\n",
       "      <td>488.600000</td>\n",
       "      <td>779.000000</td>\n",
       "      <td>1</td>\n",
       "    </tr>\n",
       "    <tr>\n",
       "      <th>...</th>\n",
       "      <td>...</td>\n",
       "      <td>...</td>\n",
       "      <td>...</td>\n",
       "    </tr>\n",
       "    <tr>\n",
       "      <th>20556</th>\n",
       "      <td>429.750000</td>\n",
       "      <td>1505.250000</td>\n",
       "      <td>1</td>\n",
       "    </tr>\n",
       "    <tr>\n",
       "      <th>20557</th>\n",
       "      <td>423.500000</td>\n",
       "      <td>1514.500000</td>\n",
       "      <td>1</td>\n",
       "    </tr>\n",
       "    <tr>\n",
       "      <th>20558</th>\n",
       "      <td>423.500000</td>\n",
       "      <td>1521.500000</td>\n",
       "      <td>1</td>\n",
       "    </tr>\n",
       "    <tr>\n",
       "      <th>20559</th>\n",
       "      <td>418.750000</td>\n",
       "      <td>1632.000000</td>\n",
       "      <td>1</td>\n",
       "    </tr>\n",
       "    <tr>\n",
       "      <th>20560</th>\n",
       "      <td>409.000000</td>\n",
       "      <td>1864.000000</td>\n",
       "      <td>1</td>\n",
       "    </tr>\n",
       "  </tbody>\n",
       "</table>\n",
       "<p>20560 rows × 3 columns</p>\n",
       "</div>"
      ],
      "text/plain": [
       "               x1           x2  y\n",
       "1      585.200000   749.200000  1\n",
       "2      578.400000   760.400000  1\n",
       "3      572.666667   769.666667  1\n",
       "4      493.750000   774.750000  1\n",
       "5      488.600000   779.000000  1\n",
       "...           ...          ... ..\n",
       "20556  429.750000  1505.250000  1\n",
       "20557  423.500000  1514.500000  1\n",
       "20558  423.500000  1521.500000  1\n",
       "20559  418.750000  1632.000000  1\n",
       "20560  409.000000  1864.000000  1\n",
       "\n",
       "[20560 rows x 3 columns]"
      ]
     },
     "execution_count": 22,
     "metadata": {},
     "output_type": "execute_result"
    }
   ],
   "source": [
    "dataset_light_co2 = dataset.iloc[1:,3:5]\n",
    "dataset_light_co2['y'] = dataset.iloc[1:,6:7]\n",
    "dataset_light_co2.columns = ['x1','x2','y']\n",
    "dataset_light_co2['x1'] = dataset_light_co2['x1'].apply(lambda x : float(x))\n",
    "dataset_light_co2['x2'] = dataset_light_co2['x2'].apply(lambda x : float(x))\n",
    "dataset_light_co2['y'] = dataset_light_co2['y'].apply(lambda x : int(x))\n",
    "dataset_light_co2"
   ]
  },
  {
   "cell_type": "code",
   "execution_count": 23,
   "metadata": {},
   "outputs": [
    {
     "name": "stdout",
     "output_type": "stream",
     "text": [
      "<class 'pandas.core.frame.DataFrame'>\n",
      "Int64Index: 6757 entries, 1 to 20560\n",
      "Data columns (total 3 columns):\n",
      " #   Column  Non-Null Count  Dtype  \n",
      "---  ------  --------------  -----  \n",
      " 0   x1      6757 non-null   float64\n",
      " 1   x2      6757 non-null   float64\n",
      " 2   y       6757 non-null   int64  \n",
      "dtypes: float64(2), int64(1)\n",
      "memory usage: 211.2 KB\n",
      "<class 'pandas.core.frame.DataFrame'>\n",
      "Int64Index: 4112 entries, 8855 to 4674\n",
      "Data columns (total 3 columns):\n",
      " #   Column  Non-Null Count  Dtype  \n",
      "---  ------  --------------  -----  \n",
      " 0   x1      4112 non-null   float64\n",
      " 1   x2      4112 non-null   float64\n",
      " 2   y       4112 non-null   int64  \n",
      "dtypes: float64(2), int64(1)\n",
      "memory usage: 128.5 KB\n",
      "None None\n"
     ]
    }
   ],
   "source": [
    "subset = dataset_light_co2.sample(frac=0.2,replace=False,random_state=43)\n",
    "dataset_light_co2 = dataset_light_co2.append(subset)\n",
    "dataset_light_co2 = dataset_light_co2.drop_duplicates(subset=['x1','x2','y'],keep=False)\n",
    "\n",
    "subsample_x = subset.iloc[:,:-1].values\n",
    "subsample_y = subset.iloc[:,-1].values\n",
    "\n",
    "print(dataset_light_co2.info(),subset.info())"
   ]
  },
  {
   "cell_type": "code",
   "execution_count": 24,
   "metadata": {},
   "outputs": [],
   "source": [
    "from sklearn import preprocessing\n",
    "subsample_x = pd.DataFrame(subsample_x)\n",
    "minmax = preprocessing.MinMaxScaler()\n",
    "data_minmax = minmax.fit_transform(subsample_x)"
   ]
  },
  {
   "cell_type": "code",
   "execution_count": 25,
   "metadata": {},
   "outputs": [
    {
     "name": "stdout",
     "output_type": "stream",
     "text": [
      "<class 'pandas.core.frame.DataFrame'>\n",
      "Int64Index: 6757 entries, 1 to 20560\n",
      "Data columns (total 3 columns):\n",
      " #   Column  Non-Null Count  Dtype  \n",
      "---  ------  --------------  -----  \n",
      " 0   x1      6757 non-null   float64\n",
      " 1   x2      6757 non-null   float64\n",
      " 2   y       6757 non-null   int64  \n",
      "dtypes: float64(2), int64(1)\n",
      "memory usage: 211.2 KB\n",
      "(6757, 2) None\n"
     ]
    }
   ],
   "source": [
    "#preprocess the data\n",
    "dataset_light_co2_nml = dataset_light_co2.iloc[:,:-1]\n",
    "minmax = preprocessing.MinMaxScaler()\n",
    "dataset_light_co2_nml = minmax.fit_transform(dataset_light_co2_nml)\n",
    "#dataset_light_co2_nml = preprocessing.scale(dataset_light_co2_nml)\n",
    "print(dataset_light_co2_nml.shape,dataset_light_co2.info())"
   ]
  },
  {
   "cell_type": "code",
   "execution_count": 26,
   "metadata": {},
   "outputs": [
    {
     "name": "stdout",
     "output_type": "stream",
     "text": [
      "x1    1.0\n",
      "x2    1.0\n",
      "y     1.0\n",
      "dtype: float64 x1    0.0\n",
      "x2    0.0\n",
      "y     0.0\n",
      "dtype: float64\n",
      "<class 'pandas.core.frame.DataFrame'>\n",
      "RangeIndex: 6757 entries, 0 to 6756\n",
      "Data columns (total 3 columns):\n",
      " #   Column  Non-Null Count  Dtype  \n",
      "---  ------  --------------  -----  \n",
      " 0   x1      6757 non-null   float64\n",
      " 1   x2      6757 non-null   float64\n",
      " 2   y       6757 non-null   int64  \n",
      "dtypes: float64(2), int64(1)\n",
      "memory usage: 158.5 KB\n",
      "<class 'pandas.core.frame.DataFrame'>\n",
      "Int64Index: 6757 entries, 1 to 20560\n",
      "Data columns (total 3 columns):\n",
      " #   Column  Non-Null Count  Dtype  \n",
      "---  ------  --------------  -----  \n",
      " 0   x1      6757 non-null   float64\n",
      " 1   x2      6757 non-null   float64\n",
      " 2   y       6757 non-null   int64  \n",
      "dtypes: float64(2), int64(1)\n",
      "memory usage: 211.2 KB\n",
      "None None\n"
     ]
    }
   ],
   "source": [
    "dataset_light_co2_nml = pd.DataFrame(dataset_light_co2_nml)\n",
    "dataset_light_co2_nml.columns = ['x1','x2']\n",
    "#dataset_light_co2_nml['y'] = dataset_light_co2['y']\n",
    "dataset_light_co2_nml.insert(2,'y',dataset_light_co2['y'].values)\n",
    "\n",
    "x1_min = -1.333440\n",
    "x1_max = 5.659035\n",
    "x2_min = -1.260885\n",
    "x2_max = 3.575273\n",
    "print(dataset_light_co2_nml.max(),dataset_light_co2_nml.min())\n",
    "print(dataset_light_co2_nml.info(),dataset_light_co2.info())"
   ]
  },
  {
   "cell_type": "code",
   "execution_count": 27,
   "metadata": {},
   "outputs": [],
   "source": [
    "def df_2feature_be_generates(BEi,BEj) :#i for brute force or not,n for negative importance\n",
    "    temp = dataset_light_co2.copy()\n",
    "    df_2feature_be = pd.DataFrame.to_numpy(dataset_light_co2)\n",
    "    \n",
    "    e1 = temp['x1'].mean()*BEi\n",
    "    e2 = temp['x2'].mean()*BEj\n",
    "    \n",
    "    \n",
    "    for idx,cell in temp['x1'].iteritems():\n",
    "        temp['x1'][idx] += e1\n",
    "    temp = temp.to_numpy()\n",
    "    df_2feature_be = np.vstack((df_2feature_be,temp))\n",
    "    #print(df_2feature_be.shape)\n",
    "    temp = dataset_light_co2.copy()\n",
    "\n",
    "    for idx,cell in temp['x1'].iteritems():\n",
    "        temp['x1'][idx] = temp['x1'][idx] - e1\n",
    "    temp = temp.to_numpy()\n",
    "    df_2feature_be = np.vstack((df_2feature_be,temp))\n",
    "    #print(df_2feature_be.shape)\n",
    "    temp = dataset_light_co2.copy()\n",
    "\n",
    "    for idx,cell in temp['x2'].iteritems():\n",
    "        temp['x2'][idx] += e2\n",
    "    temp = temp.to_numpy()\n",
    "    df_2feature_be = np.vstack((df_2feature_be,temp))\n",
    "    #print(df_2feature_be.shape)\n",
    "    temp = dataset_light_co2.copy()\n",
    "\n",
    "    for idx,cell in temp['x2'].iteritems():\n",
    "        temp['x2'][idx] = temp['x2'][idx] - e2\n",
    "    temp = temp.to_numpy()\n",
    "    df_2feature_be = np.vstack((df_2feature_be,temp))\n",
    "    #print(df_2feature_be.shape)\n",
    "    temp = dataset_light_co2.copy()\n",
    "\n",
    "    df_2feature_be = pd.DataFrame(df_2feature_be)\n",
    "    #print(df_2feature_be)\n",
    "    return df_2feature_be"
   ]
  },
  {
   "cell_type": "code",
   "execution_count": 30,
   "metadata": {},
   "outputs": [
    {
     "name": "stderr",
     "output_type": "stream",
     "text": [
      "d:\\BESVM\\BESVM\\.venv\\lib\\site-packages\\ipykernel_launcher.py:10: SettingWithCopyWarning: \n",
      "A value is trying to be set on a copy of a slice from a DataFrame\n",
      "\n",
      "See the caveats in the documentation: https://pandas.pydata.org/pandas-docs/stable/user_guide/indexing.html#returning-a-view-versus-a-copy\n",
      "  # Remove the CWD from sys.path while we load stuff.\n",
      "d:\\BESVM\\BESVM\\.venv\\lib\\site-packages\\ipykernel_launcher.py:17: SettingWithCopyWarning: \n",
      "A value is trying to be set on a copy of a slice from a DataFrame\n",
      "\n",
      "See the caveats in the documentation: https://pandas.pydata.org/pandas-docs/stable/user_guide/indexing.html#returning-a-view-versus-a-copy\n",
      "  app.launch_new_instance()\n",
      "d:\\BESVM\\BESVM\\.venv\\lib\\site-packages\\ipykernel_launcher.py:24: SettingWithCopyWarning: \n",
      "A value is trying to be set on a copy of a slice from a DataFrame\n",
      "\n",
      "See the caveats in the documentation: https://pandas.pydata.org/pandas-docs/stable/user_guide/indexing.html#returning-a-view-versus-a-copy\n",
      "d:\\BESVM\\BESVM\\.venv\\lib\\site-packages\\ipykernel_launcher.py:31: SettingWithCopyWarning: \n",
      "A value is trying to be set on a copy of a slice from a DataFrame\n",
      "\n",
      "See the caveats in the documentation: https://pandas.pydata.org/pandas-docs/stable/user_guide/indexing.html#returning-a-view-versus-a-copy\n"
     ]
    },
    {
     "name": "stdout",
     "output_type": "stream",
     "text": [
      "BESVM Accuracy (on training) = with x1 bounded error (0),x2 with error (0) : 0.971733017611366\n",
      "BESVM Accuracy (on testing) = with x1 bounded error (0),x2 with error (0) : 0.971733017611366\n",
      "BESVM Accuracy (on subset_raw) = with no bounded error,x2 with no error 0.9868677042801557\n"
     ]
    },
    {
     "name": "stderr",
     "output_type": "stream",
     "text": [
      "d:\\BESVM\\BESVM\\.venv\\lib\\site-packages\\ipykernel_launcher.py:10: SettingWithCopyWarning: \n",
      "A value is trying to be set on a copy of a slice from a DataFrame\n",
      "\n",
      "See the caveats in the documentation: https://pandas.pydata.org/pandas-docs/stable/user_guide/indexing.html#returning-a-view-versus-a-copy\n",
      "  # Remove the CWD from sys.path while we load stuff.\n",
      "d:\\BESVM\\BESVM\\.venv\\lib\\site-packages\\ipykernel_launcher.py:17: SettingWithCopyWarning: \n",
      "A value is trying to be set on a copy of a slice from a DataFrame\n",
      "\n",
      "See the caveats in the documentation: https://pandas.pydata.org/pandas-docs/stable/user_guide/indexing.html#returning-a-view-versus-a-copy\n",
      "  app.launch_new_instance()\n",
      "d:\\BESVM\\BESVM\\.venv\\lib\\site-packages\\ipykernel_launcher.py:24: SettingWithCopyWarning: \n",
      "A value is trying to be set on a copy of a slice from a DataFrame\n",
      "\n",
      "See the caveats in the documentation: https://pandas.pydata.org/pandas-docs/stable/user_guide/indexing.html#returning-a-view-versus-a-copy\n",
      "d:\\BESVM\\BESVM\\.venv\\lib\\site-packages\\ipykernel_launcher.py:31: SettingWithCopyWarning: \n",
      "A value is trying to be set on a copy of a slice from a DataFrame\n",
      "\n",
      "See the caveats in the documentation: https://pandas.pydata.org/pandas-docs/stable/user_guide/indexing.html#returning-a-view-versus-a-copy\n"
     ]
    },
    {
     "name": "stdout",
     "output_type": "stream",
     "text": [
      "BESVM Accuracy (on training) = with x1 bounded error (0),x2 with error (0.1) : 0.9733979576735238\n",
      "BESVM Accuracy (on testing) = with x1 bounded error (0),x2 with error (0.1) : 0.9733979576735238\n",
      "BESVM Accuracy (on subset_raw) = with no bounded error,x2 with no error 0.9875972762645915\n"
     ]
    },
    {
     "name": "stderr",
     "output_type": "stream",
     "text": [
      "d:\\BESVM\\BESVM\\.venv\\lib\\site-packages\\ipykernel_launcher.py:10: SettingWithCopyWarning: \n",
      "A value is trying to be set on a copy of a slice from a DataFrame\n",
      "\n",
      "See the caveats in the documentation: https://pandas.pydata.org/pandas-docs/stable/user_guide/indexing.html#returning-a-view-versus-a-copy\n",
      "  # Remove the CWD from sys.path while we load stuff.\n",
      "d:\\BESVM\\BESVM\\.venv\\lib\\site-packages\\ipykernel_launcher.py:17: SettingWithCopyWarning: \n",
      "A value is trying to be set on a copy of a slice from a DataFrame\n",
      "\n",
      "See the caveats in the documentation: https://pandas.pydata.org/pandas-docs/stable/user_guide/indexing.html#returning-a-view-versus-a-copy\n",
      "  app.launch_new_instance()\n",
      "d:\\BESVM\\BESVM\\.venv\\lib\\site-packages\\ipykernel_launcher.py:24: SettingWithCopyWarning: \n",
      "A value is trying to be set on a copy of a slice from a DataFrame\n",
      "\n",
      "See the caveats in the documentation: https://pandas.pydata.org/pandas-docs/stable/user_guide/indexing.html#returning-a-view-versus-a-copy\n",
      "d:\\BESVM\\BESVM\\.venv\\lib\\site-packages\\ipykernel_launcher.py:31: SettingWithCopyWarning: \n",
      "A value is trying to be set on a copy of a slice from a DataFrame\n",
      "\n",
      "See the caveats in the documentation: https://pandas.pydata.org/pandas-docs/stable/user_guide/indexing.html#returning-a-view-versus-a-copy\n"
     ]
    },
    {
     "name": "stdout",
     "output_type": "stream",
     "text": [
      "BESVM Accuracy (on training) = with x1 bounded error (0),x2 with error (0.2) : 0.973175965665236\n",
      "BESVM Accuracy (on testing) = with x1 bounded error (0),x2 with error (0.2) : 0.973175965665236\n",
      "BESVM Accuracy (on subset_raw) = with no bounded error,x2 with no error 0.9878404669260701\n"
     ]
    },
    {
     "name": "stderr",
     "output_type": "stream",
     "text": [
      "d:\\BESVM\\BESVM\\.venv\\lib\\site-packages\\ipykernel_launcher.py:10: SettingWithCopyWarning: \n",
      "A value is trying to be set on a copy of a slice from a DataFrame\n",
      "\n",
      "See the caveats in the documentation: https://pandas.pydata.org/pandas-docs/stable/user_guide/indexing.html#returning-a-view-versus-a-copy\n",
      "  # Remove the CWD from sys.path while we load stuff.\n",
      "d:\\BESVM\\BESVM\\.venv\\lib\\site-packages\\ipykernel_launcher.py:17: SettingWithCopyWarning: \n",
      "A value is trying to be set on a copy of a slice from a DataFrame\n",
      "\n",
      "See the caveats in the documentation: https://pandas.pydata.org/pandas-docs/stable/user_guide/indexing.html#returning-a-view-versus-a-copy\n",
      "  app.launch_new_instance()\n",
      "d:\\BESVM\\BESVM\\.venv\\lib\\site-packages\\ipykernel_launcher.py:24: SettingWithCopyWarning: \n",
      "A value is trying to be set on a copy of a slice from a DataFrame\n",
      "\n",
      "See the caveats in the documentation: https://pandas.pydata.org/pandas-docs/stable/user_guide/indexing.html#returning-a-view-versus-a-copy\n",
      "d:\\BESVM\\BESVM\\.venv\\lib\\site-packages\\ipykernel_launcher.py:31: SettingWithCopyWarning: \n",
      "A value is trying to be set on a copy of a slice from a DataFrame\n",
      "\n",
      "See the caveats in the documentation: https://pandas.pydata.org/pandas-docs/stable/user_guide/indexing.html#returning-a-view-versus-a-copy\n"
     ]
    },
    {
     "name": "stdout",
     "output_type": "stream",
     "text": [
      "BESVM Accuracy (on training) = with x1 bounded error (0),x2 with error (0.3) : 0.9728429776528045\n",
      "BESVM Accuracy (on testing) = with x1 bounded error (0),x2 with error (0.3) : 0.9728429776528045\n",
      "BESVM Accuracy (on subset_raw) = with no bounded error,x2 with no error 0.9880836575875487\n"
     ]
    },
    {
     "name": "stderr",
     "output_type": "stream",
     "text": [
      "d:\\BESVM\\BESVM\\.venv\\lib\\site-packages\\ipykernel_launcher.py:10: SettingWithCopyWarning: \n",
      "A value is trying to be set on a copy of a slice from a DataFrame\n",
      "\n",
      "See the caveats in the documentation: https://pandas.pydata.org/pandas-docs/stable/user_guide/indexing.html#returning-a-view-versus-a-copy\n",
      "  # Remove the CWD from sys.path while we load stuff.\n",
      "d:\\BESVM\\BESVM\\.venv\\lib\\site-packages\\ipykernel_launcher.py:17: SettingWithCopyWarning: \n",
      "A value is trying to be set on a copy of a slice from a DataFrame\n",
      "\n",
      "See the caveats in the documentation: https://pandas.pydata.org/pandas-docs/stable/user_guide/indexing.html#returning-a-view-versus-a-copy\n",
      "  app.launch_new_instance()\n",
      "d:\\BESVM\\BESVM\\.venv\\lib\\site-packages\\ipykernel_launcher.py:24: SettingWithCopyWarning: \n",
      "A value is trying to be set on a copy of a slice from a DataFrame\n",
      "\n",
      "See the caveats in the documentation: https://pandas.pydata.org/pandas-docs/stable/user_guide/indexing.html#returning-a-view-versus-a-copy\n",
      "d:\\BESVM\\BESVM\\.venv\\lib\\site-packages\\ipykernel_launcher.py:31: SettingWithCopyWarning: \n",
      "A value is trying to be set on a copy of a slice from a DataFrame\n",
      "\n",
      "See the caveats in the documentation: https://pandas.pydata.org/pandas-docs/stable/user_guide/indexing.html#returning-a-view-versus-a-copy\n"
     ]
    },
    {
     "name": "stdout",
     "output_type": "stream",
     "text": [
      "BESVM Accuracy (on training) = with x1 bounded error (0.1),x2 with error (0) : 0.9722879976320853\n",
      "BESVM Accuracy (on testing) = with x1 bounded error (0.1),x2 with error (0) : 0.9722879976320853\n",
      "BESVM Accuracy (on subset_raw) = with no bounded error,x2 with no error 0.9880836575875487\n"
     ]
    },
    {
     "name": "stderr",
     "output_type": "stream",
     "text": [
      "d:\\BESVM\\BESVM\\.venv\\lib\\site-packages\\ipykernel_launcher.py:10: SettingWithCopyWarning: \n",
      "A value is trying to be set on a copy of a slice from a DataFrame\n",
      "\n",
      "See the caveats in the documentation: https://pandas.pydata.org/pandas-docs/stable/user_guide/indexing.html#returning-a-view-versus-a-copy\n",
      "  # Remove the CWD from sys.path while we load stuff.\n",
      "d:\\BESVM\\BESVM\\.venv\\lib\\site-packages\\ipykernel_launcher.py:17: SettingWithCopyWarning: \n",
      "A value is trying to be set on a copy of a slice from a DataFrame\n",
      "\n",
      "See the caveats in the documentation: https://pandas.pydata.org/pandas-docs/stable/user_guide/indexing.html#returning-a-view-versus-a-copy\n",
      "  app.launch_new_instance()\n",
      "d:\\BESVM\\BESVM\\.venv\\lib\\site-packages\\ipykernel_launcher.py:24: SettingWithCopyWarning: \n",
      "A value is trying to be set on a copy of a slice from a DataFrame\n",
      "\n",
      "See the caveats in the documentation: https://pandas.pydata.org/pandas-docs/stable/user_guide/indexing.html#returning-a-view-versus-a-copy\n",
      "d:\\BESVM\\BESVM\\.venv\\lib\\site-packages\\ipykernel_launcher.py:31: SettingWithCopyWarning: \n",
      "A value is trying to be set on a copy of a slice from a DataFrame\n",
      "\n",
      "See the caveats in the documentation: https://pandas.pydata.org/pandas-docs/stable/user_guide/indexing.html#returning-a-view-versus-a-copy\n"
     ]
    },
    {
     "name": "stdout",
     "output_type": "stream",
     "text": [
      "BESVM Accuracy (on training) = with x1 bounded error (0.1),x2 with error (0.1) : 0.9707710522421192\n",
      "BESVM Accuracy (on testing) = with x1 bounded error (0.1),x2 with error (0.1) : 0.9707710522421192\n",
      "BESVM Accuracy (on subset_raw) = with no bounded error,x2 with no error 0.9875972762645915\n"
     ]
    },
    {
     "name": "stderr",
     "output_type": "stream",
     "text": [
      "d:\\BESVM\\BESVM\\.venv\\lib\\site-packages\\ipykernel_launcher.py:10: SettingWithCopyWarning: \n",
      "A value is trying to be set on a copy of a slice from a DataFrame\n",
      "\n",
      "See the caveats in the documentation: https://pandas.pydata.org/pandas-docs/stable/user_guide/indexing.html#returning-a-view-versus-a-copy\n",
      "  # Remove the CWD from sys.path while we load stuff.\n",
      "d:\\BESVM\\BESVM\\.venv\\lib\\site-packages\\ipykernel_launcher.py:17: SettingWithCopyWarning: \n",
      "A value is trying to be set on a copy of a slice from a DataFrame\n",
      "\n",
      "See the caveats in the documentation: https://pandas.pydata.org/pandas-docs/stable/user_guide/indexing.html#returning-a-view-versus-a-copy\n",
      "  app.launch_new_instance()\n",
      "d:\\BESVM\\BESVM\\.venv\\lib\\site-packages\\ipykernel_launcher.py:24: SettingWithCopyWarning: \n",
      "A value is trying to be set on a copy of a slice from a DataFrame\n",
      "\n",
      "See the caveats in the documentation: https://pandas.pydata.org/pandas-docs/stable/user_guide/indexing.html#returning-a-view-versus-a-copy\n",
      "d:\\BESVM\\BESVM\\.venv\\lib\\site-packages\\ipykernel_launcher.py:31: SettingWithCopyWarning: \n",
      "A value is trying to be set on a copy of a slice from a DataFrame\n",
      "\n",
      "See the caveats in the documentation: https://pandas.pydata.org/pandas-docs/stable/user_guide/indexing.html#returning-a-view-versus-a-copy\n"
     ]
    },
    {
     "name": "stdout",
     "output_type": "stream",
     "text": [
      "BESVM Accuracy (on training) = with x1 bounded error (0.1),x2 with error (0.2) : 0.9683291401509546\n",
      "BESVM Accuracy (on testing) = with x1 bounded error (0.1),x2 with error (0.2) : 0.9683291401509546\n",
      "BESVM Accuracy (on subset_raw) = with no bounded error,x2 with no error 0.9873540856031129\n"
     ]
    },
    {
     "name": "stderr",
     "output_type": "stream",
     "text": [
      "d:\\BESVM\\BESVM\\.venv\\lib\\site-packages\\ipykernel_launcher.py:10: SettingWithCopyWarning: \n",
      "A value is trying to be set on a copy of a slice from a DataFrame\n",
      "\n",
      "See the caveats in the documentation: https://pandas.pydata.org/pandas-docs/stable/user_guide/indexing.html#returning-a-view-versus-a-copy\n",
      "  # Remove the CWD from sys.path while we load stuff.\n",
      "d:\\BESVM\\BESVM\\.venv\\lib\\site-packages\\ipykernel_launcher.py:17: SettingWithCopyWarning: \n",
      "A value is trying to be set on a copy of a slice from a DataFrame\n",
      "\n",
      "See the caveats in the documentation: https://pandas.pydata.org/pandas-docs/stable/user_guide/indexing.html#returning-a-view-versus-a-copy\n",
      "  app.launch_new_instance()\n",
      "d:\\BESVM\\BESVM\\.venv\\lib\\site-packages\\ipykernel_launcher.py:24: SettingWithCopyWarning: \n",
      "A value is trying to be set on a copy of a slice from a DataFrame\n",
      "\n",
      "See the caveats in the documentation: https://pandas.pydata.org/pandas-docs/stable/user_guide/indexing.html#returning-a-view-versus-a-copy\n",
      "d:\\BESVM\\BESVM\\.venv\\lib\\site-packages\\ipykernel_launcher.py:31: SettingWithCopyWarning: \n",
      "A value is trying to be set on a copy of a slice from a DataFrame\n",
      "\n",
      "See the caveats in the documentation: https://pandas.pydata.org/pandas-docs/stable/user_guide/indexing.html#returning-a-view-versus-a-copy\n"
     ]
    },
    {
     "name": "stdout",
     "output_type": "stream",
     "text": [
      "BESVM Accuracy (on training) = with x1 bounded error (0.1),x2 with error (0.3) : 0.9653692467071185\n",
      "BESVM Accuracy (on testing) = with x1 bounded error (0.1),x2 with error (0.3) : 0.9653692467071185\n",
      "BESVM Accuracy (on subset_raw) = with no bounded error,x2 with no error 0.9873540856031129\n"
     ]
    },
    {
     "name": "stderr",
     "output_type": "stream",
     "text": [
      "d:\\BESVM\\BESVM\\.venv\\lib\\site-packages\\ipykernel_launcher.py:10: SettingWithCopyWarning: \n",
      "A value is trying to be set on a copy of a slice from a DataFrame\n",
      "\n",
      "See the caveats in the documentation: https://pandas.pydata.org/pandas-docs/stable/user_guide/indexing.html#returning-a-view-versus-a-copy\n",
      "  # Remove the CWD from sys.path while we load stuff.\n",
      "d:\\BESVM\\BESVM\\.venv\\lib\\site-packages\\ipykernel_launcher.py:17: SettingWithCopyWarning: \n",
      "A value is trying to be set on a copy of a slice from a DataFrame\n",
      "\n",
      "See the caveats in the documentation: https://pandas.pydata.org/pandas-docs/stable/user_guide/indexing.html#returning-a-view-versus-a-copy\n",
      "  app.launch_new_instance()\n",
      "d:\\BESVM\\BESVM\\.venv\\lib\\site-packages\\ipykernel_launcher.py:24: SettingWithCopyWarning: \n",
      "A value is trying to be set on a copy of a slice from a DataFrame\n",
      "\n",
      "See the caveats in the documentation: https://pandas.pydata.org/pandas-docs/stable/user_guide/indexing.html#returning-a-view-versus-a-copy\n",
      "d:\\BESVM\\BESVM\\.venv\\lib\\site-packages\\ipykernel_launcher.py:31: SettingWithCopyWarning: \n",
      "A value is trying to be set on a copy of a slice from a DataFrame\n",
      "\n",
      "See the caveats in the documentation: https://pandas.pydata.org/pandas-docs/stable/user_guide/indexing.html#returning-a-view-versus-a-copy\n"
     ]
    },
    {
     "name": "stdout",
     "output_type": "stream",
     "text": [
      "BESVM Accuracy (on training) = with x1 bounded error (0.2),x2 with error (0) : 0.9629643332840018\n",
      "BESVM Accuracy (on testing) = with x1 bounded error (0.2),x2 with error (0) : 0.9629643332840018\n",
      "BESVM Accuracy (on subset_raw) = with no bounded error,x2 with no error 0.9846789883268483\n"
     ]
    },
    {
     "name": "stderr",
     "output_type": "stream",
     "text": [
      "d:\\BESVM\\BESVM\\.venv\\lib\\site-packages\\ipykernel_launcher.py:10: SettingWithCopyWarning: \n",
      "A value is trying to be set on a copy of a slice from a DataFrame\n",
      "\n",
      "See the caveats in the documentation: https://pandas.pydata.org/pandas-docs/stable/user_guide/indexing.html#returning-a-view-versus-a-copy\n",
      "  # Remove the CWD from sys.path while we load stuff.\n",
      "d:\\BESVM\\BESVM\\.venv\\lib\\site-packages\\ipykernel_launcher.py:17: SettingWithCopyWarning: \n",
      "A value is trying to be set on a copy of a slice from a DataFrame\n",
      "\n",
      "See the caveats in the documentation: https://pandas.pydata.org/pandas-docs/stable/user_guide/indexing.html#returning-a-view-versus-a-copy\n",
      "  app.launch_new_instance()\n",
      "d:\\BESVM\\BESVM\\.venv\\lib\\site-packages\\ipykernel_launcher.py:24: SettingWithCopyWarning: \n",
      "A value is trying to be set on a copy of a slice from a DataFrame\n",
      "\n",
      "See the caveats in the documentation: https://pandas.pydata.org/pandas-docs/stable/user_guide/indexing.html#returning-a-view-versus-a-copy\n",
      "d:\\BESVM\\BESVM\\.venv\\lib\\site-packages\\ipykernel_launcher.py:31: SettingWithCopyWarning: \n",
      "A value is trying to be set on a copy of a slice from a DataFrame\n",
      "\n",
      "See the caveats in the documentation: https://pandas.pydata.org/pandas-docs/stable/user_guide/indexing.html#returning-a-view-versus-a-copy\n"
     ]
    },
    {
     "name": "stdout",
     "output_type": "stream",
     "text": [
      "BESVM Accuracy (on training) = with x1 bounded error (0.2),x2 with error (0.1) : 0.964999260026639\n",
      "BESVM Accuracy (on testing) = with x1 bounded error (0.2),x2 with error (0.1) : 0.964999260026639\n",
      "BESVM Accuracy (on subset_raw) = with no bounded error,x2 with no error 0.9875972762645915\n"
     ]
    },
    {
     "name": "stderr",
     "output_type": "stream",
     "text": [
      "d:\\BESVM\\BESVM\\.venv\\lib\\site-packages\\ipykernel_launcher.py:10: SettingWithCopyWarning: \n",
      "A value is trying to be set on a copy of a slice from a DataFrame\n",
      "\n",
      "See the caveats in the documentation: https://pandas.pydata.org/pandas-docs/stable/user_guide/indexing.html#returning-a-view-versus-a-copy\n",
      "  # Remove the CWD from sys.path while we load stuff.\n",
      "d:\\BESVM\\BESVM\\.venv\\lib\\site-packages\\ipykernel_launcher.py:17: SettingWithCopyWarning: \n",
      "A value is trying to be set on a copy of a slice from a DataFrame\n",
      "\n",
      "See the caveats in the documentation: https://pandas.pydata.org/pandas-docs/stable/user_guide/indexing.html#returning-a-view-versus-a-copy\n",
      "  app.launch_new_instance()\n",
      "d:\\BESVM\\BESVM\\.venv\\lib\\site-packages\\ipykernel_launcher.py:24: SettingWithCopyWarning: \n",
      "A value is trying to be set on a copy of a slice from a DataFrame\n",
      "\n",
      "See the caveats in the documentation: https://pandas.pydata.org/pandas-docs/stable/user_guide/indexing.html#returning-a-view-versus-a-copy\n",
      "d:\\BESVM\\BESVM\\.venv\\lib\\site-packages\\ipykernel_launcher.py:31: SettingWithCopyWarning: \n",
      "A value is trying to be set on a copy of a slice from a DataFrame\n",
      "\n",
      "See the caveats in the documentation: https://pandas.pydata.org/pandas-docs/stable/user_guide/indexing.html#returning-a-view-versus-a-copy\n"
     ]
    },
    {
     "name": "stdout",
     "output_type": "stream",
     "text": [
      "BESVM Accuracy (on training) = with x1 bounded error (0.2),x2 with error (0.2) : 0.9630753292881457\n",
      "BESVM Accuracy (on testing) = with x1 bounded error (0.2),x2 with error (0.2) : 0.9630753292881457\n",
      "BESVM Accuracy (on subset_raw) = with no bounded error,x2 with no error 0.9875972762645915\n"
     ]
    },
    {
     "name": "stderr",
     "output_type": "stream",
     "text": [
      "d:\\BESVM\\BESVM\\.venv\\lib\\site-packages\\ipykernel_launcher.py:10: SettingWithCopyWarning: \n",
      "A value is trying to be set on a copy of a slice from a DataFrame\n",
      "\n",
      "See the caveats in the documentation: https://pandas.pydata.org/pandas-docs/stable/user_guide/indexing.html#returning-a-view-versus-a-copy\n",
      "  # Remove the CWD from sys.path while we load stuff.\n",
      "d:\\BESVM\\BESVM\\.venv\\lib\\site-packages\\ipykernel_launcher.py:17: SettingWithCopyWarning: \n",
      "A value is trying to be set on a copy of a slice from a DataFrame\n",
      "\n",
      "See the caveats in the documentation: https://pandas.pydata.org/pandas-docs/stable/user_guide/indexing.html#returning-a-view-versus-a-copy\n",
      "  app.launch_new_instance()\n",
      "d:\\BESVM\\BESVM\\.venv\\lib\\site-packages\\ipykernel_launcher.py:24: SettingWithCopyWarning: \n",
      "A value is trying to be set on a copy of a slice from a DataFrame\n",
      "\n",
      "See the caveats in the documentation: https://pandas.pydata.org/pandas-docs/stable/user_guide/indexing.html#returning-a-view-versus-a-copy\n",
      "d:\\BESVM\\BESVM\\.venv\\lib\\site-packages\\ipykernel_launcher.py:31: SettingWithCopyWarning: \n",
      "A value is trying to be set on a copy of a slice from a DataFrame\n",
      "\n",
      "See the caveats in the documentation: https://pandas.pydata.org/pandas-docs/stable/user_guide/indexing.html#returning-a-view-versus-a-copy\n"
     ]
    },
    {
     "name": "stdout",
     "output_type": "stream",
     "text": [
      "BESVM Accuracy (on training) = with x1 bounded error (0.2),x2 with error (0.3) : 0.960596418528933\n",
      "BESVM Accuracy (on testing) = with x1 bounded error (0.2),x2 with error (0.3) : 0.960596418528933\n",
      "BESVM Accuracy (on subset_raw) = with no bounded error,x2 with no error 0.9873540856031129\n"
     ]
    },
    {
     "name": "stderr",
     "output_type": "stream",
     "text": [
      "d:\\BESVM\\BESVM\\.venv\\lib\\site-packages\\ipykernel_launcher.py:10: SettingWithCopyWarning: \n",
      "A value is trying to be set on a copy of a slice from a DataFrame\n",
      "\n",
      "See the caveats in the documentation: https://pandas.pydata.org/pandas-docs/stable/user_guide/indexing.html#returning-a-view-versus-a-copy\n",
      "  # Remove the CWD from sys.path while we load stuff.\n",
      "d:\\BESVM\\BESVM\\.venv\\lib\\site-packages\\ipykernel_launcher.py:17: SettingWithCopyWarning: \n",
      "A value is trying to be set on a copy of a slice from a DataFrame\n",
      "\n",
      "See the caveats in the documentation: https://pandas.pydata.org/pandas-docs/stable/user_guide/indexing.html#returning-a-view-versus-a-copy\n",
      "  app.launch_new_instance()\n",
      "d:\\BESVM\\BESVM\\.venv\\lib\\site-packages\\ipykernel_launcher.py:24: SettingWithCopyWarning: \n",
      "A value is trying to be set on a copy of a slice from a DataFrame\n",
      "\n",
      "See the caveats in the documentation: https://pandas.pydata.org/pandas-docs/stable/user_guide/indexing.html#returning-a-view-versus-a-copy\n",
      "d:\\BESVM\\BESVM\\.venv\\lib\\site-packages\\ipykernel_launcher.py:31: SettingWithCopyWarning: \n",
      "A value is trying to be set on a copy of a slice from a DataFrame\n",
      "\n",
      "See the caveats in the documentation: https://pandas.pydata.org/pandas-docs/stable/user_guide/indexing.html#returning-a-view-versus-a-copy\n"
     ]
    },
    {
     "name": "stdout",
     "output_type": "stream",
     "text": [
      "BESVM Accuracy (on training) = with x1 bounded error (0.3),x2 with error (0) : 0.9563415717034187\n",
      "BESVM Accuracy (on testing) = with x1 bounded error (0.3),x2 with error (0) : 0.9563415717034187\n",
      "BESVM Accuracy (on subset_raw) = with no bounded error,x2 with no error 0.9846789883268483\n"
     ]
    },
    {
     "name": "stderr",
     "output_type": "stream",
     "text": [
      "d:\\BESVM\\BESVM\\.venv\\lib\\site-packages\\ipykernel_launcher.py:10: SettingWithCopyWarning: \n",
      "A value is trying to be set on a copy of a slice from a DataFrame\n",
      "\n",
      "See the caveats in the documentation: https://pandas.pydata.org/pandas-docs/stable/user_guide/indexing.html#returning-a-view-versus-a-copy\n",
      "  # Remove the CWD from sys.path while we load stuff.\n",
      "d:\\BESVM\\BESVM\\.venv\\lib\\site-packages\\ipykernel_launcher.py:17: SettingWithCopyWarning: \n",
      "A value is trying to be set on a copy of a slice from a DataFrame\n",
      "\n",
      "See the caveats in the documentation: https://pandas.pydata.org/pandas-docs/stable/user_guide/indexing.html#returning-a-view-versus-a-copy\n",
      "  app.launch_new_instance()\n",
      "d:\\BESVM\\BESVM\\.venv\\lib\\site-packages\\ipykernel_launcher.py:24: SettingWithCopyWarning: \n",
      "A value is trying to be set on a copy of a slice from a DataFrame\n",
      "\n",
      "See the caveats in the documentation: https://pandas.pydata.org/pandas-docs/stable/user_guide/indexing.html#returning-a-view-versus-a-copy\n",
      "d:\\BESVM\\BESVM\\.venv\\lib\\site-packages\\ipykernel_launcher.py:31: SettingWithCopyWarning: \n",
      "A value is trying to be set on a copy of a slice from a DataFrame\n",
      "\n",
      "See the caveats in the documentation: https://pandas.pydata.org/pandas-docs/stable/user_guide/indexing.html#returning-a-view-versus-a-copy\n"
     ]
    },
    {
     "name": "stdout",
     "output_type": "stream",
     "text": [
      "BESVM Accuracy (on training) = with x1 bounded error (0.3),x2 with error (0.1) : 0.955379606334172\n",
      "BESVM Accuracy (on testing) = with x1 bounded error (0.3),x2 with error (0.1) : 0.955379606334172\n",
      "BESVM Accuracy (on subset_raw) = with no bounded error,x2 with no error 0.9851653696498055\n"
     ]
    },
    {
     "name": "stderr",
     "output_type": "stream",
     "text": [
      "d:\\BESVM\\BESVM\\.venv\\lib\\site-packages\\ipykernel_launcher.py:10: SettingWithCopyWarning: \n",
      "A value is trying to be set on a copy of a slice from a DataFrame\n",
      "\n",
      "See the caveats in the documentation: https://pandas.pydata.org/pandas-docs/stable/user_guide/indexing.html#returning-a-view-versus-a-copy\n",
      "  # Remove the CWD from sys.path while we load stuff.\n",
      "d:\\BESVM\\BESVM\\.venv\\lib\\site-packages\\ipykernel_launcher.py:17: SettingWithCopyWarning: \n",
      "A value is trying to be set on a copy of a slice from a DataFrame\n",
      "\n",
      "See the caveats in the documentation: https://pandas.pydata.org/pandas-docs/stable/user_guide/indexing.html#returning-a-view-versus-a-copy\n",
      "  app.launch_new_instance()\n",
      "d:\\BESVM\\BESVM\\.venv\\lib\\site-packages\\ipykernel_launcher.py:24: SettingWithCopyWarning: \n",
      "A value is trying to be set on a copy of a slice from a DataFrame\n",
      "\n",
      "See the caveats in the documentation: https://pandas.pydata.org/pandas-docs/stable/user_guide/indexing.html#returning-a-view-versus-a-copy\n",
      "d:\\BESVM\\BESVM\\.venv\\lib\\site-packages\\ipykernel_launcher.py:31: SettingWithCopyWarning: \n",
      "A value is trying to be set on a copy of a slice from a DataFrame\n",
      "\n",
      "See the caveats in the documentation: https://pandas.pydata.org/pandas-docs/stable/user_guide/indexing.html#returning-a-view-versus-a-copy\n"
     ]
    },
    {
     "name": "stdout",
     "output_type": "stream",
     "text": [
      "BESVM Accuracy (on training) = with x1 bounded error (0.3),x2 with error (0.2) : 0.9530856889151991\n",
      "BESVM Accuracy (on testing) = with x1 bounded error (0.3),x2 with error (0.2) : 0.9530856889151991\n",
      "BESVM Accuracy (on subset_raw) = with no bounded error,x2 with no error 0.9854085603112841\n"
     ]
    },
    {
     "name": "stderr",
     "output_type": "stream",
     "text": [
      "d:\\BESVM\\BESVM\\.venv\\lib\\site-packages\\ipykernel_launcher.py:10: SettingWithCopyWarning: \n",
      "A value is trying to be set on a copy of a slice from a DataFrame\n",
      "\n",
      "See the caveats in the documentation: https://pandas.pydata.org/pandas-docs/stable/user_guide/indexing.html#returning-a-view-versus-a-copy\n",
      "  # Remove the CWD from sys.path while we load stuff.\n",
      "d:\\BESVM\\BESVM\\.venv\\lib\\site-packages\\ipykernel_launcher.py:17: SettingWithCopyWarning: \n",
      "A value is trying to be set on a copy of a slice from a DataFrame\n",
      "\n",
      "See the caveats in the documentation: https://pandas.pydata.org/pandas-docs/stable/user_guide/indexing.html#returning-a-view-versus-a-copy\n",
      "  app.launch_new_instance()\n",
      "d:\\BESVM\\BESVM\\.venv\\lib\\site-packages\\ipykernel_launcher.py:24: SettingWithCopyWarning: \n",
      "A value is trying to be set on a copy of a slice from a DataFrame\n",
      "\n",
      "See the caveats in the documentation: https://pandas.pydata.org/pandas-docs/stable/user_guide/indexing.html#returning-a-view-versus-a-copy\n",
      "d:\\BESVM\\BESVM\\.venv\\lib\\site-packages\\ipykernel_launcher.py:31: SettingWithCopyWarning: \n",
      "A value is trying to be set on a copy of a slice from a DataFrame\n",
      "\n",
      "See the caveats in the documentation: https://pandas.pydata.org/pandas-docs/stable/user_guide/indexing.html#returning-a-view-versus-a-copy\n"
     ]
    },
    {
     "name": "stdout",
     "output_type": "stream",
     "text": [
      "BESVM Accuracy (on training) = with x1 bounded error (0.3),x2 with error (0.3) : 0.9510507621725618\n",
      "BESVM Accuracy (on testing) = with x1 bounded error (0.3),x2 with error (0.3) : 0.9510507621725618\n",
      "BESVM Accuracy (on subset_raw) = with no bounded error,x2 with no error 0.9858949416342413\n"
     ]
    },
    {
     "ename": "",
     "evalue": "",
     "output_type": "error",
     "traceback": [
      "\u001b[1;31mThe Kernel crashed while executing code in the the current cell or a previous cell. Please review the code in the cell(s) to identify a possible cause of the failure. Click <a href='https://aka.ms/vscodeJupyterKernelCrash'>here</a> for more info. View Jupyter <a href='command:jupyter.viewOutput'>log</a> for further details."
     ]
    }
   ],
   "source": [
    "err_rateA = [0,0.1,0.2,0.3]\n",
    "err_rateB = [0,0.1,0.2,0.3]\n",
    "\n",
    "for i in err_rateA:\n",
    "    for j in err_rateB:\n",
    "        df_2feature_be = df_2feature_be_generates(i,j)\n",
    "        x_be = df_2feature_be.iloc[:, :-1].values\n",
    "        y_be = df_2feature_be.iloc[:,-1].values\n",
    "        X_train,X_test,y_train, y_test = train_test_split(x_be, y_be, test_size=0.2,random_state=1)\n",
    "        clf_BE = SVC(kernel='linear',C=1,gamma='auto')\n",
    "        clf_BE.fit(X_train, y_train)\n",
    "        y_BE_predict = clf_BE.predict(X_test)\n",
    "        result_BE_train = clf_BE.score(X_train, y_train)\n",
    "        result_BE_test = clf_BE.score(X_test, y_test)\n",
    "        subset_raw = clf_BE.score(subsample_x, subsample_y)\n",
    "        print('BESVM Accuracy (on training) = with x1 bounded error ('+str(i)+'),x2 with error ('+str(j)+') : '+str(result_BE_train))\n",
    "        print('BESVM Accuracy (on testing) = with x1 bounded error ('+str(i)+'),x2 with error ('+str(j)+') : '+str(result_BE_train))\n",
    "        print('BESVM Accuracy (on subset_raw) = with no bounded error,x2 with no error '+str(subset_raw))\n",
    "\n"
   ]
  }
 ],
 "metadata": {
  "interpreter": {
   "hash": "823264832876f692eb60ba3c01443ddcf5448cec612e602318bd1dc48bf5d5c1"
  },
  "kernelspec": {
   "display_name": "Python 3.7.9 ('.venv': venv)",
   "language": "python",
   "name": "python3"
  },
  "language_info": {
   "codemirror_mode": {
    "name": "ipython",
    "version": 3
   },
   "file_extension": ".py",
   "mimetype": "text/x-python",
   "name": "python",
   "nbconvert_exporter": "python",
   "pygments_lexer": "ipython3",
   "version": "3.7.9"
  },
  "orig_nbformat": 4
 },
 "nbformat": 4,
 "nbformat_minor": 2
}
