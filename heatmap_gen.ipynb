{
 "cells": [
  {
   "cell_type": "markdown",
   "metadata": {},
   "source": [
    "read from csv and generatre thr heatmap image"
   ]
  },
  {
   "cell_type": "code",
   "execution_count": null,
   "metadata": {},
   "outputs": [],
   "source": []
  }
 ],
 "metadata": {
  "interpreter": {
   "hash": "823264832876f692eb60ba3c01443ddcf5448cec612e602318bd1dc48bf5d5c1"
  },
  "kernelspec": {
   "display_name": "Python 3.7.9 ('.venv': venv)",
   "language": "python",
   "name": "python3"
  },
  "language_info": {
   "name": "python",
   "version": "3.7.9"
  },
  "orig_nbformat": 4
 },
 "nbformat": 4,
 "nbformat_minor": 2
}
