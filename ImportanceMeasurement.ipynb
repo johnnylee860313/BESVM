{
 "cells": [
  {
   "cell_type": "code",
   "execution_count": 27,
   "metadata": {},
   "outputs": [
    {
     "name": "stdout",
     "output_type": "stream",
     "text": [
      "Feature: 0, Score: 0.25141\n",
      "Feature: 1, Score: 0.00660\n",
      "0.9744172467588832\n",
      "0.025582753241116724\n"
     ]
    },
    {
     "data": {
      "image/png": "[encoded data removed]",
      "text/plain": [
       "<Figure size 432x288 with 1 Axes>"
      ]
     },
     "metadata": {
      "needs_background": "light"
     },
     "output_type": "display_data"
    }
   ],
   "source": [
    "# linear regression feature importance\n",
    "from sklearn.datasets import make_regression\n",
    "from sklearn.linear_model import LinearRegression\n",
    "from sklearn.datasets import make_classification\n",
    "from matplotlib import pyplot as plt\n",
    "from sklearn.model_selection import train_test_split\n",
    "from sklearn.svm import SVC\n",
    "\n",
    "# define dataset\n",
    "X, y = make_classification(n_samples=1000, n_features=2, n_informative=2, n_redundant=0,random_state=1)\n",
    "# define the model\n",
    "model = LinearRegression()\n",
    "# fit the model\n",
    "model.fit(X, y)\n",
    "# get importance\n",
    "importance = model.coef_\n",
    "acc = 0\n",
    "# summarize feature importance\n",
    "for i,v in enumerate(importance):\n",
    "    print('Feature: %0d, Score: %.5f' % (i,v))\n",
    "    acc += abs(v)\n",
    "for i,v in enumerate(importance):\n",
    "   print(abs(v)/acc)\n",
    "# plot feature importance\n",
    "plt.bar([x for x in range(len(importance))], importance)\n",
    "plt.show()\n"
   ]
  },
  {
   "cell_type": "code",
   "execution_count": 28,
   "metadata": {},
   "outputs": [
    {
     "data": {
      "text/html": [
       "<div>\n",
       "<style scoped>\n",
       "    .dataframe tbody tr th:only-of-type {\n",
       "        vertical-align: middle;\n",
       "    }\n",
       "\n",
       "    .dataframe tbody tr th {\n",
       "        vertical-align: top;\n",
       "    }\n",
       "\n",
       "    .dataframe thead th {\n",
       "        text-align: right;\n",
       "    }\n",
       "</style>\n",
       "<table border=\"1\" class=\"dataframe\">\n",
       "  <thead>\n",
       "    <tr style=\"text-align: right;\">\n",
       "      <th></th>\n",
       "      <th>x1</th>\n",
       "      <th>x2</th>\n",
       "      <th>y</th>\n",
       "    </tr>\n",
       "  </thead>\n",
       "  <tbody>\n",
       "    <tr>\n",
       "      <th>0</th>\n",
       "      <td>0.863411</td>\n",
       "      <td>-0.912354</td>\n",
       "      <td>1</td>\n",
       "    </tr>\n",
       "    <tr>\n",
       "      <th>1</th>\n",
       "      <td>-0.530997</td>\n",
       "      <td>0.901182</td>\n",
       "      <td>0</td>\n",
       "    </tr>\n",
       "    <tr>\n",
       "      <th>2</th>\n",
       "      <td>0.982776</td>\n",
       "      <td>-1.591112</td>\n",
       "      <td>0</td>\n",
       "    </tr>\n",
       "    <tr>\n",
       "      <th>3</th>\n",
       "      <td>-1.032039</td>\n",
       "      <td>-0.801162</td>\n",
       "      <td>0</td>\n",
       "    </tr>\n",
       "    <tr>\n",
       "      <th>4</th>\n",
       "      <td>3.620555</td>\n",
       "      <td>-0.098876</td>\n",
       "      <td>1</td>\n",
       "    </tr>\n",
       "    <tr>\n",
       "      <th>...</th>\n",
       "      <td>...</td>\n",
       "      <td>...</td>\n",
       "      <td>...</td>\n",
       "    </tr>\n",
       "    <tr>\n",
       "      <th>994</th>\n",
       "      <td>2.282176</td>\n",
       "      <td>0.273183</td>\n",
       "      <td>1</td>\n",
       "    </tr>\n",
       "    <tr>\n",
       "      <th>996</th>\n",
       "      <td>1.425043</td>\n",
       "      <td>-0.236500</td>\n",
       "      <td>1</td>\n",
       "    </tr>\n",
       "    <tr>\n",
       "      <th>997</th>\n",
       "      <td>1.330195</td>\n",
       "      <td>3.721810</td>\n",
       "      <td>1</td>\n",
       "    </tr>\n",
       "    <tr>\n",
       "      <th>998</th>\n",
       "      <td>-1.010841</td>\n",
       "      <td>0.426339</td>\n",
       "      <td>0</td>\n",
       "    </tr>\n",
       "    <tr>\n",
       "      <th>999</th>\n",
       "      <td>-1.008732</td>\n",
       "      <td>1.245402</td>\n",
       "      <td>0</td>\n",
       "    </tr>\n",
       "  </tbody>\n",
       "</table>\n",
       "<p>900 rows × 3 columns</p>\n",
       "</div>"
      ],
      "text/plain": [
       "           x1        x2  y\n",
       "0    0.863411 -0.912354  1\n",
       "1   -0.530997  0.901182  0\n",
       "2    0.982776 -1.591112  0\n",
       "3   -1.032039 -0.801162  0\n",
       "4    3.620555 -0.098876  1\n",
       "..        ...       ... ..\n",
       "994  2.282176  0.273183  1\n",
       "996  1.425043 -0.236500  1\n",
       "997  1.330195  3.721810  1\n",
       "998 -1.010841  0.426339  0\n",
       "999 -1.008732  1.245402  0\n",
       "\n",
       "[900 rows x 3 columns]"
      ]
     },
     "execution_count": 28,
     "metadata": {},
     "output_type": "execute_result"
    }
   ],
   "source": [
    "import pandas as pd\n",
    "import numpy as np\n",
    "df_origianl = pd.DataFrame(X)\n",
    "df_origianl[2]  = y\n",
    "df_origianl.columns = ['x1','x2','y']\n",
    "subset = df_origianl.sample(frac=0.1,replace=False,random_state=43)\n",
    "df_origianl = df_origianl.append(subset)\n",
    "df_origianl = df_origianl.drop_duplicates(subset=['x1','x2','y'],keep=False)\n",
    "df_origianl\n"
   ]
  },
  {
   "cell_type": "code",
   "execution_count": 29,
   "metadata": {},
   "outputs": [
    {
     "name": "stdout",
     "output_type": "stream",
     "text": [
      "[20, 19, 18, 17, 16, 15, 14, 13, 12, 11, 10, 9, 8, 7, 6, 5, 4, 3, 2, 1, 0] [0, 1, 2, 3, 4, 5, 6, 7, 8, 9, 10, 11, 12, 13, 14, 15, 16, 17, 18, 19, 20]\n",
      "           x1        x2  y\n",
      "858 -3.613129  0.089027  0\n",
      "986  1.967106 -0.762527  1\n",
      "183 -0.778719  0.015330  0\n",
      "502  1.147572  3.711029  1\n",
      "710  1.042689  1.293286  1\n",
      "..        ...       ... ..\n",
      "518  1.367170 -1.444893  1\n",
      "941 -2.227633 -0.393626  0\n",
      "984 -0.962597  0.390823  1\n",
      "627  1.438896 -0.237638  1\n",
      "270 -0.056790  0.839988  0\n",
      "\n",
      "[100 rows x 3 columns] <class 'pandas.core.frame.DataFrame'>\n"
     ]
    }
   ],
   "source": [
    "error_a = []\n",
    "error_b = []\n",
    "for i in range(21) :\n",
    "    error_a.append(i)\n",
    "    error_b.append(20-i)\n",
    "\n",
    "print(error_b,error_a)\n",
    "print(subset,type(subset))"
   ]
  },
  {
   "cell_type": "code",
   "execution_count": 30,
   "metadata": {},
   "outputs": [],
   "source": [
    "subset_x = subset.iloc[:, :-1].values\n",
    "subset_y = subset.iloc[:,-1].values\n",
    "subset_x = list(subset_x)\n",
    "subset_y = list(subset_y)"
   ]
  },
  {
   "cell_type": "code",
   "execution_count": 31,
   "metadata": {},
   "outputs": [
    {
     "name": "stderr",
     "output_type": "stream",
     "text": [
      "/Library/Frameworks/Python.framework/Versions/3.7/lib/python3.7/site-packages/ipykernel_launcher.py:43: SettingWithCopyWarning: \n",
      "A value is trying to be set on a copy of a slice from a DataFrame\n",
      "\n",
      "See the caveats in the documentation: https://pandas.pydata.org/pandas-docs/stable/user_guide/indexing.html#returning-a-view-versus-a-copy\n",
      "/Library/Frameworks/Python.framework/Versions/3.7/lib/python3.7/site-packages/ipykernel_launcher.py:50: SettingWithCopyWarning: \n",
      "A value is trying to be set on a copy of a slice from a DataFrame\n",
      "\n",
      "See the caveats in the documentation: https://pandas.pydata.org/pandas-docs/stable/user_guide/indexing.html#returning-a-view-versus-a-copy\n",
      "/Library/Frameworks/Python.framework/Versions/3.7/lib/python3.7/site-packages/ipykernel_launcher.py:57: SettingWithCopyWarning: \n",
      "A value is trying to be set on a copy of a slice from a DataFrame\n",
      "\n",
      "See the caveats in the documentation: https://pandas.pydata.org/pandas-docs/stable/user_guide/indexing.html#returning-a-view-versus-a-copy\n",
      "/Library/Frameworks/Python.framework/Versions/3.7/lib/python3.7/site-packages/ipykernel_launcher.py:64: SettingWithCopyWarning: \n",
      "A value is trying to be set on a copy of a slice from a DataFrame\n",
      "\n",
      "See the caveats in the documentation: https://pandas.pydata.org/pandas-docs/stable/user_guide/indexing.html#returning-a-view-versus-a-copy\n"
     ]
    },
    {
     "name": "stdout",
     "output_type": "stream",
     "text": [
      "BESVM Accuracy (on training) = with x1 bounded error (20%*0.0),x2 with error (20%*1.0) : 0.8491666666666666\n",
      "BESVM Accuracy (on testing) = with x1 bounded error (20%*0.0),x2 with error (20%*1.0) : 0.8533333333333334\n",
      "BESVM Accuracy (on subset_raw) = with no bounded error,x2 with no error 0.88\n"
     ]
    },
    {
     "name": "stderr",
     "output_type": "stream",
     "text": [
      "/Library/Frameworks/Python.framework/Versions/3.7/lib/python3.7/site-packages/ipykernel_launcher.py:43: SettingWithCopyWarning: \n",
      "A value is trying to be set on a copy of a slice from a DataFrame\n",
      "\n",
      "See the caveats in the documentation: https://pandas.pydata.org/pandas-docs/stable/user_guide/indexing.html#returning-a-view-versus-a-copy\n",
      "/Library/Frameworks/Python.framework/Versions/3.7/lib/python3.7/site-packages/ipykernel_launcher.py:50: SettingWithCopyWarning: \n",
      "A value is trying to be set on a copy of a slice from a DataFrame\n",
      "\n",
      "See the caveats in the documentation: https://pandas.pydata.org/pandas-docs/stable/user_guide/indexing.html#returning-a-view-versus-a-copy\n",
      "/Library/Frameworks/Python.framework/Versions/3.7/lib/python3.7/site-packages/ipykernel_launcher.py:57: SettingWithCopyWarning: \n",
      "A value is trying to be set on a copy of a slice from a DataFrame\n",
      "\n",
      "See the caveats in the documentation: https://pandas.pydata.org/pandas-docs/stable/user_guide/indexing.html#returning-a-view-versus-a-copy\n",
      "/Library/Frameworks/Python.framework/Versions/3.7/lib/python3.7/site-packages/ipykernel_launcher.py:64: SettingWithCopyWarning: \n",
      "A value is trying to be set on a copy of a slice from a DataFrame\n",
      "\n",
      "See the caveats in the documentation: https://pandas.pydata.org/pandas-docs/stable/user_guide/indexing.html#returning-a-view-versus-a-copy\n"
     ]
    },
    {
     "name": "stdout",
     "output_type": "stream",
     "text": [
      "BESVM Accuracy (on training) = with x1 bounded error (20%*0.05),x2 with error (20%*0.95) : 0.8491666666666666\n",
      "BESVM Accuracy (on testing) = with x1 bounded error (20%*0.05),x2 with error (20%*0.95) : 0.8533333333333334\n",
      "BESVM Accuracy (on subset_raw) = with no bounded error,x2 with no error 0.88\n"
     ]
    },
    {
     "name": "stderr",
     "output_type": "stream",
     "text": [
      "/Library/Frameworks/Python.framework/Versions/3.7/lib/python3.7/site-packages/ipykernel_launcher.py:43: SettingWithCopyWarning: \n",
      "A value is trying to be set on a copy of a slice from a DataFrame\n",
      "\n",
      "See the caveats in the documentation: https://pandas.pydata.org/pandas-docs/stable/user_guide/indexing.html#returning-a-view-versus-a-copy\n",
      "/Library/Frameworks/Python.framework/Versions/3.7/lib/python3.7/site-packages/ipykernel_launcher.py:50: SettingWithCopyWarning: \n",
      "A value is trying to be set on a copy of a slice from a DataFrame\n",
      "\n",
      "See the caveats in the documentation: https://pandas.pydata.org/pandas-docs/stable/user_guide/indexing.html#returning-a-view-versus-a-copy\n",
      "/Library/Frameworks/Python.framework/Versions/3.7/lib/python3.7/site-packages/ipykernel_launcher.py:57: SettingWithCopyWarning: \n",
      "A value is trying to be set on a copy of a slice from a DataFrame\n",
      "\n",
      "See the caveats in the documentation: https://pandas.pydata.org/pandas-docs/stable/user_guide/indexing.html#returning-a-view-versus-a-copy\n",
      "/Library/Frameworks/Python.framework/Versions/3.7/lib/python3.7/site-packages/ipykernel_launcher.py:64: SettingWithCopyWarning: \n",
      "A value is trying to be set on a copy of a slice from a DataFrame\n",
      "\n",
      "See the caveats in the documentation: https://pandas.pydata.org/pandas-docs/stable/user_guide/indexing.html#returning-a-view-versus-a-copy\n"
     ]
    },
    {
     "name": "stdout",
     "output_type": "stream",
     "text": [
      "BESVM Accuracy (on training) = with x1 bounded error (20%*0.1),x2 with error (20%*0.9) : 0.8491666666666666\n",
      "BESVM Accuracy (on testing) = with x1 bounded error (20%*0.1),x2 with error (20%*0.9) : 0.8533333333333334\n",
      "BESVM Accuracy (on subset_raw) = with no bounded error,x2 with no error 0.88\n"
     ]
    },
    {
     "name": "stderr",
     "output_type": "stream",
     "text": [
      "/Library/Frameworks/Python.framework/Versions/3.7/lib/python3.7/site-packages/ipykernel_launcher.py:43: SettingWithCopyWarning: \n",
      "A value is trying to be set on a copy of a slice from a DataFrame\n",
      "\n",
      "See the caveats in the documentation: https://pandas.pydata.org/pandas-docs/stable/user_guide/indexing.html#returning-a-view-versus-a-copy\n",
      "/Library/Frameworks/Python.framework/Versions/3.7/lib/python3.7/site-packages/ipykernel_launcher.py:50: SettingWithCopyWarning: \n",
      "A value is trying to be set on a copy of a slice from a DataFrame\n",
      "\n",
      "See the caveats in the documentation: https://pandas.pydata.org/pandas-docs/stable/user_guide/indexing.html#returning-a-view-versus-a-copy\n",
      "/Library/Frameworks/Python.framework/Versions/3.7/lib/python3.7/site-packages/ipykernel_launcher.py:57: SettingWithCopyWarning: \n",
      "A value is trying to be set on a copy of a slice from a DataFrame\n",
      "\n",
      "See the caveats in the documentation: https://pandas.pydata.org/pandas-docs/stable/user_guide/indexing.html#returning-a-view-versus-a-copy\n",
      "/Library/Frameworks/Python.framework/Versions/3.7/lib/python3.7/site-packages/ipykernel_launcher.py:64: SettingWithCopyWarning: \n",
      "A value is trying to be set on a copy of a slice from a DataFrame\n",
      "\n",
      "See the caveats in the documentation: https://pandas.pydata.org/pandas-docs/stable/user_guide/indexing.html#returning-a-view-versus-a-copy\n"
     ]
    },
    {
     "name": "stdout",
     "output_type": "stream",
     "text": [
      "BESVM Accuracy (on training) = with x1 bounded error (20%*0.15),x2 with error (20%*0.85) : 0.8491666666666666\n",
      "BESVM Accuracy (on testing) = with x1 bounded error (20%*0.15),x2 with error (20%*0.85) : 0.8533333333333334\n",
      "BESVM Accuracy (on subset_raw) = with no bounded error,x2 with no error 0.88\n"
     ]
    },
    {
     "name": "stderr",
     "output_type": "stream",
     "text": [
      "/Library/Frameworks/Python.framework/Versions/3.7/lib/python3.7/site-packages/ipykernel_launcher.py:43: SettingWithCopyWarning: \n",
      "A value is trying to be set on a copy of a slice from a DataFrame\n",
      "\n",
      "See the caveats in the documentation: https://pandas.pydata.org/pandas-docs/stable/user_guide/indexing.html#returning-a-view-versus-a-copy\n",
      "/Library/Frameworks/Python.framework/Versions/3.7/lib/python3.7/site-packages/ipykernel_launcher.py:50: SettingWithCopyWarning: \n",
      "A value is trying to be set on a copy of a slice from a DataFrame\n",
      "\n",
      "See the caveats in the documentation: https://pandas.pydata.org/pandas-docs/stable/user_guide/indexing.html#returning-a-view-versus-a-copy\n",
      "/Library/Frameworks/Python.framework/Versions/3.7/lib/python3.7/site-packages/ipykernel_launcher.py:57: SettingWithCopyWarning: \n",
      "A value is trying to be set on a copy of a slice from a DataFrame\n",
      "\n",
      "See the caveats in the documentation: https://pandas.pydata.org/pandas-docs/stable/user_guide/indexing.html#returning-a-view-versus-a-copy\n",
      "/Library/Frameworks/Python.framework/Versions/3.7/lib/python3.7/site-packages/ipykernel_launcher.py:64: SettingWithCopyWarning: \n",
      "A value is trying to be set on a copy of a slice from a DataFrame\n",
      "\n",
      "See the caveats in the documentation: https://pandas.pydata.org/pandas-docs/stable/user_guide/indexing.html#returning-a-view-versus-a-copy\n"
     ]
    },
    {
     "name": "stdout",
     "output_type": "stream",
     "text": [
      "BESVM Accuracy (on training) = with x1 bounded error (20%*0.2),x2 with error (20%*0.8) : 0.8491666666666666\n",
      "BESVM Accuracy (on testing) = with x1 bounded error (20%*0.2),x2 with error (20%*0.8) : 0.8533333333333334\n",
      "BESVM Accuracy (on subset_raw) = with no bounded error,x2 with no error 0.88\n"
     ]
    },
    {
     "name": "stderr",
     "output_type": "stream",
     "text": [
      "/Library/Frameworks/Python.framework/Versions/3.7/lib/python3.7/site-packages/ipykernel_launcher.py:43: SettingWithCopyWarning: \n",
      "A value is trying to be set on a copy of a slice from a DataFrame\n",
      "\n",
      "See the caveats in the documentation: https://pandas.pydata.org/pandas-docs/stable/user_guide/indexing.html#returning-a-view-versus-a-copy\n",
      "/Library/Frameworks/Python.framework/Versions/3.7/lib/python3.7/site-packages/ipykernel_launcher.py:50: SettingWithCopyWarning: \n",
      "A value is trying to be set on a copy of a slice from a DataFrame\n",
      "\n",
      "See the caveats in the documentation: https://pandas.pydata.org/pandas-docs/stable/user_guide/indexing.html#returning-a-view-versus-a-copy\n",
      "/Library/Frameworks/Python.framework/Versions/3.7/lib/python3.7/site-packages/ipykernel_launcher.py:57: SettingWithCopyWarning: \n",
      "A value is trying to be set on a copy of a slice from a DataFrame\n",
      "\n",
      "See the caveats in the documentation: https://pandas.pydata.org/pandas-docs/stable/user_guide/indexing.html#returning-a-view-versus-a-copy\n",
      "/Library/Frameworks/Python.framework/Versions/3.7/lib/python3.7/site-packages/ipykernel_launcher.py:64: SettingWithCopyWarning: \n",
      "A value is trying to be set on a copy of a slice from a DataFrame\n",
      "\n",
      "See the caveats in the documentation: https://pandas.pydata.org/pandas-docs/stable/user_guide/indexing.html#returning-a-view-versus-a-copy\n"
     ]
    },
    {
     "name": "stdout",
     "output_type": "stream",
     "text": [
      "BESVM Accuracy (on training) = with x1 bounded error (20%*0.25),x2 with error (20%*0.75) : 0.8491666666666666\n",
      "BESVM Accuracy (on testing) = with x1 bounded error (20%*0.25),x2 with error (20%*0.75) : 0.8533333333333334\n",
      "BESVM Accuracy (on subset_raw) = with no bounded error,x2 with no error 0.88\n"
     ]
    },
    {
     "name": "stderr",
     "output_type": "stream",
     "text": [
      "/Library/Frameworks/Python.framework/Versions/3.7/lib/python3.7/site-packages/ipykernel_launcher.py:43: SettingWithCopyWarning: \n",
      "A value is trying to be set on a copy of a slice from a DataFrame\n",
      "\n",
      "See the caveats in the documentation: https://pandas.pydata.org/pandas-docs/stable/user_guide/indexing.html#returning-a-view-versus-a-copy\n",
      "/Library/Frameworks/Python.framework/Versions/3.7/lib/python3.7/site-packages/ipykernel_launcher.py:50: SettingWithCopyWarning: \n",
      "A value is trying to be set on a copy of a slice from a DataFrame\n",
      "\n",
      "See the caveats in the documentation: https://pandas.pydata.org/pandas-docs/stable/user_guide/indexing.html#returning-a-view-versus-a-copy\n",
      "/Library/Frameworks/Python.framework/Versions/3.7/lib/python3.7/site-packages/ipykernel_launcher.py:57: SettingWithCopyWarning: \n",
      "A value is trying to be set on a copy of a slice from a DataFrame\n",
      "\n",
      "See the caveats in the documentation: https://pandas.pydata.org/pandas-docs/stable/user_guide/indexing.html#returning-a-view-versus-a-copy\n",
      "/Library/Frameworks/Python.framework/Versions/3.7/lib/python3.7/site-packages/ipykernel_launcher.py:64: SettingWithCopyWarning: \n",
      "A value is trying to be set on a copy of a slice from a DataFrame\n",
      "\n",
      "See the caveats in the documentation: https://pandas.pydata.org/pandas-docs/stable/user_guide/indexing.html#returning-a-view-versus-a-copy\n"
     ]
    },
    {
     "name": "stdout",
     "output_type": "stream",
     "text": [
      "BESVM Accuracy (on training) = with x1 bounded error (20%*0.3),x2 with error (20%*0.7) : 0.8491666666666666\n",
      "BESVM Accuracy (on testing) = with x1 bounded error (20%*0.3),x2 with error (20%*0.7) : 0.8533333333333334\n",
      "BESVM Accuracy (on subset_raw) = with no bounded error,x2 with no error 0.88\n"
     ]
    },
    {
     "name": "stderr",
     "output_type": "stream",
     "text": [
      "/Library/Frameworks/Python.framework/Versions/3.7/lib/python3.7/site-packages/ipykernel_launcher.py:43: SettingWithCopyWarning: \n",
      "A value is trying to be set on a copy of a slice from a DataFrame\n",
      "\n",
      "See the caveats in the documentation: https://pandas.pydata.org/pandas-docs/stable/user_guide/indexing.html#returning-a-view-versus-a-copy\n",
      "/Library/Frameworks/Python.framework/Versions/3.7/lib/python3.7/site-packages/ipykernel_launcher.py:50: SettingWithCopyWarning: \n",
      "A value is trying to be set on a copy of a slice from a DataFrame\n",
      "\n",
      "See the caveats in the documentation: https://pandas.pydata.org/pandas-docs/stable/user_guide/indexing.html#returning-a-view-versus-a-copy\n",
      "/Library/Frameworks/Python.framework/Versions/3.7/lib/python3.7/site-packages/ipykernel_launcher.py:57: SettingWithCopyWarning: \n",
      "A value is trying to be set on a copy of a slice from a DataFrame\n",
      "\n",
      "See the caveats in the documentation: https://pandas.pydata.org/pandas-docs/stable/user_guide/indexing.html#returning-a-view-versus-a-copy\n",
      "/Library/Frameworks/Python.framework/Versions/3.7/lib/python3.7/site-packages/ipykernel_launcher.py:64: SettingWithCopyWarning: \n",
      "A value is trying to be set on a copy of a slice from a DataFrame\n",
      "\n",
      "See the caveats in the documentation: https://pandas.pydata.org/pandas-docs/stable/user_guide/indexing.html#returning-a-view-versus-a-copy\n"
     ]
    },
    {
     "name": "stdout",
     "output_type": "stream",
     "text": [
      "BESVM Accuracy (on training) = with x1 bounded error (20%*0.35),x2 with error (20%*0.65) : 0.8491666666666666\n",
      "BESVM Accuracy (on testing) = with x1 bounded error (20%*0.35),x2 with error (20%*0.65) : 0.8533333333333334\n",
      "BESVM Accuracy (on subset_raw) = with no bounded error,x2 with no error 0.88\n"
     ]
    },
    {
     "name": "stderr",
     "output_type": "stream",
     "text": [
      "/Library/Frameworks/Python.framework/Versions/3.7/lib/python3.7/site-packages/ipykernel_launcher.py:43: SettingWithCopyWarning: \n",
      "A value is trying to be set on a copy of a slice from a DataFrame\n",
      "\n",
      "See the caveats in the documentation: https://pandas.pydata.org/pandas-docs/stable/user_guide/indexing.html#returning-a-view-versus-a-copy\n",
      "/Library/Frameworks/Python.framework/Versions/3.7/lib/python3.7/site-packages/ipykernel_launcher.py:50: SettingWithCopyWarning: \n",
      "A value is trying to be set on a copy of a slice from a DataFrame\n",
      "\n",
      "See the caveats in the documentation: https://pandas.pydata.org/pandas-docs/stable/user_guide/indexing.html#returning-a-view-versus-a-copy\n",
      "/Library/Frameworks/Python.framework/Versions/3.7/lib/python3.7/site-packages/ipykernel_launcher.py:57: SettingWithCopyWarning: \n",
      "A value is trying to be set on a copy of a slice from a DataFrame\n",
      "\n",
      "See the caveats in the documentation: https://pandas.pydata.org/pandas-docs/stable/user_guide/indexing.html#returning-a-view-versus-a-copy\n",
      "/Library/Frameworks/Python.framework/Versions/3.7/lib/python3.7/site-packages/ipykernel_launcher.py:64: SettingWithCopyWarning: \n",
      "A value is trying to be set on a copy of a slice from a DataFrame\n",
      "\n",
      "See the caveats in the documentation: https://pandas.pydata.org/pandas-docs/stable/user_guide/indexing.html#returning-a-view-versus-a-copy\n"
     ]
    },
    {
     "name": "stdout",
     "output_type": "stream",
     "text": [
      "BESVM Accuracy (on training) = with x1 bounded error (20%*0.4),x2 with error (20%*0.6) : 0.8491666666666666\n",
      "BESVM Accuracy (on testing) = with x1 bounded error (20%*0.4),x2 with error (20%*0.6) : 0.8533333333333334\n",
      "BESVM Accuracy (on subset_raw) = with no bounded error,x2 with no error 0.88\n"
     ]
    },
    {
     "name": "stderr",
     "output_type": "stream",
     "text": [
      "/Library/Frameworks/Python.framework/Versions/3.7/lib/python3.7/site-packages/ipykernel_launcher.py:43: SettingWithCopyWarning: \n",
      "A value is trying to be set on a copy of a slice from a DataFrame\n",
      "\n",
      "See the caveats in the documentation: https://pandas.pydata.org/pandas-docs/stable/user_guide/indexing.html#returning-a-view-versus-a-copy\n",
      "/Library/Frameworks/Python.framework/Versions/3.7/lib/python3.7/site-packages/ipykernel_launcher.py:50: SettingWithCopyWarning: \n",
      "A value is trying to be set on a copy of a slice from a DataFrame\n",
      "\n",
      "See the caveats in the documentation: https://pandas.pydata.org/pandas-docs/stable/user_guide/indexing.html#returning-a-view-versus-a-copy\n",
      "/Library/Frameworks/Python.framework/Versions/3.7/lib/python3.7/site-packages/ipykernel_launcher.py:57: SettingWithCopyWarning: \n",
      "A value is trying to be set on a copy of a slice from a DataFrame\n",
      "\n",
      "See the caveats in the documentation: https://pandas.pydata.org/pandas-docs/stable/user_guide/indexing.html#returning-a-view-versus-a-copy\n",
      "/Library/Frameworks/Python.framework/Versions/3.7/lib/python3.7/site-packages/ipykernel_launcher.py:64: SettingWithCopyWarning: \n",
      "A value is trying to be set on a copy of a slice from a DataFrame\n",
      "\n",
      "See the caveats in the documentation: https://pandas.pydata.org/pandas-docs/stable/user_guide/indexing.html#returning-a-view-versus-a-copy\n"
     ]
    },
    {
     "name": "stdout",
     "output_type": "stream",
     "text": [
      "BESVM Accuracy (on training) = with x1 bounded error (20%*0.45),x2 with error (20%*0.55) : 0.8491666666666666\n",
      "BESVM Accuracy (on testing) = with x1 bounded error (20%*0.45),x2 with error (20%*0.55) : 0.8533333333333334\n",
      "BESVM Accuracy (on subset_raw) = with no bounded error,x2 with no error 0.88\n"
     ]
    },
    {
     "name": "stderr",
     "output_type": "stream",
     "text": [
      "/Library/Frameworks/Python.framework/Versions/3.7/lib/python3.7/site-packages/ipykernel_launcher.py:43: SettingWithCopyWarning: \n",
      "A value is trying to be set on a copy of a slice from a DataFrame\n",
      "\n",
      "See the caveats in the documentation: https://pandas.pydata.org/pandas-docs/stable/user_guide/indexing.html#returning-a-view-versus-a-copy\n",
      "/Library/Frameworks/Python.framework/Versions/3.7/lib/python3.7/site-packages/ipykernel_launcher.py:50: SettingWithCopyWarning: \n",
      "A value is trying to be set on a copy of a slice from a DataFrame\n",
      "\n",
      "See the caveats in the documentation: https://pandas.pydata.org/pandas-docs/stable/user_guide/indexing.html#returning-a-view-versus-a-copy\n",
      "/Library/Frameworks/Python.framework/Versions/3.7/lib/python3.7/site-packages/ipykernel_launcher.py:57: SettingWithCopyWarning: \n",
      "A value is trying to be set on a copy of a slice from a DataFrame\n",
      "\n",
      "See the caveats in the documentation: https://pandas.pydata.org/pandas-docs/stable/user_guide/indexing.html#returning-a-view-versus-a-copy\n",
      "/Library/Frameworks/Python.framework/Versions/3.7/lib/python3.7/site-packages/ipykernel_launcher.py:64: SettingWithCopyWarning: \n",
      "A value is trying to be set on a copy of a slice from a DataFrame\n",
      "\n",
      "See the caveats in the documentation: https://pandas.pydata.org/pandas-docs/stable/user_guide/indexing.html#returning-a-view-versus-a-copy\n"
     ]
    },
    {
     "name": "stdout",
     "output_type": "stream",
     "text": [
      "BESVM Accuracy (on training) = with x1 bounded error (20%*0.5),x2 with error (20%*0.5) : 0.8491666666666666\n",
      "BESVM Accuracy (on testing) = with x1 bounded error (20%*0.5),x2 with error (20%*0.5) : 0.8533333333333334\n",
      "BESVM Accuracy (on subset_raw) = with no bounded error,x2 with no error 0.88\n"
     ]
    },
    {
     "name": "stderr",
     "output_type": "stream",
     "text": [
      "/Library/Frameworks/Python.framework/Versions/3.7/lib/python3.7/site-packages/ipykernel_launcher.py:43: SettingWithCopyWarning: \n",
      "A value is trying to be set on a copy of a slice from a DataFrame\n",
      "\n",
      "See the caveats in the documentation: https://pandas.pydata.org/pandas-docs/stable/user_guide/indexing.html#returning-a-view-versus-a-copy\n",
      "/Library/Frameworks/Python.framework/Versions/3.7/lib/python3.7/site-packages/ipykernel_launcher.py:50: SettingWithCopyWarning: \n",
      "A value is trying to be set on a copy of a slice from a DataFrame\n",
      "\n",
      "See the caveats in the documentation: https://pandas.pydata.org/pandas-docs/stable/user_guide/indexing.html#returning-a-view-versus-a-copy\n",
      "/Library/Frameworks/Python.framework/Versions/3.7/lib/python3.7/site-packages/ipykernel_launcher.py:57: SettingWithCopyWarning: \n",
      "A value is trying to be set on a copy of a slice from a DataFrame\n",
      "\n",
      "See the caveats in the documentation: https://pandas.pydata.org/pandas-docs/stable/user_guide/indexing.html#returning-a-view-versus-a-copy\n",
      "/Library/Frameworks/Python.framework/Versions/3.7/lib/python3.7/site-packages/ipykernel_launcher.py:64: SettingWithCopyWarning: \n",
      "A value is trying to be set on a copy of a slice from a DataFrame\n",
      "\n",
      "See the caveats in the documentation: https://pandas.pydata.org/pandas-docs/stable/user_guide/indexing.html#returning-a-view-versus-a-copy\n"
     ]
    },
    {
     "name": "stdout",
     "output_type": "stream",
     "text": [
      "BESVM Accuracy (on training) = with x1 bounded error (20%*0.55),x2 with error (20%*0.45) : 0.8491666666666666\n",
      "BESVM Accuracy (on testing) = with x1 bounded error (20%*0.55),x2 with error (20%*0.45) : 0.8533333333333334\n",
      "BESVM Accuracy (on subset_raw) = with no bounded error,x2 with no error 0.88\n"
     ]
    },
    {
     "name": "stderr",
     "output_type": "stream",
     "text": [
      "/Library/Frameworks/Python.framework/Versions/3.7/lib/python3.7/site-packages/ipykernel_launcher.py:43: SettingWithCopyWarning: \n",
      "A value is trying to be set on a copy of a slice from a DataFrame\n",
      "\n",
      "See the caveats in the documentation: https://pandas.pydata.org/pandas-docs/stable/user_guide/indexing.html#returning-a-view-versus-a-copy\n",
      "/Library/Frameworks/Python.framework/Versions/3.7/lib/python3.7/site-packages/ipykernel_launcher.py:50: SettingWithCopyWarning: \n",
      "A value is trying to be set on a copy of a slice from a DataFrame\n",
      "\n",
      "See the caveats in the documentation: https://pandas.pydata.org/pandas-docs/stable/user_guide/indexing.html#returning-a-view-versus-a-copy\n",
      "/Library/Frameworks/Python.framework/Versions/3.7/lib/python3.7/site-packages/ipykernel_launcher.py:57: SettingWithCopyWarning: \n",
      "A value is trying to be set on a copy of a slice from a DataFrame\n",
      "\n",
      "See the caveats in the documentation: https://pandas.pydata.org/pandas-docs/stable/user_guide/indexing.html#returning-a-view-versus-a-copy\n",
      "/Library/Frameworks/Python.framework/Versions/3.7/lib/python3.7/site-packages/ipykernel_launcher.py:64: SettingWithCopyWarning: \n",
      "A value is trying to be set on a copy of a slice from a DataFrame\n",
      "\n",
      "See the caveats in the documentation: https://pandas.pydata.org/pandas-docs/stable/user_guide/indexing.html#returning-a-view-versus-a-copy\n"
     ]
    },
    {
     "name": "stdout",
     "output_type": "stream",
     "text": [
      "BESVM Accuracy (on training) = with x1 bounded error (20%*0.6),x2 with error (20%*0.4) : 0.8491666666666666\n",
      "BESVM Accuracy (on testing) = with x1 bounded error (20%*0.6),x2 with error (20%*0.4) : 0.8533333333333334\n",
      "BESVM Accuracy (on subset_raw) = with no bounded error,x2 with no error 0.88\n"
     ]
    },
    {
     "name": "stderr",
     "output_type": "stream",
     "text": [
      "/Library/Frameworks/Python.framework/Versions/3.7/lib/python3.7/site-packages/ipykernel_launcher.py:43: SettingWithCopyWarning: \n",
      "A value is trying to be set on a copy of a slice from a DataFrame\n",
      "\n",
      "See the caveats in the documentation: https://pandas.pydata.org/pandas-docs/stable/user_guide/indexing.html#returning-a-view-versus-a-copy\n",
      "/Library/Frameworks/Python.framework/Versions/3.7/lib/python3.7/site-packages/ipykernel_launcher.py:50: SettingWithCopyWarning: \n",
      "A value is trying to be set on a copy of a slice from a DataFrame\n",
      "\n",
      "See the caveats in the documentation: https://pandas.pydata.org/pandas-docs/stable/user_guide/indexing.html#returning-a-view-versus-a-copy\n",
      "/Library/Frameworks/Python.framework/Versions/3.7/lib/python3.7/site-packages/ipykernel_launcher.py:57: SettingWithCopyWarning: \n",
      "A value is trying to be set on a copy of a slice from a DataFrame\n",
      "\n",
      "See the caveats in the documentation: https://pandas.pydata.org/pandas-docs/stable/user_guide/indexing.html#returning-a-view-versus-a-copy\n",
      "/Library/Frameworks/Python.framework/Versions/3.7/lib/python3.7/site-packages/ipykernel_launcher.py:64: SettingWithCopyWarning: \n",
      "A value is trying to be set on a copy of a slice from a DataFrame\n",
      "\n",
      "See the caveats in the documentation: https://pandas.pydata.org/pandas-docs/stable/user_guide/indexing.html#returning-a-view-versus-a-copy\n"
     ]
    },
    {
     "name": "stdout",
     "output_type": "stream",
     "text": [
      "BESVM Accuracy (on training) = with x1 bounded error (20%*0.65),x2 with error (20%*0.35) : 0.8491666666666666\n",
      "BESVM Accuracy (on testing) = with x1 bounded error (20%*0.65),x2 with error (20%*0.35) : 0.8533333333333334\n",
      "BESVM Accuracy (on subset_raw) = with no bounded error,x2 with no error 0.88\n"
     ]
    },
    {
     "name": "stderr",
     "output_type": "stream",
     "text": [
      "/Library/Frameworks/Python.framework/Versions/3.7/lib/python3.7/site-packages/ipykernel_launcher.py:43: SettingWithCopyWarning: \n",
      "A value is trying to be set on a copy of a slice from a DataFrame\n",
      "\n",
      "See the caveats in the documentation: https://pandas.pydata.org/pandas-docs/stable/user_guide/indexing.html#returning-a-view-versus-a-copy\n",
      "/Library/Frameworks/Python.framework/Versions/3.7/lib/python3.7/site-packages/ipykernel_launcher.py:50: SettingWithCopyWarning: \n",
      "A value is trying to be set on a copy of a slice from a DataFrame\n",
      "\n",
      "See the caveats in the documentation: https://pandas.pydata.org/pandas-docs/stable/user_guide/indexing.html#returning-a-view-versus-a-copy\n",
      "/Library/Frameworks/Python.framework/Versions/3.7/lib/python3.7/site-packages/ipykernel_launcher.py:57: SettingWithCopyWarning: \n",
      "A value is trying to be set on a copy of a slice from a DataFrame\n",
      "\n",
      "See the caveats in the documentation: https://pandas.pydata.org/pandas-docs/stable/user_guide/indexing.html#returning-a-view-versus-a-copy\n",
      "/Library/Frameworks/Python.framework/Versions/3.7/lib/python3.7/site-packages/ipykernel_launcher.py:64: SettingWithCopyWarning: \n",
      "A value is trying to be set on a copy of a slice from a DataFrame\n",
      "\n",
      "See the caveats in the documentation: https://pandas.pydata.org/pandas-docs/stable/user_guide/indexing.html#returning-a-view-versus-a-copy\n"
     ]
    },
    {
     "name": "stdout",
     "output_type": "stream",
     "text": [
      "BESVM Accuracy (on training) = with x1 bounded error (20%*0.7),x2 with error (20%*0.3) : 0.8494444444444444\n",
      "BESVM Accuracy (on testing) = with x1 bounded error (20%*0.7),x2 with error (20%*0.3) : 0.8533333333333334\n",
      "BESVM Accuracy (on subset_raw) = with no bounded error,x2 with no error 0.88\n"
     ]
    },
    {
     "name": "stderr",
     "output_type": "stream",
     "text": [
      "/Library/Frameworks/Python.framework/Versions/3.7/lib/python3.7/site-packages/ipykernel_launcher.py:43: SettingWithCopyWarning: \n",
      "A value is trying to be set on a copy of a slice from a DataFrame\n",
      "\n",
      "See the caveats in the documentation: https://pandas.pydata.org/pandas-docs/stable/user_guide/indexing.html#returning-a-view-versus-a-copy\n",
      "/Library/Frameworks/Python.framework/Versions/3.7/lib/python3.7/site-packages/ipykernel_launcher.py:50: SettingWithCopyWarning: \n",
      "A value is trying to be set on a copy of a slice from a DataFrame\n",
      "\n",
      "See the caveats in the documentation: https://pandas.pydata.org/pandas-docs/stable/user_guide/indexing.html#returning-a-view-versus-a-copy\n",
      "/Library/Frameworks/Python.framework/Versions/3.7/lib/python3.7/site-packages/ipykernel_launcher.py:57: SettingWithCopyWarning: \n",
      "A value is trying to be set on a copy of a slice from a DataFrame\n",
      "\n",
      "See the caveats in the documentation: https://pandas.pydata.org/pandas-docs/stable/user_guide/indexing.html#returning-a-view-versus-a-copy\n",
      "/Library/Frameworks/Python.framework/Versions/3.7/lib/python3.7/site-packages/ipykernel_launcher.py:64: SettingWithCopyWarning: \n",
      "A value is trying to be set on a copy of a slice from a DataFrame\n",
      "\n",
      "See the caveats in the documentation: https://pandas.pydata.org/pandas-docs/stable/user_guide/indexing.html#returning-a-view-versus-a-copy\n"
     ]
    },
    {
     "name": "stdout",
     "output_type": "stream",
     "text": [
      "BESVM Accuracy (on training) = with x1 bounded error (20%*0.75),x2 with error (20%*0.25) : 0.8491666666666666\n",
      "BESVM Accuracy (on testing) = with x1 bounded error (20%*0.75),x2 with error (20%*0.25) : 0.8533333333333334\n",
      "BESVM Accuracy (on subset_raw) = with no bounded error,x2 with no error 0.88\n"
     ]
    },
    {
     "name": "stderr",
     "output_type": "stream",
     "text": [
      "/Library/Frameworks/Python.framework/Versions/3.7/lib/python3.7/site-packages/ipykernel_launcher.py:43: SettingWithCopyWarning: \n",
      "A value is trying to be set on a copy of a slice from a DataFrame\n",
      "\n",
      "See the caveats in the documentation: https://pandas.pydata.org/pandas-docs/stable/user_guide/indexing.html#returning-a-view-versus-a-copy\n",
      "/Library/Frameworks/Python.framework/Versions/3.7/lib/python3.7/site-packages/ipykernel_launcher.py:50: SettingWithCopyWarning: \n",
      "A value is trying to be set on a copy of a slice from a DataFrame\n",
      "\n",
      "See the caveats in the documentation: https://pandas.pydata.org/pandas-docs/stable/user_guide/indexing.html#returning-a-view-versus-a-copy\n",
      "/Library/Frameworks/Python.framework/Versions/3.7/lib/python3.7/site-packages/ipykernel_launcher.py:57: SettingWithCopyWarning: \n",
      "A value is trying to be set on a copy of a slice from a DataFrame\n",
      "\n",
      "See the caveats in the documentation: https://pandas.pydata.org/pandas-docs/stable/user_guide/indexing.html#returning-a-view-versus-a-copy\n",
      "/Library/Frameworks/Python.framework/Versions/3.7/lib/python3.7/site-packages/ipykernel_launcher.py:64: SettingWithCopyWarning: \n",
      "A value is trying to be set on a copy of a slice from a DataFrame\n",
      "\n",
      "See the caveats in the documentation: https://pandas.pydata.org/pandas-docs/stable/user_guide/indexing.html#returning-a-view-versus-a-copy\n"
     ]
    },
    {
     "name": "stdout",
     "output_type": "stream",
     "text": [
      "BESVM Accuracy (on training) = with x1 bounded error (20%*0.8),x2 with error (20%*0.2) : 0.8494444444444444\n",
      "BESVM Accuracy (on testing) = with x1 bounded error (20%*0.8),x2 with error (20%*0.2) : 0.8533333333333334\n",
      "BESVM Accuracy (on subset_raw) = with no bounded error,x2 with no error 0.88\n"
     ]
    },
    {
     "name": "stderr",
     "output_type": "stream",
     "text": [
      "/Library/Frameworks/Python.framework/Versions/3.7/lib/python3.7/site-packages/ipykernel_launcher.py:43: SettingWithCopyWarning: \n",
      "A value is trying to be set on a copy of a slice from a DataFrame\n",
      "\n",
      "See the caveats in the documentation: https://pandas.pydata.org/pandas-docs/stable/user_guide/indexing.html#returning-a-view-versus-a-copy\n",
      "/Library/Frameworks/Python.framework/Versions/3.7/lib/python3.7/site-packages/ipykernel_launcher.py:50: SettingWithCopyWarning: \n",
      "A value is trying to be set on a copy of a slice from a DataFrame\n",
      "\n",
      "See the caveats in the documentation: https://pandas.pydata.org/pandas-docs/stable/user_guide/indexing.html#returning-a-view-versus-a-copy\n",
      "/Library/Frameworks/Python.framework/Versions/3.7/lib/python3.7/site-packages/ipykernel_launcher.py:57: SettingWithCopyWarning: \n",
      "A value is trying to be set on a copy of a slice from a DataFrame\n",
      "\n",
      "See the caveats in the documentation: https://pandas.pydata.org/pandas-docs/stable/user_guide/indexing.html#returning-a-view-versus-a-copy\n",
      "/Library/Frameworks/Python.framework/Versions/3.7/lib/python3.7/site-packages/ipykernel_launcher.py:64: SettingWithCopyWarning: \n",
      "A value is trying to be set on a copy of a slice from a DataFrame\n",
      "\n",
      "See the caveats in the documentation: https://pandas.pydata.org/pandas-docs/stable/user_guide/indexing.html#returning-a-view-versus-a-copy\n"
     ]
    },
    {
     "name": "stdout",
     "output_type": "stream",
     "text": [
      "BESVM Accuracy (on training) = with x1 bounded error (20%*0.85),x2 with error (20%*0.15) : 0.8494444444444444\n",
      "BESVM Accuracy (on testing) = with x1 bounded error (20%*0.85),x2 with error (20%*0.15) : 0.8533333333333334\n",
      "BESVM Accuracy (on subset_raw) = with no bounded error,x2 with no error 0.88\n"
     ]
    },
    {
     "name": "stderr",
     "output_type": "stream",
     "text": [
      "/Library/Frameworks/Python.framework/Versions/3.7/lib/python3.7/site-packages/ipykernel_launcher.py:43: SettingWithCopyWarning: \n",
      "A value is trying to be set on a copy of a slice from a DataFrame\n",
      "\n",
      "See the caveats in the documentation: https://pandas.pydata.org/pandas-docs/stable/user_guide/indexing.html#returning-a-view-versus-a-copy\n",
      "/Library/Frameworks/Python.framework/Versions/3.7/lib/python3.7/site-packages/ipykernel_launcher.py:50: SettingWithCopyWarning: \n",
      "A value is trying to be set on a copy of a slice from a DataFrame\n",
      "\n",
      "See the caveats in the documentation: https://pandas.pydata.org/pandas-docs/stable/user_guide/indexing.html#returning-a-view-versus-a-copy\n",
      "/Library/Frameworks/Python.framework/Versions/3.7/lib/python3.7/site-packages/ipykernel_launcher.py:57: SettingWithCopyWarning: \n",
      "A value is trying to be set on a copy of a slice from a DataFrame\n",
      "\n",
      "See the caveats in the documentation: https://pandas.pydata.org/pandas-docs/stable/user_guide/indexing.html#returning-a-view-versus-a-copy\n",
      "/Library/Frameworks/Python.framework/Versions/3.7/lib/python3.7/site-packages/ipykernel_launcher.py:64: SettingWithCopyWarning: \n",
      "A value is trying to be set on a copy of a slice from a DataFrame\n",
      "\n",
      "See the caveats in the documentation: https://pandas.pydata.org/pandas-docs/stable/user_guide/indexing.html#returning-a-view-versus-a-copy\n"
     ]
    },
    {
     "name": "stdout",
     "output_type": "stream",
     "text": [
      "BESVM Accuracy (on training) = with x1 bounded error (20%*0.9),x2 with error (20%*0.1) : 0.8494444444444444\n",
      "BESVM Accuracy (on testing) = with x1 bounded error (20%*0.9),x2 with error (20%*0.1) : 0.8533333333333334\n",
      "BESVM Accuracy (on subset_raw) = with no bounded error,x2 with no error 0.88\n"
     ]
    },
    {
     "name": "stderr",
     "output_type": "stream",
     "text": [
      "/Library/Frameworks/Python.framework/Versions/3.7/lib/python3.7/site-packages/ipykernel_launcher.py:43: SettingWithCopyWarning: \n",
      "A value is trying to be set on a copy of a slice from a DataFrame\n",
      "\n",
      "See the caveats in the documentation: https://pandas.pydata.org/pandas-docs/stable/user_guide/indexing.html#returning-a-view-versus-a-copy\n",
      "/Library/Frameworks/Python.framework/Versions/3.7/lib/python3.7/site-packages/ipykernel_launcher.py:50: SettingWithCopyWarning: \n",
      "A value is trying to be set on a copy of a slice from a DataFrame\n",
      "\n",
      "See the caveats in the documentation: https://pandas.pydata.org/pandas-docs/stable/user_guide/indexing.html#returning-a-view-versus-a-copy\n",
      "/Library/Frameworks/Python.framework/Versions/3.7/lib/python3.7/site-packages/ipykernel_launcher.py:57: SettingWithCopyWarning: \n",
      "A value is trying to be set on a copy of a slice from a DataFrame\n",
      "\n",
      "See the caveats in the documentation: https://pandas.pydata.org/pandas-docs/stable/user_guide/indexing.html#returning-a-view-versus-a-copy\n",
      "/Library/Frameworks/Python.framework/Versions/3.7/lib/python3.7/site-packages/ipykernel_launcher.py:64: SettingWithCopyWarning: \n",
      "A value is trying to be set on a copy of a slice from a DataFrame\n",
      "\n",
      "See the caveats in the documentation: https://pandas.pydata.org/pandas-docs/stable/user_guide/indexing.html#returning-a-view-versus-a-copy\n"
     ]
    },
    {
     "name": "stdout",
     "output_type": "stream",
     "text": [
      "BESVM Accuracy (on training) = with x1 bounded error (20%*0.95),x2 with error (20%*0.05) : 0.8502777777777778\n",
      "BESVM Accuracy (on testing) = with x1 bounded error (20%*0.95),x2 with error (20%*0.05) : 0.8533333333333334\n",
      "BESVM Accuracy (on subset_raw) = with no bounded error,x2 with no error 0.88\n"
     ]
    },
    {
     "name": "stderr",
     "output_type": "stream",
     "text": [
      "/Library/Frameworks/Python.framework/Versions/3.7/lib/python3.7/site-packages/ipykernel_launcher.py:43: SettingWithCopyWarning: \n",
      "A value is trying to be set on a copy of a slice from a DataFrame\n",
      "\n",
      "See the caveats in the documentation: https://pandas.pydata.org/pandas-docs/stable/user_guide/indexing.html#returning-a-view-versus-a-copy\n",
      "/Library/Frameworks/Python.framework/Versions/3.7/lib/python3.7/site-packages/ipykernel_launcher.py:50: SettingWithCopyWarning: \n",
      "A value is trying to be set on a copy of a slice from a DataFrame\n",
      "\n",
      "See the caveats in the documentation: https://pandas.pydata.org/pandas-docs/stable/user_guide/indexing.html#returning-a-view-versus-a-copy\n",
      "/Library/Frameworks/Python.framework/Versions/3.7/lib/python3.7/site-packages/ipykernel_launcher.py:57: SettingWithCopyWarning: \n",
      "A value is trying to be set on a copy of a slice from a DataFrame\n",
      "\n",
      "See the caveats in the documentation: https://pandas.pydata.org/pandas-docs/stable/user_guide/indexing.html#returning-a-view-versus-a-copy\n",
      "/Library/Frameworks/Python.framework/Versions/3.7/lib/python3.7/site-packages/ipykernel_launcher.py:64: SettingWithCopyWarning: \n",
      "A value is trying to be set on a copy of a slice from a DataFrame\n",
      "\n",
      "See the caveats in the documentation: https://pandas.pydata.org/pandas-docs/stable/user_guide/indexing.html#returning-a-view-versus-a-copy\n"
     ]
    },
    {
     "name": "stdout",
     "output_type": "stream",
     "text": [
      "BESVM Accuracy (on training) = with x1 bounded error (20%*1.0),x2 with error (20%*0.0) : 0.8502777777777778\n",
      "BESVM Accuracy (on testing) = with x1 bounded error (20%*1.0),x2 with error (20%*0.0) : 0.8533333333333334\n",
      "BESVM Accuracy (on subset_raw) = with no bounded error,x2 with no error 0.88\n"
     ]
    }
   ],
   "source": [
    "pd.set_option('display.max_rows',10)\n",
    "for i in range(21) :\n",
    "    '''\n",
    "    temp = df_origianl.copy()\n",
    "    df_2feature_be = pd.DataFrame.to_numpy(df_origianl)\n",
    "    e1 = temp['x1'].mean()*0.3*0.974\n",
    "    e2 = temp['x2'].mean()*0.3*0.0255\n",
    "\n",
    "    for idx,cell in temp['x1'].iteritems():\n",
    "        temp['x1'][idx] += e1\n",
    "    temp = temp.to_numpy()\n",
    "    df_2feature_be = np.vstack((df_2feature_be,temp))\n",
    "    temp = df_origianl.copy()\n",
    "\n",
    "    for idx,cell in temp['x1'].iteritems():\n",
    "        temp['x1'][idx] = temp['x1'][idx] - e1\n",
    "    temp = temp.to_numpy()\n",
    "    df_2feature_be = np.vstack((df_2feature_be,temp))\n",
    "    temp = df_origianl.copy()\n",
    "\n",
    "    for idx,cell in temp['x2'].iteritems():\n",
    "        temp['x2'][idx] += e2\n",
    "    temp = temp.to_numpy()\n",
    "    df_2feature_be = np.vstack((df_2feature_be,temp))\n",
    "    temp = df_origianl.copy()\n",
    "\n",
    "    for idx,cell in temp['x2'].iteritems():\n",
    "        temp['x2'][idx] = temp['x2'][idx] - e2\n",
    "    temp = temp.to_numpy()\n",
    "    df_2feature_be = np.vstack((df_2feature_be,temp))\n",
    "    temp = df_origianl.copy()\n",
    "\n",
    "    df_2feature_be = pd.DataFrame(df_2feature_be)\n",
    "    df_2feature_be\n",
    "    '''\n",
    "    temp = df_origianl.copy()\n",
    "    df_2feature_be = pd.DataFrame.to_numpy(df_origianl)\n",
    "    #print(df_2feature_be.shape)\n",
    "    e1 = temp['x1'].mean()*0.2*(error_a[i]/(error_a[i]+error_b[i]))\n",
    "    e2 = temp['x2'].mean()*0.2*(error_b[i]/(error_a[i]+error_b[i]))\n",
    "\n",
    "    for idx,cell in temp['x1'].iteritems():\n",
    "        temp['x1'][idx] += e1\n",
    "    temp = temp.to_numpy()\n",
    "    df_2feature_be = np.vstack((df_2feature_be,temp))\n",
    "    #print(df_2feature_be.shape)\n",
    "    temp = df_origianl.copy()\n",
    "\n",
    "    for idx,cell in temp['x1'].iteritems():\n",
    "        temp['x1'][idx] = temp['x1'][idx] - e1\n",
    "    temp = temp.to_numpy()\n",
    "    df_2feature_be = np.vstack((df_2feature_be,temp))\n",
    "    #print(df_2feature_be.shape)\n",
    "    temp = df_origianl.copy()\n",
    "\n",
    "    for idx,cell in temp['x2'].iteritems():\n",
    "        temp['x2'][idx] += e2\n",
    "    temp = temp.to_numpy()\n",
    "    df_2feature_be = np.vstack((df_2feature_be,temp))\n",
    "    #print(df_2feature_be.shape)\n",
    "    temp = df_origianl.copy()\n",
    "\n",
    "    for idx,cell in temp['x2'].iteritems():\n",
    "        temp['x2'][idx] = temp['x2'][idx] - e2\n",
    "    temp = temp.to_numpy()\n",
    "    df_2feature_be = np.vstack((df_2feature_be,temp))\n",
    "    #print(df_2feature_be.shape)\n",
    "    temp = df_origianl.copy()\n",
    "\n",
    "    df_2feature_be = pd.DataFrame(df_2feature_be)\n",
    "    #print(df_2feature_be)\n",
    "\n",
    "    x_be = df_2feature_be.iloc[:, :-1].values\n",
    "    y_be = df_2feature_be.iloc[:,-1].values\n",
    "    X_train,X_test,y_train, y_test = train_test_split(x_be, y_be, test_size=0.2,random_state=1)\n",
    "    clf_BE = SVC(kernel='linear',C=1,gamma='auto')\n",
    "    clf_BE.fit(X_train, y_train)\n",
    "    y_BE_predict = clf_BE.predict(X_test)\n",
    "    result_BE_train = clf_BE.score(X_train, y_train)\n",
    "    result_BE_test = clf_BE.score(X_test, y_test)\n",
    "    y_subset_predict = clf_BE.predict(subset_x)\n",
    "    subset_raw = clf_BE.score(subset_x, subset_y)\n",
    "    print('BESVM Accuracy (on training) = with x1 bounded error (20%*'+str((error_a[i]/(error_a[i]+error_b[i])))+'),x2 with error (20%*'+str((error_b[i]/(error_a[i]+error_b[i])))+') : '+str(result_BE_train))\n",
    "    print('BESVM Accuracy (on testing) = with x1 bounded error (20%*'+str((error_a[i]/(error_a[i]+error_b[i])))+'),x2 with error (20%*'+str((error_b[i]/(error_a[i]+error_b[i])))+') : '+str(result_BE_test))\n",
    "    print('BESVM Accuracy (on subset_raw) = with no bounded error,x2 with no error '+str(subset_raw))\n",
    "\n"
   ]
  },
  {
   "cell_type": "code",
   "execution_count": 32,
   "metadata": {},
   "outputs": [
    {
     "name": "stdout",
     "output_type": "stream",
     "text": [
      "Original Accuracy (on training) = 0.85\n",
      "Original Accuracy (on testing) = 0.8388888888888889\n"
     ]
    },
    {
     "data": {
      "image/png": "[encoded data removed]",
      "text/plain": [
       "<Figure size 432x288 with 1 Axes>"
      ]
     },
     "metadata": {
      "needs_background": "light"
     },
     "output_type": "display_data"
    },
    {
     "name": "stdout",
     "output_type": "stream",
     "text": [
      "BESVM Accuracy (on training) = with x1 bounded error (20%*0.974),x2 with error (20%*0.0255) : 0.8502777777777778\n",
      "BESVM Accuracy (on testing) = with x1 bounded error (20%*0.974),x2 with error (20%*0.0255) : 0.8533333333333334\n"
     ]
    },
    {
     "data": {
      "image/png": "[encoded data removed]",
      "text/plain": [
       "<Figure size 432x288 with 1 Axes>"
      ]
     },
     "metadata": {
      "needs_background": "light"
     },
     "output_type": "display_data"
    }
   ],
   "source": [
    "pd.set_option('display.max_rows',10)\n",
    "\n",
    "x_original = df_origianl.iloc[:,:-1].values\n",
    "y_original = df_origianl.iloc[:,-1].values\n",
    "x_be = df_2feature_be.iloc[:, :-1].values\n",
    "y_be = df_2feature_be.iloc[:,-1].values\n",
    "\n",
    "X_train, X_test,y_train, y_test = train_test_split(x_original, y_original, test_size=0.2,random_state=1)\n",
    "clf_original = SVC(kernel='linear',C=1,gamma='auto')\n",
    "clf_original.fit(X_train, y_train)\n",
    "y_original_predict = clf_original.predict(X_test)\n",
    "result_orginal_train = clf_original.score(X_train, y_train)\n",
    "result_orginal_test = clf_original.score(X_test, y_test)\n",
    "print('Original Accuracy (on training) = '+str(result_orginal_train))\n",
    "print('Original Accuracy (on testing) = '+str(result_orginal_test))\n",
    "plt.scatter(x_original[y_original==0,0],x_original[y_original==0,1],color = 'r',marker = 'o')\n",
    "plt.scatter(x_original[y_original==1,0],x_original[y_original==1,1],color = 'b',marker = '*')\n",
    "plt.title('original')\n",
    "plt.xlabel('feature x1 ')\n",
    "plt.ylabel('feature x2 ')\n",
    "plt.show()\n",
    "\n",
    "X_train,X_test,y_train, y_test = train_test_split(x_be, y_be, test_size=0.2,random_state=1)\n",
    "clf_BE = SVC(kernel='linear',C=1,gamma='auto')\n",
    "clf_BE.fit(X_train, y_train)\n",
    "y_BE_predict = clf_BE.predict(X_test)\n",
    "result_BE_train = clf_BE.score(X_train, y_train)\n",
    "result_BE_test = clf_BE.score(X_test, y_test)\n",
    "print('BESVM Accuracy (on training) = with x1 bounded error (20%*0.974),x2 with error (20%*0.0255) : '+str(result_BE_train))\n",
    "print('BESVM Accuracy (on testing) = with x1 bounded error (20%*0.974),x2 with error (20%*0.0255) : '+str(result_BE_test))\n",
    "\n",
    "plt.scatter(x_be[y_be==0,0],x_be[y_be==0,1],color = 'r',marker = 'o')\n",
    "plt.scatter(x_be[y_be==1,0],x_be[y_be==1,1],color = 'b',marker = '*')\n",
    "plt.title('Error adding in feature x1 and x2')\n",
    "plt.xlabel('feature x1 : ')\n",
    "plt.ylabel('feature x2 : ')\n",
    "plt.show()\n"
   ]
  },
  {
   "cell_type": "code",
   "execution_count": 33,
   "metadata": {},
   "outputs": [
    {
     "name": "stderr",
     "output_type": "stream",
     "text": [
      "/Library/Frameworks/Python.framework/Versions/3.7/lib/python3.7/site-packages/ipykernel_launcher.py:8: SettingWithCopyWarning: \n",
      "A value is trying to be set on a copy of a slice from a DataFrame\n",
      "\n",
      "See the caveats in the documentation: https://pandas.pydata.org/pandas-docs/stable/user_guide/indexing.html#returning-a-view-versus-a-copy\n",
      "  \n",
      "/Library/Frameworks/Python.framework/Versions/3.7/lib/python3.7/site-packages/ipykernel_launcher.py:14: SettingWithCopyWarning: \n",
      "A value is trying to be set on a copy of a slice from a DataFrame\n",
      "\n",
      "See the caveats in the documentation: https://pandas.pydata.org/pandas-docs/stable/user_guide/indexing.html#returning-a-view-versus-a-copy\n",
      "  \n",
      "/Library/Frameworks/Python.framework/Versions/3.7/lib/python3.7/site-packages/ipykernel_launcher.py:20: SettingWithCopyWarning: \n",
      "A value is trying to be set on a copy of a slice from a DataFrame\n",
      "\n",
      "See the caveats in the documentation: https://pandas.pydata.org/pandas-docs/stable/user_guide/indexing.html#returning-a-view-versus-a-copy\n",
      "/Library/Frameworks/Python.framework/Versions/3.7/lib/python3.7/site-packages/ipykernel_launcher.py:26: SettingWithCopyWarning: \n",
      "A value is trying to be set on a copy of a slice from a DataFrame\n",
      "\n",
      "See the caveats in the documentation: https://pandas.pydata.org/pandas-docs/stable/user_guide/indexing.html#returning-a-view-versus-a-copy\n"
     ]
    },
    {
     "data": {
      "text/html": [
       "<div>\n",
       "<style scoped>\n",
       "    .dataframe tbody tr th:only-of-type {\n",
       "        vertical-align: middle;\n",
       "    }\n",
       "\n",
       "    .dataframe tbody tr th {\n",
       "        vertical-align: top;\n",
       "    }\n",
       "\n",
       "    .dataframe thead th {\n",
       "        text-align: right;\n",
       "    }\n",
       "</style>\n",
       "<table border=\"1\" class=\"dataframe\">\n",
       "  <thead>\n",
       "    <tr style=\"text-align: right;\">\n",
       "      <th></th>\n",
       "      <th>0</th>\n",
       "      <th>1</th>\n",
       "      <th>2</th>\n",
       "    </tr>\n",
       "  </thead>\n",
       "  <tbody>\n",
       "    <tr>\n",
       "      <th>0</th>\n",
       "      <td>0.863411</td>\n",
       "      <td>-0.912354</td>\n",
       "      <td>1.0</td>\n",
       "    </tr>\n",
       "    <tr>\n",
       "      <th>1</th>\n",
       "      <td>-0.530997</td>\n",
       "      <td>0.901182</td>\n",
       "      <td>0.0</td>\n",
       "    </tr>\n",
       "    <tr>\n",
       "      <th>2</th>\n",
       "      <td>0.982776</td>\n",
       "      <td>-1.591112</td>\n",
       "      <td>0.0</td>\n",
       "    </tr>\n",
       "    <tr>\n",
       "      <th>3</th>\n",
       "      <td>-1.032039</td>\n",
       "      <td>-0.801162</td>\n",
       "      <td>0.0</td>\n",
       "    </tr>\n",
       "    <tr>\n",
       "      <th>4</th>\n",
       "      <td>3.620555</td>\n",
       "      <td>-0.098876</td>\n",
       "      <td>1.0</td>\n",
       "    </tr>\n",
       "    <tr>\n",
       "      <th>...</th>\n",
       "      <td>...</td>\n",
       "      <td>...</td>\n",
       "      <td>...</td>\n",
       "    </tr>\n",
       "    <tr>\n",
       "      <th>4495</th>\n",
       "      <td>2.282176</td>\n",
       "      <td>0.271044</td>\n",
       "      <td>1.0</td>\n",
       "    </tr>\n",
       "    <tr>\n",
       "      <th>4496</th>\n",
       "      <td>1.425043</td>\n",
       "      <td>-0.238640</td>\n",
       "      <td>1.0</td>\n",
       "    </tr>\n",
       "    <tr>\n",
       "      <th>4497</th>\n",
       "      <td>1.330195</td>\n",
       "      <td>3.719670</td>\n",
       "      <td>1.0</td>\n",
       "    </tr>\n",
       "    <tr>\n",
       "      <th>4498</th>\n",
       "      <td>-1.010841</td>\n",
       "      <td>0.424200</td>\n",
       "      <td>0.0</td>\n",
       "    </tr>\n",
       "    <tr>\n",
       "      <th>4499</th>\n",
       "      <td>-1.008732</td>\n",
       "      <td>1.243262</td>\n",
       "      <td>0.0</td>\n",
       "    </tr>\n",
       "  </tbody>\n",
       "</table>\n",
       "<p>4500 rows × 3 columns</p>\n",
       "</div>"
      ],
      "text/plain": [
       "             0         1    2\n",
       "0     0.863411 -0.912354  1.0\n",
       "1    -0.530997  0.901182  0.0\n",
       "2     0.982776 -1.591112  0.0\n",
       "3    -1.032039 -0.801162  0.0\n",
       "4     3.620555 -0.098876  1.0\n",
       "...        ...       ...  ...\n",
       "4495  2.282176  0.271044  1.0\n",
       "4496  1.425043 -0.238640  1.0\n",
       "4497  1.330195  3.719670  1.0\n",
       "4498 -1.010841  0.424200  0.0\n",
       "4499 -1.008732  1.243262  0.0\n",
       "\n",
       "[4500 rows x 3 columns]"
      ]
     },
     "execution_count": 33,
     "metadata": {},
     "output_type": "execute_result"
    }
   ],
   "source": [
    "pd.set_option('display.max_rows',10)\n",
    "temp = df_origianl.copy()\n",
    "df_2feature_be = pd.DataFrame.to_numpy(df_origianl)\n",
    "e1 = temp['x1'].mean()*0.3*0.0255\n",
    "e2 = temp['x2'].mean()*0.3*0.974\n",
    "\n",
    "for idx,cell in temp['x1'].iteritems():\n",
    "    temp['x1'][idx] += e1\n",
    "temp = temp.to_numpy()\n",
    "df_2feature_be = np.vstack((df_2feature_be,temp))\n",
    "temp = df_origianl.copy()\n",
    "\n",
    "for idx,cell in temp['x1'].iteritems():\n",
    "    temp['x1'][idx] = temp['x1'][idx] - e1\n",
    "temp = temp.to_numpy()\n",
    "df_2feature_be = np.vstack((df_2feature_be,temp))\n",
    "temp = df_origianl.copy()\n",
    "\n",
    "for idx,cell in temp['x2'].iteritems():\n",
    "    temp['x2'][idx] += e2\n",
    "temp = temp.to_numpy()\n",
    "df_2feature_be = np.vstack((df_2feature_be,temp))\n",
    "temp = df_origianl.copy()\n",
    "\n",
    "for idx,cell in temp['x2'].iteritems():\n",
    "    temp['x2'][idx] = temp['x2'][idx] - e2\n",
    "temp = temp.to_numpy()\n",
    "df_2feature_be = np.vstack((df_2feature_be,temp))\n",
    "temp = df_origianl.copy()\n",
    "\n",
    "df_2feature_be = pd.DataFrame(df_2feature_be)\n",
    "df_2feature_be\n"
   ]
  },
  {
   "cell_type": "code",
   "execution_count": 34,
   "metadata": {},
   "outputs": [
    {
     "name": "stdout",
     "output_type": "stream",
     "text": [
      "Original Accuracy (on training) = 0.85\n",
      "Original Accuracy (on testing) = 0.8388888888888889\n"
     ]
    },
    {
     "data": {
      "image/png": "[encoded data removed]",
      "text/plain": [
       "<Figure size 432x288 with 1 Axes>"
      ]
     },
     "metadata": {
      "needs_background": "light"
     },
     "output_type": "display_data"
    },
    {
     "name": "stdout",
     "output_type": "stream",
     "text": [
      "BESVM Accuracy (on training) = with x1 bounded error (20%*0.025),x2 with error (20%*0.974) : 0.8491666666666666\n",
      "BESVM Accuracy (on testing) = with x1 bounded error (20%*0.025),x2 with error (20%*0.974) : 0.8533333333333334\n"
     ]
    },
    {
     "data": {
      "image/png": "[encoded data removed]",
      "text/plain": [
       "<Figure size 432x288 with 1 Axes>"
      ]
     },
     "metadata": {
      "needs_background": "light"
     },
     "output_type": "display_data"
    }
   ],
   "source": [
    "pd.set_option('display.max_rows',10)\n",
    "\n",
    "x_original = df_origianl.iloc[:,:-1].values\n",
    "y_original = df_origianl.iloc[:,-1].values\n",
    "x_be = df_2feature_be.iloc[:, :-1].values\n",
    "y_be = df_2feature_be.iloc[:,-1].values\n",
    "\n",
    "X_train, X_test,y_train, y_test = train_test_split(x_original, y_original, test_size=0.2,random_state=1)\n",
    "clf_original = SVC(kernel='linear',C=1,gamma='auto')\n",
    "clf_original.fit(X_train, y_train)\n",
    "y_original_predict = clf_original.predict(X_test)\n",
    "result_orginal_train = clf_original.score(X_train, y_train)\n",
    "result_orginal_test = clf_original.score(X_test, y_test)\n",
    "print('Original Accuracy (on training) = '+str(result_orginal_train))\n",
    "print('Original Accuracy (on testing) = '+str(result_orginal_test))\n",
    "plt.scatter(x_original[y_original==0,0],x_original[y_original==0,1],color = 'r',marker = 'o')\n",
    "plt.scatter(x_original[y_original==1,0],x_original[y_original==1,1],color = 'b',marker = '*')\n",
    "plt.title('original')\n",
    "plt.xlabel('feature x1 ')\n",
    "plt.ylabel('feature x2 ')\n",
    "plt.show()\n",
    "\n",
    "X_train,X_test,y_train, y_test = train_test_split(x_be, y_be, test_size=0.2,random_state=1)\n",
    "clf_BE = SVC(kernel='linear',C=1,gamma='auto')\n",
    "clf_BE.fit(X_train, y_train)\n",
    "y_BE_predict = clf_BE.predict(X_test)\n",
    "result_BE_train = clf_BE.score(X_train, y_train)\n",
    "result_BE_test = clf_BE.score(X_test, y_test)\n",
    "print('BESVM Accuracy (on training) = with x1 bounded error (20%*0.025),x2 with error (20%*0.974) : '+str(result_BE_train))\n",
    "print('BESVM Accuracy (on testing) = with x1 bounded error (20%*0.025),x2 with error (20%*0.974) : '+str(result_BE_test))\n",
    "\n",
    "plt.scatter(x_be[y_be==0,0],x_be[y_be==0,1],color = 'r',marker = 'o')\n",
    "plt.scatter(x_be[y_be==1,0],x_be[y_be==1,1],color = 'b',marker = '*')\n",
    "plt.title('Error adding in feature x1 and x2')\n",
    "plt.xlabel('feature x1 : ')\n",
    "plt.ylabel('feature x2 : ')\n",
    "plt.show()\n"
   ]
  },
  {
   "cell_type": "markdown",
   "metadata": {},
   "source": [
    "Decision Tree importance"
   ]
  },
  {
   "cell_type": "code",
   "execution_count": 35,
   "metadata": {},
   "outputs": [],
   "source": [
    "from sklearn.datasets import make_classification  \n",
    "from sklearn.tree import DecisionTreeClassifier  \n",
    "from matplotlib import pyplot  "
   ]
  },
  {
   "cell_type": "code",
   "execution_count": 36,
   "metadata": {},
   "outputs": [
    {
     "data": {
      "text/plain": [
       "array([[ 0.86341137, -0.91235445],\n",
       "       [-0.53099717,  0.90118241],\n",
       "       [ 0.98277596, -1.59111159],\n",
       "       ...,\n",
       "       [ 1.33019532,  3.72180951],\n",
       "       [-1.01084076,  0.42633933],\n",
       "       [-1.00873243,  1.24540194]])"
      ]
     },
     "execution_count": 36,
     "metadata": {},
     "output_type": "execute_result"
    }
   ],
   "source": [
    "X"
   ]
  },
  {
   "cell_type": "code",
   "execution_count": 37,
   "metadata": {},
   "outputs": [
    {
     "name": "stdout",
     "output_type": "stream",
     "text": [
      "Feature: 0, Score: 0.75792\n",
      "Feature: 1, Score: 0.24208\n",
      "0.7579222766911797\n",
      "0.24207772330882035\n"
     ]
    },
    {
     "data": {
      "image/png": "[encoded data removed]",
      "text/plain": [
       "<Figure size 432x288 with 1 Axes>"
      ]
     },
     "metadata": {
      "needs_background": "light"
     },
     "output_type": "display_data"
    }
   ],
   "source": [
    "model = DecisionTreeClassifier()\n",
    "# fit the model\n",
    "model.fit(X, y)\n",
    "# get importance\n",
    "importance = model.feature_importances_\n",
    "acc = 0\n",
    "# summarize feature importance\n",
    "for i,v in enumerate(importance):\n",
    "    print('Feature: %0d, Score: %.5f' % (i,v))\n",
    "    acc += abs(v)\n",
    "for i,v in enumerate(importance):\n",
    "   print(abs(v)/acc)\n",
    "# plot feature importance\n",
    "plt.bar([x for x in range(len(importance))], importance)\n",
    "plt.show()"
   ]
  },
  {
   "cell_type": "code",
   "execution_count": 38,
   "metadata": {},
   "outputs": [
    {
     "name": "stderr",
     "output_type": "stream",
     "text": [
      "/Library/Frameworks/Python.framework/Versions/3.7/lib/python3.7/site-packages/ipykernel_launcher.py:8: SettingWithCopyWarning: \n",
      "A value is trying to be set on a copy of a slice from a DataFrame\n",
      "\n",
      "See the caveats in the documentation: https://pandas.pydata.org/pandas-docs/stable/user_guide/indexing.html#returning-a-view-versus-a-copy\n",
      "  \n",
      "/Library/Frameworks/Python.framework/Versions/3.7/lib/python3.7/site-packages/ipykernel_launcher.py:14: SettingWithCopyWarning: \n",
      "A value is trying to be set on a copy of a slice from a DataFrame\n",
      "\n",
      "See the caveats in the documentation: https://pandas.pydata.org/pandas-docs/stable/user_guide/indexing.html#returning-a-view-versus-a-copy\n",
      "  \n",
      "/Library/Frameworks/Python.framework/Versions/3.7/lib/python3.7/site-packages/ipykernel_launcher.py:20: SettingWithCopyWarning: \n",
      "A value is trying to be set on a copy of a slice from a DataFrame\n",
      "\n",
      "See the caveats in the documentation: https://pandas.pydata.org/pandas-docs/stable/user_guide/indexing.html#returning-a-view-versus-a-copy\n",
      "/Library/Frameworks/Python.framework/Versions/3.7/lib/python3.7/site-packages/ipykernel_launcher.py:26: SettingWithCopyWarning: \n",
      "A value is trying to be set on a copy of a slice from a DataFrame\n",
      "\n",
      "See the caveats in the documentation: https://pandas.pydata.org/pandas-docs/stable/user_guide/indexing.html#returning-a-view-versus-a-copy\n"
     ]
    },
    {
     "data": {
      "text/html": [
       "<div>\n",
       "<style scoped>\n",
       "    .dataframe tbody tr th:only-of-type {\n",
       "        vertical-align: middle;\n",
       "    }\n",
       "\n",
       "    .dataframe tbody tr th {\n",
       "        vertical-align: top;\n",
       "    }\n",
       "\n",
       "    .dataframe thead th {\n",
       "        text-align: right;\n",
       "    }\n",
       "</style>\n",
       "<table border=\"1\" class=\"dataframe\">\n",
       "  <thead>\n",
       "    <tr style=\"text-align: right;\">\n",
       "      <th></th>\n",
       "      <th>0</th>\n",
       "      <th>1</th>\n",
       "      <th>2</th>\n",
       "    </tr>\n",
       "  </thead>\n",
       "  <tbody>\n",
       "    <tr>\n",
       "      <th>0</th>\n",
       "      <td>0.863411</td>\n",
       "      <td>-0.912354</td>\n",
       "      <td>1.0</td>\n",
       "    </tr>\n",
       "    <tr>\n",
       "      <th>1</th>\n",
       "      <td>-0.530997</td>\n",
       "      <td>0.901182</td>\n",
       "      <td>0.0</td>\n",
       "    </tr>\n",
       "    <tr>\n",
       "      <th>2</th>\n",
       "      <td>0.982776</td>\n",
       "      <td>-1.591112</td>\n",
       "      <td>0.0</td>\n",
       "    </tr>\n",
       "    <tr>\n",
       "      <th>3</th>\n",
       "      <td>-1.032039</td>\n",
       "      <td>-0.801162</td>\n",
       "      <td>0.0</td>\n",
       "    </tr>\n",
       "    <tr>\n",
       "      <th>4</th>\n",
       "      <td>3.620555</td>\n",
       "      <td>-0.098876</td>\n",
       "      <td>1.0</td>\n",
       "    </tr>\n",
       "    <tr>\n",
       "      <th>...</th>\n",
       "      <td>...</td>\n",
       "      <td>...</td>\n",
       "      <td>...</td>\n",
       "    </tr>\n",
       "    <tr>\n",
       "      <th>4495</th>\n",
       "      <td>2.282176</td>\n",
       "      <td>0.272636</td>\n",
       "      <td>1.0</td>\n",
       "    </tr>\n",
       "    <tr>\n",
       "      <th>4496</th>\n",
       "      <td>1.425043</td>\n",
       "      <td>-0.237047</td>\n",
       "      <td>1.0</td>\n",
       "    </tr>\n",
       "    <tr>\n",
       "      <th>4497</th>\n",
       "      <td>1.330195</td>\n",
       "      <td>3.721263</td>\n",
       "      <td>1.0</td>\n",
       "    </tr>\n",
       "    <tr>\n",
       "      <th>4498</th>\n",
       "      <td>-1.010841</td>\n",
       "      <td>0.425792</td>\n",
       "      <td>0.0</td>\n",
       "    </tr>\n",
       "    <tr>\n",
       "      <th>4499</th>\n",
       "      <td>-1.008732</td>\n",
       "      <td>1.244855</td>\n",
       "      <td>0.0</td>\n",
       "    </tr>\n",
       "  </tbody>\n",
       "</table>\n",
       "<p>4500 rows × 3 columns</p>\n",
       "</div>"
      ],
      "text/plain": [
       "             0         1    2\n",
       "0     0.863411 -0.912354  1.0\n",
       "1    -0.530997  0.901182  0.0\n",
       "2     0.982776 -1.591112  0.0\n",
       "3    -1.032039 -0.801162  0.0\n",
       "4     3.620555 -0.098876  1.0\n",
       "...        ...       ...  ...\n",
       "4495  2.282176  0.272636  1.0\n",
       "4496  1.425043 -0.237047  1.0\n",
       "4497  1.330195  3.721263  1.0\n",
       "4498 -1.010841  0.425792  0.0\n",
       "4499 -1.008732  1.244855  0.0\n",
       "\n",
       "[4500 rows x 3 columns]"
      ]
     },
     "execution_count": 38,
     "metadata": {},
     "output_type": "execute_result"
    }
   ],
   "source": [
    "pd.set_option('display.max_rows',10)\n",
    "temp = df_origianl.copy()\n",
    "df_2feature_be = pd.DataFrame.to_numpy(df_origianl)\n",
    "e1 = temp['x1'].mean()*0.3*0.75\n",
    "e2 = temp['x2'].mean()*0.3*0.249\n",
    "\n",
    "for idx,cell in temp['x1'].iteritems():\n",
    "    temp['x1'][idx] += e1\n",
    "temp = temp.to_numpy()\n",
    "df_2feature_be = np.vstack((df_2feature_be,temp))\n",
    "temp = df_origianl.copy()\n",
    "\n",
    "for idx,cell in temp['x1'].iteritems():\n",
    "    temp['x1'][idx] = temp['x1'][idx] - e1\n",
    "temp = temp.to_numpy()\n",
    "df_2feature_be = np.vstack((df_2feature_be,temp))\n",
    "temp = df_origianl.copy()\n",
    "\n",
    "for idx,cell in temp['x2'].iteritems():\n",
    "    temp['x2'][idx] += e2\n",
    "temp = temp.to_numpy()\n",
    "df_2feature_be = np.vstack((df_2feature_be,temp))\n",
    "temp = df_origianl.copy()\n",
    "\n",
    "for idx,cell in temp['x2'].iteritems():\n",
    "    temp['x2'][idx] = temp['x2'][idx] - e2\n",
    "temp = temp.to_numpy()\n",
    "df_2feature_be = np.vstack((df_2feature_be,temp))\n",
    "temp = df_origianl.copy()\n",
    "\n",
    "df_2feature_be = pd.DataFrame(df_2feature_be)\n",
    "df_2feature_be\n"
   ]
  },
  {
   "cell_type": "code",
   "execution_count": 39,
   "metadata": {},
   "outputs": [
    {
     "name": "stdout",
     "output_type": "stream",
     "text": [
      "Original Accuracy (on training) = 0.85\n",
      "Original Accuracy (on testing) = 0.8388888888888889\n"
     ]
    },
    {
     "data": {
      "image/png": "[encoded data removed]",
      "text/plain": [
       "<Figure size 432x288 with 1 Axes>"
      ]
     },
     "metadata": {
      "needs_background": "light"
     },
     "output_type": "display_data"
    },
    {
     "name": "stdout",
     "output_type": "stream",
     "text": [
      "BESVM Accuracy (on training) = with x1 bounded error (by decision tree 30%*0.75),x2 with error (by decision tree 30%*0.249) : 0.8502777777777778\n",
      "BESVM Accuracy (on testing) = with x1 bounded error (by decision tree 30%*0.75),x2 with error (by decision tree 30%*0.249) : 0.8533333333333334\n"
     ]
    },
    {
     "data": {
      "image/png": "[encoded data removed]",
      "text/plain": [
       "<Figure size 432x288 with 1 Axes>"
      ]
     },
     "metadata": {
      "needs_background": "light"
     },
     "output_type": "display_data"
    }
   ],
   "source": [
    "pd.set_option('display.max_rows',10)\n",
    "\n",
    "x_original = df_origianl.iloc[:,:-1].values\n",
    "y_original = df_origianl.iloc[:,-1].values\n",
    "x_be = df_2feature_be.iloc[:, :-1].values\n",
    "y_be = df_2feature_be.iloc[:,-1].values\n",
    "\n",
    "X_train, X_test,y_train, y_test = train_test_split(x_original, y_original, test_size=0.2,random_state=1)\n",
    "clf_original = SVC(kernel='linear',C=1,gamma='auto')\n",
    "clf_original.fit(X_train, y_train)\n",
    "y_original_predict = clf_original.predict(X_test)\n",
    "result_orginal_train = clf_original.score(X_train, y_train)\n",
    "result_orginal_test = clf_original.score(X_test, y_test)\n",
    "print('Original Accuracy (on training) = '+str(result_orginal_train))\n",
    "print('Original Accuracy (on testing) = '+str(result_orginal_test))\n",
    "plt.scatter(x_original[y_original==0,0],x_original[y_original==0,1],color = 'r',marker = 'o')\n",
    "plt.scatter(x_original[y_original==1,0],x_original[y_original==1,1],color = 'b',marker = '*')\n",
    "plt.title('original')\n",
    "plt.xlabel('feature x1 ')\n",
    "plt.ylabel('feature x2 ')\n",
    "plt.show()\n",
    "\n",
    "X_train,X_test,y_train, y_test = train_test_split(x_be, y_be, test_size=0.2,random_state=1)\n",
    "clf_BE = SVC(kernel='linear',C=1,gamma='auto')\n",
    "clf_BE.fit(X_train, y_train)\n",
    "y_BE_predict = clf_BE.predict(X_test)\n",
    "result_BE_train = clf_BE.score(X_train, y_train)\n",
    "result_BE_test = clf_BE.score(X_test, y_test)\n",
    "print('BESVM Accuracy (on training) = with x1 bounded error (by decision tree 30%*0.75),x2 with error (by decision tree 30%*0.249) : '+str(result_BE_train))\n",
    "print('BESVM Accuracy (on testing) = with x1 bounded error (by decision tree 30%*0.75),x2 with error (by decision tree 30%*0.249) : '+str(result_BE_test))\n",
    "\n",
    "plt.scatter(x_be[y_be==0,0],x_be[y_be==0,1],color = 'r',marker = 'o')\n",
    "plt.scatter(x_be[y_be==1,0],x_be[y_be==1,1],color = 'b',marker = '*')\n",
    "plt.title('Error adding in feature x1 and x2')\n",
    "plt.xlabel('feature x1 : ')\n",
    "plt.ylabel('feature x2 : ')\n",
    "plt.show()\n"
   ]
  },
  {
   "cell_type": "code",
   "execution_count": 40,
   "metadata": {},
   "outputs": [
    {
     "name": "stderr",
     "output_type": "stream",
     "text": [
      "/Library/Frameworks/Python.framework/Versions/3.7/lib/python3.7/site-packages/ipykernel_launcher.py:8: SettingWithCopyWarning: \n",
      "A value is trying to be set on a copy of a slice from a DataFrame\n",
      "\n",
      "See the caveats in the documentation: https://pandas.pydata.org/pandas-docs/stable/user_guide/indexing.html#returning-a-view-versus-a-copy\n",
      "  \n",
      "/Library/Frameworks/Python.framework/Versions/3.7/lib/python3.7/site-packages/ipykernel_launcher.py:14: SettingWithCopyWarning: \n",
      "A value is trying to be set on a copy of a slice from a DataFrame\n",
      "\n",
      "See the caveats in the documentation: https://pandas.pydata.org/pandas-docs/stable/user_guide/indexing.html#returning-a-view-versus-a-copy\n",
      "  \n",
      "/Library/Frameworks/Python.framework/Versions/3.7/lib/python3.7/site-packages/ipykernel_launcher.py:20: SettingWithCopyWarning: \n",
      "A value is trying to be set on a copy of a slice from a DataFrame\n",
      "\n",
      "See the caveats in the documentation: https://pandas.pydata.org/pandas-docs/stable/user_guide/indexing.html#returning-a-view-versus-a-copy\n",
      "/Library/Frameworks/Python.framework/Versions/3.7/lib/python3.7/site-packages/ipykernel_launcher.py:26: SettingWithCopyWarning: \n",
      "A value is trying to be set on a copy of a slice from a DataFrame\n",
      "\n",
      "See the caveats in the documentation: https://pandas.pydata.org/pandas-docs/stable/user_guide/indexing.html#returning-a-view-versus-a-copy\n"
     ]
    },
    {
     "data": {
      "text/html": [
       "<div>\n",
       "<style scoped>\n",
       "    .dataframe tbody tr th:only-of-type {\n",
       "        vertical-align: middle;\n",
       "    }\n",
       "\n",
       "    .dataframe tbody tr th {\n",
       "        vertical-align: top;\n",
       "    }\n",
       "\n",
       "    .dataframe thead th {\n",
       "        text-align: right;\n",
       "    }\n",
       "</style>\n",
       "<table border=\"1\" class=\"dataframe\">\n",
       "  <thead>\n",
       "    <tr style=\"text-align: right;\">\n",
       "      <th></th>\n",
       "      <th>0</th>\n",
       "      <th>1</th>\n",
       "      <th>2</th>\n",
       "    </tr>\n",
       "  </thead>\n",
       "  <tbody>\n",
       "    <tr>\n",
       "      <th>0</th>\n",
       "      <td>0.863411</td>\n",
       "      <td>-0.912354</td>\n",
       "      <td>1.0</td>\n",
       "    </tr>\n",
       "    <tr>\n",
       "      <th>1</th>\n",
       "      <td>-0.530997</td>\n",
       "      <td>0.901182</td>\n",
       "      <td>0.0</td>\n",
       "    </tr>\n",
       "    <tr>\n",
       "      <th>2</th>\n",
       "      <td>0.982776</td>\n",
       "      <td>-1.591112</td>\n",
       "      <td>0.0</td>\n",
       "    </tr>\n",
       "    <tr>\n",
       "      <th>3</th>\n",
       "      <td>-1.032039</td>\n",
       "      <td>-0.801162</td>\n",
       "      <td>0.0</td>\n",
       "    </tr>\n",
       "    <tr>\n",
       "      <th>4</th>\n",
       "      <td>3.620555</td>\n",
       "      <td>-0.098876</td>\n",
       "      <td>1.0</td>\n",
       "    </tr>\n",
       "    <tr>\n",
       "      <th>...</th>\n",
       "      <td>...</td>\n",
       "      <td>...</td>\n",
       "      <td>...</td>\n",
       "    </tr>\n",
       "    <tr>\n",
       "      <th>4495</th>\n",
       "      <td>2.282176</td>\n",
       "      <td>0.271536</td>\n",
       "      <td>1.0</td>\n",
       "    </tr>\n",
       "    <tr>\n",
       "      <th>4496</th>\n",
       "      <td>1.425043</td>\n",
       "      <td>-0.238148</td>\n",
       "      <td>1.0</td>\n",
       "    </tr>\n",
       "    <tr>\n",
       "      <th>4497</th>\n",
       "      <td>1.330195</td>\n",
       "      <td>3.720162</td>\n",
       "      <td>1.0</td>\n",
       "    </tr>\n",
       "    <tr>\n",
       "      <th>4498</th>\n",
       "      <td>-1.010841</td>\n",
       "      <td>0.424692</td>\n",
       "      <td>0.0</td>\n",
       "    </tr>\n",
       "    <tr>\n",
       "      <th>4499</th>\n",
       "      <td>-1.008732</td>\n",
       "      <td>1.243754</td>\n",
       "      <td>0.0</td>\n",
       "    </tr>\n",
       "  </tbody>\n",
       "</table>\n",
       "<p>4500 rows × 3 columns</p>\n",
       "</div>"
      ],
      "text/plain": [
       "             0         1    2\n",
       "0     0.863411 -0.912354  1.0\n",
       "1    -0.530997  0.901182  0.0\n",
       "2     0.982776 -1.591112  0.0\n",
       "3    -1.032039 -0.801162  0.0\n",
       "4     3.620555 -0.098876  1.0\n",
       "...        ...       ...  ...\n",
       "4495  2.282176  0.271536  1.0\n",
       "4496  1.425043 -0.238148  1.0\n",
       "4497  1.330195  3.720162  1.0\n",
       "4498 -1.010841  0.424692  0.0\n",
       "4499 -1.008732  1.243754  0.0\n",
       "\n",
       "[4500 rows x 3 columns]"
      ]
     },
     "execution_count": 40,
     "metadata": {},
     "output_type": "execute_result"
    }
   ],
   "source": [
    "pd.set_option('display.max_rows',10)\n",
    "temp = df_origianl.copy()\n",
    "df_2feature_be = pd.DataFrame.to_numpy(df_origianl)\n",
    "e1 = temp['x1'].mean()*0.3*0.249\n",
    "e2 = temp['x2'].mean()*0.3*0.75\n",
    "\n",
    "for idx,cell in temp['x1'].iteritems():\n",
    "    temp['x1'][idx] += e1\n",
    "temp = temp.to_numpy()\n",
    "df_2feature_be = np.vstack((df_2feature_be,temp))\n",
    "temp = df_origianl.copy()\n",
    "\n",
    "for idx,cell in temp['x1'].iteritems():\n",
    "    temp['x1'][idx] = temp['x1'][idx] - e1\n",
    "temp = temp.to_numpy()\n",
    "df_2feature_be = np.vstack((df_2feature_be,temp))\n",
    "temp = df_origianl.copy()\n",
    "\n",
    "for idx,cell in temp['x2'].iteritems():\n",
    "    temp['x2'][idx] += e2\n",
    "temp = temp.to_numpy()\n",
    "df_2feature_be = np.vstack((df_2feature_be,temp))\n",
    "temp = df_origianl.copy()\n",
    "\n",
    "for idx,cell in temp['x2'].iteritems():\n",
    "    temp['x2'][idx] = temp['x2'][idx] - e2\n",
    "temp = temp.to_numpy()\n",
    "df_2feature_be = np.vstack((df_2feature_be,temp))\n",
    "temp = df_origianl.copy()\n",
    "\n",
    "df_2feature_be = pd.DataFrame(df_2feature_be)\n",
    "df_2feature_be\n"
   ]
  },
  {
   "cell_type": "code",
   "execution_count": 41,
   "metadata": {},
   "outputs": [
    {
     "name": "stdout",
     "output_type": "stream",
     "text": [
      "Original Accuracy (on training) = 0.85\n",
      "Original Accuracy (on testing) = 0.8388888888888889\n"
     ]
    },
    {
     "data": {
      "image/png": "[encoded data removed]",
      "text/plain": [
       "<Figure size 432x288 with 1 Axes>"
      ]
     },
     "metadata": {
      "needs_background": "light"
     },
     "output_type": "display_data"
    },
    {
     "name": "stdout",
     "output_type": "stream",
     "text": [
      "BESVM Accuracy (on training) = with x1 bounded error (30%*0.249),x2 with error (30%*0.75) : 0.8491666666666666\n",
      "BESVM Accuracy (on testing) = with x1 bounded error (by decision tree 30%*0.249),x2 with error (by decision tree 30%*0.75) : 0.8533333333333334\n"
     ]
    },
    {
     "data": {
      "image/png": "[encoded data removed]",
      "text/plain": [
       "<Figure size 432x288 with 1 Axes>"
      ]
     },
     "metadata": {
      "needs_background": "light"
     },
     "output_type": "display_data"
    }
   ],
   "source": [
    "pd.set_option('display.max_rows',10)\n",
    "\n",
    "x_original = df_origianl.iloc[:,:-1].values\n",
    "y_original = df_origianl.iloc[:,-1].values\n",
    "x_be = df_2feature_be.iloc[:, :-1].values\n",
    "y_be = df_2feature_be.iloc[:,-1].values\n",
    "\n",
    "X_train, X_test,y_train, y_test = train_test_split(x_original, y_original, test_size=0.2,random_state=1)\n",
    "clf_original = SVC(kernel='linear',C=1,gamma='auto')\n",
    "clf_original.fit(X_train, y_train)\n",
    "y_original_predict = clf_original.predict(X_test)\n",
    "result_orginal_train = clf_original.score(X_train, y_train)\n",
    "result_orginal_test = clf_original.score(X_test, y_test)\n",
    "print('Original Accuracy (on training) = '+str(result_orginal_train))\n",
    "print('Original Accuracy (on testing) = '+str(result_orginal_test))\n",
    "plt.scatter(x_original[y_original==0,0],x_original[y_original==0,1],color = 'r',marker = 'o')\n",
    "plt.scatter(x_original[y_original==1,0],x_original[y_original==1,1],color = 'b',marker = '*')\n",
    "plt.title('original')\n",
    "plt.xlabel('feature x1 ')\n",
    "plt.ylabel('feature x2 ')\n",
    "plt.show()\n",
    "\n",
    "X_train,X_test,y_train, y_test = train_test_split(x_be, y_be, test_size=0.2,random_state=1)\n",
    "clf_BE = SVC(kernel='linear',C=1,gamma='auto')\n",
    "clf_BE.fit(X_train, y_train)\n",
    "y_BE_predict = clf_BE.predict(X_test)\n",
    "result_BE_train = clf_BE.score(X_train, y_train)\n",
    "result_BE_test = clf_BE.score(X_test, y_test)\n",
    "print('BESVM Accuracy (on training) = with x1 bounded error (30%*0.249),x2 with error (30%*0.75) : '+str(result_BE_train))\n",
    "print('BESVM Accuracy (on testing) = with x1 bounded error (by decision tree 30%*0.249),x2 with error (by decision tree 30%*0.75) : '+str(result_BE_test))\n",
    "\n",
    "plt.scatter(x_be[y_be==0,0],x_be[y_be==0,1],color = 'r',marker = 'o')\n",
    "plt.scatter(x_be[y_be==1,0],x_be[y_be==1,1],color = 'b',marker = '*')\n",
    "plt.title('Error adding in feature x1 and x2')\n",
    "plt.xlabel('feature x1 : ')\n",
    "plt.ylabel('feature x2 : ')\n",
    "plt.show()\n"
   ]
  },
  {
   "cell_type": "markdown",
   "metadata": {},
   "source": [
    "permutation importance"
   ]
  },
  {
   "cell_type": "code",
   "execution_count": 42,
   "metadata": {},
   "outputs": [
    {
     "name": "stdout",
     "output_type": "stream",
     "text": [
      "Feature: 0, Score: 0.38580\n",
      "Feature: 1, Score: 0.06560\n",
      "0.8546743464776251\n",
      "0.1453256535223749\n"
     ]
    },
    {
     "data": {
      "image/png": "[encoded data removed]",
      "text/plain": [
       "<Figure size 432x288 with 1 Axes>"
      ]
     },
     "metadata": {
      "needs_background": "light"
     },
     "output_type": "display_data"
    }
   ],
   "source": [
    "# permutation feature importance with knn for classification \n",
    "from sklearn.neighbors import KNeighborsClassifier  \n",
    "from sklearn.inspection import permutation_importance  \n",
    "# define dataset \n",
    "#X, y = make_classification(n_samples=1000, n_features=10, n_informative=5, n_redundant=5, random_state=1)  \n",
    "# define the model \n",
    "model = KNeighborsClassifier()  \n",
    "# fit the model \n",
    "model.fit(X, y)  \n",
    "# perform permutation importance \n",
    "results = permutation_importance(model, X, y, scoring='accuracy')  \n",
    "# get importance \n",
    "importance = results.importances_mean  \n",
    "# summarize feature importance \n",
    "\n",
    "acc = 0\n",
    "# summarize feature importance\n",
    "for i,v in enumerate(importance):\n",
    "    print('Feature: %0d, Score: %.5f' % (i,v))\n",
    "    acc += abs(v)\n",
    "for i,v in enumerate(importance):\n",
    "   print(abs(v)/acc)\n",
    "# plot feature importance\n",
    "plt.bar([x for x in range(len(importance))], importance)\n",
    "plt.show()"
   ]
  },
  {
   "cell_type": "code",
   "execution_count": 43,
   "metadata": {},
   "outputs": [
    {
     "name": "stderr",
     "output_type": "stream",
     "text": [
      "/Library/Frameworks/Python.framework/Versions/3.7/lib/python3.7/site-packages/ipykernel_launcher.py:8: SettingWithCopyWarning: \n",
      "A value is trying to be set on a copy of a slice from a DataFrame\n",
      "\n",
      "See the caveats in the documentation: https://pandas.pydata.org/pandas-docs/stable/user_guide/indexing.html#returning-a-view-versus-a-copy\n",
      "  \n",
      "/Library/Frameworks/Python.framework/Versions/3.7/lib/python3.7/site-packages/ipykernel_launcher.py:14: SettingWithCopyWarning: \n",
      "A value is trying to be set on a copy of a slice from a DataFrame\n",
      "\n",
      "See the caveats in the documentation: https://pandas.pydata.org/pandas-docs/stable/user_guide/indexing.html#returning-a-view-versus-a-copy\n",
      "  \n",
      "/Library/Frameworks/Python.framework/Versions/3.7/lib/python3.7/site-packages/ipykernel_launcher.py:20: SettingWithCopyWarning: \n",
      "A value is trying to be set on a copy of a slice from a DataFrame\n",
      "\n",
      "See the caveats in the documentation: https://pandas.pydata.org/pandas-docs/stable/user_guide/indexing.html#returning-a-view-versus-a-copy\n",
      "/Library/Frameworks/Python.framework/Versions/3.7/lib/python3.7/site-packages/ipykernel_launcher.py:26: SettingWithCopyWarning: \n",
      "A value is trying to be set on a copy of a slice from a DataFrame\n",
      "\n",
      "See the caveats in the documentation: https://pandas.pydata.org/pandas-docs/stable/user_guide/indexing.html#returning-a-view-versus-a-copy\n"
     ]
    },
    {
     "data": {
      "text/html": [
       "<div>\n",
       "<style scoped>\n",
       "    .dataframe tbody tr th:only-of-type {\n",
       "        vertical-align: middle;\n",
       "    }\n",
       "\n",
       "    .dataframe tbody tr th {\n",
       "        vertical-align: top;\n",
       "    }\n",
       "\n",
       "    .dataframe thead th {\n",
       "        text-align: right;\n",
       "    }\n",
       "</style>\n",
       "<table border=\"1\" class=\"dataframe\">\n",
       "  <thead>\n",
       "    <tr style=\"text-align: right;\">\n",
       "      <th></th>\n",
       "      <th>0</th>\n",
       "      <th>1</th>\n",
       "      <th>2</th>\n",
       "    </tr>\n",
       "  </thead>\n",
       "  <tbody>\n",
       "    <tr>\n",
       "      <th>0</th>\n",
       "      <td>0.863411</td>\n",
       "      <td>-0.912354</td>\n",
       "      <td>1.0</td>\n",
       "    </tr>\n",
       "    <tr>\n",
       "      <th>1</th>\n",
       "      <td>-0.530997</td>\n",
       "      <td>0.901182</td>\n",
       "      <td>0.0</td>\n",
       "    </tr>\n",
       "    <tr>\n",
       "      <th>2</th>\n",
       "      <td>0.982776</td>\n",
       "      <td>-1.591112</td>\n",
       "      <td>0.0</td>\n",
       "    </tr>\n",
       "    <tr>\n",
       "      <th>3</th>\n",
       "      <td>-1.032039</td>\n",
       "      <td>-0.801162</td>\n",
       "      <td>0.0</td>\n",
       "    </tr>\n",
       "    <tr>\n",
       "      <th>4</th>\n",
       "      <td>3.620555</td>\n",
       "      <td>-0.098876</td>\n",
       "      <td>1.0</td>\n",
       "    </tr>\n",
       "    <tr>\n",
       "      <th>...</th>\n",
       "      <td>...</td>\n",
       "      <td>...</td>\n",
       "      <td>...</td>\n",
       "    </tr>\n",
       "    <tr>\n",
       "      <th>4495</th>\n",
       "      <td>2.282176</td>\n",
       "      <td>0.272823</td>\n",
       "      <td>1.0</td>\n",
       "    </tr>\n",
       "    <tr>\n",
       "      <th>4496</th>\n",
       "      <td>1.425043</td>\n",
       "      <td>-0.236860</td>\n",
       "      <td>1.0</td>\n",
       "    </tr>\n",
       "    <tr>\n",
       "      <th>4497</th>\n",
       "      <td>1.330195</td>\n",
       "      <td>3.721449</td>\n",
       "      <td>1.0</td>\n",
       "    </tr>\n",
       "    <tr>\n",
       "      <th>4498</th>\n",
       "      <td>-1.010841</td>\n",
       "      <td>0.425979</td>\n",
       "      <td>0.0</td>\n",
       "    </tr>\n",
       "    <tr>\n",
       "      <th>4499</th>\n",
       "      <td>-1.008732</td>\n",
       "      <td>1.245042</td>\n",
       "      <td>0.0</td>\n",
       "    </tr>\n",
       "  </tbody>\n",
       "</table>\n",
       "<p>4500 rows × 3 columns</p>\n",
       "</div>"
      ],
      "text/plain": [
       "             0         1    2\n",
       "0     0.863411 -0.912354  1.0\n",
       "1    -0.530997  0.901182  0.0\n",
       "2     0.982776 -1.591112  0.0\n",
       "3    -1.032039 -0.801162  0.0\n",
       "4     3.620555 -0.098876  1.0\n",
       "...        ...       ...  ...\n",
       "4495  2.282176  0.272823  1.0\n",
       "4496  1.425043 -0.236860  1.0\n",
       "4497  1.330195  3.721449  1.0\n",
       "4498 -1.010841  0.425979  0.0\n",
       "4499 -1.008732  1.245042  0.0\n",
       "\n",
       "[4500 rows x 3 columns]"
      ]
     },
     "execution_count": 43,
     "metadata": {},
     "output_type": "execute_result"
    }
   ],
   "source": [
    "pd.set_option('display.max_rows',10)\n",
    "temp = df_origianl.copy()\n",
    "df_2feature_be = pd.DataFrame.to_numpy(df_origianl)\n",
    "e1 = temp['x1'].mean()*0.3*0.835\n",
    "e2 = temp['x2'].mean()*0.3*0.164\n",
    "\n",
    "for idx,cell in temp['x1'].iteritems():\n",
    "    temp['x1'][idx] += e1\n",
    "temp = temp.to_numpy()\n",
    "df_2feature_be = np.vstack((df_2feature_be,temp))\n",
    "temp = df_origianl.copy()\n",
    "\n",
    "for idx,cell in temp['x1'].iteritems():\n",
    "    temp['x1'][idx] = temp['x1'][idx] - e1\n",
    "temp = temp.to_numpy()\n",
    "df_2feature_be = np.vstack((df_2feature_be,temp))\n",
    "temp = df_origianl.copy()\n",
    "\n",
    "for idx,cell in temp['x2'].iteritems():\n",
    "    temp['x2'][idx] += e2\n",
    "temp = temp.to_numpy()\n",
    "df_2feature_be = np.vstack((df_2feature_be,temp))\n",
    "temp = df_origianl.copy()\n",
    "\n",
    "for idx,cell in temp['x2'].iteritems():\n",
    "    temp['x2'][idx] = temp['x2'][idx] - e2\n",
    "temp = temp.to_numpy()\n",
    "df_2feature_be = np.vstack((df_2feature_be,temp))\n",
    "temp = df_origianl.copy()\n",
    "\n",
    "df_2feature_be = pd.DataFrame(df_2feature_be)\n",
    "df_2feature_be\n"
   ]
  },
  {
   "cell_type": "code",
   "execution_count": 44,
   "metadata": {},
   "outputs": [
    {
     "name": "stdout",
     "output_type": "stream",
     "text": [
      "Original Accuracy (on training) = 0.85\n",
      "Original Accuracy (on testing) = 0.8388888888888889\n"
     ]
    },
    {
     "data": {
      "image/png": "[encoded data removed]",
      "text/plain": [
       "<Figure size 432x288 with 1 Axes>"
      ]
     },
     "metadata": {
      "needs_background": "light"
     },
     "output_type": "display_data"
    },
    {
     "name": "stdout",
     "output_type": "stream",
     "text": [
      "BESVM Accuracy (on training) = with x1 bounded error (by permutation 30%*0.835),x2 with error (by permutation 30%*0.164) : 0.8494444444444444\n",
      "BESVM Accuracy (on testing) = with x1 bounded error (by permutation 30%*0.835),x2 with error (by permutation 30%*0.164) : 0.8533333333333334\n"
     ]
    },
    {
     "data": {
      "image/png": "[encoded data removed]",
      "text/plain": [
       "<Figure size 432x288 with 1 Axes>"
      ]
     },
     "metadata": {
      "needs_background": "light"
     },
     "output_type": "display_data"
    }
   ],
   "source": [
    "pd.set_option('display.max_rows',10)\n",
    "\n",
    "x_original = df_origianl.iloc[:,:-1].values\n",
    "y_original = df_origianl.iloc[:,-1].values\n",
    "x_be = df_2feature_be.iloc[:, :-1].values\n",
    "y_be = df_2feature_be.iloc[:,-1].values\n",
    "\n",
    "X_train, X_test,y_train, y_test = train_test_split(x_original, y_original, test_size=0.2,random_state=1)\n",
    "clf_original = SVC(kernel='linear',C=1,gamma='auto')\n",
    "clf_original.fit(X_train, y_train)\n",
    "y_original_predict = clf_original.predict(X_test)\n",
    "result_orginal_train = clf_original.score(X_train, y_train)\n",
    "result_orginal_test = clf_original.score(X_test, y_test)\n",
    "print('Original Accuracy (on training) = '+str(result_orginal_train))\n",
    "print('Original Accuracy (on testing) = '+str(result_orginal_test))\n",
    "plt.scatter(x_original[y_original==0,0],x_original[y_original==0,1],color = 'r',marker = 'o')\n",
    "plt.scatter(x_original[y_original==1,0],x_original[y_original==1,1],color = 'b',marker = '*')\n",
    "plt.title('original')\n",
    "plt.xlabel('feature x1 ')\n",
    "plt.ylabel('feature x2 ')\n",
    "plt.show()\n",
    "\n",
    "X_train,X_test,y_train, y_test = train_test_split(x_be, y_be, test_size=0.2,random_state=1)\n",
    "clf_BE = SVC(kernel='linear',C=1,gamma='auto')\n",
    "clf_BE.fit(X_train, y_train)\n",
    "y_BE_predict = clf_BE.predict(X_test)\n",
    "result_BE_train = clf_BE.score(X_train, y_train)\n",
    "result_BE_test = clf_BE.score(X_test, y_test)\n",
    "print('BESVM Accuracy (on training) = with x1 bounded error (by permutation 30%*0.835),x2 with error (by permutation 30%*0.164) : '+str(result_BE_train))\n",
    "print('BESVM Accuracy (on testing) = with x1 bounded error (by permutation 30%*0.835),x2 with error (by permutation 30%*0.164) : '+str(result_BE_test))\n",
    "\n",
    "plt.scatter(x_be[y_be==0,0],x_be[y_be==0,1],color = 'r',marker = 'o')\n",
    "plt.scatter(x_be[y_be==1,0],x_be[y_be==1,1],color = 'b',marker = '*')\n",
    "plt.title('Error adding in feature x1 and x2')\n",
    "plt.xlabel('feature x1 : ')\n",
    "plt.ylabel('feature x2 : ')\n",
    "plt.show()\n"
   ]
  },
  {
   "cell_type": "code",
   "execution_count": 45,
   "metadata": {},
   "outputs": [
    {
     "name": "stderr",
     "output_type": "stream",
     "text": [
      "/Library/Frameworks/Python.framework/Versions/3.7/lib/python3.7/site-packages/ipykernel_launcher.py:8: SettingWithCopyWarning: \n",
      "A value is trying to be set on a copy of a slice from a DataFrame\n",
      "\n",
      "See the caveats in the documentation: https://pandas.pydata.org/pandas-docs/stable/user_guide/indexing.html#returning-a-view-versus-a-copy\n",
      "  \n",
      "/Library/Frameworks/Python.framework/Versions/3.7/lib/python3.7/site-packages/ipykernel_launcher.py:14: SettingWithCopyWarning: \n",
      "A value is trying to be set on a copy of a slice from a DataFrame\n",
      "\n",
      "See the caveats in the documentation: https://pandas.pydata.org/pandas-docs/stable/user_guide/indexing.html#returning-a-view-versus-a-copy\n",
      "  \n",
      "/Library/Frameworks/Python.framework/Versions/3.7/lib/python3.7/site-packages/ipykernel_launcher.py:20: SettingWithCopyWarning: \n",
      "A value is trying to be set on a copy of a slice from a DataFrame\n",
      "\n",
      "See the caveats in the documentation: https://pandas.pydata.org/pandas-docs/stable/user_guide/indexing.html#returning-a-view-versus-a-copy\n",
      "/Library/Frameworks/Python.framework/Versions/3.7/lib/python3.7/site-packages/ipykernel_launcher.py:26: SettingWithCopyWarning: \n",
      "A value is trying to be set on a copy of a slice from a DataFrame\n",
      "\n",
      "See the caveats in the documentation: https://pandas.pydata.org/pandas-docs/stable/user_guide/indexing.html#returning-a-view-versus-a-copy\n"
     ]
    },
    {
     "data": {
      "text/html": [
       "<div>\n",
       "<style scoped>\n",
       "    .dataframe tbody tr th:only-of-type {\n",
       "        vertical-align: middle;\n",
       "    }\n",
       "\n",
       "    .dataframe tbody tr th {\n",
       "        vertical-align: top;\n",
       "    }\n",
       "\n",
       "    .dataframe thead th {\n",
       "        text-align: right;\n",
       "    }\n",
       "</style>\n",
       "<table border=\"1\" class=\"dataframe\">\n",
       "  <thead>\n",
       "    <tr style=\"text-align: right;\">\n",
       "      <th></th>\n",
       "      <th>0</th>\n",
       "      <th>1</th>\n",
       "      <th>2</th>\n",
       "    </tr>\n",
       "  </thead>\n",
       "  <tbody>\n",
       "    <tr>\n",
       "      <th>0</th>\n",
       "      <td>0.863411</td>\n",
       "      <td>-0.912354</td>\n",
       "      <td>1.0</td>\n",
       "    </tr>\n",
       "    <tr>\n",
       "      <th>1</th>\n",
       "      <td>-0.530997</td>\n",
       "      <td>0.901182</td>\n",
       "      <td>0.0</td>\n",
       "    </tr>\n",
       "    <tr>\n",
       "      <th>2</th>\n",
       "      <td>0.982776</td>\n",
       "      <td>-1.591112</td>\n",
       "      <td>0.0</td>\n",
       "    </tr>\n",
       "    <tr>\n",
       "      <th>3</th>\n",
       "      <td>-1.032039</td>\n",
       "      <td>-0.801162</td>\n",
       "      <td>0.0</td>\n",
       "    </tr>\n",
       "    <tr>\n",
       "      <th>4</th>\n",
       "      <td>3.620555</td>\n",
       "      <td>-0.098876</td>\n",
       "      <td>1.0</td>\n",
       "    </tr>\n",
       "    <tr>\n",
       "      <th>...</th>\n",
       "      <td>...</td>\n",
       "      <td>...</td>\n",
       "      <td>...</td>\n",
       "    </tr>\n",
       "    <tr>\n",
       "      <th>4495</th>\n",
       "      <td>2.282176</td>\n",
       "      <td>0.271349</td>\n",
       "      <td>1.0</td>\n",
       "    </tr>\n",
       "    <tr>\n",
       "      <th>4496</th>\n",
       "      <td>1.425043</td>\n",
       "      <td>-0.238334</td>\n",
       "      <td>1.0</td>\n",
       "    </tr>\n",
       "    <tr>\n",
       "      <th>4497</th>\n",
       "      <td>1.330195</td>\n",
       "      <td>3.719975</td>\n",
       "      <td>1.0</td>\n",
       "    </tr>\n",
       "    <tr>\n",
       "      <th>4498</th>\n",
       "      <td>-1.010841</td>\n",
       "      <td>0.424505</td>\n",
       "      <td>0.0</td>\n",
       "    </tr>\n",
       "    <tr>\n",
       "      <th>4499</th>\n",
       "      <td>-1.008732</td>\n",
       "      <td>1.243568</td>\n",
       "      <td>0.0</td>\n",
       "    </tr>\n",
       "  </tbody>\n",
       "</table>\n",
       "<p>4500 rows × 3 columns</p>\n",
       "</div>"
      ],
      "text/plain": [
       "             0         1    2\n",
       "0     0.863411 -0.912354  1.0\n",
       "1    -0.530997  0.901182  0.0\n",
       "2     0.982776 -1.591112  0.0\n",
       "3    -1.032039 -0.801162  0.0\n",
       "4     3.620555 -0.098876  1.0\n",
       "...        ...       ...  ...\n",
       "4495  2.282176  0.271349  1.0\n",
       "4496  1.425043 -0.238334  1.0\n",
       "4497  1.330195  3.719975  1.0\n",
       "4498 -1.010841  0.424505  0.0\n",
       "4499 -1.008732  1.243568  0.0\n",
       "\n",
       "[4500 rows x 3 columns]"
      ]
     },
     "execution_count": 45,
     "metadata": {},
     "output_type": "execute_result"
    }
   ],
   "source": [
    "pd.set_option('display.max_rows',10)\n",
    "temp = df_origianl.copy()\n",
    "df_2feature_be = pd.DataFrame.to_numpy(df_origianl)\n",
    "e1 = temp['x1'].mean()*0.3*0.164\n",
    "e2 = temp['x2'].mean()*0.3*0.835\n",
    "\n",
    "for idx,cell in temp['x1'].iteritems():\n",
    "    temp['x1'][idx] += e1\n",
    "temp = temp.to_numpy()\n",
    "df_2feature_be = np.vstack((df_2feature_be,temp))\n",
    "temp = df_origianl.copy()\n",
    "\n",
    "for idx,cell in temp['x1'].iteritems():\n",
    "    temp['x1'][idx] = temp['x1'][idx] - e1\n",
    "temp = temp.to_numpy()\n",
    "df_2feature_be = np.vstack((df_2feature_be,temp))\n",
    "temp = df_origianl.copy()\n",
    "\n",
    "for idx,cell in temp['x2'].iteritems():\n",
    "    temp['x2'][idx] += e2\n",
    "temp = temp.to_numpy()\n",
    "df_2feature_be = np.vstack((df_2feature_be,temp))\n",
    "temp = df_origianl.copy()\n",
    "\n",
    "for idx,cell in temp['x2'].iteritems():\n",
    "    temp['x2'][idx] = temp['x2'][idx] - e2\n",
    "temp = temp.to_numpy()\n",
    "df_2feature_be = np.vstack((df_2feature_be,temp))\n",
    "temp = df_origianl.copy()\n",
    "\n",
    "df_2feature_be = pd.DataFrame(df_2feature_be)\n",
    "df_2feature_be\n"
   ]
  },
  {
   "cell_type": "code",
   "execution_count": 46,
   "metadata": {},
   "outputs": [
    {
     "name": "stdout",
     "output_type": "stream",
     "text": [
      "Original Accuracy (on training) = 0.85\n",
      "Original Accuracy (on testing) = 0.8388888888888889\n"
     ]
    },
    {
     "data": {
      "image/png": "[encoded data removed]",
      "text/plain": [
       "<Figure size 432x288 with 1 Axes>"
      ]
     },
     "metadata": {
      "needs_background": "light"
     },
     "output_type": "display_data"
    },
    {
     "name": "stdout",
     "output_type": "stream",
     "text": [
      "BESVM Accuracy (on training) = with x1 bounded error (by permutation 30%*0.164),x2 with error (by permutation 30%*0.835) : 0.8491666666666666\n",
      "BESVM Accuracy (on testing) = with x1 bounded error (by permutation 30%*0.164),x2 with error (by permutation 30%*0.835) : 0.8533333333333334\n"
     ]
    },
    {
     "data": {
      "image/png": "[encoded data removed]",
      "text/plain": [
       "<Figure size 432x288 with 1 Axes>"
      ]
     },
     "metadata": {
      "needs_background": "light"
     },
     "output_type": "display_data"
    }
   ],
   "source": [
    "pd.set_option('display.max_rows',10)\n",
    "\n",
    "x_original = df_origianl.iloc[:,:-1].values\n",
    "y_original = df_origianl.iloc[:,-1].values\n",
    "x_be = df_2feature_be.iloc[:, :-1].values\n",
    "y_be = df_2feature_be.iloc[:,-1].values\n",
    "\n",
    "X_train, X_test,y_train, y_test = train_test_split(x_original, y_original, test_size=0.2,random_state=1)\n",
    "clf_original = SVC(kernel='linear',C=1,gamma='auto')\n",
    "clf_original.fit(X_train, y_train)\n",
    "y_original_predict = clf_original.predict(X_test)\n",
    "result_orginal_train = clf_original.score(X_train, y_train)\n",
    "result_orginal_test = clf_original.score(X_test, y_test)\n",
    "print('Original Accuracy (on training) = '+str(result_orginal_train))\n",
    "print('Original Accuracy (on testing) = '+str(result_orginal_test))\n",
    "plt.scatter(x_original[y_original==0,0],x_original[y_original==0,1],color = 'r',marker = 'o')\n",
    "plt.scatter(x_original[y_original==1,0],x_original[y_original==1,1],color = 'b',marker = '*')\n",
    "plt.title('original')\n",
    "plt.xlabel('feature x1 ')\n",
    "plt.ylabel('feature x2 ')\n",
    "plt.show()\n",
    "\n",
    "X_train,X_test,y_train, y_test = train_test_split(x_be, y_be, test_size=0.2,random_state=1)\n",
    "clf_BE = SVC(kernel='linear',C=1,gamma='auto')\n",
    "clf_BE.fit(X_train, y_train)\n",
    "y_BE_predict = clf_BE.predict(X_test)\n",
    "result_BE_train = clf_BE.score(X_train, y_train)\n",
    "result_BE_test = clf_BE.score(X_test, y_test)\n",
    "print('BESVM Accuracy (on training) = with x1 bounded error (by permutation 30%*0.164),x2 with error (by permutation 30%*0.835) : '+str(result_BE_train))\n",
    "print('BESVM Accuracy (on testing) = with x1 bounded error (by permutation 30%*0.164),x2 with error (by permutation 30%*0.835) : '+str(result_BE_test))\n",
    "\n",
    "plt.scatter(x_be[y_be==0,0],x_be[y_be==0,1],color = 'r',marker = 'o')\n",
    "plt.scatter(x_be[y_be==1,0],x_be[y_be==1,1],color = 'b',marker = '*')\n",
    "plt.title('Error adding in feature x1 and x2')\n",
    "plt.xlabel('feature x1 : ')\n",
    "plt.ylabel('feature x2 : ')\n",
    "plt.show()\n"
   ]
  }
 ],
 "metadata": {
  "kernelspec": {
   "display_name": "'Python Interactive'",
   "language": "python",
   "name": "3cb6cbf8-18ae-4b75-ab69-a7d5b551637d"
  },
  "language_info": {
   "codemirror_mode": {
    "name": "ipython",
    "version": 3
   },
   "file_extension": ".py",
   "mimetype": "text/x-python",
   "name": "python",
   "nbconvert_exporter": "python",
   "pygments_lexer": "ipython3",
   "version": "3.7.3"
  },
  "orig_nbformat": 4
 },
 "nbformat": 4,
 "nbformat_minor": 2
}
