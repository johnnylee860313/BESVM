{
 "cells": [
  {
   "cell_type": "code",
   "execution_count": 23,
   "metadata": {},
   "outputs": [],
   "source": [
    "import jupyter_Importer\n",
    "from MLModels_FeatureImportance import featureImportance_linearRegression\n",
    "from MLModels_FeatureImportance import featureImportance_permutation\n",
    "from MLModels_FeatureImportance import featureImportance_DTree\n",
    "\n",
    "import pandas as pd\n",
    "import numpy as np\n",
    "import math\n",
    "from sklearn import preprocessing\n",
    "\n",
    "from sklearn.svm import SVC\n",
    "from sklearn.neighbors import KNeighborsClassifier\n",
    "from sklearn.cluster import KMeans\n",
    "from sklearn.model_selection import train_test_split"
   ]
  },
  {
   "cell_type": "code",
   "execution_count": 24,
   "metadata": {},
   "outputs": [
    {
     "data": {
      "text/html": [
       "<div>\n",
       "<style scoped>\n",
       "    .dataframe tbody tr th:only-of-type {\n",
       "        vertical-align: middle;\n",
       "    }\n",
       "\n",
       "    .dataframe tbody tr th {\n",
       "        vertical-align: top;\n",
       "    }\n",
       "\n",
       "    .dataframe thead th {\n",
       "        text-align: right;\n",
       "    }\n",
       "</style>\n",
       "<table border=\"1\" class=\"dataframe\">\n",
       "  <thead>\n",
       "    <tr style=\"text-align: right;\">\n",
       "      <th></th>\n",
       "      <th>x1</th>\n",
       "      <th>x2</th>\n",
       "      <th>x3</th>\n",
       "      <th>x4</th>\n",
       "      <th>x5</th>\n",
       "      <th>x6</th>\n",
       "      <th>y</th>\n",
       "    </tr>\n",
       "  </thead>\n",
       "  <tbody>\n",
       "    <tr>\n",
       "      <th>0</th>\n",
       "      <td>date</td>\n",
       "      <td>Temperature</td>\n",
       "      <td>Humidity</td>\n",
       "      <td>Light</td>\n",
       "      <td>CO2</td>\n",
       "      <td>HumidityRatio</td>\n",
       "      <td>Occupancy</td>\n",
       "    </tr>\n",
       "    <tr>\n",
       "      <th>1</th>\n",
       "      <td>2015-02-02 14:19:00</td>\n",
       "      <td>23.7</td>\n",
       "      <td>26.272</td>\n",
       "      <td>585.2</td>\n",
       "      <td>749.2</td>\n",
       "      <td>0.0047641630241641</td>\n",
       "      <td>1</td>\n",
       "    </tr>\n",
       "    <tr>\n",
       "      <th>2</th>\n",
       "      <td>2015-02-02 14:19:59</td>\n",
       "      <td>23.718</td>\n",
       "      <td>26.29</td>\n",
       "      <td>578.4</td>\n",
       "      <td>760.4</td>\n",
       "      <td>0.0047726609921251</td>\n",
       "      <td>1</td>\n",
       "    </tr>\n",
       "    <tr>\n",
       "      <th>3</th>\n",
       "      <td>2015-02-02 14:21:00</td>\n",
       "      <td>23.73</td>\n",
       "      <td>26.23</td>\n",
       "      <td>572.666666666667</td>\n",
       "      <td>769.666666666667</td>\n",
       "      <td>0.0047651525524654</td>\n",
       "      <td>1</td>\n",
       "    </tr>\n",
       "    <tr>\n",
       "      <th>4</th>\n",
       "      <td>2015-02-02 14:22:00</td>\n",
       "      <td>23.7225</td>\n",
       "      <td>26.125</td>\n",
       "      <td>493.75</td>\n",
       "      <td>774.75</td>\n",
       "      <td>0.0047437733559968</td>\n",
       "      <td>1</td>\n",
       "    </tr>\n",
       "  </tbody>\n",
       "</table>\n",
       "</div>"
      ],
      "text/plain": [
       "                    x1           x2        x3                x4  \\\n",
       "0                 date  Temperature  Humidity             Light   \n",
       "1  2015-02-02 14:19:00         23.7    26.272             585.2   \n",
       "2  2015-02-02 14:19:59       23.718     26.29             578.4   \n",
       "3  2015-02-02 14:21:00        23.73     26.23  572.666666666667   \n",
       "4  2015-02-02 14:22:00      23.7225    26.125            493.75   \n",
       "\n",
       "                 x5                  x6          y  \n",
       "0               CO2       HumidityRatio  Occupancy  \n",
       "1             749.2  0.0047641630241641          1  \n",
       "2             760.4  0.0047726609921251          1  \n",
       "3  769.666666666667  0.0047651525524654          1  \n",
       "4            774.75  0.0047437733559968          1  "
      ]
     },
     "execution_count": 24,
     "metadata": {},
     "output_type": "execute_result"
    }
   ],
   "source": [
    "dataset = pd.read_csv(\"Occupancy.csv\", names = ['x' + str(i) for i in range(1, 7)] + ['y'], sep = \",\")\n",
    "dataset.head()"
   ]
  },
  {
   "cell_type": "code",
   "execution_count": 25,
   "metadata": {},
   "outputs": [
    {
     "data": {
      "text/html": [
       "<div>\n",
       "<style scoped>\n",
       "    .dataframe tbody tr th:only-of-type {\n",
       "        vertical-align: middle;\n",
       "    }\n",
       "\n",
       "    .dataframe tbody tr th {\n",
       "        vertical-align: top;\n",
       "    }\n",
       "\n",
       "    .dataframe thead th {\n",
       "        text-align: right;\n",
       "    }\n",
       "</style>\n",
       "<table border=\"1\" class=\"dataframe\">\n",
       "  <thead>\n",
       "    <tr style=\"text-align: right;\">\n",
       "      <th></th>\n",
       "      <th>x1</th>\n",
       "      <th>x2</th>\n",
       "      <th>y</th>\n",
       "    </tr>\n",
       "  </thead>\n",
       "  <tbody>\n",
       "    <tr>\n",
       "      <th>1</th>\n",
       "      <td>585.200000</td>\n",
       "      <td>749.200000</td>\n",
       "      <td>1</td>\n",
       "    </tr>\n",
       "    <tr>\n",
       "      <th>2</th>\n",
       "      <td>578.400000</td>\n",
       "      <td>760.400000</td>\n",
       "      <td>1</td>\n",
       "    </tr>\n",
       "    <tr>\n",
       "      <th>3</th>\n",
       "      <td>572.666667</td>\n",
       "      <td>769.666667</td>\n",
       "      <td>1</td>\n",
       "    </tr>\n",
       "    <tr>\n",
       "      <th>4</th>\n",
       "      <td>493.750000</td>\n",
       "      <td>774.750000</td>\n",
       "      <td>1</td>\n",
       "    </tr>\n",
       "    <tr>\n",
       "      <th>5</th>\n",
       "      <td>488.600000</td>\n",
       "      <td>779.000000</td>\n",
       "      <td>1</td>\n",
       "    </tr>\n",
       "    <tr>\n",
       "      <th>...</th>\n",
       "      <td>...</td>\n",
       "      <td>...</td>\n",
       "      <td>...</td>\n",
       "    </tr>\n",
       "    <tr>\n",
       "      <th>20556</th>\n",
       "      <td>429.750000</td>\n",
       "      <td>1505.250000</td>\n",
       "      <td>1</td>\n",
       "    </tr>\n",
       "    <tr>\n",
       "      <th>20557</th>\n",
       "      <td>423.500000</td>\n",
       "      <td>1514.500000</td>\n",
       "      <td>1</td>\n",
       "    </tr>\n",
       "    <tr>\n",
       "      <th>20558</th>\n",
       "      <td>423.500000</td>\n",
       "      <td>1521.500000</td>\n",
       "      <td>1</td>\n",
       "    </tr>\n",
       "    <tr>\n",
       "      <th>20559</th>\n",
       "      <td>418.750000</td>\n",
       "      <td>1632.000000</td>\n",
       "      <td>1</td>\n",
       "    </tr>\n",
       "    <tr>\n",
       "      <th>20560</th>\n",
       "      <td>409.000000</td>\n",
       "      <td>1864.000000</td>\n",
       "      <td>1</td>\n",
       "    </tr>\n",
       "  </tbody>\n",
       "</table>\n",
       "<p>20560 rows × 3 columns</p>\n",
       "</div>"
      ],
      "text/plain": [
       "               x1           x2  y\n",
       "1      585.200000   749.200000  1\n",
       "2      578.400000   760.400000  1\n",
       "3      572.666667   769.666667  1\n",
       "4      493.750000   774.750000  1\n",
       "5      488.600000   779.000000  1\n",
       "...           ...          ... ..\n",
       "20556  429.750000  1505.250000  1\n",
       "20557  423.500000  1514.500000  1\n",
       "20558  423.500000  1521.500000  1\n",
       "20559  418.750000  1632.000000  1\n",
       "20560  409.000000  1864.000000  1\n",
       "\n",
       "[20560 rows x 3 columns]"
      ]
     },
     "execution_count": 25,
     "metadata": {},
     "output_type": "execute_result"
    }
   ],
   "source": [
    "dataset_light_co2 = dataset.iloc[1:,3:5]\n",
    "dataset_light_co2['y'] = dataset.iloc[1:,6:7]\n",
    "dataset_light_co2.columns = ['x1','x2','y']\n",
    "dataset_light_co2['x1'] = dataset_light_co2['x1'].apply(lambda x : float(x))\n",
    "dataset_light_co2['x2'] = dataset_light_co2['x2'].apply(lambda x : float(x))\n",
    "dataset_light_co2['y'] = dataset_light_co2['y'].apply(lambda x : int(x))\n",
    "dataset_light_co2"
   ]
  },
  {
   "cell_type": "code",
   "execution_count": 26,
   "metadata": {},
   "outputs": [
    {
     "name": "stdout",
     "output_type": "stream",
     "text": [
      "[0, 1, 2, 3, 4, 5, 6, 7, 8, 9, 10, 11, 12, 13, 14, 15, 16, 17, 18, 19, 20, 21, 22, 23, 24] [24, 23, 22, 21, 20, 19, 18, 17, 16, 15, 14, 13, 12, 11, 10, 9, 8, 7, 6, 5, 4, 3, 2, 1, 0]\n",
      "<class 'pandas.core.frame.DataFrame'>\n",
      "Int64Index: 6757 entries, 1 to 20560\n",
      "Data columns (total 3 columns):\n",
      " #   Column  Non-Null Count  Dtype  \n",
      "---  ------  --------------  -----  \n",
      " 0   x1      6757 non-null   float64\n",
      " 1   x2      6757 non-null   float64\n",
      " 2   y       6757 non-null   int64  \n",
      "dtypes: float64(2), int64(1)\n",
      "memory usage: 211.2 KB\n",
      "<class 'pandas.core.frame.DataFrame'>\n",
      "Int64Index: 4112 entries, 8855 to 4674\n",
      "Data columns (total 3 columns):\n",
      " #   Column  Non-Null Count  Dtype  \n",
      "---  ------  --------------  -----  \n",
      " 0   x1      4112 non-null   float64\n",
      " 1   x2      4112 non-null   float64\n",
      " 2   y       4112 non-null   int64  \n",
      "dtypes: float64(2), int64(1)\n",
      "memory usage: 128.5 KB\n",
      "None None\n"
     ]
    }
   ],
   "source": [
    "subset = dataset_light_co2.sample(frac=0.2,replace=False,random_state=43)\n",
    "dataset_light_co2 = dataset_light_co2.append(subset)\n",
    "dataset_light_co2 = dataset_light_co2.drop_duplicates(subset=['x1','x2','y'],keep=False)\n",
    "\n",
    "subsample_x = subset.iloc[:,:-1].values\n",
    "subsample_y = subset.iloc[:,-1].values\n",
    "\n",
    "#from 0-24 means angle\n",
    "error_a = []\n",
    "error_b = []\n",
    "for i in range(0,25) :\n",
    "    error_a.append(i)\n",
    "    error_b.append(24-i)\n",
    "\n",
    "print(error_a,error_b)\n",
    "print(dataset_light_co2.info(),subset.info())"
   ]
  },
  {
   "cell_type": "code",
   "execution_count": 27,
   "metadata": {},
   "outputs": [
    {
     "name": "stdout",
     "output_type": "stream",
     "text": [
      "RegCoef : [0.001715115813006853, 0.0001540538185663689]\n",
      "importanceReg : [0.9175816812106525, 0.08241831878934744]\n",
      "PermuCoef : [0.30398832684824906, 0.05972762645914398]\n",
      "importancePermu : [0.8357849692431131, 0.16421503075688687]\n",
      "DTreeCoef : [0.9613610903214472, 0.03863890967855284]\n",
      "importanceDTree : [0.9613610903214472, 0.03863890967855284]\n"
     ]
    }
   ],
   "source": [
    "importanceReg,RegCoef = featureImportance_linearRegression(subsample_x,subsample_y)\n",
    "model = KNeighborsClassifier(n_neighbors=5,algorithm=\"brute\")  \n",
    "model.fit(subsample_x,subsample_y)  \n",
    "importancePermu,PermuCoef = featureImportance_permutation(model,subsample_x,subsample_y)\n",
    "importanceDTree,DTreeCoef = featureImportance_DTree(subsample_x,subsample_y)\n",
    "print(\"RegCoef : \" +str(RegCoef))\n",
    "print(\"importanceReg : \"+str(importanceReg))\n",
    "print(\"PermuCoef : \"+str(PermuCoef))\n",
    "print(\"importancePermu : \"+str(importancePermu))\n",
    "print(\"DTreeCoef : \" +str(DTreeCoef))\n",
    "print(\"importanceDTree : \"+str(importanceDTree))"
   ]
  },
  {
   "cell_type": "code",
   "execution_count": 28,
   "metadata": {},
   "outputs": [],
   "source": [
    "def df_2feature_be_generates(BE,i,n,importance=importanceReg,df=dataset_light_co2.copy()) :#i = 1 for brute force iteration,n = 1for negative importance\n",
    "    temp = dataset_light_co2.copy()\n",
    "    angle = 0 #0 for normal case ,1 for adding error with cos sin\n",
    "    #switch = {1:func1,2:func2}\n",
    "    #temp = df.copy()\n",
    "    df_2feature_be = pd.DataFrame.to_numpy(dataset_light_co2)\n",
    "    #df_2feature_be = pd.DataFrame.to_numpy(df)\n",
    "    \n",
    "    if i >= 0 and n == 0 :\n",
    "        angle = 1\n",
    "        e1 = temp['x1'].mean()*BE*math.cos((error_a[i]/(error_a[i]+error_b[i])))\n",
    "        e2 = temp['x2'].mean()*BE*math.sin((error_b[i]/(error_a[i]+error_b[i])))\n",
    "    elif i == -1 and n == 1:\n",
    "        angle = 0\n",
    "        e1 = temp['x1'].mean()*BE*importance[0]\n",
    "        e2 = temp['x2'].mean()*BE*importance[1]\n",
    "    elif i == -1 and n == 0 :\n",
    "        angle = 0\n",
    "        e1 = temp['x1'].mean()*BE*importance[1]\n",
    "        e2 = temp['x2'].mean()*BE*importance[0]\n",
    "    \n",
    "\n",
    "    if angle == 0:\n",
    "        for idx,cell in temp['x1'].iteritems():\n",
    "            temp['x1'][idx] += e1\n",
    "        temp = temp.to_numpy()\n",
    "        df_2feature_be = np.vstack((df_2feature_be,temp))\n",
    "        #print(df_2feature_be.shape)\n",
    "        temp = dataset_light_co2.copy()\n",
    "\n",
    "        for idx,cell in temp['x1'].iteritems():\n",
    "            temp['x1'][idx] = temp['x1'][idx] - e1\n",
    "        temp = temp.to_numpy()\n",
    "        df_2feature_be = np.vstack((df_2feature_be,temp))\n",
    "        #print(df_2feature_be.shape)\n",
    "        temp = dataset_light_co2.copy()\n",
    "\n",
    "        for idx,cell in temp['x2'].iteritems():\n",
    "            temp['x2'][idx] += e2\n",
    "        temp = temp.to_numpy()\n",
    "        df_2feature_be = np.vstack((df_2feature_be,temp))\n",
    "        #print(df_2feature_be.shape)\n",
    "        temp = dataset_light_co2.copy()\n",
    "\n",
    "        for idx,cell in temp['x2'].iteritems():\n",
    "            temp['x2'][idx] = temp['x2'][idx] - e2\n",
    "        temp = temp.to_numpy()\n",
    "        df_2feature_be = np.vstack((df_2feature_be,temp))\n",
    "        #print(df_2feature_be.shape)\n",
    "        temp = dataset_light_co2.copy()\n",
    "\n",
    "        df_2feature_be = pd.DataFrame(df_2feature_be)\n",
    "        #print(df_2feature_be)\n",
    "\n",
    "    elif angle == 1:\n",
    "        for idx,cell in temp['x1'].iteritems():\n",
    "            temp['x1'][idx] += e1\n",
    "        temp = temp.to_numpy()\n",
    "        df_2feature_be = np.vstack((df_2feature_be,temp))\n",
    "        #print(df_2feature_be.shape)\n",
    "        temp = dataset_light_co2.copy()\n",
    "\n",
    "        for idx,cell in temp['x2'].iteritems():\n",
    "            temp['x2'][idx] += e2\n",
    "        temp = temp.to_numpy()\n",
    "        df_2feature_be = np.vstack((df_2feature_be,temp))\n",
    "        #print(df_2feature_be.shape)\n",
    "        temp = dataset_light_co2.copy()\n",
    "        \n",
    "        df_2feature_be = pd.DataFrame(df_2feature_be)\n",
    "\n",
    "    \n",
    "\n",
    "    return df_2feature_be"
   ]
  },
  {
   "cell_type": "code",
   "execution_count": 29,
   "metadata": {},
   "outputs": [
    {
     "name": "stderr",
     "output_type": "stream",
     "text": [
      "d:\\BESVM\\BESVM\\.venv\\lib\\site-packages\\ipykernel_launcher.py:25: SettingWithCopyWarning: \n",
      "A value is trying to be set on a copy of a slice from a DataFrame\n",
      "\n",
      "See the caveats in the documentation: https://pandas.pydata.org/pandas-docs/stable/user_guide/indexing.html#returning-a-view-versus-a-copy\n",
      "d:\\BESVM\\BESVM\\.venv\\lib\\site-packages\\ipykernel_launcher.py:32: SettingWithCopyWarning: \n",
      "A value is trying to be set on a copy of a slice from a DataFrame\n",
      "\n",
      "See the caveats in the documentation: https://pandas.pydata.org/pandas-docs/stable/user_guide/indexing.html#returning-a-view-versus-a-copy\n",
      "d:\\BESVM\\BESVM\\.venv\\lib\\site-packages\\ipykernel_launcher.py:39: SettingWithCopyWarning: \n",
      "A value is trying to be set on a copy of a slice from a DataFrame\n",
      "\n",
      "See the caveats in the documentation: https://pandas.pydata.org/pandas-docs/stable/user_guide/indexing.html#returning-a-view-versus-a-copy\n",
      "d:\\BESVM\\BESVM\\.venv\\lib\\site-packages\\ipykernel_launcher.py:46: SettingWithCopyWarning: \n",
      "A value is trying to be set on a copy of a slice from a DataFrame\n",
      "\n",
      "See the caveats in the documentation: https://pandas.pydata.org/pandas-docs/stable/user_guide/indexing.html#returning-a-view-versus-a-copy\n"
     ]
    },
    {
     "name": "stdout",
     "output_type": "stream",
     "text": [
      "BESVM Accuracy (on training) = with x1 bounded error (0.2%*0.08241831878934744),x2 with error (0.2%*0.9175816812106525) : 0.9728799763208524\n",
      "BESVM Accuracy (on testing) = with x1 bounded error (0.2%*0.08241831878934744),x2 with error (0.2%*0.9175816812106525) : 0.9738049430220512\n",
      "BESVM Accuracy (on subset_raw) = with no bounded error,x2 with no error 0.9878404669260701\n"
     ]
    }
   ],
   "source": [
    "#using importanceReg as error allocation rate to predict by svm\n",
    "BE = 0.2\n",
    "df_2feature_be = df_2feature_be_generates(BE,-1,0,importanceReg)\n",
    "x_be = df_2feature_be.iloc[:, :-1].values\n",
    "y_be = df_2feature_be.iloc[:,-1].values\n",
    "X_train,X_test,y_train, y_test = train_test_split(x_be, y_be, test_size=0.2,random_state=1)\n",
    "clf_BE = SVC(kernel='linear',C=1,gamma='auto')\n",
    "clf_BE.fit(X_train, y_train)\n",
    "y_BE_predict = clf_BE.predict(X_test)\n",
    "result_BE_train = clf_BE.score(X_train, y_train)\n",
    "result_BE_test = clf_BE.score(X_test, y_test)\n",
    "subset_raw = clf_BE.score(subsample_x, subsample_y)\n",
    "print('BESVM Accuracy (on training) = with x1 bounded error ('+str(BE)+'%*'+str(importanceReg[1])+'),x2 with error ('+str(BE)+'%*'+str(importanceReg[0])+') : '+str(result_BE_train))\n",
    "print('BESVM Accuracy (on testing) = with x1 bounded error ('+str(BE)+'%*'+str(importanceReg[1])+'),x2 with error ('+str(BE)+'%*'+str(importanceReg[0])+') : '+str(result_BE_test))\n",
    "print('BESVM Accuracy (on subset_raw) = with no bounded error,x2 with no error '+str(subset_raw))\n"
   ]
  },
  {
   "cell_type": "code",
   "execution_count": 30,
   "metadata": {},
   "outputs": [
    {
     "name": "stderr",
     "output_type": "stream",
     "text": [
      "d:\\BESVM\\BESVM\\.venv\\lib\\site-packages\\ipykernel_launcher.py:25: SettingWithCopyWarning: \n",
      "A value is trying to be set on a copy of a slice from a DataFrame\n",
      "\n",
      "See the caveats in the documentation: https://pandas.pydata.org/pandas-docs/stable/user_guide/indexing.html#returning-a-view-versus-a-copy\n",
      "d:\\BESVM\\BESVM\\.venv\\lib\\site-packages\\ipykernel_launcher.py:32: SettingWithCopyWarning: \n",
      "A value is trying to be set on a copy of a slice from a DataFrame\n",
      "\n",
      "See the caveats in the documentation: https://pandas.pydata.org/pandas-docs/stable/user_guide/indexing.html#returning-a-view-versus-a-copy\n",
      "d:\\BESVM\\BESVM\\.venv\\lib\\site-packages\\ipykernel_launcher.py:39: SettingWithCopyWarning: \n",
      "A value is trying to be set on a copy of a slice from a DataFrame\n",
      "\n",
      "See the caveats in the documentation: https://pandas.pydata.org/pandas-docs/stable/user_guide/indexing.html#returning-a-view-versus-a-copy\n",
      "d:\\BESVM\\BESVM\\.venv\\lib\\site-packages\\ipykernel_launcher.py:46: SettingWithCopyWarning: \n",
      "A value is trying to be set on a copy of a slice from a DataFrame\n",
      "\n",
      "See the caveats in the documentation: https://pandas.pydata.org/pandas-docs/stable/user_guide/indexing.html#returning-a-view-versus-a-copy\n"
     ]
    },
    {
     "name": "stdout",
     "output_type": "stream",
     "text": [
      "BESVM Accuracy (on training) = with x1 bounded error (0.2%*0.16421503075688687),x2 with error (0.2%*0.8357849692431131) : 0.9730649696610922\n",
      "BESVM Accuracy (on testing) = with x1 bounded error (0.2%*0.16421503075688687),x2 with error (0.2%*0.8357849692431131) : 0.9738049430220512\n",
      "BESVM Accuracy (on subset_raw) = with no bounded error,x2 with no error 0.9878404669260701\n"
     ]
    }
   ],
   "source": [
    "#using importancePermu as error allocation rate to predict by svm\n",
    "df_2feature_be = df_2feature_be_generates(BE,-1,0,importancePermu)\n",
    "x_be = df_2feature_be.iloc[:, :-1].values\n",
    "y_be = df_2feature_be.iloc[:,-1].values\n",
    "X_train,X_test,y_train, y_test = train_test_split(x_be, y_be, test_size=0.2,random_state=1)\n",
    "clf_BE = SVC(kernel='linear',C=1,gamma='auto')\n",
    "clf_BE.fit(X_train, y_train)\n",
    "y_BE_predict = clf_BE.predict(X_test)\n",
    "result_BE_train = clf_BE.score(X_train, y_train)\n",
    "result_BE_test = clf_BE.score(X_test, y_test)\n",
    "subset_raw = clf_BE.score(subsample_x, subsample_y)\n",
    "print('BESVM Accuracy (on training) = with x1 bounded error ('+str(BE)+'%*'+str(importancePermu[1])+'),x2 with error ('+str(BE)+'%*'+str(importancePermu[0])+') : '+str(result_BE_train))\n",
    "print('BESVM Accuracy (on testing) = with x1 bounded error ('+str(BE)+'%*'+str(importancePermu[1])+'),x2 with error ('+str(BE)+'%*'+str(importancePermu[0])+') : '+str(result_BE_test))\n",
    "print('BESVM Accuracy (on subset_raw) = with no bounded error,x2 with no error '+str(subset_raw))\n",
    "\n"
   ]
  },
  {
   "cell_type": "code",
   "execution_count": 31,
   "metadata": {},
   "outputs": [
    {
     "name": "stderr",
     "output_type": "stream",
     "text": [
      "d:\\BESVM\\BESVM\\.venv\\lib\\site-packages\\ipykernel_launcher.py:57: SettingWithCopyWarning: \n",
      "A value is trying to be set on a copy of a slice from a DataFrame\n",
      "\n",
      "See the caveats in the documentation: https://pandas.pydata.org/pandas-docs/stable/user_guide/indexing.html#returning-a-view-versus-a-copy\n",
      "d:\\BESVM\\BESVM\\.venv\\lib\\site-packages\\ipykernel_launcher.py:64: SettingWithCopyWarning: \n",
      "A value is trying to be set on a copy of a slice from a DataFrame\n",
      "\n",
      "See the caveats in the documentation: https://pandas.pydata.org/pandas-docs/stable/user_guide/indexing.html#returning-a-view-versus-a-copy\n"
     ]
    },
    {
     "name": "stdout",
     "output_type": "stream",
     "text": [
      "BESVM Accuracy (on training) = with x1 bounded error (0.2%*0.0),x2 with error (0.2%*1.0) : 0.9621978293043907\n",
      "BESVM Accuracy (on testing) = with x1 bounded error (0.2%*0.0),x2 with error (0.2%*1.0) : 0.9595561035758323\n",
      "BESVM Accuracy (on subset_raw) = with no bounded error,x2 with no error 0.9764105058365758\n"
     ]
    },
    {
     "name": "stderr",
     "output_type": "stream",
     "text": [
      "d:\\BESVM\\BESVM\\.venv\\lib\\site-packages\\ipykernel_launcher.py:57: SettingWithCopyWarning: \n",
      "A value is trying to be set on a copy of a slice from a DataFrame\n",
      "\n",
      "See the caveats in the documentation: https://pandas.pydata.org/pandas-docs/stable/user_guide/indexing.html#returning-a-view-versus-a-copy\n",
      "d:\\BESVM\\BESVM\\.venv\\lib\\site-packages\\ipykernel_launcher.py:64: SettingWithCopyWarning: \n",
      "A value is trying to be set on a copy of a slice from a DataFrame\n",
      "\n",
      "See the caveats in the documentation: https://pandas.pydata.org/pandas-docs/stable/user_guide/indexing.html#returning-a-view-versus-a-copy\n"
     ]
    },
    {
     "name": "stdout",
     "output_type": "stream",
     "text": [
      "BESVM Accuracy (on training) = with x1 bounded error (0.2%*0.041666666666666664),x2 with error (0.2%*0.9583333333333334) : 0.9673778983719783\n",
      "BESVM Accuracy (on testing) = with x1 bounded error (0.2%*0.041666666666666664),x2 with error (0.2%*0.9583333333333334) : 0.9676942046855733\n",
      "BESVM Accuracy (on subset_raw) = with no bounded error,x2 with no error 0.9880836575875487\n"
     ]
    },
    {
     "name": "stderr",
     "output_type": "stream",
     "text": [
      "d:\\BESVM\\BESVM\\.venv\\lib\\site-packages\\ipykernel_launcher.py:57: SettingWithCopyWarning: \n",
      "A value is trying to be set on a copy of a slice from a DataFrame\n",
      "\n",
      "See the caveats in the documentation: https://pandas.pydata.org/pandas-docs/stable/user_guide/indexing.html#returning-a-view-versus-a-copy\n",
      "d:\\BESVM\\BESVM\\.venv\\lib\\site-packages\\ipykernel_launcher.py:64: SettingWithCopyWarning: \n",
      "A value is trying to be set on a copy of a slice from a DataFrame\n",
      "\n",
      "See the caveats in the documentation: https://pandas.pydata.org/pandas-docs/stable/user_guide/indexing.html#returning-a-view-versus-a-copy\n"
     ]
    },
    {
     "name": "stdout",
     "output_type": "stream",
     "text": [
      "BESVM Accuracy (on training) = with x1 bounded error (0.2%*0.08333333333333333),x2 with error (0.2%*0.9166666666666666) : 0.9679329057720769\n",
      "BESVM Accuracy (on testing) = with x1 bounded error (0.2%*0.08333333333333333),x2 with error (0.2%*0.9166666666666666) : 0.9686806411837238\n",
      "BESVM Accuracy (on subset_raw) = with no bounded error,x2 with no error 0.9883268482490273\n"
     ]
    },
    {
     "name": "stderr",
     "output_type": "stream",
     "text": [
      "d:\\BESVM\\BESVM\\.venv\\lib\\site-packages\\ipykernel_launcher.py:57: SettingWithCopyWarning: \n",
      "A value is trying to be set on a copy of a slice from a DataFrame\n",
      "\n",
      "See the caveats in the documentation: https://pandas.pydata.org/pandas-docs/stable/user_guide/indexing.html#returning-a-view-versus-a-copy\n",
      "d:\\BESVM\\BESVM\\.venv\\lib\\site-packages\\ipykernel_launcher.py:64: SettingWithCopyWarning: \n",
      "A value is trying to be set on a copy of a slice from a DataFrame\n",
      "\n",
      "See the caveats in the documentation: https://pandas.pydata.org/pandas-docs/stable/user_guide/indexing.html#returning-a-view-versus-a-copy\n"
     ]
    },
    {
     "name": "stdout",
     "output_type": "stream",
     "text": [
      "BESVM Accuracy (on training) = with x1 bounded error (0.2%*0.125),x2 with error (0.2%*0.875) : 0.9670078934385792\n",
      "BESVM Accuracy (on testing) = with x1 bounded error (0.2%*0.125),x2 with error (0.2%*0.875) : 0.9681874229346485\n",
      "BESVM Accuracy (on subset_raw) = with no bounded error,x2 with no error 0.9883268482490273\n"
     ]
    },
    {
     "name": "stderr",
     "output_type": "stream",
     "text": [
      "d:\\BESVM\\BESVM\\.venv\\lib\\site-packages\\ipykernel_launcher.py:57: SettingWithCopyWarning: \n",
      "A value is trying to be set on a copy of a slice from a DataFrame\n",
      "\n",
      "See the caveats in the documentation: https://pandas.pydata.org/pandas-docs/stable/user_guide/indexing.html#returning-a-view-versus-a-copy\n",
      "d:\\BESVM\\BESVM\\.venv\\lib\\site-packages\\ipykernel_launcher.py:64: SettingWithCopyWarning: \n",
      "A value is trying to be set on a copy of a slice from a DataFrame\n",
      "\n",
      "See the caveats in the documentation: https://pandas.pydata.org/pandas-docs/stable/user_guide/indexing.html#returning-a-view-versus-a-copy\n"
     ]
    },
    {
     "name": "stdout",
     "output_type": "stream",
     "text": [
      "BESVM Accuracy (on training) = with x1 bounded error (0.2%*0.16666666666666666),x2 with error (0.2%*0.8333333333333334) : 0.964602861371485\n",
      "BESVM Accuracy (on testing) = with x1 bounded error (0.2%*0.16666666666666666),x2 with error (0.2%*0.8333333333333334) : 0.9642416769420469\n",
      "BESVM Accuracy (on subset_raw) = with no bounded error,x2 with no error 0.9785992217898832\n"
     ]
    },
    {
     "name": "stderr",
     "output_type": "stream",
     "text": [
      "d:\\BESVM\\BESVM\\.venv\\lib\\site-packages\\ipykernel_launcher.py:57: SettingWithCopyWarning: \n",
      "A value is trying to be set on a copy of a slice from a DataFrame\n",
      "\n",
      "See the caveats in the documentation: https://pandas.pydata.org/pandas-docs/stable/user_guide/indexing.html#returning-a-view-versus-a-copy\n",
      "d:\\BESVM\\BESVM\\.venv\\lib\\site-packages\\ipykernel_launcher.py:64: SettingWithCopyWarning: \n",
      "A value is trying to be set on a copy of a slice from a DataFrame\n",
      "\n",
      "See the caveats in the documentation: https://pandas.pydata.org/pandas-docs/stable/user_guide/indexing.html#returning-a-view-versus-a-copy\n"
     ]
    },
    {
     "name": "stdout",
     "output_type": "stream",
     "text": [
      "BESVM Accuracy (on training) = with x1 bounded error (0.2%*0.20833333333333334),x2 with error (0.2%*0.7916666666666666) : 0.9702762703502713\n",
      "BESVM Accuracy (on testing) = with x1 bounded error (0.2%*0.20833333333333334),x2 with error (0.2%*0.7916666666666666) : 0.9704069050554871\n",
      "BESVM Accuracy (on subset_raw) = with no bounded error,x2 with no error 0.9851653696498055\n"
     ]
    },
    {
     "name": "stderr",
     "output_type": "stream",
     "text": [
      "d:\\BESVM\\BESVM\\.venv\\lib\\site-packages\\ipykernel_launcher.py:57: SettingWithCopyWarning: \n",
      "A value is trying to be set on a copy of a slice from a DataFrame\n",
      "\n",
      "See the caveats in the documentation: https://pandas.pydata.org/pandas-docs/stable/user_guide/indexing.html#returning-a-view-versus-a-copy\n",
      "d:\\BESVM\\BESVM\\.venv\\lib\\site-packages\\ipykernel_launcher.py:64: SettingWithCopyWarning: \n",
      "A value is trying to be set on a copy of a slice from a DataFrame\n",
      "\n",
      "See the caveats in the documentation: https://pandas.pydata.org/pandas-docs/stable/user_guide/indexing.html#returning-a-view-versus-a-copy\n"
     ]
    },
    {
     "name": "stdout",
     "output_type": "stream",
     "text": [
      "BESVM Accuracy (on training) = with x1 bounded error (0.2%*0.25),x2 with error (0.2%*0.75) : 0.9698445979279724\n",
      "BESVM Accuracy (on testing) = with x1 bounded error (0.2%*0.25),x2 with error (0.2%*0.75) : 0.9696670776818742\n",
      "BESVM Accuracy (on subset_raw) = with no bounded error,x2 with no error 0.9873540856031129\n"
     ]
    },
    {
     "name": "stderr",
     "output_type": "stream",
     "text": [
      "d:\\BESVM\\BESVM\\.venv\\lib\\site-packages\\ipykernel_launcher.py:57: SettingWithCopyWarning: \n",
      "A value is trying to be set on a copy of a slice from a DataFrame\n",
      "\n",
      "See the caveats in the documentation: https://pandas.pydata.org/pandas-docs/stable/user_guide/indexing.html#returning-a-view-versus-a-copy\n",
      "d:\\BESVM\\BESVM\\.venv\\lib\\site-packages\\ipykernel_launcher.py:64: SettingWithCopyWarning: \n",
      "A value is trying to be set on a copy of a slice from a DataFrame\n",
      "\n",
      "See the caveats in the documentation: https://pandas.pydata.org/pandas-docs/stable/user_guide/indexing.html#returning-a-view-versus-a-copy\n"
     ]
    },
    {
     "name": "stdout",
     "output_type": "stream",
     "text": [
      "BESVM Accuracy (on training) = with x1 bounded error (0.2%*0.2916666666666667),x2 with error (0.2%*0.7083333333333334) : 0.9707696102614701\n",
      "BESVM Accuracy (on testing) = with x1 bounded error (0.2%*0.2916666666666667),x2 with error (0.2%*0.7083333333333334) : 0.9704069050554871\n",
      "BESVM Accuracy (on subset_raw) = with no bounded error,x2 with no error 0.9858949416342413\n"
     ]
    },
    {
     "name": "stderr",
     "output_type": "stream",
     "text": [
      "d:\\BESVM\\BESVM\\.venv\\lib\\site-packages\\ipykernel_launcher.py:57: SettingWithCopyWarning: \n",
      "A value is trying to be set on a copy of a slice from a DataFrame\n",
      "\n",
      "See the caveats in the documentation: https://pandas.pydata.org/pandas-docs/stable/user_guide/indexing.html#returning-a-view-versus-a-copy\n",
      "d:\\BESVM\\BESVM\\.venv\\lib\\site-packages\\ipykernel_launcher.py:64: SettingWithCopyWarning: \n",
      "A value is trying to be set on a copy of a slice from a DataFrame\n",
      "\n",
      "See the caveats in the documentation: https://pandas.pydata.org/pandas-docs/stable/user_guide/indexing.html#returning-a-view-versus-a-copy\n"
     ]
    },
    {
     "name": "stdout",
     "output_type": "stream",
     "text": [
      "BESVM Accuracy (on training) = with x1 bounded error (0.2%*0.3333333333333333),x2 with error (0.2%*0.6666666666666666) : 0.9697212629501727\n",
      "BESVM Accuracy (on testing) = with x1 bounded error (0.2%*0.3333333333333333),x2 with error (0.2%*0.6666666666666666) : 0.9706535141800247\n",
      "BESVM Accuracy (on subset_raw) = with no bounded error,x2 with no error 0.9885700389105059\n"
     ]
    },
    {
     "name": "stderr",
     "output_type": "stream",
     "text": [
      "d:\\BESVM\\BESVM\\.venv\\lib\\site-packages\\ipykernel_launcher.py:57: SettingWithCopyWarning: \n",
      "A value is trying to be set on a copy of a slice from a DataFrame\n",
      "\n",
      "See the caveats in the documentation: https://pandas.pydata.org/pandas-docs/stable/user_guide/indexing.html#returning-a-view-versus-a-copy\n",
      "d:\\BESVM\\BESVM\\.venv\\lib\\site-packages\\ipykernel_launcher.py:64: SettingWithCopyWarning: \n",
      "A value is trying to be set on a copy of a slice from a DataFrame\n",
      "\n",
      "See the caveats in the documentation: https://pandas.pydata.org/pandas-docs/stable/user_guide/indexing.html#returning-a-view-versus-a-copy\n"
     ]
    },
    {
     "name": "stdout",
     "output_type": "stream",
     "text": [
      "BESVM Accuracy (on training) = with x1 bounded error (0.2%*0.375),x2 with error (0.2%*0.625) : 0.9683645781943759\n",
      "BESVM Accuracy (on testing) = with x1 bounded error (0.2%*0.375),x2 with error (0.2%*0.625) : 0.969173859432799\n",
      "BESVM Accuracy (on subset_raw) = with no bounded error,x2 with no error 0.9880836575875487\n"
     ]
    },
    {
     "name": "stderr",
     "output_type": "stream",
     "text": [
      "d:\\BESVM\\BESVM\\.venv\\lib\\site-packages\\ipykernel_launcher.py:57: SettingWithCopyWarning: \n",
      "A value is trying to be set on a copy of a slice from a DataFrame\n",
      "\n",
      "See the caveats in the documentation: https://pandas.pydata.org/pandas-docs/stable/user_guide/indexing.html#returning-a-view-versus-a-copy\n",
      "d:\\BESVM\\BESVM\\.venv\\lib\\site-packages\\ipykernel_launcher.py:64: SettingWithCopyWarning: \n",
      "A value is trying to be set on a copy of a slice from a DataFrame\n",
      "\n",
      "See the caveats in the documentation: https://pandas.pydata.org/pandas-docs/stable/user_guide/indexing.html#returning-a-view-versus-a-copy\n"
     ]
    },
    {
     "name": "stdout",
     "output_type": "stream",
     "text": [
      "BESVM Accuracy (on training) = with x1 bounded error (0.2%*0.4166666666666667),x2 with error (0.2%*0.5833333333333334) : 0.9684262456832757\n",
      "BESVM Accuracy (on testing) = with x1 bounded error (0.2%*0.4166666666666667),x2 with error (0.2%*0.5833333333333334) : 0.9696670776818742\n",
      "BESVM Accuracy (on subset_raw) = with no bounded error,x2 with no error 0.9880836575875487\n"
     ]
    },
    {
     "name": "stderr",
     "output_type": "stream",
     "text": [
      "d:\\BESVM\\BESVM\\.venv\\lib\\site-packages\\ipykernel_launcher.py:57: SettingWithCopyWarning: \n",
      "A value is trying to be set on a copy of a slice from a DataFrame\n",
      "\n",
      "See the caveats in the documentation: https://pandas.pydata.org/pandas-docs/stable/user_guide/indexing.html#returning-a-view-versus-a-copy\n",
      "d:\\BESVM\\BESVM\\.venv\\lib\\site-packages\\ipykernel_launcher.py:64: SettingWithCopyWarning: \n",
      "A value is trying to be set on a copy of a slice from a DataFrame\n",
      "\n",
      "See the caveats in the documentation: https://pandas.pydata.org/pandas-docs/stable/user_guide/indexing.html#returning-a-view-versus-a-copy\n"
     ]
    },
    {
     "name": "stdout",
     "output_type": "stream",
     "text": [
      "BESVM Accuracy (on training) = with x1 bounded error (0.2%*0.4583333333333333),x2 with error (0.2%*0.5416666666666666) : 0.9667612234829798\n",
      "BESVM Accuracy (on testing) = with x1 bounded error (0.2%*0.4583333333333333),x2 with error (0.2%*0.5416666666666666) : 0.9672009864364981\n",
      "BESVM Accuracy (on subset_raw) = with no bounded error,x2 with no error 0.9880836575875487\n"
     ]
    },
    {
     "name": "stderr",
     "output_type": "stream",
     "text": [
      "d:\\BESVM\\BESVM\\.venv\\lib\\site-packages\\ipykernel_launcher.py:57: SettingWithCopyWarning: \n",
      "A value is trying to be set on a copy of a slice from a DataFrame\n",
      "\n",
      "See the caveats in the documentation: https://pandas.pydata.org/pandas-docs/stable/user_guide/indexing.html#returning-a-view-versus-a-copy\n",
      "d:\\BESVM\\BESVM\\.venv\\lib\\site-packages\\ipykernel_launcher.py:64: SettingWithCopyWarning: \n",
      "A value is trying to be set on a copy of a slice from a DataFrame\n",
      "\n",
      "See the caveats in the documentation: https://pandas.pydata.org/pandas-docs/stable/user_guide/indexing.html#returning-a-view-versus-a-copy\n"
     ]
    },
    {
     "name": "stdout",
     "output_type": "stream",
     "text": [
      "BESVM Accuracy (on training) = with x1 bounded error (0.2%*0.5),x2 with error (0.2%*0.5) : 0.9718796250616675\n",
      "BESVM Accuracy (on testing) = with x1 bounded error (0.2%*0.5),x2 with error (0.2%*0.5) : 0.9718865598027127\n",
      "BESVM Accuracy (on subset_raw) = with no bounded error,x2 with no error 0.9871108949416343\n"
     ]
    },
    {
     "name": "stderr",
     "output_type": "stream",
     "text": [
      "d:\\BESVM\\BESVM\\.venv\\lib\\site-packages\\ipykernel_launcher.py:57: SettingWithCopyWarning: \n",
      "A value is trying to be set on a copy of a slice from a DataFrame\n",
      "\n",
      "See the caveats in the documentation: https://pandas.pydata.org/pandas-docs/stable/user_guide/indexing.html#returning-a-view-versus-a-copy\n",
      "d:\\BESVM\\BESVM\\.venv\\lib\\site-packages\\ipykernel_launcher.py:64: SettingWithCopyWarning: \n",
      "A value is trying to be set on a copy of a slice from a DataFrame\n",
      "\n",
      "See the caveats in the documentation: https://pandas.pydata.org/pandas-docs/stable/user_guide/indexing.html#returning-a-view-versus-a-copy\n"
     ]
    },
    {
     "name": "stdout",
     "output_type": "stream",
     "text": [
      "BESVM Accuracy (on training) = with x1 bounded error (0.2%*0.5416666666666666),x2 with error (0.2%*0.4583333333333333) : 0.9649111988159842\n",
      "BESVM Accuracy (on testing) = with x1 bounded error (0.2%*0.5416666666666666),x2 with error (0.2%*0.4583333333333333) : 0.9657213316892725\n",
      "BESVM Accuracy (on subset_raw) = with no bounded error,x2 with no error 0.9873540856031129\n"
     ]
    },
    {
     "name": "stderr",
     "output_type": "stream",
     "text": [
      "d:\\BESVM\\BESVM\\.venv\\lib\\site-packages\\ipykernel_launcher.py:57: SettingWithCopyWarning: \n",
      "A value is trying to be set on a copy of a slice from a DataFrame\n",
      "\n",
      "See the caveats in the documentation: https://pandas.pydata.org/pandas-docs/stable/user_guide/indexing.html#returning-a-view-versus-a-copy\n",
      "d:\\BESVM\\BESVM\\.venv\\lib\\site-packages\\ipykernel_launcher.py:64: SettingWithCopyWarning: \n",
      "A value is trying to be set on a copy of a slice from a DataFrame\n",
      "\n",
      "See the caveats in the documentation: https://pandas.pydata.org/pandas-docs/stable/user_guide/indexing.html#returning-a-view-versus-a-copy\n"
     ]
    },
    {
     "name": "stdout",
     "output_type": "stream",
     "text": [
      "BESVM Accuracy (on training) = with x1 bounded error (0.2%*0.5833333333333334),x2 with error (0.2%*0.4166666666666667) : 0.969166255550074\n",
      "BESVM Accuracy (on testing) = with x1 bounded error (0.2%*0.5833333333333334),x2 with error (0.2%*0.4166666666666667) : 0.9704069050554871\n",
      "BESVM Accuracy (on subset_raw) = with no bounded error,x2 with no error 0.9880836575875487\n"
     ]
    },
    {
     "name": "stderr",
     "output_type": "stream",
     "text": [
      "d:\\BESVM\\BESVM\\.venv\\lib\\site-packages\\ipykernel_launcher.py:57: SettingWithCopyWarning: \n",
      "A value is trying to be set on a copy of a slice from a DataFrame\n",
      "\n",
      "See the caveats in the documentation: https://pandas.pydata.org/pandas-docs/stable/user_guide/indexing.html#returning-a-view-versus-a-copy\n",
      "d:\\BESVM\\BESVM\\.venv\\lib\\site-packages\\ipykernel_launcher.py:64: SettingWithCopyWarning: \n",
      "A value is trying to be set on a copy of a slice from a DataFrame\n",
      "\n",
      "See the caveats in the documentation: https://pandas.pydata.org/pandas-docs/stable/user_guide/indexing.html#returning-a-view-versus-a-copy\n"
     ]
    },
    {
     "name": "stdout",
     "output_type": "stream",
     "text": [
      "BESVM Accuracy (on training) = with x1 bounded error (0.2%*0.625),x2 with error (0.2%*0.375) : 0.9655895411938826\n",
      "BESVM Accuracy (on testing) = with x1 bounded error (0.2%*0.625),x2 with error (0.2%*0.375) : 0.9649815043156597\n",
      "BESVM Accuracy (on subset_raw) = with no bounded error,x2 with no error 0.9807879377431906\n"
     ]
    },
    {
     "name": "stderr",
     "output_type": "stream",
     "text": [
      "d:\\BESVM\\BESVM\\.venv\\lib\\site-packages\\ipykernel_launcher.py:57: SettingWithCopyWarning: \n",
      "A value is trying to be set on a copy of a slice from a DataFrame\n",
      "\n",
      "See the caveats in the documentation: https://pandas.pydata.org/pandas-docs/stable/user_guide/indexing.html#returning-a-view-versus-a-copy\n",
      "d:\\BESVM\\BESVM\\.venv\\lib\\site-packages\\ipykernel_launcher.py:64: SettingWithCopyWarning: \n",
      "A value is trying to be set on a copy of a slice from a DataFrame\n",
      "\n",
      "See the caveats in the documentation: https://pandas.pydata.org/pandas-docs/stable/user_guide/indexing.html#returning-a-view-versus-a-copy\n"
     ]
    },
    {
     "name": "stdout",
     "output_type": "stream",
     "text": [
      "BESVM Accuracy (on training) = with x1 bounded error (0.2%*0.6666666666666666),x2 with error (0.2%*0.3333333333333333) : 0.9689195855944746\n",
      "BESVM Accuracy (on testing) = with x1 bounded error (0.2%*0.6666666666666666),x2 with error (0.2%*0.3333333333333333) : 0.9704069050554871\n",
      "BESVM Accuracy (on subset_raw) = with no bounded error,x2 with no error 0.9880836575875487\n"
     ]
    },
    {
     "name": "stderr",
     "output_type": "stream",
     "text": [
      "d:\\BESVM\\BESVM\\.venv\\lib\\site-packages\\ipykernel_launcher.py:57: SettingWithCopyWarning: \n",
      "A value is trying to be set on a copy of a slice from a DataFrame\n",
      "\n",
      "See the caveats in the documentation: https://pandas.pydata.org/pandas-docs/stable/user_guide/indexing.html#returning-a-view-versus-a-copy\n",
      "d:\\BESVM\\BESVM\\.venv\\lib\\site-packages\\ipykernel_launcher.py:64: SettingWithCopyWarning: \n",
      "A value is trying to be set on a copy of a slice from a DataFrame\n",
      "\n",
      "See the caveats in the documentation: https://pandas.pydata.org/pandas-docs/stable/user_guide/indexing.html#returning-a-view-versus-a-copy\n"
     ]
    },
    {
     "name": "stdout",
     "output_type": "stream",
     "text": [
      "BESVM Accuracy (on training) = with x1 bounded error (0.2%*0.7083333333333334),x2 with error (0.2%*0.2916666666666667) : 0.9671928959052787\n",
      "BESVM Accuracy (on testing) = with x1 bounded error (0.2%*0.7083333333333334),x2 with error (0.2%*0.2916666666666667) : 0.9681874229346485\n",
      "BESVM Accuracy (on subset_raw) = with no bounded error,x2 with no error 0.9875972762645915\n"
     ]
    },
    {
     "name": "stderr",
     "output_type": "stream",
     "text": [
      "d:\\BESVM\\BESVM\\.venv\\lib\\site-packages\\ipykernel_launcher.py:57: SettingWithCopyWarning: \n",
      "A value is trying to be set on a copy of a slice from a DataFrame\n",
      "\n",
      "See the caveats in the documentation: https://pandas.pydata.org/pandas-docs/stable/user_guide/indexing.html#returning-a-view-versus-a-copy\n",
      "d:\\BESVM\\BESVM\\.venv\\lib\\site-packages\\ipykernel_launcher.py:64: SettingWithCopyWarning: \n",
      "A value is trying to be set on a copy of a slice from a DataFrame\n",
      "\n",
      "See the caveats in the documentation: https://pandas.pydata.org/pandas-docs/stable/user_guide/indexing.html#returning-a-view-versus-a-copy\n"
     ]
    },
    {
     "name": "stdout",
     "output_type": "stream",
     "text": [
      "BESVM Accuracy (on training) = with x1 bounded error (0.2%*0.75),x2 with error (0.2%*0.25) : 0.9689812530833745\n",
      "BESVM Accuracy (on testing) = with x1 bounded error (0.2%*0.75),x2 with error (0.2%*0.25) : 0.9699136868064119\n",
      "BESVM Accuracy (on subset_raw) = with no bounded error,x2 with no error 0.9880836575875487\n"
     ]
    },
    {
     "name": "stderr",
     "output_type": "stream",
     "text": [
      "d:\\BESVM\\BESVM\\.venv\\lib\\site-packages\\ipykernel_launcher.py:57: SettingWithCopyWarning: \n",
      "A value is trying to be set on a copy of a slice from a DataFrame\n",
      "\n",
      "See the caveats in the documentation: https://pandas.pydata.org/pandas-docs/stable/user_guide/indexing.html#returning-a-view-versus-a-copy\n",
      "d:\\BESVM\\BESVM\\.venv\\lib\\site-packages\\ipykernel_launcher.py:64: SettingWithCopyWarning: \n",
      "A value is trying to be set on a copy of a slice from a DataFrame\n",
      "\n",
      "See the caveats in the documentation: https://pandas.pydata.org/pandas-docs/stable/user_guide/indexing.html#returning-a-view-versus-a-copy\n"
     ]
    },
    {
     "name": "stdout",
     "output_type": "stream",
     "text": [
      "BESVM Accuracy (on training) = with x1 bounded error (0.2%*0.7916666666666666),x2 with error (0.2%*0.20833333333333334) : 0.9660828811050814\n",
      "BESVM Accuracy (on testing) = with x1 bounded error (0.2%*0.7916666666666666),x2 with error (0.2%*0.20833333333333334) : 0.9654747225647349\n",
      "BESVM Accuracy (on subset_raw) = with no bounded error,x2 with no error 0.9824902723735408\n"
     ]
    },
    {
     "name": "stderr",
     "output_type": "stream",
     "text": [
      "d:\\BESVM\\BESVM\\.venv\\lib\\site-packages\\ipykernel_launcher.py:57: SettingWithCopyWarning: \n",
      "A value is trying to be set on a copy of a slice from a DataFrame\n",
      "\n",
      "See the caveats in the documentation: https://pandas.pydata.org/pandas-docs/stable/user_guide/indexing.html#returning-a-view-versus-a-copy\n",
      "d:\\BESVM\\BESVM\\.venv\\lib\\site-packages\\ipykernel_launcher.py:64: SettingWithCopyWarning: \n",
      "A value is trying to be set on a copy of a slice from a DataFrame\n",
      "\n",
      "See the caveats in the documentation: https://pandas.pydata.org/pandas-docs/stable/user_guide/indexing.html#returning-a-view-versus-a-copy\n"
     ]
    },
    {
     "name": "stdout",
     "output_type": "stream",
     "text": [
      "BESVM Accuracy (on training) = with x1 bounded error (0.2%*0.8333333333333334),x2 with error (0.2%*0.16666666666666666) : 0.969597927972373\n",
      "BESVM Accuracy (on testing) = with x1 bounded error (0.2%*0.8333333333333334),x2 with error (0.2%*0.16666666666666666) : 0.9704069050554871\n",
      "BESVM Accuracy (on subset_raw) = with no bounded error,x2 with no error 0.9880836575875487\n"
     ]
    }
   ],
   "source": [
    "#brute force allocation\n",
    "#brute force from 15-360 degree using svm\n",
    "BE = 0.2\n",
    "for i in range(25) :\n",
    "    df_2feature_be = df_2feature_be_generates(BE,i,0)\n",
    "    x_be = df_2feature_be.iloc[:, :-1].values\n",
    "    y_be = df_2feature_be.iloc[:,-1].values\n",
    "    X_train,X_test,y_train, y_test = train_test_split(x_be, y_be, test_size=0.2,random_state=1)\n",
    "    clf_BE = SVC(kernel='linear',C=1,gamma='auto')\n",
    "    clf_BE.fit(X_train, y_train)\n",
    "    y_BE_predict = clf_BE.predict(X_test)\n",
    "    \n",
    "    result_BE_train = clf_BE.score(X_train, y_train)\n",
    "    result_BE_test = clf_BE.score(X_test, y_test)\n",
    "    subset_raw = clf_BE.score(subsample_x, subsample_y)\n",
    "    print('BESVM Accuracy (on training) = with x1 bounded error ('+str(BE)+'%*'+str((error_a[i]/(error_a[i]+error_b[i])))+'),x2 with error ('+str(BE)+'%*'+str((error_b[i]/(error_a[i]+error_b[i])))+') : '+str(result_BE_train))\n",
    "    print('BESVM Accuracy (on testing) = with x1 bounded error ('+str(BE)+'%*'+str((error_a[i]/(error_a[i]+error_b[i])))+'),x2 with error ('+str(BE)+'%*'+str((error_b[i]/(error_a[i]+error_b[i])))+') : '+str(result_BE_test))\n",
    "    print('BESVM Accuracy (on subset_raw) = with no bounded error,x2 with no error '+str(subset_raw))\n",
    "    "
   ]
  },
  {
   "cell_type": "markdown",
   "metadata": {},
   "source": [
    "#Knn"
   ]
  },
  {
   "cell_type": "code",
   "execution_count": 32,
   "metadata": {},
   "outputs": [
    {
     "name": "stderr",
     "output_type": "stream",
     "text": [
      "d:\\BESVM\\BESVM\\.venv\\lib\\site-packages\\ipykernel_launcher.py:25: SettingWithCopyWarning: \n",
      "A value is trying to be set on a copy of a slice from a DataFrame\n",
      "\n",
      "See the caveats in the documentation: https://pandas.pydata.org/pandas-docs/stable/user_guide/indexing.html#returning-a-view-versus-a-copy\n",
      "d:\\BESVM\\BESVM\\.venv\\lib\\site-packages\\ipykernel_launcher.py:32: SettingWithCopyWarning: \n",
      "A value is trying to be set on a copy of a slice from a DataFrame\n",
      "\n",
      "See the caveats in the documentation: https://pandas.pydata.org/pandas-docs/stable/user_guide/indexing.html#returning-a-view-versus-a-copy\n",
      "d:\\BESVM\\BESVM\\.venv\\lib\\site-packages\\ipykernel_launcher.py:39: SettingWithCopyWarning: \n",
      "A value is trying to be set on a copy of a slice from a DataFrame\n",
      "\n",
      "See the caveats in the documentation: https://pandas.pydata.org/pandas-docs/stable/user_guide/indexing.html#returning-a-view-versus-a-copy\n",
      "d:\\BESVM\\BESVM\\.venv\\lib\\site-packages\\ipykernel_launcher.py:46: SettingWithCopyWarning: \n",
      "A value is trying to be set on a copy of a slice from a DataFrame\n",
      "\n",
      "See the caveats in the documentation: https://pandas.pydata.org/pandas-docs/stable/user_guide/indexing.html#returning-a-view-versus-a-copy\n"
     ]
    },
    {
     "name": "stdout",
     "output_type": "stream",
     "text": [
      "BEKNN Accuracy (on training) = with x1 bounded error (0.2%*0.08241831878934744),x2 with error (0.2%*0.9175816812106525) : 0.9794657392333876\n",
      "BEKNN Accuracy (on testing) = with x1 bounded error (0.2%*0.08241831878934744),x2 with error (0.2%*0.9175816812106525) : 0.9748409057273938\n",
      "BEKNN Accuracy (on subset_raw) = with no bounded error,x2 with no error 0.9883268482490273\n"
     ]
    }
   ],
   "source": [
    "#using importanceReg as error allocation rate to predict by knn\n",
    "df_2feature_be = df_2feature_be_generates(BE,-1,0,importanceReg)\n",
    "x_be = df_2feature_be.iloc[:, :-1].values\n",
    "y_be = df_2feature_be.iloc[:,-1].values\n",
    "X_train,X_test,y_train, y_test = train_test_split(x_be, y_be, test_size=0.2,random_state=1)\n",
    "KNN_BE = KNeighborsClassifier()\n",
    "KNN_BE.fit(X_train, y_train)\n",
    "y_BE_predict = KNN_BE.predict(X_test)\n",
    "result_BE_train = KNN_BE.score(X_train, y_train)\n",
    "result_BE_test = KNN_BE.score(X_test, y_test)\n",
    "subset_raw = KNN_BE.score(subsample_x, subsample_y)\n",
    "print('BEKNN Accuracy (on training) = with x1 bounded error ('+str(BE)+'%*'+str(importanceReg[1])+'),x2 with error ('+str(BE)+'%*'+str(importanceReg[0])+') : '+str(result_BE_train))\n",
    "print('BEKNN Accuracy (on testing) = with x1 bounded error ('+str(BE)+'%*'+str(importanceReg[1])+'),x2 with error ('+str(BE)+'%*'+str(importanceReg[0])+') : '+str(result_BE_test))\n",
    "print('BEKNN Accuracy (on subset_raw) = with no bounded error,x2 with no error '+str(subset_raw))\n"
   ]
  },
  {
   "cell_type": "code",
   "execution_count": 33,
   "metadata": {},
   "outputs": [
    {
     "name": "stderr",
     "output_type": "stream",
     "text": [
      "d:\\BESVM\\BESVM\\.venv\\lib\\site-packages\\ipykernel_launcher.py:25: SettingWithCopyWarning: \n",
      "A value is trying to be set on a copy of a slice from a DataFrame\n",
      "\n",
      "See the caveats in the documentation: https://pandas.pydata.org/pandas-docs/stable/user_guide/indexing.html#returning-a-view-versus-a-copy\n",
      "d:\\BESVM\\BESVM\\.venv\\lib\\site-packages\\ipykernel_launcher.py:32: SettingWithCopyWarning: \n",
      "A value is trying to be set on a copy of a slice from a DataFrame\n",
      "\n",
      "See the caveats in the documentation: https://pandas.pydata.org/pandas-docs/stable/user_guide/indexing.html#returning-a-view-versus-a-copy\n",
      "d:\\BESVM\\BESVM\\.venv\\lib\\site-packages\\ipykernel_launcher.py:39: SettingWithCopyWarning: \n",
      "A value is trying to be set on a copy of a slice from a DataFrame\n",
      "\n",
      "See the caveats in the documentation: https://pandas.pydata.org/pandas-docs/stable/user_guide/indexing.html#returning-a-view-versus-a-copy\n",
      "d:\\BESVM\\BESVM\\.venv\\lib\\site-packages\\ipykernel_launcher.py:46: SettingWithCopyWarning: \n",
      "A value is trying to be set on a copy of a slice from a DataFrame\n",
      "\n",
      "See the caveats in the documentation: https://pandas.pydata.org/pandas-docs/stable/user_guide/indexing.html#returning-a-view-versus-a-copy\n"
     ]
    },
    {
     "name": "stdout",
     "output_type": "stream",
     "text": [
      "BEKNN Accuracy (on training) = with x1 bounded error (0.2%*0.16421503075688687),x2 with error (0.2%*0.8357849692431131) : 0.977652804499038\n",
      "BEKNN Accuracy (on testing) = with x1 bounded error (0.2%*0.16421503075688687),x2 with error (0.2%*0.8357849692431131) : 0.9749889003995856\n",
      "BEKNN Accuracy (on subset_raw) = with no bounded error,x2 with no error 0.9883268482490273\n"
     ]
    }
   ],
   "source": [
    "#using importancePermu as error allocation rate to predict by knn\n",
    "df_2feature_be = df_2feature_be_generates(BE,-1,0,importancePermu)\n",
    "x_be = df_2feature_be.iloc[:, :-1].values\n",
    "y_be = df_2feature_be.iloc[:,-1].values\n",
    "X_train,X_test,y_train, y_test = train_test_split(x_be, y_be, test_size=0.2,random_state=1)\n",
    "KNN_BE = KNeighborsClassifier()\n",
    "KNN_BE.fit(X_train, y_train)\n",
    "y_BE_predict = KNN_BE.predict(X_test)\n",
    "result_BE_train = KNN_BE.score(X_train, y_train)\n",
    "result_BE_test = KNN_BE.score(X_test, y_test)\n",
    "subset_raw = KNN_BE.score(subsample_x, subsample_y)\n",
    "print('BEKNN Accuracy (on training) = with x1 bounded error ('+str(BE)+'%*'+str(importancePermu[1])+'),x2 with error ('+str(BE)+'%*'+str(importancePermu[0])+') : '+str(result_BE_train))\n",
    "print('BEKNN Accuracy (on testing) = with x1 bounded error ('+str(BE)+'%*'+str(importancePermu[1])+'),x2 with error ('+str(BE)+'%*'+str(importancePermu[0])+') : '+str(result_BE_test))\n",
    "print('BEKNN Accuracy (on subset_raw) = with no bounded error,x2 with no error '+str(subset_raw))\n"
   ]
  },
  {
   "cell_type": "code",
   "execution_count": 34,
   "metadata": {},
   "outputs": [
    {
     "name": "stderr",
     "output_type": "stream",
     "text": [
      "d:\\BESVM\\BESVM\\.venv\\lib\\site-packages\\ipykernel_launcher.py:25: SettingWithCopyWarning: \n",
      "A value is trying to be set on a copy of a slice from a DataFrame\n",
      "\n",
      "See the caveats in the documentation: https://pandas.pydata.org/pandas-docs/stable/user_guide/indexing.html#returning-a-view-versus-a-copy\n",
      "d:\\BESVM\\BESVM\\.venv\\lib\\site-packages\\ipykernel_launcher.py:32: SettingWithCopyWarning: \n",
      "A value is trying to be set on a copy of a slice from a DataFrame\n",
      "\n",
      "See the caveats in the documentation: https://pandas.pydata.org/pandas-docs/stable/user_guide/indexing.html#returning-a-view-versus-a-copy\n",
      "d:\\BESVM\\BESVM\\.venv\\lib\\site-packages\\ipykernel_launcher.py:39: SettingWithCopyWarning: \n",
      "A value is trying to be set on a copy of a slice from a DataFrame\n",
      "\n",
      "See the caveats in the documentation: https://pandas.pydata.org/pandas-docs/stable/user_guide/indexing.html#returning-a-view-versus-a-copy\n",
      "d:\\BESVM\\BESVM\\.venv\\lib\\site-packages\\ipykernel_launcher.py:46: SettingWithCopyWarning: \n",
      "A value is trying to be set on a copy of a slice from a DataFrame\n",
      "\n",
      "See the caveats in the documentation: https://pandas.pydata.org/pandas-docs/stable/user_guide/indexing.html#returning-a-view-versus-a-copy\n"
     ]
    },
    {
     "name": "stdout",
     "output_type": "stream",
     "text": [
      "BEKNN Accuracy (on training) = with x1 bounded error (0.2%*0.03863890967855284),x2 with error (0.2%*0.9613610903214472) : 0.9825736273494154\n",
      "BEKNN Accuracy (on testing) = with x1 bounded error (0.2%*0.03863890967855284),x2 with error (0.2%*0.9613610903214472) : 0.9751368950717774\n",
      "BEKNN Accuracy (on subset_raw) = with no bounded error,x2 with no error 0.9895428015564203\n"
     ]
    }
   ],
   "source": [
    "#using importanceDTree as error allocation rate to predict by knn\n",
    "df_2feature_be = df_2feature_be_generates(BE,-1,0,importanceDTree)\n",
    "x_be = df_2feature_be.iloc[:, :-1].values\n",
    "y_be = df_2feature_be.iloc[:,-1].values\n",
    "X_train,X_test,y_train, y_test = train_test_split(x_be, y_be, test_size=0.2,random_state=1)\n",
    "KNN_BE = KNeighborsClassifier()\n",
    "KNN_BE.fit(X_train, y_train)\n",
    "y_BE_predict = KNN_BE.predict(X_test)\n",
    "result_BE_train = KNN_BE.score(X_train, y_train)\n",
    "result_BE_test = KNN_BE.score(X_test, y_test)\n",
    "subset_raw = KNN_BE.score(subsample_x, subsample_y)\n",
    "print('BEKNN Accuracy (on training) = with x1 bounded error ('+str(BE)+'%*'+str(importanceDTree[1])+'),x2 with error ('+str(BE)+'%*'+str(importanceDTree[0])+') : '+str(result_BE_train))\n",
    "print('BEKNN Accuracy (on testing) = with x1 bounded error ('+str(BE)+'%*'+str(importanceDTree[1])+'),x2 with error ('+str(BE)+'%*'+str(importanceDTree[0])+') : '+str(result_BE_test))\n",
    "print('BEKNN Accuracy (on subset_raw) = with no bounded error,x2 with no error '+str(subset_raw))\n"
   ]
  },
  {
   "cell_type": "code",
   "execution_count": 39,
   "metadata": {},
   "outputs": [
    {
     "name": "stderr",
     "output_type": "stream",
     "text": [
      "d:\\BESVM\\BESVM\\.venv\\lib\\site-packages\\ipykernel_launcher.py:57: SettingWithCopyWarning: \n",
      "A value is trying to be set on a copy of a slice from a DataFrame\n",
      "\n",
      "See the caveats in the documentation: https://pandas.pydata.org/pandas-docs/stable/user_guide/indexing.html#returning-a-view-versus-a-copy\n",
      "d:\\BESVM\\BESVM\\.venv\\lib\\site-packages\\ipykernel_launcher.py:64: SettingWithCopyWarning: \n",
      "A value is trying to be set on a copy of a slice from a DataFrame\n",
      "\n",
      "See the caveats in the documentation: https://pandas.pydata.org/pandas-docs/stable/user_guide/indexing.html#returning-a-view-versus-a-copy\n"
     ]
    },
    {
     "name": "stdout",
     "output_type": "stream",
     "text": [
      "BEKNN Accuracy (on training) = with x1 bounded error (0.2%*0.0),x2 with error (0.2%*1.0) : 0.9759496793290577\n",
      "BEKNN Accuracy (on testing) = with x1 bounded error (0.2%*0.0),x2 with error (0.2%*1.0) : 0.9721331689272503\n",
      "BEKNN Accuracy (on subset_raw) = with no bounded error,x2 with no error 0.9892996108949417\n"
     ]
    },
    {
     "name": "stderr",
     "output_type": "stream",
     "text": [
      "d:\\BESVM\\BESVM\\.venv\\lib\\site-packages\\ipykernel_launcher.py:57: SettingWithCopyWarning: \n",
      "A value is trying to be set on a copy of a slice from a DataFrame\n",
      "\n",
      "See the caveats in the documentation: https://pandas.pydata.org/pandas-docs/stable/user_guide/indexing.html#returning-a-view-versus-a-copy\n",
      "d:\\BESVM\\BESVM\\.venv\\lib\\site-packages\\ipykernel_launcher.py:64: SettingWithCopyWarning: \n",
      "A value is trying to be set on a copy of a slice from a DataFrame\n",
      "\n",
      "See the caveats in the documentation: https://pandas.pydata.org/pandas-docs/stable/user_guide/indexing.html#returning-a-view-versus-a-copy\n"
     ]
    },
    {
     "name": "stdout",
     "output_type": "stream",
     "text": [
      "BEKNN Accuracy (on training) = with x1 bounded error (0.2%*0.041666666666666664),x2 with error (0.2%*0.9583333333333334) : 0.9760113468179575\n",
      "BEKNN Accuracy (on testing) = with x1 bounded error (0.2%*0.041666666666666664),x2 with error (0.2%*0.9583333333333334) : 0.9711467324290999\n",
      "BEKNN Accuracy (on subset_raw) = with no bounded error,x2 with no error 0.9883268482490273\n"
     ]
    },
    {
     "name": "stderr",
     "output_type": "stream",
     "text": [
      "d:\\BESVM\\BESVM\\.venv\\lib\\site-packages\\ipykernel_launcher.py:57: SettingWithCopyWarning: \n",
      "A value is trying to be set on a copy of a slice from a DataFrame\n",
      "\n",
      "See the caveats in the documentation: https://pandas.pydata.org/pandas-docs/stable/user_guide/indexing.html#returning-a-view-versus-a-copy\n",
      "d:\\BESVM\\BESVM\\.venv\\lib\\site-packages\\ipykernel_launcher.py:64: SettingWithCopyWarning: \n",
      "A value is trying to be set on a copy of a slice from a DataFrame\n",
      "\n",
      "See the caveats in the documentation: https://pandas.pydata.org/pandas-docs/stable/user_guide/indexing.html#returning-a-view-versus-a-copy\n"
     ]
    },
    {
     "name": "stdout",
     "output_type": "stream",
     "text": [
      "BEKNN Accuracy (on training) = with x1 bounded error (0.2%*0.08333333333333333),x2 with error (0.2%*0.9166666666666666) : 0.9760730143068574\n",
      "BEKNN Accuracy (on testing) = with x1 bounded error (0.2%*0.08333333333333333),x2 with error (0.2%*0.9166666666666666) : 0.9711467324290999\n",
      "BEKNN Accuracy (on subset_raw) = with no bounded error,x2 with no error 0.9892996108949417\n"
     ]
    },
    {
     "name": "stderr",
     "output_type": "stream",
     "text": [
      "d:\\BESVM\\BESVM\\.venv\\lib\\site-packages\\ipykernel_launcher.py:57: SettingWithCopyWarning: \n",
      "A value is trying to be set on a copy of a slice from a DataFrame\n",
      "\n",
      "See the caveats in the documentation: https://pandas.pydata.org/pandas-docs/stable/user_guide/indexing.html#returning-a-view-versus-a-copy\n",
      "d:\\BESVM\\BESVM\\.venv\\lib\\site-packages\\ipykernel_launcher.py:64: SettingWithCopyWarning: \n",
      "A value is trying to be set on a copy of a slice from a DataFrame\n",
      "\n",
      "See the caveats in the documentation: https://pandas.pydata.org/pandas-docs/stable/user_guide/indexing.html#returning-a-view-versus-a-copy\n"
     ]
    },
    {
     "name": "stdout",
     "output_type": "stream",
     "text": [
      "BEKNN Accuracy (on training) = with x1 bounded error (0.2%*0.125),x2 with error (0.2%*0.875) : 0.9760113468179575\n",
      "BEKNN Accuracy (on testing) = with x1 bounded error (0.2%*0.125),x2 with error (0.2%*0.875) : 0.9711467324290999\n",
      "BEKNN Accuracy (on subset_raw) = with no bounded error,x2 with no error 0.9890564202334631\n"
     ]
    },
    {
     "name": "stderr",
     "output_type": "stream",
     "text": [
      "d:\\BESVM\\BESVM\\.venv\\lib\\site-packages\\ipykernel_launcher.py:57: SettingWithCopyWarning: \n",
      "A value is trying to be set on a copy of a slice from a DataFrame\n",
      "\n",
      "See the caveats in the documentation: https://pandas.pydata.org/pandas-docs/stable/user_guide/indexing.html#returning-a-view-versus-a-copy\n",
      "d:\\BESVM\\BESVM\\.venv\\lib\\site-packages\\ipykernel_launcher.py:64: SettingWithCopyWarning: \n",
      "A value is trying to be set on a copy of a slice from a DataFrame\n",
      "\n",
      "See the caveats in the documentation: https://pandas.pydata.org/pandas-docs/stable/user_guide/indexing.html#returning-a-view-versus-a-copy\n"
     ]
    },
    {
     "name": "stdout",
     "output_type": "stream",
     "text": [
      "BEKNN Accuracy (on training) = with x1 bounded error (0.2%*0.16666666666666666),x2 with error (0.2%*0.8333333333333334) : 0.9759496793290577\n",
      "BEKNN Accuracy (on testing) = with x1 bounded error (0.2%*0.16666666666666666),x2 with error (0.2%*0.8333333333333334) : 0.9713933415536374\n",
      "BEKNN Accuracy (on subset_raw) = with no bounded error,x2 with no error 0.9885700389105059\n"
     ]
    },
    {
     "name": "stderr",
     "output_type": "stream",
     "text": [
      "d:\\BESVM\\BESVM\\.venv\\lib\\site-packages\\ipykernel_launcher.py:57: SettingWithCopyWarning: \n",
      "A value is trying to be set on a copy of a slice from a DataFrame\n",
      "\n",
      "See the caveats in the documentation: https://pandas.pydata.org/pandas-docs/stable/user_guide/indexing.html#returning-a-view-versus-a-copy\n",
      "d:\\BESVM\\BESVM\\.venv\\lib\\site-packages\\ipykernel_launcher.py:64: SettingWithCopyWarning: \n",
      "A value is trying to be set on a copy of a slice from a DataFrame\n",
      "\n",
      "See the caveats in the documentation: https://pandas.pydata.org/pandas-docs/stable/user_guide/indexing.html#returning-a-view-versus-a-copy\n"
     ]
    },
    {
     "name": "stdout",
     "output_type": "stream",
     "text": [
      "BEKNN Accuracy (on training) = with x1 bounded error (0.2%*0.20833333333333334),x2 with error (0.2%*0.7916666666666666) : 0.9761346817957572\n",
      "BEKNN Accuracy (on testing) = with x1 bounded error (0.2%*0.20833333333333334),x2 with error (0.2%*0.7916666666666666) : 0.9723797780517879\n",
      "BEKNN Accuracy (on subset_raw) = with no bounded error,x2 with no error 0.9888132295719845\n"
     ]
    },
    {
     "name": "stderr",
     "output_type": "stream",
     "text": [
      "d:\\BESVM\\BESVM\\.venv\\lib\\site-packages\\ipykernel_launcher.py:57: SettingWithCopyWarning: \n",
      "A value is trying to be set on a copy of a slice from a DataFrame\n",
      "\n",
      "See the caveats in the documentation: https://pandas.pydata.org/pandas-docs/stable/user_guide/indexing.html#returning-a-view-versus-a-copy\n",
      "d:\\BESVM\\BESVM\\.venv\\lib\\site-packages\\ipykernel_launcher.py:64: SettingWithCopyWarning: \n",
      "A value is trying to be set on a copy of a slice from a DataFrame\n",
      "\n",
      "See the caveats in the documentation: https://pandas.pydata.org/pandas-docs/stable/user_guide/indexing.html#returning-a-view-versus-a-copy\n"
     ]
    },
    {
     "name": "stdout",
     "output_type": "stream",
     "text": [
      "BEKNN Accuracy (on training) = with x1 bounded error (0.2%*0.25),x2 with error (0.2%*0.75) : 0.9768130241736557\n",
      "BEKNN Accuracy (on testing) = with x1 bounded error (0.2%*0.25),x2 with error (0.2%*0.75) : 0.9711467324290999\n",
      "BEKNN Accuracy (on subset_raw) = with no bounded error,x2 with no error 0.9885700389105059\n"
     ]
    },
    {
     "name": "stderr",
     "output_type": "stream",
     "text": [
      "d:\\BESVM\\BESVM\\.venv\\lib\\site-packages\\ipykernel_launcher.py:57: SettingWithCopyWarning: \n",
      "A value is trying to be set on a copy of a slice from a DataFrame\n",
      "\n",
      "See the caveats in the documentation: https://pandas.pydata.org/pandas-docs/stable/user_guide/indexing.html#returning-a-view-versus-a-copy\n",
      "d:\\BESVM\\BESVM\\.venv\\lib\\site-packages\\ipykernel_launcher.py:64: SettingWithCopyWarning: \n",
      "A value is trying to be set on a copy of a slice from a DataFrame\n",
      "\n",
      "See the caveats in the documentation: https://pandas.pydata.org/pandas-docs/stable/user_guide/indexing.html#returning-a-view-versus-a-copy\n"
     ]
    },
    {
     "name": "stdout",
     "output_type": "stream",
     "text": [
      "BEKNN Accuracy (on training) = with x1 bounded error (0.2%*0.2916666666666667),x2 with error (0.2%*0.7083333333333334) : 0.9768130241736557\n",
      "BEKNN Accuracy (on testing) = with x1 bounded error (0.2%*0.2916666666666667),x2 with error (0.2%*0.7083333333333334) : 0.9718865598027127\n",
      "BEKNN Accuracy (on subset_raw) = with no bounded error,x2 with no error 0.9890564202334631\n"
     ]
    },
    {
     "name": "stderr",
     "output_type": "stream",
     "text": [
      "d:\\BESVM\\BESVM\\.venv\\lib\\site-packages\\ipykernel_launcher.py:57: SettingWithCopyWarning: \n",
      "A value is trying to be set on a copy of a slice from a DataFrame\n",
      "\n",
      "See the caveats in the documentation: https://pandas.pydata.org/pandas-docs/stable/user_guide/indexing.html#returning-a-view-versus-a-copy\n",
      "d:\\BESVM\\BESVM\\.venv\\lib\\site-packages\\ipykernel_launcher.py:64: SettingWithCopyWarning: \n",
      "A value is trying to be set on a copy of a slice from a DataFrame\n",
      "\n",
      "See the caveats in the documentation: https://pandas.pydata.org/pandas-docs/stable/user_guide/indexing.html#returning-a-view-versus-a-copy\n"
     ]
    },
    {
     "name": "stdout",
     "output_type": "stream",
     "text": [
      "BEKNN Accuracy (on training) = with x1 bounded error (0.2%*0.3333333333333333),x2 with error (0.2%*0.6666666666666666) : 0.9768746916625555\n",
      "BEKNN Accuracy (on testing) = with x1 bounded error (0.2%*0.3333333333333333),x2 with error (0.2%*0.6666666666666666) : 0.9721331689272503\n",
      "BEKNN Accuracy (on subset_raw) = with no bounded error,x2 with no error 0.9890564202334631\n"
     ]
    },
    {
     "name": "stderr",
     "output_type": "stream",
     "text": [
      "d:\\BESVM\\BESVM\\.venv\\lib\\site-packages\\ipykernel_launcher.py:57: SettingWithCopyWarning: \n",
      "A value is trying to be set on a copy of a slice from a DataFrame\n",
      "\n",
      "See the caveats in the documentation: https://pandas.pydata.org/pandas-docs/stable/user_guide/indexing.html#returning-a-view-versus-a-copy\n",
      "d:\\BESVM\\BESVM\\.venv\\lib\\site-packages\\ipykernel_launcher.py:64: SettingWithCopyWarning: \n",
      "A value is trying to be set on a copy of a slice from a DataFrame\n",
      "\n",
      "See the caveats in the documentation: https://pandas.pydata.org/pandas-docs/stable/user_guide/indexing.html#returning-a-view-versus-a-copy\n"
     ]
    },
    {
     "name": "stdout",
     "output_type": "stream",
     "text": [
      "BEKNN Accuracy (on training) = with x1 bounded error (0.2%*0.375),x2 with error (0.2%*0.625) : 0.9768130241736557\n",
      "BEKNN Accuracy (on testing) = with x1 bounded error (0.2%*0.375),x2 with error (0.2%*0.625) : 0.9723797780517879\n",
      "BEKNN Accuracy (on subset_raw) = with no bounded error,x2 with no error 0.9888132295719845\n"
     ]
    },
    {
     "name": "stderr",
     "output_type": "stream",
     "text": [
      "d:\\BESVM\\BESVM\\.venv\\lib\\site-packages\\ipykernel_launcher.py:57: SettingWithCopyWarning: \n",
      "A value is trying to be set on a copy of a slice from a DataFrame\n",
      "\n",
      "See the caveats in the documentation: https://pandas.pydata.org/pandas-docs/stable/user_guide/indexing.html#returning-a-view-versus-a-copy\n",
      "d:\\BESVM\\BESVM\\.venv\\lib\\site-packages\\ipykernel_launcher.py:64: SettingWithCopyWarning: \n",
      "A value is trying to be set on a copy of a slice from a DataFrame\n",
      "\n",
      "See the caveats in the documentation: https://pandas.pydata.org/pandas-docs/stable/user_guide/indexing.html#returning-a-view-versus-a-copy\n"
     ]
    },
    {
     "name": "stdout",
     "output_type": "stream",
     "text": [
      "BEKNN Accuracy (on training) = with x1 bounded error (0.2%*0.4166666666666667),x2 with error (0.2%*0.5833333333333334) : 0.976689689195856\n",
      "BEKNN Accuracy (on testing) = with x1 bounded error (0.2%*0.4166666666666667),x2 with error (0.2%*0.5833333333333334) : 0.9718865598027127\n",
      "BEKNN Accuracy (on subset_raw) = with no bounded error,x2 with no error 0.9897859922178989\n"
     ]
    },
    {
     "name": "stderr",
     "output_type": "stream",
     "text": [
      "d:\\BESVM\\BESVM\\.venv\\lib\\site-packages\\ipykernel_launcher.py:57: SettingWithCopyWarning: \n",
      "A value is trying to be set on a copy of a slice from a DataFrame\n",
      "\n",
      "See the caveats in the documentation: https://pandas.pydata.org/pandas-docs/stable/user_guide/indexing.html#returning-a-view-versus-a-copy\n",
      "d:\\BESVM\\BESVM\\.venv\\lib\\site-packages\\ipykernel_launcher.py:64: SettingWithCopyWarning: \n",
      "A value is trying to be set on a copy of a slice from a DataFrame\n",
      "\n",
      "See the caveats in the documentation: https://pandas.pydata.org/pandas-docs/stable/user_guide/indexing.html#returning-a-view-versus-a-copy\n"
     ]
    },
    {
     "name": "stdout",
     "output_type": "stream",
     "text": [
      "BEKNN Accuracy (on training) = with x1 bounded error (0.2%*0.4583333333333333),x2 with error (0.2%*0.5416666666666666) : 0.9768746916625555\n",
      "BEKNN Accuracy (on testing) = with x1 bounded error (0.2%*0.4583333333333333),x2 with error (0.2%*0.5416666666666666) : 0.9716399506781751\n",
      "BEKNN Accuracy (on subset_raw) = with no bounded error,x2 with no error 0.9892996108949417\n"
     ]
    },
    {
     "name": "stderr",
     "output_type": "stream",
     "text": [
      "d:\\BESVM\\BESVM\\.venv\\lib\\site-packages\\ipykernel_launcher.py:57: SettingWithCopyWarning: \n",
      "A value is trying to be set on a copy of a slice from a DataFrame\n",
      "\n",
      "See the caveats in the documentation: https://pandas.pydata.org/pandas-docs/stable/user_guide/indexing.html#returning-a-view-versus-a-copy\n",
      "d:\\BESVM\\BESVM\\.venv\\lib\\site-packages\\ipykernel_launcher.py:64: SettingWithCopyWarning: \n",
      "A value is trying to be set on a copy of a slice from a DataFrame\n",
      "\n",
      "See the caveats in the documentation: https://pandas.pydata.org/pandas-docs/stable/user_guide/indexing.html#returning-a-view-versus-a-copy\n"
     ]
    },
    {
     "name": "stdout",
     "output_type": "stream",
     "text": [
      "BEKNN Accuracy (on training) = with x1 bounded error (0.2%*0.5),x2 with error (0.2%*0.5) : 0.976689689195856\n",
      "BEKNN Accuracy (on testing) = with x1 bounded error (0.2%*0.5),x2 with error (0.2%*0.5) : 0.9709001233045623\n",
      "BEKNN Accuracy (on subset_raw) = with no bounded error,x2 with no error 0.9883268482490273\n"
     ]
    },
    {
     "name": "stderr",
     "output_type": "stream",
     "text": [
      "d:\\BESVM\\BESVM\\.venv\\lib\\site-packages\\ipykernel_launcher.py:57: SettingWithCopyWarning: \n",
      "A value is trying to be set on a copy of a slice from a DataFrame\n",
      "\n",
      "See the caveats in the documentation: https://pandas.pydata.org/pandas-docs/stable/user_guide/indexing.html#returning-a-view-versus-a-copy\n",
      "d:\\BESVM\\BESVM\\.venv\\lib\\site-packages\\ipykernel_launcher.py:64: SettingWithCopyWarning: \n",
      "A value is trying to be set on a copy of a slice from a DataFrame\n",
      "\n",
      "See the caveats in the documentation: https://pandas.pydata.org/pandas-docs/stable/user_guide/indexing.html#returning-a-view-versus-a-copy\n"
     ]
    },
    {
     "name": "stdout",
     "output_type": "stream",
     "text": [
      "BEKNN Accuracy (on training) = with x1 bounded error (0.2%*0.5416666666666666),x2 with error (0.2%*0.4583333333333333) : 0.9768746916625555\n",
      "BEKNN Accuracy (on testing) = with x1 bounded error (0.2%*0.5416666666666666),x2 with error (0.2%*0.4583333333333333) : 0.9726263871763255\n",
      "BEKNN Accuracy (on subset_raw) = with no bounded error,x2 with no error 0.9888132295719845\n"
     ]
    },
    {
     "name": "stderr",
     "output_type": "stream",
     "text": [
      "d:\\BESVM\\BESVM\\.venv\\lib\\site-packages\\ipykernel_launcher.py:57: SettingWithCopyWarning: \n",
      "A value is trying to be set on a copy of a slice from a DataFrame\n",
      "\n",
      "See the caveats in the documentation: https://pandas.pydata.org/pandas-docs/stable/user_guide/indexing.html#returning-a-view-versus-a-copy\n",
      "d:\\BESVM\\BESVM\\.venv\\lib\\site-packages\\ipykernel_launcher.py:64: SettingWithCopyWarning: \n",
      "A value is trying to be set on a copy of a slice from a DataFrame\n",
      "\n",
      "See the caveats in the documentation: https://pandas.pydata.org/pandas-docs/stable/user_guide/indexing.html#returning-a-view-versus-a-copy\n"
     ]
    },
    {
     "name": "stdout",
     "output_type": "stream",
     "text": [
      "BEKNN Accuracy (on training) = with x1 bounded error (0.2%*0.5833333333333334),x2 with error (0.2%*0.4166666666666667) : 0.9774296990626542\n",
      "BEKNN Accuracy (on testing) = with x1 bounded error (0.2%*0.5833333333333334),x2 with error (0.2%*0.4166666666666667) : 0.9728729963008631\n",
      "BEKNN Accuracy (on subset_raw) = with no bounded error,x2 with no error 0.9892996108949417\n"
     ]
    },
    {
     "name": "stderr",
     "output_type": "stream",
     "text": [
      "d:\\BESVM\\BESVM\\.venv\\lib\\site-packages\\ipykernel_launcher.py:57: SettingWithCopyWarning: \n",
      "A value is trying to be set on a copy of a slice from a DataFrame\n",
      "\n",
      "See the caveats in the documentation: https://pandas.pydata.org/pandas-docs/stable/user_guide/indexing.html#returning-a-view-versus-a-copy\n",
      "d:\\BESVM\\BESVM\\.venv\\lib\\site-packages\\ipykernel_launcher.py:64: SettingWithCopyWarning: \n",
      "A value is trying to be set on a copy of a slice from a DataFrame\n",
      "\n",
      "See the caveats in the documentation: https://pandas.pydata.org/pandas-docs/stable/user_guide/indexing.html#returning-a-view-versus-a-copy\n"
     ]
    },
    {
     "name": "stdout",
     "output_type": "stream",
     "text": [
      "BEKNN Accuracy (on training) = with x1 bounded error (0.2%*0.625),x2 with error (0.2%*0.375) : 0.9767513566847558\n",
      "BEKNN Accuracy (on testing) = with x1 bounded error (0.2%*0.625),x2 with error (0.2%*0.375) : 0.9721331689272503\n",
      "BEKNN Accuracy (on subset_raw) = with no bounded error,x2 with no error 0.9895428015564203\n"
     ]
    },
    {
     "name": "stderr",
     "output_type": "stream",
     "text": [
      "d:\\BESVM\\BESVM\\.venv\\lib\\site-packages\\ipykernel_launcher.py:57: SettingWithCopyWarning: \n",
      "A value is trying to be set on a copy of a slice from a DataFrame\n",
      "\n",
      "See the caveats in the documentation: https://pandas.pydata.org/pandas-docs/stable/user_guide/indexing.html#returning-a-view-versus-a-copy\n",
      "d:\\BESVM\\BESVM\\.venv\\lib\\site-packages\\ipykernel_launcher.py:64: SettingWithCopyWarning: \n",
      "A value is trying to be set on a copy of a slice from a DataFrame\n",
      "\n",
      "See the caveats in the documentation: https://pandas.pydata.org/pandas-docs/stable/user_guide/indexing.html#returning-a-view-versus-a-copy\n"
     ]
    },
    {
     "name": "stdout",
     "output_type": "stream",
     "text": [
      "BEKNN Accuracy (on training) = with x1 bounded error (0.2%*0.6666666666666666),x2 with error (0.2%*0.3333333333333333) : 0.977923038973853\n",
      "BEKNN Accuracy (on testing) = with x1 bounded error (0.2%*0.6666666666666666),x2 with error (0.2%*0.3333333333333333) : 0.9721331689272503\n",
      "BEKNN Accuracy (on subset_raw) = with no bounded error,x2 with no error 0.9890564202334631\n"
     ]
    },
    {
     "name": "stderr",
     "output_type": "stream",
     "text": [
      "d:\\BESVM\\BESVM\\.venv\\lib\\site-packages\\ipykernel_launcher.py:57: SettingWithCopyWarning: \n",
      "A value is trying to be set on a copy of a slice from a DataFrame\n",
      "\n",
      "See the caveats in the documentation: https://pandas.pydata.org/pandas-docs/stable/user_guide/indexing.html#returning-a-view-versus-a-copy\n",
      "d:\\BESVM\\BESVM\\.venv\\lib\\site-packages\\ipykernel_launcher.py:64: SettingWithCopyWarning: \n",
      "A value is trying to be set on a copy of a slice from a DataFrame\n",
      "\n",
      "See the caveats in the documentation: https://pandas.pydata.org/pandas-docs/stable/user_guide/indexing.html#returning-a-view-versus-a-copy\n"
     ]
    },
    {
     "name": "stdout",
     "output_type": "stream",
     "text": [
      "BEKNN Accuracy (on training) = with x1 bounded error (0.2%*0.7083333333333334),x2 with error (0.2%*0.2916666666666667) : 0.9776147015293537\n",
      "BEKNN Accuracy (on testing) = with x1 bounded error (0.2%*0.7083333333333334),x2 with error (0.2%*0.2916666666666667) : 0.9723797780517879\n",
      "BEKNN Accuracy (on subset_raw) = with no bounded error,x2 with no error 0.9895428015564203\n"
     ]
    },
    {
     "name": "stderr",
     "output_type": "stream",
     "text": [
      "d:\\BESVM\\BESVM\\.venv\\lib\\site-packages\\ipykernel_launcher.py:57: SettingWithCopyWarning: \n",
      "A value is trying to be set on a copy of a slice from a DataFrame\n",
      "\n",
      "See the caveats in the documentation: https://pandas.pydata.org/pandas-docs/stable/user_guide/indexing.html#returning-a-view-versus-a-copy\n",
      "d:\\BESVM\\BESVM\\.venv\\lib\\site-packages\\ipykernel_launcher.py:64: SettingWithCopyWarning: \n",
      "A value is trying to be set on a copy of a slice from a DataFrame\n",
      "\n",
      "See the caveats in the documentation: https://pandas.pydata.org/pandas-docs/stable/user_guide/indexing.html#returning-a-view-versus-a-copy\n"
     ]
    },
    {
     "name": "stdout",
     "output_type": "stream",
     "text": [
      "BEKNN Accuracy (on training) = with x1 bounded error (0.2%*0.75),x2 with error (0.2%*0.25) : 0.9773063640848545\n",
      "BEKNN Accuracy (on testing) = with x1 bounded error (0.2%*0.75),x2 with error (0.2%*0.25) : 0.9726263871763255\n",
      "BEKNN Accuracy (on subset_raw) = with no bounded error,x2 with no error 0.9885700389105059\n"
     ]
    },
    {
     "name": "stderr",
     "output_type": "stream",
     "text": [
      "d:\\BESVM\\BESVM\\.venv\\lib\\site-packages\\ipykernel_launcher.py:57: SettingWithCopyWarning: \n",
      "A value is trying to be set on a copy of a slice from a DataFrame\n",
      "\n",
      "See the caveats in the documentation: https://pandas.pydata.org/pandas-docs/stable/user_guide/indexing.html#returning-a-view-versus-a-copy\n",
      "d:\\BESVM\\BESVM\\.venv\\lib\\site-packages\\ipykernel_launcher.py:64: SettingWithCopyWarning: \n",
      "A value is trying to be set on a copy of a slice from a DataFrame\n",
      "\n",
      "See the caveats in the documentation: https://pandas.pydata.org/pandas-docs/stable/user_guide/indexing.html#returning-a-view-versus-a-copy\n"
     ]
    },
    {
     "name": "stdout",
     "output_type": "stream",
     "text": [
      "BEKNN Accuracy (on training) = with x1 bounded error (0.2%*0.7916666666666666),x2 with error (0.2%*0.20833333333333334) : 0.9779847064627528\n",
      "BEKNN Accuracy (on testing) = with x1 bounded error (0.2%*0.7916666666666666),x2 with error (0.2%*0.20833333333333334) : 0.9738594327990135\n",
      "BEKNN Accuracy (on subset_raw) = with no bounded error,x2 with no error 0.9888132295719845\n"
     ]
    },
    {
     "name": "stderr",
     "output_type": "stream",
     "text": [
      "d:\\BESVM\\BESVM\\.venv\\lib\\site-packages\\ipykernel_launcher.py:57: SettingWithCopyWarning: \n",
      "A value is trying to be set on a copy of a slice from a DataFrame\n",
      "\n",
      "See the caveats in the documentation: https://pandas.pydata.org/pandas-docs/stable/user_guide/indexing.html#returning-a-view-versus-a-copy\n",
      "d:\\BESVM\\BESVM\\.venv\\lib\\site-packages\\ipykernel_launcher.py:64: SettingWithCopyWarning: \n",
      "A value is trying to be set on a copy of a slice from a DataFrame\n",
      "\n",
      "See the caveats in the documentation: https://pandas.pydata.org/pandas-docs/stable/user_guide/indexing.html#returning-a-view-versus-a-copy\n"
     ]
    },
    {
     "name": "stdout",
     "output_type": "stream",
     "text": [
      "BEKNN Accuracy (on training) = with x1 bounded error (0.2%*0.8333333333333334),x2 with error (0.2%*0.16666666666666666) : 0.9786630488406513\n",
      "BEKNN Accuracy (on testing) = with x1 bounded error (0.2%*0.8333333333333334),x2 with error (0.2%*0.16666666666666666) : 0.9738594327990135\n",
      "BEKNN Accuracy (on subset_raw) = with no bounded error,x2 with no error 0.9895428015564203\n"
     ]
    },
    {
     "name": "stderr",
     "output_type": "stream",
     "text": [
      "d:\\BESVM\\BESVM\\.venv\\lib\\site-packages\\ipykernel_launcher.py:57: SettingWithCopyWarning: \n",
      "A value is trying to be set on a copy of a slice from a DataFrame\n",
      "\n",
      "See the caveats in the documentation: https://pandas.pydata.org/pandas-docs/stable/user_guide/indexing.html#returning-a-view-versus-a-copy\n",
      "d:\\BESVM\\BESVM\\.venv\\lib\\site-packages\\ipykernel_launcher.py:64: SettingWithCopyWarning: \n",
      "A value is trying to be set on a copy of a slice from a DataFrame\n",
      "\n",
      "See the caveats in the documentation: https://pandas.pydata.org/pandas-docs/stable/user_guide/indexing.html#returning-a-view-versus-a-copy\n"
     ]
    },
    {
     "name": "stdout",
     "output_type": "stream",
     "text": [
      "BEKNN Accuracy (on training) = with x1 bounded error (0.2%*0.875),x2 with error (0.2%*0.125) : 0.9786630488406513\n",
      "BEKNN Accuracy (on testing) = with x1 bounded error (0.2%*0.875),x2 with error (0.2%*0.125) : 0.9728729963008631\n",
      "BEKNN Accuracy (on subset_raw) = with no bounded error,x2 with no error 0.9888132295719845\n"
     ]
    },
    {
     "name": "stderr",
     "output_type": "stream",
     "text": [
      "d:\\BESVM\\BESVM\\.venv\\lib\\site-packages\\ipykernel_launcher.py:57: SettingWithCopyWarning: \n",
      "A value is trying to be set on a copy of a slice from a DataFrame\n",
      "\n",
      "See the caveats in the documentation: https://pandas.pydata.org/pandas-docs/stable/user_guide/indexing.html#returning-a-view-versus-a-copy\n",
      "d:\\BESVM\\BESVM\\.venv\\lib\\site-packages\\ipykernel_launcher.py:64: SettingWithCopyWarning: \n",
      "A value is trying to be set on a copy of a slice from a DataFrame\n",
      "\n",
      "See the caveats in the documentation: https://pandas.pydata.org/pandas-docs/stable/user_guide/indexing.html#returning-a-view-versus-a-copy\n"
     ]
    },
    {
     "name": "stdout",
     "output_type": "stream",
     "text": [
      "BEKNN Accuracy (on training) = with x1 bounded error (0.2%*0.9166666666666666),x2 with error (0.2%*0.08333333333333333) : 0.9789713862851505\n",
      "BEKNN Accuracy (on testing) = with x1 bounded error (0.2%*0.9166666666666666),x2 with error (0.2%*0.08333333333333333) : 0.9721331689272503\n",
      "BEKNN Accuracy (on subset_raw) = with no bounded error,x2 with no error 0.9897859922178989\n"
     ]
    },
    {
     "name": "stderr",
     "output_type": "stream",
     "text": [
      "d:\\BESVM\\BESVM\\.venv\\lib\\site-packages\\ipykernel_launcher.py:57: SettingWithCopyWarning: \n",
      "A value is trying to be set on a copy of a slice from a DataFrame\n",
      "\n",
      "See the caveats in the documentation: https://pandas.pydata.org/pandas-docs/stable/user_guide/indexing.html#returning-a-view-versus-a-copy\n",
      "d:\\BESVM\\BESVM\\.venv\\lib\\site-packages\\ipykernel_launcher.py:64: SettingWithCopyWarning: \n",
      "A value is trying to be set on a copy of a slice from a DataFrame\n",
      "\n",
      "See the caveats in the documentation: https://pandas.pydata.org/pandas-docs/stable/user_guide/indexing.html#returning-a-view-versus-a-copy\n"
     ]
    },
    {
     "name": "stdout",
     "output_type": "stream",
     "text": [
      "BEKNN Accuracy (on training) = with x1 bounded error (0.2%*0.9583333333333334),x2 with error (0.2%*0.041666666666666664) : 0.9795263936852492\n",
      "BEKNN Accuracy (on testing) = with x1 bounded error (0.2%*0.9583333333333334),x2 with error (0.2%*0.041666666666666664) : 0.9723797780517879\n",
      "BEKNN Accuracy (on subset_raw) = with no bounded error,x2 with no error 0.9890564202334631\n"
     ]
    },
    {
     "name": "stderr",
     "output_type": "stream",
     "text": [
      "d:\\BESVM\\BESVM\\.venv\\lib\\site-packages\\ipykernel_launcher.py:57: SettingWithCopyWarning: \n",
      "A value is trying to be set on a copy of a slice from a DataFrame\n",
      "\n",
      "See the caveats in the documentation: https://pandas.pydata.org/pandas-docs/stable/user_guide/indexing.html#returning-a-view-versus-a-copy\n",
      "d:\\BESVM\\BESVM\\.venv\\lib\\site-packages\\ipykernel_launcher.py:64: SettingWithCopyWarning: \n",
      "A value is trying to be set on a copy of a slice from a DataFrame\n",
      "\n",
      "See the caveats in the documentation: https://pandas.pydata.org/pandas-docs/stable/user_guide/indexing.html#returning-a-view-versus-a-copy\n"
     ]
    },
    {
     "name": "stdout",
     "output_type": "stream",
     "text": [
      "BEKNN Accuracy (on training) = with x1 bounded error (0.2%*1.0),x2 with error (0.2%*0.0) : 0.9808830784410458\n",
      "BEKNN Accuracy (on testing) = with x1 bounded error (0.2%*1.0),x2 with error (0.2%*0.0) : 0.974845869297164\n",
      "BEKNN Accuracy (on subset_raw) = with no bounded error,x2 with no error 0.9900291828793775\n"
     ]
    }
   ],
   "source": [
    "#using knn with brute force from 15-360\n",
    "for i in range(25):\n",
    "    df_2feature_be = df_2feature_be_generates(BE,i,0)\n",
    "    x_be = df_2feature_be.iloc[:, :-1].values\n",
    "    y_be = df_2feature_be.iloc[:,-1].values\n",
    "    X_train,X_test,y_train, y_test = train_test_split(x_be, y_be, test_size=0.2,random_state=1)\n",
    "    KNN_BE = KNeighborsClassifier()\n",
    "    KNN_BE.fit(X_train,y_train)\n",
    "    y_BE_predict = KNN_BE.predict(X_test)\n",
    "    result_BE_train = KNN_BE.score(X_train, y_train)\n",
    "    result_BE_test = KNN_BE.score(X_test, y_test)\n",
    "    subset_raw = KNN_BE.score(subsample_x, subsample_y)\n",
    "    \n",
    "    print('BEKNN Accuracy (on training) = with x1 bounded error ('+str(BE)+'%*'+str((error_a[i]/(error_a[i]+error_b[i])))+'),x2 with error ('+str(BE)+'%*'+str((error_b[i]/(error_a[i]+error_b[i])))+') : '+str(result_BE_train))\n",
    "    print('BEKNN Accuracy (on testing) = with x1 bounded error ('+str(BE)+'%*'+str((error_a[i]/(error_a[i]+error_b[i])))+'),x2 with error ('+str(BE)+'%*'+str((error_b[i]/(error_a[i]+error_b[i])))+') : '+str(result_BE_test))\n",
    "    print('BEKNN Accuracy (on subset_raw) = with no bounded error,x2 with no error '+str(subset_raw))\n",
    "    "
   ]
  },
  {
   "cell_type": "code",
   "execution_count": 38,
   "metadata": {},
   "outputs": [
    {
     "name": "stderr",
     "output_type": "stream",
     "text": [
      "d:\\BESVM\\BESVM\\.venv\\lib\\site-packages\\ipykernel_launcher.py:25: SettingWithCopyWarning: \n",
      "A value is trying to be set on a copy of a slice from a DataFrame\n",
      "\n",
      "See the caveats in the documentation: https://pandas.pydata.org/pandas-docs/stable/user_guide/indexing.html#returning-a-view-versus-a-copy\n",
      "d:\\BESVM\\BESVM\\.venv\\lib\\site-packages\\ipykernel_launcher.py:32: SettingWithCopyWarning: \n",
      "A value is trying to be set on a copy of a slice from a DataFrame\n",
      "\n",
      "See the caveats in the documentation: https://pandas.pydata.org/pandas-docs/stable/user_guide/indexing.html#returning-a-view-versus-a-copy\n",
      "d:\\BESVM\\BESVM\\.venv\\lib\\site-packages\\ipykernel_launcher.py:39: SettingWithCopyWarning: \n",
      "A value is trying to be set on a copy of a slice from a DataFrame\n",
      "\n",
      "See the caveats in the documentation: https://pandas.pydata.org/pandas-docs/stable/user_guide/indexing.html#returning-a-view-versus-a-copy\n",
      "d:\\BESVM\\BESVM\\.venv\\lib\\site-packages\\ipykernel_launcher.py:46: SettingWithCopyWarning: \n",
      "A value is trying to be set on a copy of a slice from a DataFrame\n",
      "\n",
      "See the caveats in the documentation: https://pandas.pydata.org/pandas-docs/stable/user_guide/indexing.html#returning-a-view-versus-a-copy\n"
     ]
    },
    {
     "name": "stdout",
     "output_type": "stream",
     "text": [
      "BESVM Accuracy (on training) using confidence score on x1 bounded error (0.2%*0.4942113780654799),x2 with error (0.2%*0.5057886219345201) : 0.9696610922006808\n",
      "BESVM Accuracy (on testing) = using confidence score on  x1 bounded error (0.2%*0.4942113780654799),x2 with error (0.2%*0.5057886219345201) : 0.9704010655616397\n",
      "BESVM Accuracy (on subset_raw) = with no bounded error,x2 with no error 0.9873540856031129\n"
     ]
    }
   ],
   "source": [
    "light_CScore = 1.0117280381068128\n",
    "CO2_CSore = 0.9885700987654558\n",
    "ConfidenceSore_lightCO2 = [light_CScore/(light_CScore+CO2_CSore),CO2_CSore/(light_CScore+CO2_CSore)]\n",
    "\n",
    "#using confidence as error allocation rate to predict by svm\n",
    "df_2feature_be = df_2feature_be_generates(BE,-1,0,ConfidenceSore_lightCO2)\n",
    "x_be = df_2feature_be.iloc[:, :-1].values\n",
    "y_be = df_2feature_be.iloc[:,-1].values\n",
    "X_train,X_test,y_train, y_test = train_test_split(x_be, y_be, test_size=0.2,random_state=1)\n",
    "clf_BE = SVC(kernel='linear',C=1,gamma='auto')\n",
    "clf_BE.fit(X_train, y_train)\n",
    "y_BE_predict = clf_BE.predict(X_test)\n",
    "result_BE_train = clf_BE.score(X_train, y_train)\n",
    "result_BE_test = clf_BE.score(X_test, y_test)\n",
    "subset_raw = clf_BE.score(subsample_x, subsample_y)\n",
    "print('BESVM Accuracy (on training) using confidence score on x1 bounded error ('+str(BE)+'%*'+str(ConfidenceSore_lightCO2[1])+'),x2 with error ('+str(BE)+'%*'+str(ConfidenceSore_lightCO2[0])+') : '+str(result_BE_train))\n",
    "print('BESVM Accuracy (on testing) = using confidence score on  x1 bounded error ('+str(BE)+'%*'+str(ConfidenceSore_lightCO2[1])+'),x2 with error ('+str(BE)+'%*'+str(ConfidenceSore_lightCO2[0])+') : '+str(result_BE_test))\n",
    "print('BESVM Accuracy (on subset_raw) = with no bounded error,x2 with no error '+str(subset_raw))\n",
    "\n",
    "\n"
   ]
  },
  {
   "cell_type": "code",
   "execution_count": 37,
   "metadata": {},
   "outputs": [
    {
     "name": "stderr",
     "output_type": "stream",
     "text": [
      "d:\\BESVM\\BESVM\\.venv\\lib\\site-packages\\ipykernel_launcher.py:25: SettingWithCopyWarning: \n",
      "A value is trying to be set on a copy of a slice from a DataFrame\n",
      "\n",
      "See the caveats in the documentation: https://pandas.pydata.org/pandas-docs/stable/user_guide/indexing.html#returning-a-view-versus-a-copy\n",
      "d:\\BESVM\\BESVM\\.venv\\lib\\site-packages\\ipykernel_launcher.py:32: SettingWithCopyWarning: \n",
      "A value is trying to be set on a copy of a slice from a DataFrame\n",
      "\n",
      "See the caveats in the documentation: https://pandas.pydata.org/pandas-docs/stable/user_guide/indexing.html#returning-a-view-versus-a-copy\n",
      "d:\\BESVM\\BESVM\\.venv\\lib\\site-packages\\ipykernel_launcher.py:39: SettingWithCopyWarning: \n",
      "A value is trying to be set on a copy of a slice from a DataFrame\n",
      "\n",
      "See the caveats in the documentation: https://pandas.pydata.org/pandas-docs/stable/user_guide/indexing.html#returning-a-view-versus-a-copy\n",
      "d:\\BESVM\\BESVM\\.venv\\lib\\site-packages\\ipykernel_launcher.py:46: SettingWithCopyWarning: \n",
      "A value is trying to be set on a copy of a slice from a DataFrame\n",
      "\n",
      "See the caveats in the documentation: https://pandas.pydata.org/pandas-docs/stable/user_guide/indexing.html#returning-a-view-versus-a-copy\n"
     ]
    },
    {
     "name": "stdout",
     "output_type": "stream",
     "text": [
      "BEKNN Accuracy (on training) = with x1 bounded error (0.2%*0.03863890967855284),x2 with error (0.2%*0.9613610903214472) : 0.9764318484534557\n",
      "BEKNN Accuracy (on testing) = with x1 bounded error (0.2%*0.03863890967855284),x2 with error (0.2%*0.9613610903214472) : 0.9718810122835578\n",
      "BEKNN Accuracy (on subset_raw) = with no bounded error,x2 with no error 0.9880836575875487\n"
     ]
    }
   ],
   "source": [
    "#using confidence as error allocation rate to predict by knn\n",
    "df_2feature_be = df_2feature_be_generates(BE,-1,0,ConfidenceSore_lightCO2)\n",
    "x_be = df_2feature_be.iloc[:, :-1].values\n",
    "y_be = df_2feature_be.iloc[:,-1].values\n",
    "X_train,X_test,y_train, y_test = train_test_split(x_be, y_be, test_size=0.2,random_state=1)\n",
    "KNN_BE = KNeighborsClassifier()\n",
    "KNN_BE.fit(X_train, y_train)\n",
    "y_BE_predict = KNN_BE.predict(X_test)\n",
    "result_BE_train = KNN_BE.score(X_train, y_train)\n",
    "result_BE_test = KNN_BE.score(X_test, y_test)\n",
    "subset_raw = KNN_BE.score(subsample_x, subsample_y)\n",
    "print('BEKN Accuracy (on training) using confidence score on x1 bounded error ('+str(BE)+'%*'+str(ConfidenceSore_lightCO2[1])+'),x2 with error ('+str(BE)+'%*'+str(ConfidenceSore_lightCO2[0])+') : '+str(result_BE_train))\n",
    "print('BEKNN Accuracy (on testing) = using confidence score on  x1 bounded error ('+str(BE)+'%*'+str(ConfidenceSore_lightCO2[1])+'),x2 with error ('+str(BE)+'%*'+str(ConfidenceSore_lightCO2[0])+') : '+str(result_BE_test))\n",
    "print('BEKNN Accuracy (on subset_raw) = with no bounded error,x2 with no error '+str(subset_raw))\n"
   ]
  }
 ],
 "metadata": {
  "interpreter": {
   "hash": "823264832876f692eb60ba3c01443ddcf5448cec612e602318bd1dc48bf5d5c1"
  },
  "kernelspec": {
   "display_name": "Python 3.7.9 ('.venv': venv)",
   "language": "python",
   "name": "python3"
  },
  "language_info": {
   "codemirror_mode": {
    "name": "ipython",
    "version": 3
   },
   "file_extension": ".py",
   "mimetype": "text/x-python",
   "name": "python",
   "nbconvert_exporter": "python",
   "pygments_lexer": "ipython3",
   "version": "3.7.9"
  },
  "orig_nbformat": 4
 },
 "nbformat": 4,
 "nbformat_minor": 2
}
