{
 "cells": [
  {
   "cell_type": "markdown",
   "metadata": {},
   "source": [
    "1.generate the data from iris dateset which is with 4 features and 3 labels.\n",
    "2.abandon feature 3 and feature 4 (x3,x4) for visualiizng easily (maybe in a better way like faltten the features in the future),and combine label 3 with label 2 making only 2 label in dataset for doing two labels classification easily.\n",
    "3.generate the new dataset from the original iris dataset above,by adding bounded error  into each feature above individually (x1,x2),(x1 +- (x1'mean * 0.1err),x2)\n",
    "4.same as no.3 but accumulately"
   ]
  },
  {
   "cell_type": "code",
   "execution_count": 424,
   "metadata": {},
   "outputs": [
    {
     "data": {
      "text/plain": [
       "array([[5.1, 3.5, 1.4, 0.2],\n",
       "       [4.9, 3. , 1.4, 0.2],\n",
       "       [4.7, 3.2, 1.3, 0.2],\n",
       "       [4.6, 3.1, 1.5, 0.2],\n",
       "       [5. , 3.6, 1.4, 0.2],\n",
       "       [5.4, 3.9, 1.7, 0.4],\n",
       "       [4.6, 3.4, 1.4, 0.3],\n",
       "       [5. , 3.4, 1.5, 0.2],\n",
       "       [4.4, 2.9, 1.4, 0.2],\n",
       "       [4.9, 3.1, 1.5, 0.1],\n",
       "       [5.4, 3.7, 1.5, 0.2],\n",
       "       [4.8, 3.4, 1.6, 0.2],\n",
       "       [4.8, 3. , 1.4, 0.1],\n",
       "       [4.3, 3. , 1.1, 0.1],\n",
       "       [5.8, 4. , 1.2, 0.2],\n",
       "       [5.7, 4.4, 1.5, 0.4],\n",
       "       [5.4, 3.9, 1.3, 0.4],\n",
       "       [5.1, 3.5, 1.4, 0.3],\n",
       "       [5.7, 3.8, 1.7, 0.3],\n",
       "       [5.1, 3.8, 1.5, 0.3],\n",
       "       [5.4, 3.4, 1.7, 0.2],\n",
       "       [5.1, 3.7, 1.5, 0.4],\n",
       "       [4.6, 3.6, 1. , 0.2],\n",
       "       [5.1, 3.3, 1.7, 0.5],\n",
       "       [4.8, 3.4, 1.9, 0.2],\n",
       "       [5. , 3. , 1.6, 0.2],\n",
       "       [5. , 3.4, 1.6, 0.4],\n",
       "       [5.2, 3.5, 1.5, 0.2],\n",
       "       [5.2, 3.4, 1.4, 0.2],\n",
       "       [4.7, 3.2, 1.6, 0.2],\n",
       "       [4.8, 3.1, 1.6, 0.2],\n",
       "       [5.4, 3.4, 1.5, 0.4],\n",
       "       [5.2, 4.1, 1.5, 0.1],\n",
       "       [5.5, 4.2, 1.4, 0.2],\n",
       "       [4.9, 3.1, 1.5, 0.2],\n",
       "       [5. , 3.2, 1.2, 0.2],\n",
       "       [5.5, 3.5, 1.3, 0.2],\n",
       "       [4.9, 3.6, 1.4, 0.1],\n",
       "       [4.4, 3. , 1.3, 0.2],\n",
       "       [5.1, 3.4, 1.5, 0.2],\n",
       "       [5. , 3.5, 1.3, 0.3],\n",
       "       [4.5, 2.3, 1.3, 0.3],\n",
       "       [4.4, 3.2, 1.3, 0.2],\n",
       "       [5. , 3.5, 1.6, 0.6],\n",
       "       [5.1, 3.8, 1.9, 0.4],\n",
       "       [4.8, 3. , 1.4, 0.3],\n",
       "       [5.1, 3.8, 1.6, 0.2],\n",
       "       [4.6, 3.2, 1.4, 0.2],\n",
       "       [5.3, 3.7, 1.5, 0.2],\n",
       "       [5. , 3.3, 1.4, 0.2],\n",
       "       [7. , 3.2, 4.7, 1.4],\n",
       "       [6.4, 3.2, 4.5, 1.5],\n",
       "       [6.9, 3.1, 4.9, 1.5],\n",
       "       [5.5, 2.3, 4. , 1.3],\n",
       "       [6.5, 2.8, 4.6, 1.5],\n",
       "       [5.7, 2.8, 4.5, 1.3],\n",
       "       [6.3, 3.3, 4.7, 1.6],\n",
       "       [4.9, 2.4, 3.3, 1. ],\n",
       "       [6.6, 2.9, 4.6, 1.3],\n",
       "       [5.2, 2.7, 3.9, 1.4],\n",
       "       [5. , 2. , 3.5, 1. ],\n",
       "       [5.9, 3. , 4.2, 1.5],\n",
       "       [6. , 2.2, 4. , 1. ],\n",
       "       [6.1, 2.9, 4.7, 1.4],\n",
       "       [5.6, 2.9, 3.6, 1.3],\n",
       "       [6.7, 3.1, 4.4, 1.4],\n",
       "       [5.6, 3. , 4.5, 1.5],\n",
       "       [5.8, 2.7, 4.1, 1. ],\n",
       "       [6.2, 2.2, 4.5, 1.5],\n",
       "       [5.6, 2.5, 3.9, 1.1],\n",
       "       [5.9, 3.2, 4.8, 1.8],\n",
       "       [6.1, 2.8, 4. , 1.3],\n",
       "       [6.3, 2.5, 4.9, 1.5],\n",
       "       [6.1, 2.8, 4.7, 1.2],\n",
       "       [6.4, 2.9, 4.3, 1.3],\n",
       "       [6.6, 3. , 4.4, 1.4],\n",
       "       [6.8, 2.8, 4.8, 1.4],\n",
       "       [6.7, 3. , 5. , 1.7],\n",
       "       [6. , 2.9, 4.5, 1.5],\n",
       "       [5.7, 2.6, 3.5, 1. ],\n",
       "       [5.5, 2.4, 3.8, 1.1],\n",
       "       [5.5, 2.4, 3.7, 1. ],\n",
       "       [5.8, 2.7, 3.9, 1.2],\n",
       "       [6. , 2.7, 5.1, 1.6],\n",
       "       [5.4, 3. , 4.5, 1.5],\n",
       "       [6. , 3.4, 4.5, 1.6],\n",
       "       [6.7, 3.1, 4.7, 1.5],\n",
       "       [6.3, 2.3, 4.4, 1.3],\n",
       "       [5.6, 3. , 4.1, 1.3],\n",
       "       [5.5, 2.5, 4. , 1.3],\n",
       "       [5.5, 2.6, 4.4, 1.2],\n",
       "       [6.1, 3. , 4.6, 1.4],\n",
       "       [5.8, 2.6, 4. , 1.2],\n",
       "       [5. , 2.3, 3.3, 1. ],\n",
       "       [5.6, 2.7, 4.2, 1.3],\n",
       "       [5.7, 3. , 4.2, 1.2],\n",
       "       [5.7, 2.9, 4.2, 1.3],\n",
       "       [6.2, 2.9, 4.3, 1.3],\n",
       "       [5.1, 2.5, 3. , 1.1],\n",
       "       [5.7, 2.8, 4.1, 1.3],\n",
       "       [6.3, 3.3, 6. , 2.5],\n",
       "       [5.8, 2.7, 5.1, 1.9],\n",
       "       [7.1, 3. , 5.9, 2.1],\n",
       "       [6.3, 2.9, 5.6, 1.8],\n",
       "       [6.5, 3. , 5.8, 2.2],\n",
       "       [7.6, 3. , 6.6, 2.1],\n",
       "       [4.9, 2.5, 4.5, 1.7],\n",
       "       [7.3, 2.9, 6.3, 1.8],\n",
       "       [6.7, 2.5, 5.8, 1.8],\n",
       "       [7.2, 3.6, 6.1, 2.5],\n",
       "       [6.5, 3.2, 5.1, 2. ],\n",
       "       [6.4, 2.7, 5.3, 1.9],\n",
       "       [6.8, 3. , 5.5, 2.1],\n",
       "       [5.7, 2.5, 5. , 2. ],\n",
       "       [5.8, 2.8, 5.1, 2.4],\n",
       "       [6.4, 3.2, 5.3, 2.3],\n",
       "       [6.5, 3. , 5.5, 1.8],\n",
       "       [7.7, 3.8, 6.7, 2.2],\n",
       "       [7.7, 2.6, 6.9, 2.3],\n",
       "       [6. , 2.2, 5. , 1.5],\n",
       "       [6.9, 3.2, 5.7, 2.3],\n",
       "       [5.6, 2.8, 4.9, 2. ],\n",
       "       [7.7, 2.8, 6.7, 2. ],\n",
       "       [6.3, 2.7, 4.9, 1.8],\n",
       "       [6.7, 3.3, 5.7, 2.1],\n",
       "       [7.2, 3.2, 6. , 1.8],\n",
       "       [6.2, 2.8, 4.8, 1.8],\n",
       "       [6.1, 3. , 4.9, 1.8],\n",
       "       [6.4, 2.8, 5.6, 2.1],\n",
       "       [7.2, 3. , 5.8, 1.6],\n",
       "       [7.4, 2.8, 6.1, 1.9],\n",
       "       [7.9, 3.8, 6.4, 2. ],\n",
       "       [6.4, 2.8, 5.6, 2.2],\n",
       "       [6.3, 2.8, 5.1, 1.5],\n",
       "       [6.1, 2.6, 5.6, 1.4],\n",
       "       [7.7, 3. , 6.1, 2.3],\n",
       "       [6.3, 3.4, 5.6, 2.4],\n",
       "       [6.4, 3.1, 5.5, 1.8],\n",
       "       [6. , 3. , 4.8, 1.8],\n",
       "       [6.9, 3.1, 5.4, 2.1],\n",
       "       [6.7, 3.1, 5.6, 2.4],\n",
       "       [6.9, 3.1, 5.1, 2.3],\n",
       "       [5.8, 2.7, 5.1, 1.9],\n",
       "       [6.8, 3.2, 5.9, 2.3],\n",
       "       [6.7, 3.3, 5.7, 2.5],\n",
       "       [6.7, 3. , 5.2, 2.3],\n",
       "       [6.3, 2.5, 5. , 1.9],\n",
       "       [6.5, 3. , 5.2, 2. ],\n",
       "       [6.2, 3.4, 5.4, 2.3],\n",
       "       [5.9, 3. , 5.1, 1.8]])"
      ]
     },
     "execution_count": 424,
     "metadata": {},
     "output_type": "execute_result"
    }
   ],
   "source": [
    "from sklearn import datasets\n",
    "from sklearn.svm import SVC\n",
    "from sklearn.model_selection import train_test_split\n",
    "import random as rd\n",
    "import pandas as pd\n",
    "import numpy as np\n",
    "import matplotlib.pyplot as plt\n",
    "iris = datasets.load_iris()\n",
    "x = iris.data\n",
    "y = iris.target\n",
    "x"
   ]
  },
  {
   "cell_type": "code",
   "execution_count": 425,
   "metadata": {},
   "outputs": [
    {
     "name": "stdout",
     "output_type": "stream",
     "text": [
      "       0    1  2\n",
      "0    5.1  3.5  0\n",
      "1    4.9  3.0  0\n",
      "2    4.7  3.2  0\n",
      "3    4.6  3.1  0\n",
      "4    5.0  3.6  0\n",
      "..   ...  ... ..\n",
      "145  6.7  3.0  2\n",
      "146  6.3  2.5  2\n",
      "147  6.5  3.0  2\n",
      "148  6.2  3.4  2\n",
      "149  5.9  3.0  2\n",
      "\n",
      "[150 rows x 3 columns] 0    50\n",
      "1    50\n",
      "2    50\n",
      "Name: 2, dtype: int64\n"
     ]
    },
    {
     "name": "stderr",
     "output_type": "stream",
     "text": [
      "/Users/johnny/Documents/MachineLearning/HW/venv/lib/python3.7/site-packages/ipykernel_launcher.py:3: SettingWithCopyWarning: \n",
      "A value is trying to be set on a copy of a slice from a DataFrame.\n",
      "Try using .loc[row_indexer,col_indexer] = value instead\n",
      "\n",
      "See the caveats in the documentation: https://pandas.pydata.org/pandas-docs/stable/user_guide/indexing.html#returning-a-view-versus-a-copy\n",
      "  This is separate from the ipykernel package so we can avoid doing imports until\n"
     ]
    }
   ],
   "source": [
    "df_original = pd.DataFrame(x)\n",
    "df_2feature = df_original.iloc[: , :-2]\n",
    "df_2feature[2]  = y\n",
    "print(df_2feature,df_2feature[2].value_counts())"
   ]
  },
  {
   "cell_type": "code",
   "execution_count": 426,
   "metadata": {},
   "outputs": [
    {
     "name": "stdout",
     "output_type": "stream",
     "text": [
      "1    100\n",
      "0     50\n",
      "Name: y, dtype: int64       x1   x2  y\n",
      "0    5.1  3.5  0\n",
      "1    4.9  3.0  0\n",
      "2    4.7  3.2  0\n",
      "3    4.6  3.1  0\n",
      "4    5.0  3.6  0\n",
      "..   ...  ... ..\n",
      "145  6.7  3.0  1\n",
      "146  6.3  2.5  1\n",
      "147  6.5  3.0  1\n",
      "148  6.2  3.4  1\n",
      "149  5.9  3.0  1\n",
      "\n",
      "[150 rows x 3 columns]\n"
     ]
    },
    {
     "name": "stderr",
     "output_type": "stream",
     "text": [
      "/Users/johnny/Documents/MachineLearning/HW/venv/lib/python3.7/site-packages/pandas/core/indexing.py:1817: SettingWithCopyWarning: \n",
      "A value is trying to be set on a copy of a slice from a DataFrame.\n",
      "Try using .loc[row_indexer,col_indexer] = value instead\n",
      "\n",
      "See the caveats in the documentation: https://pandas.pydata.org/pandas-docs/stable/user_guide/indexing.html#returning-a-view-versus-a-copy\n",
      "  self._setitem_single_column(loc, value, pi)\n"
     ]
    }
   ],
   "source": [
    "#df_2feature = df_2feature.iloc[:-50,:]\n",
    "df_2feature.columns = ['x1','x2','y']\n",
    "df_2feature.loc[df_2feature.y==2,'y']=1\n",
    "print(df_2feature['y'].value_counts(),df_2feature)"
   ]
  },
  {
   "cell_type": "code",
   "execution_count": 427,
   "metadata": {},
   "outputs": [
    {
     "name": "stdout",
     "output_type": "stream",
     "text": [
      "<class 'pandas.core.frame.DataFrame'>\n",
      "Int64Index: 180 entries, 0 to 10\n",
      "Data columns (total 3 columns):\n",
      " #   Column  Non-Null Count  Dtype  \n",
      "---  ------  --------------  -----  \n",
      " 0   x1      180 non-null    float64\n",
      " 1   x2      180 non-null    float64\n",
      " 2   y       180 non-null    int64  \n",
      "dtypes: float64(2), int64(1)\n",
      "memory usage: 5.6 KB\n",
      "None\n",
      "<class 'pandas.core.frame.DataFrame'>\n",
      "Int64Index: 71 entries, 3 to 148\n",
      "Data columns (total 3 columns):\n",
      " #   Column  Non-Null Count  Dtype  \n",
      "---  ------  --------------  -----  \n",
      " 0   x1      71 non-null     float64\n",
      " 1   x2      71 non-null     float64\n",
      " 2   y       71 non-null     int64  \n",
      "dtypes: float64(2), int64(1)\n",
      "memory usage: 2.2 KB\n",
      "<class 'pandas.core.frame.DataFrame'>\n",
      "Int64Index: 30 entries, 30 to 10\n",
      "Data columns (total 3 columns):\n",
      " #   Column  Non-Null Count  Dtype  \n",
      "---  ------  --------------  -----  \n",
      " 0   x1      30 non-null     float64\n",
      " 1   x2      30 non-null     float64\n",
      " 2   y       30 non-null     int64  \n",
      "dtypes: float64(2), int64(1)\n",
      "memory usage: 960.0 bytes\n",
      "None None\n"
     ]
    }
   ],
   "source": [
    "subset = df_2feature.sample(frac=0.2,replace=False,random_state=43)\n",
    "df_2feature = df_2feature.append(subset)\n",
    "print(df_2feature.info())\n",
    "df_2feature = df_2feature.drop_duplicates(subset=['x1','x2','y'],keep=False)\n",
    "print(df_2feature.info(),subset.info())"
   ]
  },
  {
   "cell_type": "code",
   "execution_count": 428,
   "metadata": {},
   "outputs": [
    {
     "name": "stderr",
     "output_type": "stream",
     "text": [
      "/Users/johnny/Documents/MachineLearning/HW/venv/lib/python3.7/site-packages/ipykernel_launcher.py:8: SettingWithCopyWarning: \n",
      "A value is trying to be set on a copy of a slice from a DataFrame\n",
      "\n",
      "See the caveats in the documentation: https://pandas.pydata.org/pandas-docs/stable/user_guide/indexing.html#returning-a-view-versus-a-copy\n",
      "  \n",
      "/Users/johnny/Documents/MachineLearning/HW/venv/lib/python3.7/site-packages/ipykernel_launcher.py:14: SettingWithCopyWarning: \n",
      "A value is trying to be set on a copy of a slice from a DataFrame\n",
      "\n",
      "See the caveats in the documentation: https://pandas.pydata.org/pandas-docs/stable/user_guide/indexing.html#returning-a-view-versus-a-copy\n",
      "  \n"
     ]
    },
    {
     "data": {
      "text/html": [
       "<div>\n",
       "<style scoped>\n",
       "    .dataframe tbody tr th:only-of-type {\n",
       "        vertical-align: middle;\n",
       "    }\n",
       "\n",
       "    .dataframe tbody tr th {\n",
       "        vertical-align: top;\n",
       "    }\n",
       "\n",
       "    .dataframe thead th {\n",
       "        text-align: right;\n",
       "    }\n",
       "</style>\n",
       "<table border=\"1\" class=\"dataframe\">\n",
       "  <thead>\n",
       "    <tr style=\"text-align: right;\">\n",
       "      <th></th>\n",
       "      <th>0</th>\n",
       "      <th>1</th>\n",
       "      <th>2</th>\n",
       "    </tr>\n",
       "  </thead>\n",
       "  <tbody>\n",
       "    <tr>\n",
       "      <th>0</th>\n",
       "      <td>4.600000</td>\n",
       "      <td>3.1</td>\n",
       "      <td>0.0</td>\n",
       "    </tr>\n",
       "    <tr>\n",
       "      <th>1</th>\n",
       "      <td>5.000000</td>\n",
       "      <td>3.6</td>\n",
       "      <td>0.0</td>\n",
       "    </tr>\n",
       "    <tr>\n",
       "      <th>2</th>\n",
       "      <td>4.600000</td>\n",
       "      <td>3.4</td>\n",
       "      <td>0.0</td>\n",
       "    </tr>\n",
       "    <tr>\n",
       "      <th>3</th>\n",
       "      <td>4.400000</td>\n",
       "      <td>2.9</td>\n",
       "      <td>0.0</td>\n",
       "    </tr>\n",
       "    <tr>\n",
       "      <th>4</th>\n",
       "      <td>4.300000</td>\n",
       "      <td>3.0</td>\n",
       "      <td>0.0</td>\n",
       "    </tr>\n",
       "    <tr>\n",
       "      <th>...</th>\n",
       "      <td>...</td>\n",
       "      <td>...</td>\n",
       "      <td>...</td>\n",
       "    </tr>\n",
       "    <tr>\n",
       "      <th>208</th>\n",
       "      <td>7.113803</td>\n",
       "      <td>3.0</td>\n",
       "      <td>1.0</td>\n",
       "    </tr>\n",
       "    <tr>\n",
       "      <th>209</th>\n",
       "      <td>5.713803</td>\n",
       "      <td>3.4</td>\n",
       "      <td>1.0</td>\n",
       "    </tr>\n",
       "    <tr>\n",
       "      <th>210</th>\n",
       "      <td>5.813803</td>\n",
       "      <td>3.1</td>\n",
       "      <td>1.0</td>\n",
       "    </tr>\n",
       "    <tr>\n",
       "      <th>211</th>\n",
       "      <td>6.213803</td>\n",
       "      <td>3.2</td>\n",
       "      <td>1.0</td>\n",
       "    </tr>\n",
       "    <tr>\n",
       "      <th>212</th>\n",
       "      <td>5.613803</td>\n",
       "      <td>3.4</td>\n",
       "      <td>1.0</td>\n",
       "    </tr>\n",
       "  </tbody>\n",
       "</table>\n",
       "<p>213 rows × 3 columns</p>\n",
       "</div>"
      ],
      "text/plain": [
       "            0    1    2\n",
       "0    4.600000  3.1  0.0\n",
       "1    5.000000  3.6  0.0\n",
       "2    4.600000  3.4  0.0\n",
       "3    4.400000  2.9  0.0\n",
       "4    4.300000  3.0  0.0\n",
       "..        ...  ...  ...\n",
       "208  7.113803  3.0  1.0\n",
       "209  5.713803  3.4  1.0\n",
       "210  5.813803  3.1  1.0\n",
       "211  6.213803  3.2  1.0\n",
       "212  5.613803  3.4  1.0\n",
       "\n",
       "[213 rows x 3 columns]"
      ]
     },
     "execution_count": 428,
     "metadata": {},
     "output_type": "execute_result"
    }
   ],
   "source": [
    "pd.set_option('display.max_rows',10)\n",
    "temp = df_2feature.copy()\n",
    "df_2feature_x1be = pd.DataFrame.to_numpy(df_2feature)\n",
    "e1 = temp['x1'].mean()*0.1\n",
    "e2 = temp['x2'].mean()*0.1\n",
    "\n",
    "for idx,cell in temp['x1'].iteritems():\n",
    "    temp['x1'][idx] += e1\n",
    "temp = temp.to_numpy()\n",
    "df_2feature_x1be = np.vstack((df_2feature_x1be,temp))\n",
    "temp = df_2feature.copy()\n",
    "\n",
    "for idx,cell in temp['x1'].iteritems():\n",
    "    temp['x1'][idx] = temp['x1'][idx] - e1\n",
    "temp = temp.to_numpy()\n",
    "df_2feature_x1be = np.vstack((df_2feature_x1be,temp))\n",
    "temp = df_2feature.copy()\n",
    "\n",
    "df_2feature_x1be = pd.DataFrame(df_2feature_x1be)\n",
    "df_2feature_x1be\n"
   ]
  },
  {
   "cell_type": "code",
   "execution_count": 429,
   "metadata": {},
   "outputs": [
    {
     "name": "stderr",
     "output_type": "stream",
     "text": [
      "/Users/johnny/Documents/MachineLearning/HW/venv/lib/python3.7/site-packages/ipykernel_launcher.py:4: SettingWithCopyWarning: \n",
      "A value is trying to be set on a copy of a slice from a DataFrame\n",
      "\n",
      "See the caveats in the documentation: https://pandas.pydata.org/pandas-docs/stable/user_guide/indexing.html#returning-a-view-versus-a-copy\n",
      "  after removing the cwd from sys.path.\n",
      "/Users/johnny/Documents/MachineLearning/HW/venv/lib/python3.7/site-packages/ipykernel_launcher.py:10: SettingWithCopyWarning: \n",
      "A value is trying to be set on a copy of a slice from a DataFrame\n",
      "\n",
      "See the caveats in the documentation: https://pandas.pydata.org/pandas-docs/stable/user_guide/indexing.html#returning-a-view-versus-a-copy\n",
      "  # Remove the CWD from sys.path while we load stuff.\n"
     ]
    },
    {
     "data": {
      "text/html": [
       "<div>\n",
       "<style scoped>\n",
       "    .dataframe tbody tr th:only-of-type {\n",
       "        vertical-align: middle;\n",
       "    }\n",
       "\n",
       "    .dataframe tbody tr th {\n",
       "        vertical-align: top;\n",
       "    }\n",
       "\n",
       "    .dataframe thead th {\n",
       "        text-align: right;\n",
       "    }\n",
       "</style>\n",
       "<table border=\"1\" class=\"dataframe\">\n",
       "  <thead>\n",
       "    <tr style=\"text-align: right;\">\n",
       "      <th></th>\n",
       "      <th>0</th>\n",
       "      <th>1</th>\n",
       "      <th>2</th>\n",
       "    </tr>\n",
       "  </thead>\n",
       "  <tbody>\n",
       "    <tr>\n",
       "      <th>0</th>\n",
       "      <td>4.6</td>\n",
       "      <td>3.100000</td>\n",
       "      <td>0.0</td>\n",
       "    </tr>\n",
       "    <tr>\n",
       "      <th>1</th>\n",
       "      <td>5.0</td>\n",
       "      <td>3.600000</td>\n",
       "      <td>0.0</td>\n",
       "    </tr>\n",
       "    <tr>\n",
       "      <th>2</th>\n",
       "      <td>4.6</td>\n",
       "      <td>3.400000</td>\n",
       "      <td>0.0</td>\n",
       "    </tr>\n",
       "    <tr>\n",
       "      <th>3</th>\n",
       "      <td>4.4</td>\n",
       "      <td>2.900000</td>\n",
       "      <td>0.0</td>\n",
       "    </tr>\n",
       "    <tr>\n",
       "      <th>4</th>\n",
       "      <td>4.3</td>\n",
       "      <td>3.000000</td>\n",
       "      <td>0.0</td>\n",
       "    </tr>\n",
       "    <tr>\n",
       "      <th>...</th>\n",
       "      <td>...</td>\n",
       "      <td>...</td>\n",
       "      <td>...</td>\n",
       "    </tr>\n",
       "    <tr>\n",
       "      <th>208</th>\n",
       "      <td>7.7</td>\n",
       "      <td>2.695634</td>\n",
       "      <td>1.0</td>\n",
       "    </tr>\n",
       "    <tr>\n",
       "      <th>209</th>\n",
       "      <td>6.3</td>\n",
       "      <td>3.095634</td>\n",
       "      <td>1.0</td>\n",
       "    </tr>\n",
       "    <tr>\n",
       "      <th>210</th>\n",
       "      <td>6.4</td>\n",
       "      <td>2.795634</td>\n",
       "      <td>1.0</td>\n",
       "    </tr>\n",
       "    <tr>\n",
       "      <th>211</th>\n",
       "      <td>6.8</td>\n",
       "      <td>2.895634</td>\n",
       "      <td>1.0</td>\n",
       "    </tr>\n",
       "    <tr>\n",
       "      <th>212</th>\n",
       "      <td>6.2</td>\n",
       "      <td>3.095634</td>\n",
       "      <td>1.0</td>\n",
       "    </tr>\n",
       "  </tbody>\n",
       "</table>\n",
       "<p>213 rows × 3 columns</p>\n",
       "</div>"
      ],
      "text/plain": [
       "       0         1    2\n",
       "0    4.6  3.100000  0.0\n",
       "1    5.0  3.600000  0.0\n",
       "2    4.6  3.400000  0.0\n",
       "3    4.4  2.900000  0.0\n",
       "4    4.3  3.000000  0.0\n",
       "..   ...       ...  ...\n",
       "208  7.7  2.695634  1.0\n",
       "209  6.3  3.095634  1.0\n",
       "210  6.4  2.795634  1.0\n",
       "211  6.8  2.895634  1.0\n",
       "212  6.2  3.095634  1.0\n",
       "\n",
       "[213 rows x 3 columns]"
      ]
     },
     "execution_count": 429,
     "metadata": {},
     "output_type": "execute_result"
    }
   ],
   "source": [
    "df_2feature_x2be = pd.DataFrame.to_numpy(df_2feature)\n",
    "\n",
    "for idx,cell in temp['x2'].iteritems():\n",
    "    temp['x2'][idx] += e2\n",
    "temp = temp.to_numpy()\n",
    "df_2feature_x2be = np.vstack((df_2feature_x2be,temp))\n",
    "temp = df_2feature.copy()\n",
    "\n",
    "for idx,cell in temp['x2'].iteritems():\n",
    "    temp['x2'][idx] = temp['x2'][idx] - e2\n",
    "temp = temp.to_numpy()\n",
    "df_2feature_x2be = np.vstack((df_2feature_x2be,temp))\n",
    "temp = df_2feature.copy()\n",
    "\n",
    "df_2feature_x2be = pd.DataFrame(df_2feature_x2be)\n",
    "df_2feature_x2be\n"
   ]
  },
  {
   "cell_type": "code",
   "execution_count": 430,
   "metadata": {},
   "outputs": [],
   "source": [
    "def plot_hyperplane(clf, X, y,h=0.02,draw_sv=True,title='hyperplane'):\n",
    "    # create a mesh to plot in\n",
    "    plt.figure(figsize=(10,6))\n",
    "    X = np.mat(X)\n",
    "    # print(\"X\",X)\n",
    "    # print(\"y\",y)\n",
    " \n",
    "    # 使用numpy的库函数找到最值,确定绘图范围\n",
    "    x_min, x_max = X[:, 0].min() - 1, X[:, 0].max() + 1\n",
    "    y_min, y_max = X[:, 1].min() - 1, X[:, 1].max() + 1\n",
    "    xx, yy = np.meshgrid(np.arange(x_min, x_max, h),\n",
    "                         np.arange(y_min, y_max, h))\n",
    " \n",
    "    plt.title(title)\n",
    "    plt.xlim(xx.min(), xx.max())\n",
    "    plt.ylim(yy.min(), yy.max())\n",
    "    plt.xticks(())\n",
    "    plt.yticks(())\n",
    "    # print(\"Z\", np.c_[xx.ravel(), yy.ravel()])\n",
    "    \n",
    "    # x,y扁平化,生成二维坐标并将预测值作为函数值\n",
    "    Z = clf.predict(np.c_[xx.ravel(), yy.ravel()])  # SVM的分割超平面\n",
    "    # Put the result into a color plot\n",
    "    Z = Z.reshape(xx.shape)\n",
    "    # 绘制康拓图\n",
    "    plt.contourf(xx, yy, Z, cmap='hot', alpha=0.5)\n",
    " \n",
    "    markers = ['o', '*', '^']\n",
    "    colors = ['r', 'b', 'c']\n",
    "    # 去重\n",
    "    labels = np.unique(y)\n",
    "    # print(\"LABELS\",y)\n",
    " \n",
    "    # 对于每一个标签种类\n",
    "    for label in labels:\n",
    "        # 这是掩码索引\n",
    "        label = int(label)\n",
    "        plt.scatter(X[y == label][:, 0].tolist(),\n",
    "                    X[y == label][:, 1].tolist(),\n",
    "                    c=colors[label],\n",
    "                    marker=markers[label])\n",
    "    # 画出支持向量\n",
    "    if draw_sv:\n",
    "        sv = clf.support_vectors_\n",
    "        print(sv)\n",
    "        plt.scatter(sv[:, 0], sv[:, 1], c='y', marker='x')\n"
   ]
  },
  {
   "cell_type": "code",
   "execution_count": 431,
   "metadata": {},
   "outputs": [
    {
     "name": "stdout",
     "output_type": "stream",
     "text": [
      "[[0.0060001  0.9939999 ]\n",
      " [0.27680391 0.72319609]\n",
      " [0.06781261 0.93218739]\n",
      " [0.01366006 0.98633994]]\n",
      "[[3.96981352e-06 9.99996030e-01]\n",
      " [1.18545941e-08 9.99999988e-01]\n",
      " [3.27611852e-07 9.99999672e-01]\n",
      " [2.62504067e-03 9.97374959e-01]]\n",
      "Original Accuracy (on training) = 1.0\n",
      "Original Accuracy (on testing) = 1.0\n"
     ]
    },
    {
     "data": {
      "image/png": "[encoded data removed]",
      "text/plain": [
       "<Figure size 432x288 with 1 Axes>"
      ]
     },
     "metadata": {
      "needs_background": "light"
     },
     "output_type": "display_data"
    },
    {
     "name": "stdout",
     "output_type": "stream",
     "text": [
      "BESVM Accuracy (on training) = x1 with bounded error 0.1 : 0.9352941176470588\n",
      "BESVM Accuracy (on testing) = x1 with bounded error 0.1 : 0.9534883720930233\n"
     ]
    },
    {
     "data": {
      "image/png": "[encoded data removed]",
      "text/plain": [
       "<Figure size 432x288 with 1 Axes>"
      ]
     },
     "metadata": {
      "needs_background": "light"
     },
     "output_type": "display_data"
    }
   ],
   "source": [
    "pd.set_option('display.max_rows',10)\n",
    "\n",
    "x_original = df_2feature.iloc[:,:-1].values\n",
    "y_original = df_2feature.iloc[:,-1].values\n",
    "x_be = df_2feature_x1be.iloc[:, :-1].values\n",
    "y_be = df_2feature_x1be.iloc[:,-1].values\n",
    "\n",
    "X_train, X_test,y_train, y_test = train_test_split(x_original, y_original, test_size=0.2,random_state=1)\n",
    "clf_original = SVC(kernel='linear',C=1,gamma='auto',probability=True)\n",
    "clf_original.fit(X_train, y_train)\n",
    "y_original_predict = clf_original.predict_proba(X_test[:4])\n",
    "#print(y_original_predict)\n",
    "t = clf_original.predict_proba(X_train[:4])\n",
    "#print(t)\n",
    "result_orginal_train = clf_original.score(X_train, y_train)\n",
    "result_orginal_test = clf_original.score(X_test, y_test)\n",
    "print('Original Accuracy (on training) = '+str(result_orginal_train))\n",
    "print('Original Accuracy (on testing) = '+str(result_orginal_test))\n",
    "plt.scatter(x_original[y_original==0,0],x_original[y_original==0,1],color = 'r',marker = 'o')\n",
    "plt.scatter(x_original[y_original==1,0],x_original[y_original==1,1],color = 'b',marker = '*')\n",
    "plt.title('original')\n",
    "plt.xlabel('feature x1 : sepal length')\n",
    "plt.ylabel('feature x2 : sepal width')\n",
    "plt.show()\n",
    "\n",
    "X_train,X_test,y_train, y_test = train_test_split(x_be, y_be, test_size=0.2,random_state=1)\n",
    "clf_BE = SVC(kernel='linear',C=1,gamma='auto')\n",
    "clf_BE.fit(X_train, y_train)\n",
    "y_BE_predict = clf_BE.predict(X_test)\n",
    "result_BE_train = clf_BE.score(X_train, y_train)\n",
    "result_BE_test = clf_BE.score(X_test, y_test)\n",
    "print('BESVM Accuracy (on training) = x1 with bounded error 0.1 : '+str(result_BE_train))\n",
    "print('BESVM Accuracy (on testing) = x1 with bounded error 0.1 : '+str(result_BE_test))\n",
    "\n",
    "plt.scatter(x_be[y_be==0,0],x_be[y_be==0,1],color = 'r',marker = 'o')\n",
    "plt.scatter(x_be[y_be==1,0],x_be[y_be==1,1],color = 'b',marker = '*')\n",
    "plt.title('10%\\ Error adding in feature x1')\n",
    "plt.xlabel('feature x1 : sepal length')\n",
    "plt.ylabel('feature x2 : sepal width')\n",
    "plt.show()\n"
   ]
  },
  {
   "cell_type": "code",
   "execution_count": 432,
   "metadata": {},
   "outputs": [
    {
     "name": "stdout",
     "output_type": "stream",
     "text": [
      "[[5.  3. ]\n",
      " [5.  3.2]\n",
      " [4.5 2.3]\n",
      " [5.7 3.8]\n",
      " [5.5 3.5]\n",
      " [5.8 4. ]\n",
      " [5.1 3.3]\n",
      " [5.2 3.4]\n",
      " [5.1 2.5]\n",
      " [6.  3.4]\n",
      " [5.9 3.2]\n",
      " [5.6 2.9]\n",
      " [4.9 2.5]\n",
      " [5.7 3. ]\n",
      " [5.4 3. ]]\n"
     ]
    },
    {
     "data": {
      "image/png": "[encoded data removed]",
      "text/plain": [
       "<Figure size 720x432 with 1 Axes>"
      ]
     },
     "metadata": {},
     "output_type": "display_data"
    },
    {
     "name": "stdout",
     "output_type": "stream",
     "text": [
      "[[5.08619718 2.3       ]\n",
      " [5.18619718 3.2       ]\n",
      " [4.5        2.3       ]\n",
      " [4.98619718 3.2       ]\n",
      " [5.2        3.4       ]\n",
      " [5.58619718 3.        ]\n",
      " [5.78619718 3.5       ]\n",
      " [4.88619718 3.        ]\n",
      " [5.88619718 3.7       ]\n",
      " [6.28619718 3.8       ]\n",
      " [4.98619718 2.9       ]\n",
      " [5.58619718 3.3       ]\n",
      " [6.08619718 3.5       ]\n",
      " [5.         3.        ]\n",
      " [5.78619718 3.4       ]\n",
      " [5.1        3.3       ]\n",
      " [5.         3.2       ]\n",
      " [5.68619718 3.3       ]\n",
      " [6.38619718 4.        ]\n",
      " [4.4        2.9       ]\n",
      " [5.58619718 3.2       ]\n",
      " [5.18619718 3.1       ]\n",
      " [5.58619718 3.6       ]\n",
      " [5.01380282 2.8       ]\n",
      " [5.61380282 3.4       ]\n",
      " [6.3        3.4       ]\n",
      " [5.01380282 2.7       ]\n",
      " [5.31380282 3.2       ]\n",
      " [4.91380282 2.6       ]\n",
      " [5.11380282 2.9       ]\n",
      " [5.91380282 3.2       ]\n",
      " [7.11380282 3.8       ]\n",
      " [6.61380282 3.6       ]\n",
      " [4.51380282 2.5       ]\n",
      " [5.7        3.        ]\n",
      " [5.81380282 3.1       ]\n",
      " [5.01380282 2.9       ]\n",
      " [6.2        3.4       ]\n",
      " [4.81380282 3.        ]\n",
      " [5.9        3.2       ]\n",
      " [4.61380282 2.7       ]\n",
      " [5.11380282 3.        ]\n",
      " [5.71380282 3.4       ]\n",
      " [4.31380282 2.5       ]\n",
      " [5.4        3.        ]]\n"
     ]
    },
    {
     "data": {
      "image/png": "[encoded data removed]",
      "text/plain": [
       "<Figure size 720x432 with 1 Axes>"
      ]
     },
     "metadata": {},
     "output_type": "display_data"
    }
   ],
   "source": [
    "plot_hyperplane(clf_original,x_original,y_original)\n",
    "plt.show()\n",
    "plot_hyperplane(clf_BE,x_be,y_be)\n",
    "plt.show()"
   ]
  },
  {
   "cell_type": "code",
   "execution_count": 433,
   "metadata": {},
   "outputs": [
    {
     "name": "stdout",
     "output_type": "stream",
     "text": [
      "Original Accuracy (on testing) = 1.0\n",
      "BESVM Accuracy (on no BE testing input) = x1 with bounded error 0.1 : 1.0\n"
     ]
    }
   ],
   "source": [
    "test_x = subset.iloc[:,:-1].values\n",
    "test_y = subset.iloc[:,-1].values\n",
    "\n",
    "y_original_predict = clf_original.predict(test_x)\n",
    "result_orginal_test = clf_original.score(test_x, test_y)\n",
    "\n",
    "y_BE_predict = clf_BE.predict(test_x)\n",
    "result_be_test = clf_BE.score(test_x, test_y)\n",
    "\n",
    "print('Original Accuracy (on testing) = '+str(result_orginal_test))\n",
    "print('BESVM Accuracy (on no BE testing input) = x1 with bounded error 0.1 : '+str(result_be_test))\n",
    "\n",
    "\n"
   ]
  },
  {
   "cell_type": "code",
   "execution_count": 434,
   "metadata": {},
   "outputs": [
    {
     "name": "stdout",
     "output_type": "stream",
     "text": [
      "Original Accuracy (on training) = 1.0\n",
      "Original Accuracy (on testing) = 1.0\n"
     ]
    },
    {
     "data": {
      "image/png": "[encoded data removed]",
      "text/plain": [
       "<Figure size 432x288 with 1 Axes>"
      ]
     },
     "metadata": {
      "needs_background": "light"
     },
     "output_type": "display_data"
    },
    {
     "name": "stdout",
     "output_type": "stream",
     "text": [
      "BESVM Accuracy (on training) = x2 with bounded error 0.1 : 0.9941176470588236\n",
      "BESVM Accuracy (on testing) = x2 with bounded error 0.1 : 0.8604651162790697\n"
     ]
    },
    {
     "data": {
      "image/png": "[encoded data removed]",
      "text/plain": [
       "<Figure size 432x288 with 1 Axes>"
      ]
     },
     "metadata": {
      "needs_background": "light"
     },
     "output_type": "display_data"
    }
   ],
   "source": [
    "pd.set_option('display.max_rows',10)\n",
    "\n",
    "x_original = df_2feature.iloc[:,:-1].values\n",
    "y_original = df_2feature.iloc[:,-1].values\n",
    "x_be = df_2feature_x2be.iloc[:, :-1].values\n",
    "y_be = df_2feature_x2be.iloc[:,-1].values\n",
    "\n",
    "X_train, X_test,y_train, y_test = train_test_split(x_original, y_original, test_size=0.2,random_state=1)\n",
    "clf_original = SVC(kernel='linear',C=1,gamma='auto')\n",
    "clf_original.fit(X_train, y_train)\n",
    "y_original_predict = clf_original.predict(X_test)\n",
    "result_orginal_train = clf_original.score(X_train, y_train)\n",
    "result_orginal_test = clf_original.score(X_test, y_test)\n",
    "print('Original Accuracy (on training) = '+str(result_orginal_train))\n",
    "print('Original Accuracy (on testing) = '+str(result_orginal_test))\n",
    "plt.scatter(x_original[y_original==0,0],x_original[y_original==0,1],color = 'r',marker = 'o')\n",
    "plt.scatter(x_original[y_original==1,0],x_original[y_original==1,1],color = 'b',marker = '*')\n",
    "plt.title('original')\n",
    "plt.xlabel('feature x1 : sepal length')\n",
    "plt.ylabel('feature x2 : sepal width')\n",
    "plt.show()\n",
    "\n",
    "X_train,X_test,y_train, y_test = train_test_split(x_be, y_be, test_size=0.2,random_state=1)\n",
    "clf_BE = SVC(kernel='linear',C=1,gamma='auto')\n",
    "clf_BE.fit(X_train, y_train)\n",
    "y_BE_predict = clf_BE.predict(X_test)\n",
    "result_BE_train = clf_BE.score(X_train, y_train)\n",
    "result_BE_test = clf_BE.score(X_test, y_test)\n",
    "print('BESVM Accuracy (on training) = x2 with bounded error 0.1 : '+str(result_BE_train))\n",
    "print('BESVM Accuracy (on testing) = x2 with bounded error 0.1 : '+str(result_BE_test))\n",
    "\n",
    "plt.scatter(x_be[y_be==0,0],x_be[y_be==0,1],color = 'r',marker = 'o')\n",
    "plt.scatter(x_be[y_be==1,0],x_be[y_be==1,1],color = 'b',marker = '*')\n",
    "plt.title('10%\\ Error adding in feature x2')\n",
    "plt.xlabel('feature x1 : sepal length')\n",
    "plt.ylabel('feature x2 : sepal width')\n",
    "plt.show()\n"
   ]
  },
  {
   "cell_type": "code",
   "execution_count": 435,
   "metadata": {},
   "outputs": [
    {
     "name": "stdout",
     "output_type": "stream",
     "text": [
      "[[5.  3. ]\n",
      " [5.  3.2]\n",
      " [4.5 2.3]\n",
      " [5.7 3.8]\n",
      " [5.5 3.5]\n",
      " [5.8 4. ]\n",
      " [5.1 3.3]\n",
      " [5.2 3.4]\n",
      " [5.1 2.5]\n",
      " [6.  3.4]\n",
      " [5.9 3.2]\n",
      " [5.6 2.9]\n",
      " [4.9 2.5]\n",
      " [5.7 3. ]\n",
      " [5.4 3. ]]\n"
     ]
    },
    {
     "data": {
      "image/png": "[encoded data removed]",
      "text/plain": [
       "<Figure size 720x432 with 1 Axes>"
      ]
     },
     "metadata": {},
     "output_type": "display_data"
    },
    {
     "name": "stdout",
     "output_type": "stream",
     "text": [
      "[[5.2       3.0956338]\n",
      " [4.5       2.6043662]\n",
      " [4.5       2.3      ]\n",
      " [5.8       4.       ]\n",
      " [5.2       3.4      ]\n",
      " [5.2       3.1956338]\n",
      " [5.3       3.3956338]\n",
      " [5.7       3.8      ]\n",
      " [5.8       3.6956338]\n",
      " [5.        3.       ]\n",
      " [5.1       3.3      ]\n",
      " [5.        2.9956338]\n",
      " [5.        2.8956338]\n",
      " [5.1       2.5      ]\n",
      " [5.        2.6043662]\n",
      " [5.7       3.3043662]\n",
      " [5.7       3.2043662]\n",
      " [5.9       3.5043662]\n",
      " [5.6       3.2043662]\n",
      " [6.        3.7043662]\n",
      " [5.2       2.7      ]\n",
      " [4.9       2.8043662]\n",
      " [6.2       3.7043662]\n",
      " [4.9       2.5      ]\n",
      " [5.4       3.       ]]\n"
     ]
    },
    {
     "data": {
      "image/png": "[encoded data removed]",
      "text/plain": [
       "<Figure size 720x432 with 1 Axes>"
      ]
     },
     "metadata": {},
     "output_type": "display_data"
    }
   ],
   "source": [
    "plot_hyperplane(clf_original,x_original,y_original)\n",
    "plt.show()\n",
    "plot_hyperplane(clf_BE,x_be,y_be)\n",
    "plt.show()"
   ]
  },
  {
   "cell_type": "code",
   "execution_count": 436,
   "metadata": {},
   "outputs": [
    {
     "name": "stdout",
     "output_type": "stream",
     "text": [
      "Original Accuracy (on testing) = 1.0\n",
      "BESVM Accuracy (on no BE testing input) = x2 with bounded error 0.1 : 1.0\n"
     ]
    }
   ],
   "source": [
    "test_x = subset.iloc[:,:-1].values\n",
    "test_y = subset.iloc[:,-1].values\n",
    "\n",
    "y_original_predict = clf_original.predict(test_x)\n",
    "result_orginal_test = clf_original.score(test_x, test_y)\n",
    "\n",
    "y_BE_predict = clf_BE.predict(test_x)\n",
    "result_be_test = clf_BE.score(test_x, test_y)\n",
    "\n",
    "print('Original Accuracy (on testing) = '+str(result_orginal_test))\n",
    "print('BESVM Accuracy (on no BE testing input) = x2 with bounded error 0.1 : '+str(result_be_test))\n"
   ]
  },
  {
   "cell_type": "markdown",
   "metadata": {},
   "source": [
    "raise the BE up to 20% and not accumulate the dataset,\n",
    "oriiginal : 117\n",
    "10% err : 213\n",
    "20% err : 213"
   ]
  },
  {
   "cell_type": "code",
   "execution_count": 437,
   "metadata": {},
   "outputs": [
    {
     "name": "stderr",
     "output_type": "stream",
     "text": [
      "/Users/johnny/Documents/MachineLearning/HW/venv/lib/python3.7/site-packages/ipykernel_launcher.py:8: SettingWithCopyWarning: \n",
      "A value is trying to be set on a copy of a slice from a DataFrame\n",
      "\n",
      "See the caveats in the documentation: https://pandas.pydata.org/pandas-docs/stable/user_guide/indexing.html#returning-a-view-versus-a-copy\n",
      "  \n",
      "/Users/johnny/Documents/MachineLearning/HW/venv/lib/python3.7/site-packages/ipykernel_launcher.py:14: SettingWithCopyWarning: \n",
      "A value is trying to be set on a copy of a slice from a DataFrame\n",
      "\n",
      "See the caveats in the documentation: https://pandas.pydata.org/pandas-docs/stable/user_guide/indexing.html#returning-a-view-versus-a-copy\n",
      "  \n"
     ]
    },
    {
     "data": {
      "text/html": [
       "<div>\n",
       "<style scoped>\n",
       "    .dataframe tbody tr th:only-of-type {\n",
       "        vertical-align: middle;\n",
       "    }\n",
       "\n",
       "    .dataframe tbody tr th {\n",
       "        vertical-align: top;\n",
       "    }\n",
       "\n",
       "    .dataframe thead th {\n",
       "        text-align: right;\n",
       "    }\n",
       "</style>\n",
       "<table border=\"1\" class=\"dataframe\">\n",
       "  <thead>\n",
       "    <tr style=\"text-align: right;\">\n",
       "      <th></th>\n",
       "      <th>0</th>\n",
       "      <th>1</th>\n",
       "      <th>2</th>\n",
       "    </tr>\n",
       "  </thead>\n",
       "  <tbody>\n",
       "    <tr>\n",
       "      <th>0</th>\n",
       "      <td>4.600000</td>\n",
       "      <td>3.1</td>\n",
       "      <td>0.0</td>\n",
       "    </tr>\n",
       "    <tr>\n",
       "      <th>1</th>\n",
       "      <td>5.000000</td>\n",
       "      <td>3.6</td>\n",
       "      <td>0.0</td>\n",
       "    </tr>\n",
       "    <tr>\n",
       "      <th>2</th>\n",
       "      <td>4.600000</td>\n",
       "      <td>3.4</td>\n",
       "      <td>0.0</td>\n",
       "    </tr>\n",
       "    <tr>\n",
       "      <th>3</th>\n",
       "      <td>4.400000</td>\n",
       "      <td>2.9</td>\n",
       "      <td>0.0</td>\n",
       "    </tr>\n",
       "    <tr>\n",
       "      <th>4</th>\n",
       "      <td>4.300000</td>\n",
       "      <td>3.0</td>\n",
       "      <td>0.0</td>\n",
       "    </tr>\n",
       "    <tr>\n",
       "      <th>...</th>\n",
       "      <td>...</td>\n",
       "      <td>...</td>\n",
       "      <td>...</td>\n",
       "    </tr>\n",
       "    <tr>\n",
       "      <th>208</th>\n",
       "      <td>6.527606</td>\n",
       "      <td>3.0</td>\n",
       "      <td>1.0</td>\n",
       "    </tr>\n",
       "    <tr>\n",
       "      <th>209</th>\n",
       "      <td>5.127606</td>\n",
       "      <td>3.4</td>\n",
       "      <td>1.0</td>\n",
       "    </tr>\n",
       "    <tr>\n",
       "      <th>210</th>\n",
       "      <td>5.227606</td>\n",
       "      <td>3.1</td>\n",
       "      <td>1.0</td>\n",
       "    </tr>\n",
       "    <tr>\n",
       "      <th>211</th>\n",
       "      <td>5.627606</td>\n",
       "      <td>3.2</td>\n",
       "      <td>1.0</td>\n",
       "    </tr>\n",
       "    <tr>\n",
       "      <th>212</th>\n",
       "      <td>5.027606</td>\n",
       "      <td>3.4</td>\n",
       "      <td>1.0</td>\n",
       "    </tr>\n",
       "  </tbody>\n",
       "</table>\n",
       "<p>213 rows × 3 columns</p>\n",
       "</div>"
      ],
      "text/plain": [
       "            0    1    2\n",
       "0    4.600000  3.1  0.0\n",
       "1    5.000000  3.6  0.0\n",
       "2    4.600000  3.4  0.0\n",
       "3    4.400000  2.9  0.0\n",
       "4    4.300000  3.0  0.0\n",
       "..        ...  ...  ...\n",
       "208  6.527606  3.0  1.0\n",
       "209  5.127606  3.4  1.0\n",
       "210  5.227606  3.1  1.0\n",
       "211  5.627606  3.2  1.0\n",
       "212  5.027606  3.4  1.0\n",
       "\n",
       "[213 rows x 3 columns]"
      ]
     },
     "execution_count": 437,
     "metadata": {},
     "output_type": "execute_result"
    }
   ],
   "source": [
    "pd.set_option('display.max_rows',10)\n",
    "temp = df_2feature.copy()\n",
    "df_2feature_x1be = pd.DataFrame.to_numpy(df_2feature)\n",
    "e1 = temp['x1'].mean()*0.2\n",
    "e2 = temp['x2'].mean()*0.2 \n",
    "\n",
    "for idx,cell in temp['x1'].iteritems():\n",
    "    temp['x1'][idx] += e1\n",
    "temp = temp.to_numpy()\n",
    "df_2feature_x1be = np.vstack((df_2feature_x1be,temp))\n",
    "temp = df_2feature.copy()\n",
    "\n",
    "for idx,cell in temp['x1'].iteritems():\n",
    "    temp['x1'][idx] = temp['x1'][idx] - e1\n",
    "temp = temp.to_numpy()\n",
    "df_2feature_x1be = np.vstack((df_2feature_x1be,temp))\n",
    "temp = df_2feature.copy()\n",
    "\n",
    "df_2feature_x1be = pd.DataFrame(df_2feature_x1be)\n",
    "df_2feature_x1be\n"
   ]
  },
  {
   "cell_type": "code",
   "execution_count": 438,
   "metadata": {},
   "outputs": [
    {
     "name": "stderr",
     "output_type": "stream",
     "text": [
      "/Users/johnny/Documents/MachineLearning/HW/venv/lib/python3.7/site-packages/ipykernel_launcher.py:4: SettingWithCopyWarning: \n",
      "A value is trying to be set on a copy of a slice from a DataFrame\n",
      "\n",
      "See the caveats in the documentation: https://pandas.pydata.org/pandas-docs/stable/user_guide/indexing.html#returning-a-view-versus-a-copy\n",
      "  after removing the cwd from sys.path.\n",
      "/Users/johnny/Documents/MachineLearning/HW/venv/lib/python3.7/site-packages/ipykernel_launcher.py:10: SettingWithCopyWarning: \n",
      "A value is trying to be set on a copy of a slice from a DataFrame\n",
      "\n",
      "See the caveats in the documentation: https://pandas.pydata.org/pandas-docs/stable/user_guide/indexing.html#returning-a-view-versus-a-copy\n",
      "  # Remove the CWD from sys.path while we load stuff.\n"
     ]
    },
    {
     "data": {
      "text/html": [
       "<div>\n",
       "<style scoped>\n",
       "    .dataframe tbody tr th:only-of-type {\n",
       "        vertical-align: middle;\n",
       "    }\n",
       "\n",
       "    .dataframe tbody tr th {\n",
       "        vertical-align: top;\n",
       "    }\n",
       "\n",
       "    .dataframe thead th {\n",
       "        text-align: right;\n",
       "    }\n",
       "</style>\n",
       "<table border=\"1\" class=\"dataframe\">\n",
       "  <thead>\n",
       "    <tr style=\"text-align: right;\">\n",
       "      <th></th>\n",
       "      <th>0</th>\n",
       "      <th>1</th>\n",
       "      <th>2</th>\n",
       "    </tr>\n",
       "  </thead>\n",
       "  <tbody>\n",
       "    <tr>\n",
       "      <th>0</th>\n",
       "      <td>4.6</td>\n",
       "      <td>3.100000</td>\n",
       "      <td>0.0</td>\n",
       "    </tr>\n",
       "    <tr>\n",
       "      <th>1</th>\n",
       "      <td>5.0</td>\n",
       "      <td>3.600000</td>\n",
       "      <td>0.0</td>\n",
       "    </tr>\n",
       "    <tr>\n",
       "      <th>2</th>\n",
       "      <td>4.6</td>\n",
       "      <td>3.400000</td>\n",
       "      <td>0.0</td>\n",
       "    </tr>\n",
       "    <tr>\n",
       "      <th>3</th>\n",
       "      <td>4.4</td>\n",
       "      <td>2.900000</td>\n",
       "      <td>0.0</td>\n",
       "    </tr>\n",
       "    <tr>\n",
       "      <th>4</th>\n",
       "      <td>4.3</td>\n",
       "      <td>3.000000</td>\n",
       "      <td>0.0</td>\n",
       "    </tr>\n",
       "    <tr>\n",
       "      <th>...</th>\n",
       "      <td>...</td>\n",
       "      <td>...</td>\n",
       "      <td>...</td>\n",
       "    </tr>\n",
       "    <tr>\n",
       "      <th>208</th>\n",
       "      <td>7.7</td>\n",
       "      <td>2.391268</td>\n",
       "      <td>1.0</td>\n",
       "    </tr>\n",
       "    <tr>\n",
       "      <th>209</th>\n",
       "      <td>6.3</td>\n",
       "      <td>2.791268</td>\n",
       "      <td>1.0</td>\n",
       "    </tr>\n",
       "    <tr>\n",
       "      <th>210</th>\n",
       "      <td>6.4</td>\n",
       "      <td>2.491268</td>\n",
       "      <td>1.0</td>\n",
       "    </tr>\n",
       "    <tr>\n",
       "      <th>211</th>\n",
       "      <td>6.8</td>\n",
       "      <td>2.591268</td>\n",
       "      <td>1.0</td>\n",
       "    </tr>\n",
       "    <tr>\n",
       "      <th>212</th>\n",
       "      <td>6.2</td>\n",
       "      <td>2.791268</td>\n",
       "      <td>1.0</td>\n",
       "    </tr>\n",
       "  </tbody>\n",
       "</table>\n",
       "<p>213 rows × 3 columns</p>\n",
       "</div>"
      ],
      "text/plain": [
       "       0         1    2\n",
       "0    4.6  3.100000  0.0\n",
       "1    5.0  3.600000  0.0\n",
       "2    4.6  3.400000  0.0\n",
       "3    4.4  2.900000  0.0\n",
       "4    4.3  3.000000  0.0\n",
       "..   ...       ...  ...\n",
       "208  7.7  2.391268  1.0\n",
       "209  6.3  2.791268  1.0\n",
       "210  6.4  2.491268  1.0\n",
       "211  6.8  2.591268  1.0\n",
       "212  6.2  2.791268  1.0\n",
       "\n",
       "[213 rows x 3 columns]"
      ]
     },
     "execution_count": 438,
     "metadata": {},
     "output_type": "execute_result"
    }
   ],
   "source": [
    "df_2feature_x2be = pd.DataFrame.to_numpy(df_2feature)\n",
    "\n",
    "for idx,cell in temp['x2'].iteritems():\n",
    "    temp['x2'][idx] += e2\n",
    "temp = temp.to_numpy()\n",
    "df_2feature_x2be = np.vstack((df_2feature_x2be,temp))\n",
    "temp = df_2feature.copy()\n",
    "\n",
    "for idx,cell in temp['x2'].iteritems():\n",
    "    temp['x2'][idx] = temp['x2'][idx] - e2\n",
    "temp = temp.to_numpy()\n",
    "df_2feature_x2be = np.vstack((df_2feature_x2be,temp))\n",
    "temp = df_2feature.copy()\n",
    "\n",
    "df_2feature_x2be = pd.DataFrame(df_2feature_x2be)\n",
    "df_2feature_x2be\n"
   ]
  },
  {
   "cell_type": "code",
   "execution_count": 439,
   "metadata": {},
   "outputs": [
    {
     "name": "stdout",
     "output_type": "stream",
     "text": [
      "Original Accuracy (on training) = 1.0\n",
      "Original Accuracy (on testing) = 1.0\n"
     ]
    },
    {
     "data": {
      "image/png": "[encoded data removed]",
      "text/plain": [
       "<Figure size 432x288 with 1 Axes>"
      ]
     },
     "metadata": {
      "needs_background": "light"
     },
     "output_type": "display_data"
    },
    {
     "name": "stdout",
     "output_type": "stream",
     "text": [
      "BESVM Accuracy (on training) = x1 with bounded error 0.2 : 0.8588235294117647\n",
      "BESVM Accuracy (on testing) = x1 with bounded error 0.2 : 0.9069767441860465\n"
     ]
    },
    {
     "data": {
      "image/png": "[encoded data removed]",
      "text/plain": [
       "<Figure size 432x288 with 1 Axes>"
      ]
     },
     "metadata": {
      "needs_background": "light"
     },
     "output_type": "display_data"
    }
   ],
   "source": [
    "pd.set_option('display.max_rows',10)\n",
    "\n",
    "x_original = df_2feature.iloc[:,:-1].values\n",
    "y_original = df_2feature.iloc[:,-1].values\n",
    "x_be = df_2feature_x1be.iloc[:, :-1].values\n",
    "y_be = df_2feature_x1be.iloc[:,-1].values\n",
    "\n",
    "X_train, X_test,y_train, y_test = train_test_split(x_original, y_original, test_size=0.2,random_state=1)\n",
    "clf_original = SVC(kernel='linear',C=1,gamma='auto')\n",
    "clf_original.fit(X_train, y_train)\n",
    "y_original_predict = clf_original.predict(X_test)\n",
    "result_orginal_train = clf_original.score(X_train, y_train)\n",
    "result_orginal_test = clf_original.score(X_test, y_test)\n",
    "print('Original Accuracy (on training) = '+str(result_orginal_train))\n",
    "print('Original Accuracy (on testing) = '+str(result_orginal_test))\n",
    "plt.scatter(x_original[y_original==0,0],x_original[y_original==0,1],color = 'r',marker = 'o')\n",
    "plt.scatter(x_original[y_original==1,0],x_original[y_original==1,1],color = 'b',marker = '*')\n",
    "plt.title('original')\n",
    "plt.xlabel('feature x1 : sepal length')\n",
    "plt.ylabel('feature x2 : sepal width')\n",
    "plt.show()\n",
    "\n",
    "X_train,X_test,y_train, y_test = train_test_split(x_be, y_be, test_size=0.2,random_state=1)\n",
    "clf_BE = SVC(kernel='linear',C=1,gamma='auto')\n",
    "clf_BE.fit(X_train, y_train)\n",
    "y_BE_predict = clf_BE.predict(X_test)\n",
    "result_BE_train = clf_BE.score(X_train, y_train)\n",
    "result_BE_test = clf_BE.score(X_test, y_test)\n",
    "print('BESVM Accuracy (on training) = x1 with bounded error 0.2 : '+str(result_BE_train))\n",
    "print('BESVM Accuracy (on testing) = x1 with bounded error 0.2 : '+str(result_BE_test))\n",
    "\n",
    "plt.scatter(x_be[y_be==0,0],x_be[y_be==0,1],color = 'r',marker = 'o')\n",
    "plt.scatter(x_be[y_be==1,0],x_be[y_be==1,1],color = 'b',marker = '*')\n",
    "plt.title('20%\\ Error adding in feature x1')\n",
    "plt.xlabel('feature x1 : sepal length')\n",
    "plt.ylabel('feature x2 : sepal width')\n",
    "plt.show()\n"
   ]
  },
  {
   "cell_type": "code",
   "execution_count": 440,
   "metadata": {},
   "outputs": [
    {
     "name": "stdout",
     "output_type": "stream",
     "text": [
      "[[5.  3. ]\n",
      " [5.  3.2]\n",
      " [4.5 2.3]\n",
      " [5.7 3.8]\n",
      " [5.5 3.5]\n",
      " [5.8 4. ]\n",
      " [5.1 3.3]\n",
      " [5.2 3.4]\n",
      " [5.1 2.5]\n",
      " [6.  3.4]\n",
      " [5.9 3.2]\n",
      " [5.6 2.9]\n",
      " [4.9 2.5]\n",
      " [5.7 3. ]\n",
      " [5.4 3. ]]\n"
     ]
    },
    {
     "data": {
      "image/png": "[encoded data removed]",
      "text/plain": [
       "<Figure size 720x432 with 1 Axes>"
      ]
     },
     "metadata": {},
     "output_type": "display_data"
    },
    {
     "name": "stdout",
     "output_type": "stream",
     "text": [
      "[[6.27239437 3.7       ]\n",
      " [5.67239437 2.3       ]\n",
      " [5.77239437 3.2       ]\n",
      " [3.22760563 2.9       ]\n",
      " [4.5        2.3       ]\n",
      " [5.57239437 3.2       ]\n",
      " [5.2        3.4       ]\n",
      " [6.17239437 3.        ]\n",
      " [6.37239437 3.5       ]\n",
      " [5.47239437 3.        ]\n",
      " [5.         3.3       ]\n",
      " [6.47239437 3.7       ]\n",
      " [4.6        3.4       ]\n",
      " [5.7        3.8       ]\n",
      " [6.87239437 3.8       ]\n",
      " [5.57239437 2.9       ]\n",
      " [6.17239437 3.3       ]\n",
      " [6.67239437 3.5       ]\n",
      " [5.         3.        ]\n",
      " [6.37239437 3.4       ]\n",
      " [5.1        3.3       ]\n",
      " [5.         3.2       ]\n",
      " [6.27239437 3.3       ]\n",
      " [6.97239437 4.        ]\n",
      " [4.4        2.9       ]\n",
      " [5.         3.6       ]\n",
      " [6.17239437 3.2       ]\n",
      " [3.42760563 3.1       ]\n",
      " [3.82760563 3.2       ]\n",
      " [3.12760563 3.        ]\n",
      " [5.77239437 3.1       ]\n",
      " [5.77239437 3.6       ]\n",
      " [6.17239437 3.6       ]\n",
      " [4.42760563 2.8       ]\n",
      " [5.02760563 3.4       ]\n",
      " [4.92760563 2.9       ]\n",
      " [6.72760563 3.8       ]\n",
      " [6.3        3.4       ]\n",
      " [4.42760563 2.7       ]\n",
      " [4.72760563 3.2       ]\n",
      " [7.2        3.6       ]\n",
      " [4.52760563 2.9       ]\n",
      " [5.32760563 3.2       ]\n",
      " [6.52760563 3.8       ]\n",
      " [5.42760563 3.        ]\n",
      " [6.02760563 3.6       ]\n",
      " [5.62760563 3.2       ]\n",
      " [3.92760563 2.5       ]\n",
      " [5.7        3.        ]\n",
      " [5.62760563 3.        ]\n",
      " [5.22760563 3.1       ]\n",
      " [4.42760563 2.9       ]\n",
      " [5.82760563 3.2       ]\n",
      " [6.2        3.4       ]\n",
      " [4.22760563 3.        ]\n",
      " [5.9        3.2       ]\n",
      " [4.02760563 2.7       ]\n",
      " [5.72760563 3.2       ]\n",
      " [7.9        3.8       ]\n",
      " [5.22760563 2.9       ]\n",
      " [4.52760563 3.        ]\n",
      " [7.7        3.8       ]\n",
      " [5.12760563 3.4       ]\n",
      " [3.72760563 2.5       ]\n",
      " [6.02760563 3.2       ]\n",
      " [5.4        3.        ]]\n"
     ]
    },
    {
     "data": {
      "image/png": "[encoded data removed]",
      "text/plain": [
       "<Figure size 720x432 with 1 Axes>"
      ]
     },
     "metadata": {},
     "output_type": "display_data"
    }
   ],
   "source": [
    "plot_hyperplane(clf_original,x_original,y_original)\n",
    "plt.show()\n",
    "plot_hyperplane(clf_BE,x_be,y_be)\n",
    "plt.show()"
   ]
  },
  {
   "cell_type": "code",
   "execution_count": 441,
   "metadata": {},
   "outputs": [
    {
     "name": "stdout",
     "output_type": "stream",
     "text": [
      "Original Accuracy (on testing) = 1.0\n",
      "BESVM Accuracy (on no BE testing input) = x1 with bounded error 0.2 : 0.8333333333333334\n"
     ]
    }
   ],
   "source": [
    "test_x = subset.iloc[:,:-1].values\n",
    "test_y = subset.iloc[:,-1].values\n",
    "\n",
    "y_original_predict = clf_original.predict(test_x)\n",
    "result_orginal_test = clf_original.score(test_x, test_y)\n",
    "\n",
    "y_BE_predict = clf_BE.predict(test_x)\n",
    "result_be_test = clf_BE.score(test_x, test_y)\n",
    "#print(subset.info())\n",
    "print('Original Accuracy (on testing) = '+str(result_orginal_test))\n",
    "print('BESVM Accuracy (on no BE testing input) = x1 with bounded error 0.2 : '+str(result_be_test))\n"
   ]
  },
  {
   "cell_type": "code",
   "execution_count": 442,
   "metadata": {},
   "outputs": [
    {
     "name": "stdout",
     "output_type": "stream",
     "text": [
      "Original Accuracy (on training) = 1.0\n",
      "Original Accuracy (on testing) = 1.0\n"
     ]
    },
    {
     "data": {
      "image/png": "[encoded data removed]",
      "text/plain": [
       "<Figure size 432x288 with 1 Axes>"
      ]
     },
     "metadata": {
      "needs_background": "light"
     },
     "output_type": "display_data"
    },
    {
     "name": "stdout",
     "output_type": "stream",
     "text": [
      "BESVM Accuracy (on training) = x2 with bounded error 0.2 : 0.9470588235294117\n",
      "BESVM Accuracy (on testing) = x2 with bounded error 0.2 : 0.813953488372093\n"
     ]
    },
    {
     "data": {
      "image/png": "[encoded data removed]",
      "text/plain": [
       "<Figure size 432x288 with 1 Axes>"
      ]
     },
     "metadata": {
      "needs_background": "light"
     },
     "output_type": "display_data"
    }
   ],
   "source": [
    "pd.set_option('display.max_rows',10)\n",
    "\n",
    "x_original = df_2feature.iloc[:,:-1].values\n",
    "y_original = df_2feature.iloc[:,-1].values\n",
    "x_be = df_2feature_x2be.iloc[:, :-1].values\n",
    "y_be = df_2feature_x2be.iloc[:,-1].values\n",
    "\n",
    "X_train, X_test,y_train, y_test = train_test_split(x_original, y_original, test_size=0.2,random_state=1)\n",
    "clf_original = SVC(kernel='linear',C=1,gamma='auto')\n",
    "clf_original.fit(X_train, y_train)\n",
    "y_original_predict = clf_original.predict(X_test)\n",
    "result_orginal_train = clf_original.score(X_train, y_train)\n",
    "result_orginal_test = clf_original.score(X_test, y_test)\n",
    "print('Original Accuracy (on training) = '+str(result_orginal_train))\n",
    "print('Original Accuracy (on testing) = '+str(result_orginal_test))\n",
    "plt.scatter(x_original[y_original==0,0],x_original[y_original==0,1],color = 'r',marker = 'o')\n",
    "plt.scatter(x_original[y_original==1,0],x_original[y_original==1,1],color = 'b',marker = '*')\n",
    "plt.title('original')\n",
    "plt.xlabel('feature x1 : sepal length')\n",
    "plt.ylabel('feature x2 : sepal width')\n",
    "plt.show()\n",
    "\n",
    "X_train,X_test,y_train, y_test = train_test_split(x_be, y_be, test_size=0.2,random_state=1)\n",
    "clf_BE = SVC(kernel='linear',C=1,gamma='auto')\n",
    "clf_BE.fit(X_train, y_train)\n",
    "y_BE_predict = clf_BE.predict(X_test)\n",
    "result_BE_train = clf_BE.score(X_train, y_train)\n",
    "result_BE_test = clf_BE.score(X_test, y_test)\n",
    "print('BESVM Accuracy (on training) = x2 with bounded error 0.2 : '+str(result_BE_train))\n",
    "print('BESVM Accuracy (on testing) = x2 with bounded error 0.2 : '+str(result_BE_test))\n",
    "\n",
    "plt.scatter(x_be[y_be==0,0],x_be[y_be==0,1],color = 'r',marker = 'o')\n",
    "plt.scatter(x_be[y_be==1,0],x_be[y_be==1,1],color = 'b',marker = '*')\n",
    "plt.title('20%\\ Error adding in feature x2')\n",
    "plt.xlabel('feature x : sepal length')\n",
    "plt.ylabel('feature x2 : sepal width')\n",
    "plt.show()\n"
   ]
  },
  {
   "cell_type": "code",
   "execution_count": 443,
   "metadata": {},
   "outputs": [
    {
     "name": "stdout",
     "output_type": "stream",
     "text": [
      "[[5.  3. ]\n",
      " [5.  3.2]\n",
      " [4.5 2.3]\n",
      " [5.7 3.8]\n",
      " [5.5 3.5]\n",
      " [5.8 4. ]\n",
      " [5.1 3.3]\n",
      " [5.2 3.4]\n",
      " [5.1 2.5]\n",
      " [6.  3.4]\n",
      " [5.9 3.2]\n",
      " [5.6 2.9]\n",
      " [4.9 2.5]\n",
      " [5.7 3. ]\n",
      " [5.4 3. ]]\n"
     ]
    },
    {
     "data": {
      "image/png": "[encoded data removed]",
      "text/plain": [
       "<Figure size 720x432 with 1 Axes>"
      ]
     },
     "metadata": {},
     "output_type": "display_data"
    },
    {
     "name": "stdout",
     "output_type": "stream",
     "text": [
      "[[5.         2.99126761]\n",
      " [5.2        2.79126761]\n",
      " [4.5        2.3       ]\n",
      " [5.8        4.        ]\n",
      " [5.2        3.4       ]\n",
      " [5.2        2.89126761]\n",
      " [5.3        3.09126761]\n",
      " [5.7        3.8       ]\n",
      " [5.2        3.49126761]\n",
      " [5.8        3.39126761]\n",
      " [5.         3.        ]\n",
      " [5.1        3.3       ]\n",
      " [5.         2.69126761]\n",
      " [5.1        3.09126761]\n",
      " [4.6        2.49126761]\n",
      " [5.         2.59126761]\n",
      " [5.5        3.59126761]\n",
      " [5.3        3.7       ]\n",
      " [5.1        2.5       ]\n",
      " [5.         2.        ]\n",
      " [5.         2.90873239]\n",
      " [5.7        3.60873239]\n",
      " [5.7        3.50873239]\n",
      " [5.6        3.10873239]\n",
      " [5.         2.60873239]\n",
      " [5.9        3.80873239]\n",
      " [5.6        3.50873239]\n",
      " [5.5        3.10873239]\n",
      " [6.         4.00873239]\n",
      " [5.2        2.7       ]\n",
      " [5.         2.3       ]\n",
      " [4.9        3.10873239]\n",
      " [5.6        3.30873239]\n",
      " [6.2        4.00873239]\n",
      " [4.9        2.5       ]\n",
      " [4.9        1.89126761]\n",
      " [5.4        3.        ]]\n"
     ]
    },
    {
     "data": {
      "image/png": "[encoded data removed]",
      "text/plain": [
       "<Figure size 720x432 with 1 Axes>"
      ]
     },
     "metadata": {},
     "output_type": "display_data"
    }
   ],
   "source": [
    "plot_hyperplane(clf_original,x_original,y_original)\n",
    "plt.show()\n",
    "plot_hyperplane(clf_BE,x_be,y_be)\n",
    "plt.show()"
   ]
  },
  {
   "cell_type": "code",
   "execution_count": 444,
   "metadata": {},
   "outputs": [
    {
     "name": "stdout",
     "output_type": "stream",
     "text": [
      "Original Accuracy (on testing) = 1.0\n",
      "BESVM Accuracy (on no BE testing input) = x2 with bounded error 0.2 : 1.0\n"
     ]
    }
   ],
   "source": [
    "test_x = subset.iloc[:,:-1].values\n",
    "test_y = subset.iloc[:,-1].values\n",
    "\n",
    "y_original_predict = clf_original.predict(test_x)\n",
    "result_orginal_test = clf_original.score(test_x, test_y)\n",
    "\n",
    "y_BE_predict = clf_BE.predict(test_x)\n",
    "result_be_test = clf_BE.score(test_x, test_y)\n",
    "#print(subset.info())\n",
    "print('Original Accuracy (on testing) = '+str(result_orginal_test))\n",
    "print('BESVM Accuracy (on no BE testing input) = x2 with bounded error 0.2 : '+str(result_be_test))\n"
   ]
  },
  {
   "cell_type": "markdown",
   "metadata": {},
   "source": [
    "raise the BE up to 30% and not accumulate the dataset,\n",
    "oriiginal : 71\n",
    "10% err : 213\n",
    "20% err : 213"
   ]
  },
  {
   "cell_type": "code",
   "execution_count": 445,
   "metadata": {},
   "outputs": [
    {
     "name": "stderr",
     "output_type": "stream",
     "text": [
      "/Users/johnny/Documents/MachineLearning/HW/venv/lib/python3.7/site-packages/ipykernel_launcher.py:8: SettingWithCopyWarning: \n",
      "A value is trying to be set on a copy of a slice from a DataFrame\n",
      "\n",
      "See the caveats in the documentation: https://pandas.pydata.org/pandas-docs/stable/user_guide/indexing.html#returning-a-view-versus-a-copy\n",
      "  \n",
      "/Users/johnny/Documents/MachineLearning/HW/venv/lib/python3.7/site-packages/ipykernel_launcher.py:14: SettingWithCopyWarning: \n",
      "A value is trying to be set on a copy of a slice from a DataFrame\n",
      "\n",
      "See the caveats in the documentation: https://pandas.pydata.org/pandas-docs/stable/user_guide/indexing.html#returning-a-view-versus-a-copy\n",
      "  \n"
     ]
    },
    {
     "data": {
      "text/html": [
       "<div>\n",
       "<style scoped>\n",
       "    .dataframe tbody tr th:only-of-type {\n",
       "        vertical-align: middle;\n",
       "    }\n",
       "\n",
       "    .dataframe tbody tr th {\n",
       "        vertical-align: top;\n",
       "    }\n",
       "\n",
       "    .dataframe thead th {\n",
       "        text-align: right;\n",
       "    }\n",
       "</style>\n",
       "<table border=\"1\" class=\"dataframe\">\n",
       "  <thead>\n",
       "    <tr style=\"text-align: right;\">\n",
       "      <th></th>\n",
       "      <th>0</th>\n",
       "      <th>1</th>\n",
       "      <th>2</th>\n",
       "    </tr>\n",
       "  </thead>\n",
       "  <tbody>\n",
       "    <tr>\n",
       "      <th>0</th>\n",
       "      <td>4.600000</td>\n",
       "      <td>3.1</td>\n",
       "      <td>0.0</td>\n",
       "    </tr>\n",
       "    <tr>\n",
       "      <th>1</th>\n",
       "      <td>5.000000</td>\n",
       "      <td>3.6</td>\n",
       "      <td>0.0</td>\n",
       "    </tr>\n",
       "    <tr>\n",
       "      <th>2</th>\n",
       "      <td>4.600000</td>\n",
       "      <td>3.4</td>\n",
       "      <td>0.0</td>\n",
       "    </tr>\n",
       "    <tr>\n",
       "      <th>3</th>\n",
       "      <td>4.400000</td>\n",
       "      <td>2.9</td>\n",
       "      <td>0.0</td>\n",
       "    </tr>\n",
       "    <tr>\n",
       "      <th>4</th>\n",
       "      <td>4.300000</td>\n",
       "      <td>3.0</td>\n",
       "      <td>0.0</td>\n",
       "    </tr>\n",
       "    <tr>\n",
       "      <th>...</th>\n",
       "      <td>...</td>\n",
       "      <td>...</td>\n",
       "      <td>...</td>\n",
       "    </tr>\n",
       "    <tr>\n",
       "      <th>208</th>\n",
       "      <td>5.941408</td>\n",
       "      <td>3.0</td>\n",
       "      <td>1.0</td>\n",
       "    </tr>\n",
       "    <tr>\n",
       "      <th>209</th>\n",
       "      <td>4.541408</td>\n",
       "      <td>3.4</td>\n",
       "      <td>1.0</td>\n",
       "    </tr>\n",
       "    <tr>\n",
       "      <th>210</th>\n",
       "      <td>4.641408</td>\n",
       "      <td>3.1</td>\n",
       "      <td>1.0</td>\n",
       "    </tr>\n",
       "    <tr>\n",
       "      <th>211</th>\n",
       "      <td>5.041408</td>\n",
       "      <td>3.2</td>\n",
       "      <td>1.0</td>\n",
       "    </tr>\n",
       "    <tr>\n",
       "      <th>212</th>\n",
       "      <td>4.441408</td>\n",
       "      <td>3.4</td>\n",
       "      <td>1.0</td>\n",
       "    </tr>\n",
       "  </tbody>\n",
       "</table>\n",
       "<p>213 rows × 3 columns</p>\n",
       "</div>"
      ],
      "text/plain": [
       "            0    1    2\n",
       "0    4.600000  3.1  0.0\n",
       "1    5.000000  3.6  0.0\n",
       "2    4.600000  3.4  0.0\n",
       "3    4.400000  2.9  0.0\n",
       "4    4.300000  3.0  0.0\n",
       "..        ...  ...  ...\n",
       "208  5.941408  3.0  1.0\n",
       "209  4.541408  3.4  1.0\n",
       "210  4.641408  3.1  1.0\n",
       "211  5.041408  3.2  1.0\n",
       "212  4.441408  3.4  1.0\n",
       "\n",
       "[213 rows x 3 columns]"
      ]
     },
     "execution_count": 445,
     "metadata": {},
     "output_type": "execute_result"
    }
   ],
   "source": [
    "pd.set_option('display.max_rows',10)\n",
    "temp = df_2feature.copy()\n",
    "df_2feature_x1be = pd.DataFrame.to_numpy(df_2feature)\n",
    "e1 = temp['x1'].mean()*0.3\n",
    "e2 = temp['x2'].mean()*0.3\n",
    "\n",
    "for idx,cell in temp['x1'].iteritems():\n",
    "    temp['x1'][idx] += e1\n",
    "temp = temp.to_numpy()\n",
    "df_2feature_x1be = np.vstack((df_2feature_x1be,temp))\n",
    "temp = df_2feature.copy()\n",
    "\n",
    "for idx,cell in temp['x1'].iteritems():\n",
    "    temp['x1'][idx] = temp['x1'][idx] - e1\n",
    "temp = temp.to_numpy()\n",
    "df_2feature_x1be = np.vstack((df_2feature_x1be,temp))\n",
    "temp = df_2feature.copy()\n",
    "\n",
    "df_2feature_x1be = pd.DataFrame(df_2feature_x1be)\n",
    "df_2feature_x1be\n"
   ]
  },
  {
   "cell_type": "code",
   "execution_count": 446,
   "metadata": {},
   "outputs": [
    {
     "name": "stderr",
     "output_type": "stream",
     "text": [
      "/Users/johnny/Documents/MachineLearning/HW/venv/lib/python3.7/site-packages/ipykernel_launcher.py:4: SettingWithCopyWarning: \n",
      "A value is trying to be set on a copy of a slice from a DataFrame\n",
      "\n",
      "See the caveats in the documentation: https://pandas.pydata.org/pandas-docs/stable/user_guide/indexing.html#returning-a-view-versus-a-copy\n",
      "  after removing the cwd from sys.path.\n",
      "/Users/johnny/Documents/MachineLearning/HW/venv/lib/python3.7/site-packages/ipykernel_launcher.py:10: SettingWithCopyWarning: \n",
      "A value is trying to be set on a copy of a slice from a DataFrame\n",
      "\n",
      "See the caveats in the documentation: https://pandas.pydata.org/pandas-docs/stable/user_guide/indexing.html#returning-a-view-versus-a-copy\n",
      "  # Remove the CWD from sys.path while we load stuff.\n"
     ]
    },
    {
     "data": {
      "text/html": [
       "<div>\n",
       "<style scoped>\n",
       "    .dataframe tbody tr th:only-of-type {\n",
       "        vertical-align: middle;\n",
       "    }\n",
       "\n",
       "    .dataframe tbody tr th {\n",
       "        vertical-align: top;\n",
       "    }\n",
       "\n",
       "    .dataframe thead th {\n",
       "        text-align: right;\n",
       "    }\n",
       "</style>\n",
       "<table border=\"1\" class=\"dataframe\">\n",
       "  <thead>\n",
       "    <tr style=\"text-align: right;\">\n",
       "      <th></th>\n",
       "      <th>0</th>\n",
       "      <th>1</th>\n",
       "      <th>2</th>\n",
       "    </tr>\n",
       "  </thead>\n",
       "  <tbody>\n",
       "    <tr>\n",
       "      <th>0</th>\n",
       "      <td>4.6</td>\n",
       "      <td>3.100000</td>\n",
       "      <td>0.0</td>\n",
       "    </tr>\n",
       "    <tr>\n",
       "      <th>1</th>\n",
       "      <td>5.0</td>\n",
       "      <td>3.600000</td>\n",
       "      <td>0.0</td>\n",
       "    </tr>\n",
       "    <tr>\n",
       "      <th>2</th>\n",
       "      <td>4.6</td>\n",
       "      <td>3.400000</td>\n",
       "      <td>0.0</td>\n",
       "    </tr>\n",
       "    <tr>\n",
       "      <th>3</th>\n",
       "      <td>4.4</td>\n",
       "      <td>2.900000</td>\n",
       "      <td>0.0</td>\n",
       "    </tr>\n",
       "    <tr>\n",
       "      <th>4</th>\n",
       "      <td>4.3</td>\n",
       "      <td>3.000000</td>\n",
       "      <td>0.0</td>\n",
       "    </tr>\n",
       "    <tr>\n",
       "      <th>...</th>\n",
       "      <td>...</td>\n",
       "      <td>...</td>\n",
       "      <td>...</td>\n",
       "    </tr>\n",
       "    <tr>\n",
       "      <th>208</th>\n",
       "      <td>7.7</td>\n",
       "      <td>2.086901</td>\n",
       "      <td>1.0</td>\n",
       "    </tr>\n",
       "    <tr>\n",
       "      <th>209</th>\n",
       "      <td>6.3</td>\n",
       "      <td>2.486901</td>\n",
       "      <td>1.0</td>\n",
       "    </tr>\n",
       "    <tr>\n",
       "      <th>210</th>\n",
       "      <td>6.4</td>\n",
       "      <td>2.186901</td>\n",
       "      <td>1.0</td>\n",
       "    </tr>\n",
       "    <tr>\n",
       "      <th>211</th>\n",
       "      <td>6.8</td>\n",
       "      <td>2.286901</td>\n",
       "      <td>1.0</td>\n",
       "    </tr>\n",
       "    <tr>\n",
       "      <th>212</th>\n",
       "      <td>6.2</td>\n",
       "      <td>2.486901</td>\n",
       "      <td>1.0</td>\n",
       "    </tr>\n",
       "  </tbody>\n",
       "</table>\n",
       "<p>213 rows × 3 columns</p>\n",
       "</div>"
      ],
      "text/plain": [
       "       0         1    2\n",
       "0    4.6  3.100000  0.0\n",
       "1    5.0  3.600000  0.0\n",
       "2    4.6  3.400000  0.0\n",
       "3    4.4  2.900000  0.0\n",
       "4    4.3  3.000000  0.0\n",
       "..   ...       ...  ...\n",
       "208  7.7  2.086901  1.0\n",
       "209  6.3  2.486901  1.0\n",
       "210  6.4  2.186901  1.0\n",
       "211  6.8  2.286901  1.0\n",
       "212  6.2  2.486901  1.0\n",
       "\n",
       "[213 rows x 3 columns]"
      ]
     },
     "execution_count": 446,
     "metadata": {},
     "output_type": "execute_result"
    }
   ],
   "source": [
    "df_2feature_x2be = pd.DataFrame.to_numpy(df_2feature)\n",
    "\n",
    "for idx,cell in temp['x2'].iteritems():\n",
    "    temp['x2'][idx] += e2\n",
    "temp = temp.to_numpy()\n",
    "df_2feature_x2be = np.vstack((df_2feature_x2be,temp))\n",
    "temp = df_2feature.copy()\n",
    "\n",
    "for idx,cell in temp['x2'].iteritems():\n",
    "    temp['x2'][idx] = temp['x2'][idx] - e2\n",
    "temp = temp.to_numpy()\n",
    "df_2feature_x2be = np.vstack((df_2feature_x2be,temp))\n",
    "temp = df_2feature.copy()\n",
    "\n",
    "df_2feature_x2be = pd.DataFrame(df_2feature_x2be)\n",
    "df_2feature_x2be"
   ]
  },
  {
   "cell_type": "code",
   "execution_count": 447,
   "metadata": {},
   "outputs": [
    {
     "name": "stdout",
     "output_type": "stream",
     "text": [
      "Original Accuracy (on training) = 1.0\n",
      "Original Accuracy (on testing) = 1.0\n"
     ]
    },
    {
     "data": {
      "image/png": "[encoded data removed]",
      "text/plain": [
       "<Figure size 432x288 with 1 Axes>"
      ]
     },
     "metadata": {
      "needs_background": "light"
     },
     "output_type": "display_data"
    },
    {
     "name": "stdout",
     "output_type": "stream",
     "text": [
      "BESVM Accuracy (on training) = x1 with bounded error 0.3 : 0.8470588235294118\n",
      "BESVM Accuracy (on testing) = x1 with bounded error 0.3 : 0.8604651162790697\n"
     ]
    },
    {
     "data": {
      "image/png": "[encoded data removed]",
      "text/plain": [
       "<Figure size 432x288 with 1 Axes>"
      ]
     },
     "metadata": {
      "needs_background": "light"
     },
     "output_type": "display_data"
    }
   ],
   "source": [
    "pd.set_option('display.max_rows',10)\n",
    "\n",
    "x_original = df_2feature.iloc[:,:-1].values\n",
    "y_original = df_2feature.iloc[:,-1].values\n",
    "x_be = df_2feature_x1be.iloc[:, :-1].values\n",
    "y_be = df_2feature_x1be.iloc[:,-1].values\n",
    "\n",
    "X_train, X_test,y_train, y_test = train_test_split(x_original, y_original, test_size=0.2,random_state=1)\n",
    "clf_original = SVC(kernel='linear',C=1,gamma='auto')\n",
    "clf_original.fit(X_train, y_train)\n",
    "y_original_predict = clf_original.predict(X_test)\n",
    "result_orginal_train = clf_original.score(X_train, y_train)\n",
    "result_orginal_test = clf_original.score(X_test, y_test)\n",
    "print('Original Accuracy (on training) = '+str(result_orginal_train))\n",
    "print('Original Accuracy (on testing) = '+str(result_orginal_test))\n",
    "plt.scatter(x_original[y_original==0,0],x_original[y_original==0,1],color = 'r',marker = 'o')\n",
    "plt.scatter(x_original[y_original==1,0],x_original[y_original==1,1],color = 'b',marker = '*')\n",
    "plt.title('original')\n",
    "plt.xlabel('feature x1 : sepal length')\n",
    "plt.ylabel('feature x2 : sepal width')\n",
    "plt.show()\n",
    "\n",
    "X_train,X_test,y_train, y_test = train_test_split(x_be, y_be, test_size=0.2,random_state=1)\n",
    "clf_BE = SVC(kernel='linear',C=1,gamma='auto')\n",
    "clf_BE.fit(X_train, y_train)\n",
    "y_BE_predict = clf_BE.predict(X_test)\n",
    "result_BE_train = clf_BE.score(X_train, y_train)\n",
    "result_BE_test = clf_BE.score(X_test, y_test)\n",
    "print('BESVM Accuracy (on training) = x1 with bounded error 0.3 : '+str(result_BE_train))\n",
    "print('BESVM Accuracy (on testing) = x1 with bounded error 0.3 : '+str(result_BE_test))\n",
    "\n",
    "plt.scatter(x_be[y_be==0,0],x_be[y_be==0,1],color = 'r',marker = 'o')\n",
    "plt.scatter(x_be[y_be==1,0],x_be[y_be==1,1],color = 'b',marker = '*')\n",
    "plt.title('30%\\ Error adding in feature x1')\n",
    "plt.xlabel('feature x1 : sepal length')\n",
    "plt.ylabel('feature x2 : sepal width')\n",
    "plt.show()"
   ]
  },
  {
   "cell_type": "code",
   "execution_count": 448,
   "metadata": {},
   "outputs": [
    {
     "name": "stdout",
     "output_type": "stream",
     "text": [
      "[[5.  3. ]\n",
      " [5.  3.2]\n",
      " [4.5 2.3]\n",
      " [5.7 3.8]\n",
      " [5.5 3.5]\n",
      " [5.8 4. ]\n",
      " [5.1 3.3]\n",
      " [5.2 3.4]\n",
      " [5.1 2.5]\n",
      " [6.  3.4]\n",
      " [5.9 3.2]\n",
      " [5.6 2.9]\n",
      " [4.9 2.5]\n",
      " [5.7 3. ]\n",
      " [5.4 3. ]]\n"
     ]
    },
    {
     "data": {
      "image/png": "[encoded data removed]",
      "text/plain": [
       "<Figure size 720x432 with 1 Axes>"
      ]
     },
     "metadata": {},
     "output_type": "display_data"
    },
    {
     "name": "stdout",
     "output_type": "stream",
     "text": [
      "[[3.44140845 3.4       ]\n",
      " [6.85859155 3.7       ]\n",
      " [6.25859155 2.3       ]\n",
      " [6.35859155 3.2       ]\n",
      " [2.64140845 2.9       ]\n",
      " [4.5        2.3       ]\n",
      " [6.15859155 3.2       ]\n",
      " [5.2        3.4       ]\n",
      " [2.64140845 3.2       ]\n",
      " [6.75859155 3.        ]\n",
      " [6.95859155 3.5       ]\n",
      " [6.05859155 3.        ]\n",
      " [5.         3.3       ]\n",
      " [7.05859155 3.7       ]\n",
      " [4.6        3.4       ]\n",
      " [5.7        3.8       ]\n",
      " [7.45859155 3.8       ]\n",
      " [6.15859155 2.9       ]\n",
      " [6.75859155 3.3       ]\n",
      " [7.25859155 3.5       ]\n",
      " [5.         3.        ]\n",
      " [6.95859155 3.4       ]\n",
      " [5.1        3.3       ]\n",
      " [3.24140845 3.3       ]\n",
      " [5.         3.2       ]\n",
      " [6.85859155 3.3       ]\n",
      " [7.55859155 4.        ]\n",
      " [4.4        2.9       ]\n",
      " [4.6        3.6       ]\n",
      " [5.         3.6       ]\n",
      " [5.1        3.7       ]\n",
      " [6.75859155 3.2       ]\n",
      " [2.84140845 3.1       ]\n",
      " [3.24140845 3.2       ]\n",
      " [2.54140845 3.        ]\n",
      " [5.3        3.7       ]\n",
      " [6.35859155 3.1       ]\n",
      " [6.35859155 3.6       ]\n",
      " [6.75859155 3.6       ]\n",
      " [3.84140845 2.8       ]\n",
      " [4.44140845 3.4       ]\n",
      " [4.34140845 2.9       ]\n",
      " [6.14140845 3.8       ]\n",
      " [6.3        3.4       ]\n",
      " [3.84140845 2.7       ]\n",
      " [4.14140845 3.2       ]\n",
      " [7.2        3.6       ]\n",
      " [3.94140845 2.9       ]\n",
      " [4.74140845 3.2       ]\n",
      " [6.5        3.2       ]\n",
      " [8.95859155 3.6       ]\n",
      " [5.94140845 3.8       ]\n",
      " [4.54140845 2.8       ]\n",
      " [4.84140845 3.        ]\n",
      " [5.44140845 3.6       ]\n",
      " [5.04140845 3.2       ]\n",
      " [5.44140845 3.        ]\n",
      " [5.34140845 3.        ]\n",
      " [5.04140845 3.        ]\n",
      " [4.64140845 3.1       ]\n",
      " [3.84140845 2.9       ]\n",
      " [5.24140845 3.2       ]\n",
      " [6.2        3.4       ]\n",
      " [3.64140845 3.        ]\n",
      " [4.84140845 2.9       ]\n",
      " [5.9        3.2       ]\n",
      " [3.44140845 2.7       ]\n",
      " [9.65859155 3.8       ]\n",
      " [5.14140845 3.2       ]\n",
      " [7.9        3.8       ]\n",
      " [4.64140845 2.9       ]\n",
      " [7.75859155 3.4       ]\n",
      " [3.94140845 3.        ]\n",
      " [9.45859155 3.8       ]\n",
      " [7.7        3.8       ]\n",
      " [4.54140845 3.4       ]\n",
      " [5.44140845 3.2       ]\n",
      " [5.4        3.        ]]\n"
     ]
    },
    {
     "data": {
      "image/png": "[encoded data removed]",
      "text/plain": [
       "<Figure size 720x432 with 1 Axes>"
      ]
     },
     "metadata": {},
     "output_type": "display_data"
    }
   ],
   "source": [
    "plot_hyperplane(clf_original,x_original,y_original)\n",
    "plt.show()\n",
    "plot_hyperplane(clf_BE,x_be,y_be)\n",
    "plt.show()\n"
   ]
  },
  {
   "cell_type": "code",
   "execution_count": 449,
   "metadata": {},
   "outputs": [
    {
     "name": "stdout",
     "output_type": "stream",
     "text": [
      "Original Accuracy (on testing) = 1.0\n",
      "BESVM Accuracy (on no BE testing input) = x1 with bounded error 0.3 : 0.8\n"
     ]
    }
   ],
   "source": [
    "test_x = subset.iloc[:,:-1].values\n",
    "test_y = subset.iloc[:,-1].values\n",
    "\n",
    "y_original_predict = clf_original.predict(test_x)\n",
    "result_orginal_test = clf_original.score(test_x, test_y)\n",
    "\n",
    "y_BE_predict = clf_BE.predict(test_x)\n",
    "result_be_test = clf_BE.score(test_x, test_y)\n",
    "#print(subset.info())\n",
    "print('Original Accuracy (on testing) = '+str(result_orginal_test))\n",
    "print('BESVM Accuracy (on no BE testing input) = x1 with bounded error 0.3 : '+str(result_be_test))"
   ]
  },
  {
   "cell_type": "code",
   "execution_count": 450,
   "metadata": {},
   "outputs": [
    {
     "name": "stdout",
     "output_type": "stream",
     "text": [
      "Original Accuracy (on training) = 1.0\n",
      "Original Accuracy (on testing) = 1.0\n"
     ]
    },
    {
     "data": {
      "image/png": "[encoded data removed]",
      "text/plain": [
       "<Figure size 432x288 with 1 Axes>"
      ]
     },
     "metadata": {
      "needs_background": "light"
     },
     "output_type": "display_data"
    },
    {
     "name": "stdout",
     "output_type": "stream",
     "text": [
      "BESVM Accuracy (on training) = x2 with bounded error 0.3 : 0.9235294117647059\n",
      "BESVM Accuracy (on testing) = x2 with bounded error 0.3 : 0.813953488372093\n"
     ]
    },
    {
     "data": {
      "image/png": "[encoded data removed]",
      "text/plain": [
       "<Figure size 432x288 with 1 Axes>"
      ]
     },
     "metadata": {
      "needs_background": "light"
     },
     "output_type": "display_data"
    }
   ],
   "source": [
    "pd.set_option('display.max_rows',10)\n",
    "\n",
    "x_original = df_2feature.iloc[:,:-1].values\n",
    "y_original = df_2feature.iloc[:,-1].values\n",
    "x_be = df_2feature_x2be.iloc[:, :-1].values\n",
    "y_be = df_2feature_x2be.iloc[:,-1].values\n",
    "\n",
    "X_train, X_test,y_train, y_test = train_test_split(x_original, y_original, test_size=0.2,random_state=1)\n",
    "clf_original = SVC(kernel='linear',C=1,gamma='auto')\n",
    "clf_original.fit(X_train, y_train)\n",
    "y_original_predict = clf_original.predict(X_test)\n",
    "result_orginal_train = clf_original.score(X_train, y_train)\n",
    "result_orginal_test = clf_original.score(X_test, y_test)\n",
    "print('Original Accuracy (on training) = '+str(result_orginal_train))\n",
    "print('Original Accuracy (on testing) = '+str(result_orginal_test))\n",
    "plt.scatter(x_original[y_original==0,0],x_original[y_original==0,1],color = 'r',marker = 'o')\n",
    "plt.scatter(x_original[y_original==1,0],x_original[y_original==1,1],color = 'b',marker = '*')\n",
    "plt.title('original')\n",
    "plt.xlabel('feature x1 : sepal length')\n",
    "plt.ylabel('feature x2 : sepal width')\n",
    "plt.show()\n",
    "\n",
    "X_train,X_test,y_train, y_test = train_test_split(x_be, y_be, test_size=0.2,random_state=1)\n",
    "clf_BE = SVC(kernel='linear',C=1,gamma='auto')\n",
    "clf_BE.fit(X_train, y_train)\n",
    "y_BE_predict = clf_BE.predict(X_test)\n",
    "result_BE_train = clf_BE.score(X_train, y_train)\n",
    "result_BE_test = clf_BE.score(X_test, y_test)\n",
    "print('BESVM Accuracy (on training) = x2 with bounded error 0.3 : '+str(result_BE_train))\n",
    "print('BESVM Accuracy (on testing) = x2 with bounded error 0.3 : '+str(result_BE_test))\n",
    "\n",
    "plt.scatter(x_be[y_be==0,0],x_be[y_be==0,1],color = 'r',marker = 'o')\n",
    "plt.scatter(x_be[y_be==1,0],x_be[y_be==1,1],color = 'b',marker = '*')\n",
    "plt.title('30%\\ Error adding in feature x2')\n",
    "plt.xlabel('feature x1 : sepal length')\n",
    "plt.ylabel('feature x2 : sepal width')\n",
    "plt.show()\n"
   ]
  },
  {
   "cell_type": "code",
   "execution_count": 451,
   "metadata": {},
   "outputs": [
    {
     "name": "stdout",
     "output_type": "stream",
     "text": [
      "[[5.  3. ]\n",
      " [5.  3.2]\n",
      " [4.5 2.3]\n",
      " [5.7 3.8]\n",
      " [5.5 3.5]\n",
      " [5.8 4. ]\n",
      " [5.1 3.3]\n",
      " [5.2 3.4]\n",
      " [5.1 2.5]\n",
      " [6.  3.4]\n",
      " [5.9 3.2]\n",
      " [5.6 2.9]\n",
      " [4.9 2.5]\n",
      " [5.7 3. ]\n",
      " [5.4 3. ]]\n"
     ]
    },
    {
     "data": {
      "image/png": "[encoded data removed]",
      "text/plain": [
       "<Figure size 720x432 with 1 Axes>"
      ]
     },
     "metadata": {},
     "output_type": "display_data"
    },
    {
     "name": "stdout",
     "output_type": "stream",
     "text": [
      "[[5.         2.68690141]\n",
      " [5.2        2.48690141]\n",
      " [5.5        4.2       ]\n",
      " [5.8        4.        ]\n",
      " [5.2        3.4       ]\n",
      " [5.2        2.58690141]\n",
      " [5.3        2.78690141]\n",
      " [5.7        3.8       ]\n",
      " [5.7        4.71309859]\n",
      " [5.2        3.18690141]\n",
      " [5.5        4.41309859]\n",
      " [5.8        3.08690141]\n",
      " [5.         3.        ]\n",
      " [5.1        3.3       ]\n",
      " [5.         2.38690141]\n",
      " [5.         3.2       ]\n",
      " [5.8        4.91309859]\n",
      " [5.1        2.78690141]\n",
      " [4.6        2.18690141]\n",
      " [5.         2.28690141]\n",
      " [5.5        3.28690141]\n",
      " [5.3        3.7       ]\n",
      " [5.1        2.5       ]\n",
      " [5.         2.        ]\n",
      " [5.         3.21309859]\n",
      " [5.7        3.91309859]\n",
      " [5.7        3.81309859]\n",
      " [5.6        3.41309859]\n",
      " [5.         2.91309859]\n",
      " [5.9        4.11309859]\n",
      " [5.         1.38690141]\n",
      " [5.8        3.51309859]\n",
      " [5.6        3.81309859]\n",
      " [5.5        3.41309859]\n",
      " [5.5        2.6       ]\n",
      " [6.         4.31309859]\n",
      " [5.2        2.7       ]\n",
      " [5.         2.3       ]\n",
      " [4.9        3.41309859]\n",
      " [5.6        3.61309859]\n",
      " [6.2        4.31309859]\n",
      " [4.9        2.5       ]\n",
      " [4.9        1.58690141]\n",
      " [5.4        3.        ]]\n"
     ]
    },
    {
     "data": {
      "image/png": "[encoded data removed]",
      "text/plain": [
       "<Figure size 720x432 with 1 Axes>"
      ]
     },
     "metadata": {},
     "output_type": "display_data"
    }
   ],
   "source": [
    "plot_hyperplane(clf_original,x_original,y_original)\n",
    "plt.show()\n",
    "plot_hyperplane(clf_BE,x_be,y_be)\n",
    "plt.show()"
   ]
  },
  {
   "cell_type": "code",
   "execution_count": 452,
   "metadata": {},
   "outputs": [
    {
     "name": "stdout",
     "output_type": "stream",
     "text": [
      "Original Accuracy (on testing) = 1.0\n",
      "BESVM Accuracy (on no BE testing input) = x2 with bounded error 0.3 : 0.9666666666666667\n"
     ]
    }
   ],
   "source": [
    "test_x = subset.iloc[:,:-1].values\n",
    "test_y = subset.iloc[:,-1].values\n",
    "\n",
    "y_original_predict = clf_original.predict(test_x)\n",
    "result_orginal_test = clf_original.score(test_x, test_y)\n",
    "\n",
    "y_BE_predict = clf_BE.predict(test_x)\n",
    "result_be_test = clf_BE.score(test_x, test_y)\n",
    "#print(subset.info())\n",
    "print('Original Accuracy (on testing) = '+str(result_orginal_test))\n",
    "print('BESVM Accuracy (on no BE testing input) = x2 with bounded error 0.3 : '+str(result_be_test))"
   ]
  },
  {
   "cell_type": "markdown",
   "metadata": {},
   "source": []
  },
  {
   "cell_type": "code",
   "execution_count": null,
   "metadata": {},
   "outputs": [],
   "source": []
  }
 ],
 "metadata": {
  "interpreter": {
   "hash": "294822f4390712013e2c54823799c09ecd8cdb56ca282e7dd81552ad4ed10626"
  },
  "kernelspec": {
   "display_name": "'Python Interactive'",
   "language": "python",
   "name": "3cb6cbf8-18ae-4b75-ab69-a7d5b551637d"
  },
  "language_info": {
   "codemirror_mode": {
    "name": "ipython",
    "version": 3
   },
   "file_extension": ".py",
   "mimetype": "text/x-python",
   "name": "python",
   "nbconvert_exporter": "python",
   "pygments_lexer": "ipython3",
   "version": "3.7.3"
  },
  "orig_nbformat": 4
 },
 "nbformat": 4,
 "nbformat_minor": 2
}
