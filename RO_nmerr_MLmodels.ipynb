{
 "cells": [
  {
   "cell_type": "markdown",
   "metadata": {},
   "source": [
    "this code normalize the dataset before adding err,the err are come from normalized data "
   ]
  },
  {
   "cell_type": "code",
   "execution_count": 99,
   "metadata": {},
   "outputs": [],
   "source": [
    "import jupyter_Importer\n",
    "from MLModels_FeatureImportance import featureImportance_linearRegression\n",
    "from MLModels_FeatureImportance import featureImportance_permutation\n",
    "from MLModels_FeatureImportance import featureImportance_DTree\n",
    "\n",
    "import pandas as pd\n",
    "import numpy as np\n",
    "import math\n",
    "from sklearn import preprocessing\n",
    "\n",
    "from sklearn.svm import SVC\n",
    "from sklearn.neighbors import KNeighborsClassifier\n",
    "from sklearn.cluster import KMeans\n",
    "from sklearn.model_selection import train_test_split"
   ]
  },
  {
   "cell_type": "code",
   "execution_count": 100,
   "metadata": {},
   "outputs": [
    {
     "data": {
      "text/html": [
       "<div>\n",
       "<style scoped>\n",
       "    .dataframe tbody tr th:only-of-type {\n",
       "        vertical-align: middle;\n",
       "    }\n",
       "\n",
       "    .dataframe tbody tr th {\n",
       "        vertical-align: top;\n",
       "    }\n",
       "\n",
       "    .dataframe thead th {\n",
       "        text-align: right;\n",
       "    }\n",
       "</style>\n",
       "<table border=\"1\" class=\"dataframe\">\n",
       "  <thead>\n",
       "    <tr style=\"text-align: right;\">\n",
       "      <th></th>\n",
       "      <th>x1</th>\n",
       "      <th>x2</th>\n",
       "      <th>x3</th>\n",
       "      <th>x4</th>\n",
       "      <th>x5</th>\n",
       "      <th>x6</th>\n",
       "      <th>y</th>\n",
       "    </tr>\n",
       "  </thead>\n",
       "  <tbody>\n",
       "    <tr>\n",
       "      <th>0</th>\n",
       "      <td>date</td>\n",
       "      <td>Temperature</td>\n",
       "      <td>Humidity</td>\n",
       "      <td>Light</td>\n",
       "      <td>CO2</td>\n",
       "      <td>HumidityRatio</td>\n",
       "      <td>Occupancy</td>\n",
       "    </tr>\n",
       "    <tr>\n",
       "      <th>1</th>\n",
       "      <td>2015-02-02 14:19:00</td>\n",
       "      <td>23.7</td>\n",
       "      <td>26.272</td>\n",
       "      <td>585.2</td>\n",
       "      <td>749.2</td>\n",
       "      <td>0.0047641630241641</td>\n",
       "      <td>1</td>\n",
       "    </tr>\n",
       "    <tr>\n",
       "      <th>2</th>\n",
       "      <td>2015-02-02 14:19:59</td>\n",
       "      <td>23.718</td>\n",
       "      <td>26.29</td>\n",
       "      <td>578.4</td>\n",
       "      <td>760.4</td>\n",
       "      <td>0.0047726609921251</td>\n",
       "      <td>1</td>\n",
       "    </tr>\n",
       "    <tr>\n",
       "      <th>3</th>\n",
       "      <td>2015-02-02 14:21:00</td>\n",
       "      <td>23.73</td>\n",
       "      <td>26.23</td>\n",
       "      <td>572.666666666667</td>\n",
       "      <td>769.666666666667</td>\n",
       "      <td>0.0047651525524654</td>\n",
       "      <td>1</td>\n",
       "    </tr>\n",
       "    <tr>\n",
       "      <th>4</th>\n",
       "      <td>2015-02-02 14:22:00</td>\n",
       "      <td>23.7225</td>\n",
       "      <td>26.125</td>\n",
       "      <td>493.75</td>\n",
       "      <td>774.75</td>\n",
       "      <td>0.0047437733559968</td>\n",
       "      <td>1</td>\n",
       "    </tr>\n",
       "  </tbody>\n",
       "</table>\n",
       "</div>"
      ],
      "text/plain": [
       "                    x1           x2        x3                x4  \\\n",
       "0                 date  Temperature  Humidity             Light   \n",
       "1  2015-02-02 14:19:00         23.7    26.272             585.2   \n",
       "2  2015-02-02 14:19:59       23.718     26.29             578.4   \n",
       "3  2015-02-02 14:21:00        23.73     26.23  572.666666666667   \n",
       "4  2015-02-02 14:22:00      23.7225    26.125            493.75   \n",
       "\n",
       "                 x5                  x6          y  \n",
       "0               CO2       HumidityRatio  Occupancy  \n",
       "1             749.2  0.0047641630241641          1  \n",
       "2             760.4  0.0047726609921251          1  \n",
       "3  769.666666666667  0.0047651525524654          1  \n",
       "4            774.75  0.0047437733559968          1  "
      ]
     },
     "execution_count": 100,
     "metadata": {},
     "output_type": "execute_result"
    }
   ],
   "source": [
    "dataset = pd.read_csv(\"Occupancy.csv\", names = ['x' + str(i) for i in range(1, 7)] + ['y'], sep = \",\")\n",
    "dataset.head()"
   ]
  },
  {
   "cell_type": "code",
   "execution_count": 101,
   "metadata": {},
   "outputs": [
    {
     "data": {
      "text/html": [
       "<div>\n",
       "<style scoped>\n",
       "    .dataframe tbody tr th:only-of-type {\n",
       "        vertical-align: middle;\n",
       "    }\n",
       "\n",
       "    .dataframe tbody tr th {\n",
       "        vertical-align: top;\n",
       "    }\n",
       "\n",
       "    .dataframe thead th {\n",
       "        text-align: right;\n",
       "    }\n",
       "</style>\n",
       "<table border=\"1\" class=\"dataframe\">\n",
       "  <thead>\n",
       "    <tr style=\"text-align: right;\">\n",
       "      <th></th>\n",
       "      <th>x1</th>\n",
       "      <th>x2</th>\n",
       "      <th>y</th>\n",
       "    </tr>\n",
       "  </thead>\n",
       "  <tbody>\n",
       "    <tr>\n",
       "      <th>1</th>\n",
       "      <td>585.200000</td>\n",
       "      <td>749.200000</td>\n",
       "      <td>1</td>\n",
       "    </tr>\n",
       "    <tr>\n",
       "      <th>2</th>\n",
       "      <td>578.400000</td>\n",
       "      <td>760.400000</td>\n",
       "      <td>1</td>\n",
       "    </tr>\n",
       "    <tr>\n",
       "      <th>3</th>\n",
       "      <td>572.666667</td>\n",
       "      <td>769.666667</td>\n",
       "      <td>1</td>\n",
       "    </tr>\n",
       "    <tr>\n",
       "      <th>4</th>\n",
       "      <td>493.750000</td>\n",
       "      <td>774.750000</td>\n",
       "      <td>1</td>\n",
       "    </tr>\n",
       "    <tr>\n",
       "      <th>5</th>\n",
       "      <td>488.600000</td>\n",
       "      <td>779.000000</td>\n",
       "      <td>1</td>\n",
       "    </tr>\n",
       "    <tr>\n",
       "      <th>...</th>\n",
       "      <td>...</td>\n",
       "      <td>...</td>\n",
       "      <td>...</td>\n",
       "    </tr>\n",
       "    <tr>\n",
       "      <th>20556</th>\n",
       "      <td>429.750000</td>\n",
       "      <td>1505.250000</td>\n",
       "      <td>1</td>\n",
       "    </tr>\n",
       "    <tr>\n",
       "      <th>20557</th>\n",
       "      <td>423.500000</td>\n",
       "      <td>1514.500000</td>\n",
       "      <td>1</td>\n",
       "    </tr>\n",
       "    <tr>\n",
       "      <th>20558</th>\n",
       "      <td>423.500000</td>\n",
       "      <td>1521.500000</td>\n",
       "      <td>1</td>\n",
       "    </tr>\n",
       "    <tr>\n",
       "      <th>20559</th>\n",
       "      <td>418.750000</td>\n",
       "      <td>1632.000000</td>\n",
       "      <td>1</td>\n",
       "    </tr>\n",
       "    <tr>\n",
       "      <th>20560</th>\n",
       "      <td>409.000000</td>\n",
       "      <td>1864.000000</td>\n",
       "      <td>1</td>\n",
       "    </tr>\n",
       "  </tbody>\n",
       "</table>\n",
       "<p>20560 rows × 3 columns</p>\n",
       "</div>"
      ],
      "text/plain": [
       "               x1           x2  y\n",
       "1      585.200000   749.200000  1\n",
       "2      578.400000   760.400000  1\n",
       "3      572.666667   769.666667  1\n",
       "4      493.750000   774.750000  1\n",
       "5      488.600000   779.000000  1\n",
       "...           ...          ... ..\n",
       "20556  429.750000  1505.250000  1\n",
       "20557  423.500000  1514.500000  1\n",
       "20558  423.500000  1521.500000  1\n",
       "20559  418.750000  1632.000000  1\n",
       "20560  409.000000  1864.000000  1\n",
       "\n",
       "[20560 rows x 3 columns]"
      ]
     },
     "execution_count": 101,
     "metadata": {},
     "output_type": "execute_result"
    }
   ],
   "source": [
    "dataset_light_co2 = dataset.iloc[1:,3:5]\n",
    "dataset_light_co2['y'] = dataset.iloc[1:,6:7]\n",
    "dataset_light_co2.columns = ['x1','x2','y']\n",
    "dataset_light_co2['x1'] = dataset_light_co2['x1'].apply(lambda x : float(x))\n",
    "dataset_light_co2['x2'] = dataset_light_co2['x2'].apply(lambda x : float(x))\n",
    "dataset_light_co2['y'] = dataset_light_co2['y'].apply(lambda x : int(x))\n",
    "dataset_light_co2"
   ]
  },
  {
   "cell_type": "code",
   "execution_count": 102,
   "metadata": {},
   "outputs": [],
   "source": [
    "#preprocess the data\n",
    "#dataset_light_co2_nml = dataset_light_co2.iloc[:,:-1]\n",
    "#minmax = preprocessing.MinMaxScaler()\n",
    "#dataset_light_co2_nml = minmax.fit_transform(dataset_light_co2_nml)\n",
    "#dataset_light_co2_nml = preprocessing.scale(dataset_light_co2_nml)\n",
    "#print(dataset_light_co2_nml.shape,dataset_light_co2.info())\n"
   ]
  },
  {
   "cell_type": "code",
   "execution_count": 103,
   "metadata": {},
   "outputs": [
    {
     "name": "stdout",
     "output_type": "stream",
     "text": [
      "[0, 1, 2, 3, 4, 5, 6, 7, 8, 9, 10, 11, 12, 13, 14, 15, 16, 17, 18, 19, 20, 21, 22, 23, 24] [24, 23, 22, 21, 20, 19, 18, 17, 16, 15, 14, 13, 12, 11, 10, 9, 8, 7, 6, 5, 4, 3, 2, 1, 0]\n",
      "<class 'pandas.core.frame.DataFrame'>\n",
      "Int64Index: 6757 entries, 1 to 20560\n",
      "Data columns (total 3 columns):\n",
      " #   Column  Non-Null Count  Dtype  \n",
      "---  ------  --------------  -----  \n",
      " 0   x1      6757 non-null   float64\n",
      " 1   x2      6757 non-null   float64\n",
      " 2   y       6757 non-null   int64  \n",
      "dtypes: float64(2), int64(1)\n",
      "memory usage: 211.2 KB\n",
      "<class 'pandas.core.frame.DataFrame'>\n",
      "Int64Index: 4112 entries, 8855 to 4674\n",
      "Data columns (total 3 columns):\n",
      " #   Column  Non-Null Count  Dtype  \n",
      "---  ------  --------------  -----  \n",
      " 0   x1      4112 non-null   float64\n",
      " 1   x2      4112 non-null   float64\n",
      " 2   y       4112 non-null   int64  \n",
      "dtypes: float64(2), int64(1)\n",
      "memory usage: 128.5 KB\n",
      "None None\n"
     ]
    }
   ],
   "source": [
    "subset = dataset_light_co2.sample(frac=0.2,replace=False,random_state=43)\n",
    "dataset_light_co2 = dataset_light_co2.append(subset)\n",
    "dataset_light_co2 = dataset_light_co2.drop_duplicates(subset=['x1','x2','y'],keep=False)\n",
    "\n",
    "subsample_x = subset.iloc[:,:-1].values\n",
    "subsample_y = subset.iloc[:,-1].values\n",
    "\n",
    "#from 0-24 means angle\n",
    "error_a = []\n",
    "error_b = []\n",
    "for i in range(0,25) :\n",
    "    error_a.append(i)\n",
    "    error_b.append(24-i)\n",
    "\n",
    "print(error_a,error_b)\n",
    "print(dataset_light_co2.info(),subset.info())"
   ]
  },
  {
   "cell_type": "code",
   "execution_count": 104,
   "metadata": {},
   "outputs": [],
   "source": [
    "subsample_x = pd.DataFrame(subsample_x)\n",
    "minmax = preprocessing.MinMaxScaler()\n",
    "data_minmax = minmax.fit_transform(subsample_x)"
   ]
  },
  {
   "cell_type": "code",
   "execution_count": 105,
   "metadata": {},
   "outputs": [
    {
     "name": "stdout",
     "output_type": "stream",
     "text": [
      "RegCoef : [2.9109803136259096, 0.25542123118304033]\n",
      "importanceReg : [0.9193339102547552, 0.08066608974524474]\n",
      "PermuCoef : [0.29975680933852145, 0.06118677042801557]\n",
      "importancePermu : [0.8304810672416116, 0.16951893275838834]\n",
      "DTreeCoef : [0.9584749355112676, 0.04152506448873233]\n",
      "importanceDTree : [0.9584749355112676, 0.04152506448873233]\n"
     ]
    }
   ],
   "source": [
    "importanceReg,RegCoef = featureImportance_linearRegression(data_minmax,subsample_y)\n",
    "model = KNeighborsClassifier(n_neighbors=5,algorithm=\"brute\")  \n",
    "model.fit(data_minmax,subsample_y)  \n",
    "importancePermu,PermuCoef = featureImportance_permutation(model,data_minmax,subsample_y)\n",
    "importanceDTree,DTreeCoef = featureImportance_DTree(data_minmax,subsample_y)\n",
    "print(\"RegCoef : \" +str(RegCoef))\n",
    "print(\"importanceReg : \"+str(importanceReg))\n",
    "print(\"PermuCoef : \"+str(PermuCoef))\n",
    "print(\"importancePermu : \"+str(importancePermu))\n",
    "print(\"DTreeCoef : \" +str(DTreeCoef))\n",
    "print(\"importanceDTree : \"+str(importanceDTree))"
   ]
  },
  {
   "cell_type": "code",
   "execution_count": 106,
   "metadata": {},
   "outputs": [
    {
     "name": "stdout",
     "output_type": "stream",
     "text": [
      "<class 'pandas.core.frame.DataFrame'>\n",
      "Int64Index: 6757 entries, 1 to 20560\n",
      "Data columns (total 3 columns):\n",
      " #   Column  Non-Null Count  Dtype  \n",
      "---  ------  --------------  -----  \n",
      " 0   x1      6757 non-null   float64\n",
      " 1   x2      6757 non-null   float64\n",
      " 2   y       6757 non-null   int64  \n",
      "dtypes: float64(2), int64(1)\n",
      "memory usage: 211.2 KB\n",
      "(6757, 2) None\n"
     ]
    }
   ],
   "source": [
    "#preprocess the data\n",
    "dataset_light_co2_nml = dataset_light_co2.iloc[:,:-1]\n",
    "minmax = preprocessing.MinMaxScaler()\n",
    "dataset_light_co2_nml = minmax.fit_transform(dataset_light_co2_nml)\n",
    "dataset_light_co2_nml = preprocessing.scale(dataset_light_co2_nml)\n",
    "print(dataset_light_co2_nml.shape,dataset_light_co2.info())\n"
   ]
  },
  {
   "cell_type": "code",
   "execution_count": 107,
   "metadata": {},
   "outputs": [
    {
     "name": "stdout",
     "output_type": "stream",
     "text": [
      "x1    5.659035\n",
      "x2    3.575273\n",
      "y     1.000000\n",
      "dtype: float64 x1   -1.333440\n",
      "x2   -1.260885\n",
      "y     0.000000\n",
      "dtype: float64\n",
      "<class 'pandas.core.frame.DataFrame'>\n",
      "RangeIndex: 6757 entries, 0 to 6756\n",
      "Data columns (total 3 columns):\n",
      " #   Column  Non-Null Count  Dtype  \n",
      "---  ------  --------------  -----  \n",
      " 0   x1      6757 non-null   float64\n",
      " 1   x2      6757 non-null   float64\n",
      " 2   y       6757 non-null   int64  \n",
      "dtypes: float64(2), int64(1)\n",
      "memory usage: 158.5 KB\n",
      "<class 'pandas.core.frame.DataFrame'>\n",
      "Int64Index: 6757 entries, 1 to 20560\n",
      "Data columns (total 3 columns):\n",
      " #   Column  Non-Null Count  Dtype  \n",
      "---  ------  --------------  -----  \n",
      " 0   x1      6757 non-null   float64\n",
      " 1   x2      6757 non-null   float64\n",
      " 2   y       6757 non-null   int64  \n",
      "dtypes: float64(2), int64(1)\n",
      "memory usage: 211.2 KB\n",
      "None None\n"
     ]
    }
   ],
   "source": [
    "dataset_light_co2_nml = pd.DataFrame(dataset_light_co2_nml)\n",
    "dataset_light_co2_nml.columns = ['x1','x2']\n",
    "#dataset_light_co2_nml['y'] = dataset_light_co2['y']\n",
    "dataset_light_co2_nml.insert(2,'y',dataset_light_co2['y'].values)\n",
    "\n",
    "x1_min = -1.333440\n",
    "x1_max = 5.659035\n",
    "x2_min = -1.260885\n",
    "x2_max = 3.575273\n",
    "print(dataset_light_co2_nml.max(),dataset_light_co2_nml.min())\n",
    "print(dataset_light_co2_nml.info(),dataset_light_co2.info())"
   ]
  },
  {
   "cell_type": "code",
   "execution_count": 108,
   "metadata": {},
   "outputs": [],
   "source": [
    "#adding err by the normalized data\n",
    "#bound the value between min and max\n",
    "\n",
    "def df_2feature_be_generates(BE,i,n,importance=importanceReg,df=dataset_light_co2_nml.copy()) :\n",
    "    #i = 1 for brute force iteration,n = 1for negative importance\n",
    "    temp = dataset_light_co2_nml.copy()\n",
    "    angle = 0 #0 for normal case ,1 for adding error with cos sin\n",
    "    #switch = {1:func1,2:func2}\n",
    "    #temp = df.copy()\n",
    "    df_2feature_be = pd.DataFrame.to_numpy(dataset_light_co2_nml)\n",
    "    #df_2feature_be = pd.DataFrame.to_numpy(df)\n",
    "    \n",
    "    if i >= 0 and n == 0 :\n",
    "        angle = 1\n",
    "        e1 = temp['x1'].mean()*BE*math.cos((error_a[i]/(error_a[i]+error_b[i])))\n",
    "        e2 = temp['x2'].mean()*BE*math.sin((error_b[i]/(error_a[i]+error_b[i])))\n",
    "    elif i == -1 and n == 1:\n",
    "        angle = 1\n",
    "        e1 = temp['x1'].mean()*BE*math.cos(importance[0])\n",
    "        e2 = temp['x2'].mean()*BE*math.sin(importance[1])\n",
    "    elif i == -1 and n == 0 :\n",
    "        angle = 1\n",
    "        e1 = temp['x1'].mean()*BE*math.cos(importance[1])\n",
    "        e2 = temp['x2'].mean()*BE*math.sin(importance[0])\n",
    "    \n",
    "\n",
    "    if angle == 0:\n",
    "        for idx,cell in temp['x1'].iteritems():\n",
    "            temp['x1'][idx] += e1\n",
    "            if temp['x1'][idx] > x1_max:\n",
    "                temp['x1'][idx] = x1_max\n",
    "        temp = temp.to_numpy()\n",
    "        df_2feature_be = np.vstack((df_2feature_be,temp))\n",
    "        #print(df_2feature_be.shape)\n",
    "        temp = dataset_light_co2_nml.copy()\n",
    "\n",
    "        for idx,cell in temp['x1'].iteritems():\n",
    "            temp['x1'][idx] = temp['x1'][idx] - e1\n",
    "            if temp['x1'][idx] < x1_min:\n",
    "                temp['x1'][idx] = x1_min\n",
    "        temp = temp.to_numpy()\n",
    "        df_2feature_be = np.vstack((df_2feature_be,temp))\n",
    "        #print(df_2feature_be.shape)\n",
    "        temp = dataset_light_co2_nml.copy()\n",
    "\n",
    "        for idx,cell in temp['x2'].iteritems():\n",
    "            temp['x2'][idx] += e2\n",
    "            if temp['x2'][idx] > x2_max:\n",
    "                temp['x2'][idx] = x2_max\n",
    "        temp = temp.to_numpy()\n",
    "        df_2feature_be = np.vstack((df_2feature_be,temp))\n",
    "        #print(df_2feature_be.shape)\n",
    "        temp = dataset_light_co2_nml.copy()\n",
    "\n",
    "        for idx,cell in temp['x2'].iteritems():\n",
    "            temp['x2'][idx] = temp['x2'][idx] - e2\n",
    "            if temp['x2'][idx] < x2_min:\n",
    "                temp['x2'][idx] = x2_min\n",
    "        temp = temp.to_numpy()\n",
    "        df_2feature_be = np.vstack((df_2feature_be,temp))\n",
    "        #print(df_2feature_be.shape)\n",
    "        temp = dataset_light_co2_nml.copy()\n",
    "\n",
    "        df_2feature_be = pd.DataFrame(df_2feature_be)\n",
    "        #print(df_2feature_be)\n",
    "\n",
    "    elif angle == 1:\n",
    "        for idx,cell in temp['x1'].iteritems():\n",
    "            temp['x1'][idx] += e1\n",
    "            if temp['x1'][idx] > x1_max:\n",
    "                temp['x1'][idx] = x1_max\n",
    "            if temp['x1'][idx] < x1_min:\n",
    "                temp['x1'][idx] = x1_min\n",
    "        temp = temp.to_numpy()\n",
    "        df_2feature_be = np.vstack((df_2feature_be,temp))\n",
    "        #print(df_2feature_be.shape)\n",
    "        temp = dataset_light_co2_nml.copy()\n",
    "\n",
    "        for idx,cell in temp['x2'].iteritems():\n",
    "            temp['x2'][idx] += e2\n",
    "            if temp['x2'][idx] > x2_max:\n",
    "                temp['x2'][idx] = x2_max\n",
    "            if temp['x2'][idx] < x2_min:\n",
    "                temp['x2'][idx] = x2_min\n",
    "        temp = temp.to_numpy()\n",
    "        df_2feature_be = np.vstack((df_2feature_be,temp))\n",
    "        #print(df_2feature_be.shape)\n",
    "        temp = dataset_light_co2_nml.copy()\n",
    "        \n",
    "        df_2feature_be = pd.DataFrame(df_2feature_be)\n",
    "\n",
    "    \n",
    "\n",
    "    return df_2feature_be"
   ]
  },
  {
   "cell_type": "code",
   "execution_count": 109,
   "metadata": {},
   "outputs": [
    {
     "name": "stderr",
     "output_type": "stream",
     "text": [
      "d:\\BESVM\\BESVM\\.venv\\lib\\site-packages\\ipykernel_launcher.py:69: SettingWithCopyWarning: \n",
      "A value is trying to be set on a copy of a slice from a DataFrame\n",
      "\n",
      "See the caveats in the documentation: https://pandas.pydata.org/pandas-docs/stable/user_guide/indexing.html#returning-a-view-versus-a-copy\n",
      "d:\\BESVM\\BESVM\\.venv\\lib\\site-packages\\ipykernel_launcher.py:73: SettingWithCopyWarning: \n",
      "A value is trying to be set on a copy of a slice from a DataFrame\n",
      "\n",
      "See the caveats in the documentation: https://pandas.pydata.org/pandas-docs/stable/user_guide/indexing.html#returning-a-view-versus-a-copy\n",
      "d:\\BESVM\\BESVM\\.venv\\lib\\site-packages\\ipykernel_launcher.py:80: SettingWithCopyWarning: \n",
      "A value is trying to be set on a copy of a slice from a DataFrame\n",
      "\n",
      "See the caveats in the documentation: https://pandas.pydata.org/pandas-docs/stable/user_guide/indexing.html#returning-a-view-versus-a-copy\n",
      "d:\\BESVM\\BESVM\\.venv\\lib\\site-packages\\ipykernel_launcher.py:82: SettingWithCopyWarning: \n",
      "A value is trying to be set on a copy of a slice from a DataFrame\n",
      "\n",
      "See the caveats in the documentation: https://pandas.pydata.org/pandas-docs/stable/user_guide/indexing.html#returning-a-view-versus-a-copy\n"
     ]
    },
    {
     "name": "stdout",
     "output_type": "stream",
     "text": [
      "(20271, 2) (20271,)\n",
      "BESVM Accuracy (on training) = with x1 bounded error (0.2%*0.08066608974524474),x2 with error (0.2%*0.9193339102547552) : 0.9747779970399605\n",
      "BESVM Accuracy (on testing) = with x1 bounded error (0.2%*0.08066608974524474),x2 with error (0.2%*0.9193339102547552) : 0.973612823674476\n",
      "BESVM Accuracy (on subset_raw) = with no bounded error,x2 with no error 0.23346303501945526\n"
     ]
    }
   ],
   "source": [
    "#using importanceReg as error allocation rate to predict by svm\n",
    "BE = 0.2\n",
    "df_2feature_be = df_2feature_be_generates(BE,-1,0,importanceReg)\n",
    "x_be = df_2feature_be.iloc[:,:-1].values\n",
    "y_be = df_2feature_be.iloc[:,-1].values\n",
    "print(x_be.shape,y_be.shape)\n",
    "X_train,X_test,y_train, y_test = train_test_split(x_be, y_be, test_size=0.2,random_state=1)\n",
    "clf_BE = SVC(kernel='linear',C=1,gamma='auto')\n",
    "clf_BE.fit(X_train, y_train)\n",
    "y_BE_predict = clf_BE.predict(X_test)\n",
    "result_BE_train = clf_BE.score(X_train, y_train)\n",
    "result_BE_test = clf_BE.score(X_test, y_test)\n",
    "subset_raw = clf_BE.score(subsample_x, subsample_y)\n",
    "print('BESVM Accuracy (on training) = with x1 bounded error ('+str(BE)+'%*'+str(importanceReg[1])+'),x2 with error ('+str(BE)+'%*'+str(importanceReg[0])+') : '+str(result_BE_train))\n",
    "print('BESVM Accuracy (on testing) = with x1 bounded error ('+str(BE)+'%*'+str(importanceReg[1])+'),x2 with error ('+str(BE)+'%*'+str(importanceReg[0])+') : '+str(result_BE_test))\n",
    "print('BESVM Accuracy (on subset_raw) = with no bounded error,x2 with no error '+str(subset_raw))\n"
   ]
  },
  {
   "cell_type": "code",
   "execution_count": 110,
   "metadata": {},
   "outputs": [],
   "source": [
    "import matplotlib.pyplot as plt"
   ]
  },
  {
   "cell_type": "code",
   "execution_count": 111,
   "metadata": {},
   "outputs": [
    {
     "data": {
      "image/png": "[encoded data removed]",
      "text/plain": [
       "<Figure size 432x288 with 1 Axes>"
      ]
     },
     "metadata": {
      "needs_background": "light"
     },
     "output_type": "display_data"
    }
   ],
   "source": [
    "plt.scatter(x_be[y_be==0,0],x_be[y_be==0,1],color = 'r',marker = 'o')\n",
    "plt.scatter(x_be[y_be==1,0],x_be[y_be==1,1],color = 'b',marker = '*')\n",
    "plt.title('RO_IOT_normalized_error')\n",
    "plt.xlabel('feature x1 : light')\n",
    "plt.ylabel('feature x2 : CO2')\n",
    "plt.show()"
   ]
  },
  {
   "cell_type": "code",
   "execution_count": 112,
   "metadata": {},
   "outputs": [
    {
     "name": "stderr",
     "output_type": "stream",
     "text": [
      "d:\\BESVM\\BESVM\\.venv\\lib\\site-packages\\ipykernel_launcher.py:69: SettingWithCopyWarning: \n",
      "A value is trying to be set on a copy of a slice from a DataFrame\n",
      "\n",
      "See the caveats in the documentation: https://pandas.pydata.org/pandas-docs/stable/user_guide/indexing.html#returning-a-view-versus-a-copy\n",
      "d:\\BESVM\\BESVM\\.venv\\lib\\site-packages\\ipykernel_launcher.py:73: SettingWithCopyWarning: \n",
      "A value is trying to be set on a copy of a slice from a DataFrame\n",
      "\n",
      "See the caveats in the documentation: https://pandas.pydata.org/pandas-docs/stable/user_guide/indexing.html#returning-a-view-versus-a-copy\n",
      "d:\\BESVM\\BESVM\\.venv\\lib\\site-packages\\ipykernel_launcher.py:80: SettingWithCopyWarning: \n",
      "A value is trying to be set on a copy of a slice from a DataFrame\n",
      "\n",
      "See the caveats in the documentation: https://pandas.pydata.org/pandas-docs/stable/user_guide/indexing.html#returning-a-view-versus-a-copy\n",
      "d:\\BESVM\\BESVM\\.venv\\lib\\site-packages\\ipykernel_launcher.py:82: SettingWithCopyWarning: \n",
      "A value is trying to be set on a copy of a slice from a DataFrame\n",
      "\n",
      "See the caveats in the documentation: https://pandas.pydata.org/pandas-docs/stable/user_guide/indexing.html#returning-a-view-versus-a-copy\n"
     ]
    },
    {
     "name": "stdout",
     "output_type": "stream",
     "text": [
      "BESVM Accuracy (on training) = with x1 bounded error (0.2%*0.16951893275838834),x2 with error (0.2%*0.8304810672416116) : 0.9747779970399605\n",
      "BESVM Accuracy (on testing) = with x1 bounded error (0.2%*0.16951893275838834),x2 with error (0.2%*0.8304810672416116) : 0.973612823674476\n",
      "BESVM Accuracy (on subset_raw) = with no bounded error,x2 with no error 0.23346303501945526\n"
     ]
    }
   ],
   "source": [
    "#using importancePermu as error allocation rate to predict by svm\n",
    "df_2feature_be = df_2feature_be_generates(BE,-1,0,importancePermu)\n",
    "x_be = df_2feature_be.iloc[:, :-1].values\n",
    "y_be = df_2feature_be.iloc[:,-1].values\n",
    "X_train,X_test,y_train, y_test = train_test_split(x_be, y_be, test_size=0.2,random_state=1)\n",
    "clf_BE = SVC(kernel='linear',C=1,gamma='auto')\n",
    "clf_BE.fit(X_train, y_train)\n",
    "y_BE_predict = clf_BE.predict(X_test)\n",
    "result_BE_train = clf_BE.score(X_train, y_train)\n",
    "result_BE_test = clf_BE.score(X_test, y_test)\n",
    "subset_raw = clf_BE.score(subsample_x, subsample_y)\n",
    "print('BESVM Accuracy (on training) = with x1 bounded error ('+str(BE)+'%*'+str(importancePermu[1])+'),x2 with error ('+str(BE)+'%*'+str(importancePermu[0])+') : '+str(result_BE_train))\n",
    "print('BESVM Accuracy (on testing) = with x1 bounded error ('+str(BE)+'%*'+str(importancePermu[1])+'),x2 with error ('+str(BE)+'%*'+str(importancePermu[0])+') : '+str(result_BE_test))\n",
    "print('BESVM Accuracy (on subset_raw) = with no bounded error,x2 with no error '+str(subset_raw))\n",
    "\n"
   ]
  },
  {
   "cell_type": "code",
   "execution_count": null,
   "metadata": {},
   "outputs": [],
   "source": []
  },
  {
   "cell_type": "markdown",
   "metadata": {},
   "source": [
    "try knn/kmeans with normalized data"
   ]
  },
  {
   "cell_type": "code",
   "execution_count": 113,
   "metadata": {},
   "outputs": [
    {
     "name": "stderr",
     "output_type": "stream",
     "text": [
      "d:\\BESVM\\BESVM\\.venv\\lib\\site-packages\\ipykernel_launcher.py:69: SettingWithCopyWarning: \n",
      "A value is trying to be set on a copy of a slice from a DataFrame\n",
      "\n",
      "See the caveats in the documentation: https://pandas.pydata.org/pandas-docs/stable/user_guide/indexing.html#returning-a-view-versus-a-copy\n",
      "d:\\BESVM\\BESVM\\.venv\\lib\\site-packages\\ipykernel_launcher.py:73: SettingWithCopyWarning: \n",
      "A value is trying to be set on a copy of a slice from a DataFrame\n",
      "\n",
      "See the caveats in the documentation: https://pandas.pydata.org/pandas-docs/stable/user_guide/indexing.html#returning-a-view-versus-a-copy\n",
      "d:\\BESVM\\BESVM\\.venv\\lib\\site-packages\\ipykernel_launcher.py:80: SettingWithCopyWarning: \n",
      "A value is trying to be set on a copy of a slice from a DataFrame\n",
      "\n",
      "See the caveats in the documentation: https://pandas.pydata.org/pandas-docs/stable/user_guide/indexing.html#returning-a-view-versus-a-copy\n",
      "d:\\BESVM\\BESVM\\.venv\\lib\\site-packages\\ipykernel_launcher.py:82: SettingWithCopyWarning: \n",
      "A value is trying to be set on a copy of a slice from a DataFrame\n",
      "\n",
      "See the caveats in the documentation: https://pandas.pydata.org/pandas-docs/stable/user_guide/indexing.html#returning-a-view-versus-a-copy\n"
     ]
    },
    {
     "name": "stdout",
     "output_type": "stream",
     "text": [
      "BEKNN Accuracy (on training) = with x1 bounded error (0.2%*0.08066608974524474),x2 with error (0.2%*0.9193339102547552) : 0.9906265416872225\n",
      "BEKNN Accuracy (on testing) = with x1 bounded error (0.2%*0.08066608974524474),x2 with error (0.2%*0.9193339102547552) : 0.976078914919852\n",
      "BEKNN Accuracy (on subset_raw) = with no bounded error,x2 with no error 0.8983463035019456\n"
     ]
    }
   ],
   "source": [
    "#using importanceReg as error allocation rate to predict by knn\n",
    "df_2feature_be = df_2feature_be_generates(BE,-1,0,importanceReg)\n",
    "x_be = df_2feature_be.iloc[:, :-1].values\n",
    "y_be = df_2feature_be.iloc[:,-1].values\n",
    "X_train,X_test,y_train, y_test = train_test_split(x_be, y_be, test_size=0.2,random_state=1)\n",
    "KNN_BE = KNeighborsClassifier()\n",
    "KNN_BE.fit(X_train, y_train)\n",
    "y_BE_predict = KNN_BE.predict(X_test)\n",
    "result_BE_train = KNN_BE.score(X_train, y_train)\n",
    "result_BE_test = KNN_BE.score(X_test, y_test)\n",
    "subset_raw = KNN_BE.score(subsample_x, subsample_y)\n",
    "print('BEKNN Accuracy (on training) = with x1 bounded error ('+str(BE)+'%*'+str(importanceReg[1])+'),x2 with error ('+str(BE)+'%*'+str(importanceReg[0])+') : '+str(result_BE_train))\n",
    "print('BEKNN Accuracy (on testing) = with x1 bounded error ('+str(BE)+'%*'+str(importanceReg[1])+'),x2 with error ('+str(BE)+'%*'+str(importanceReg[0])+') : '+str(result_BE_test))\n",
    "print('BEKNN Accuracy (on subset_raw) = with no bounded error,x2 with no error '+str(subset_raw))\n"
   ]
  },
  {
   "cell_type": "code",
   "execution_count": 114,
   "metadata": {},
   "outputs": [
    {
     "name": "stderr",
     "output_type": "stream",
     "text": [
      "d:\\BESVM\\BESVM\\.venv\\lib\\site-packages\\ipykernel_launcher.py:69: SettingWithCopyWarning: \n",
      "A value is trying to be set on a copy of a slice from a DataFrame\n",
      "\n",
      "See the caveats in the documentation: https://pandas.pydata.org/pandas-docs/stable/user_guide/indexing.html#returning-a-view-versus-a-copy\n",
      "d:\\BESVM\\BESVM\\.venv\\lib\\site-packages\\ipykernel_launcher.py:73: SettingWithCopyWarning: \n",
      "A value is trying to be set on a copy of a slice from a DataFrame\n",
      "\n",
      "See the caveats in the documentation: https://pandas.pydata.org/pandas-docs/stable/user_guide/indexing.html#returning-a-view-versus-a-copy\n",
      "d:\\BESVM\\BESVM\\.venv\\lib\\site-packages\\ipykernel_launcher.py:80: SettingWithCopyWarning: \n",
      "A value is trying to be set on a copy of a slice from a DataFrame\n",
      "\n",
      "See the caveats in the documentation: https://pandas.pydata.org/pandas-docs/stable/user_guide/indexing.html#returning-a-view-versus-a-copy\n",
      "d:\\BESVM\\BESVM\\.venv\\lib\\site-packages\\ipykernel_launcher.py:82: SettingWithCopyWarning: \n",
      "A value is trying to be set on a copy of a slice from a DataFrame\n",
      "\n",
      "See the caveats in the documentation: https://pandas.pydata.org/pandas-docs/stable/user_guide/indexing.html#returning-a-view-versus-a-copy\n"
     ]
    },
    {
     "name": "stdout",
     "output_type": "stream",
     "text": [
      "BEKNN Accuracy (on training) = with x1 bounded error (0.2%*0.16951893275838834),x2 with error (0.2%*0.8304810672416116) : 0.9906265416872225\n",
      "BEKNN Accuracy (on testing) = with x1 bounded error (0.2%*0.16951893275838834),x2 with error (0.2%*0.8304810672416116) : 0.976078914919852\n",
      "BEKNN Accuracy (on subset_raw) = with no bounded error,x2 with no error 0.8983463035019456\n"
     ]
    }
   ],
   "source": [
    "#using importancePermu as error allocation rate to predict by knn\n",
    "df_2feature_be = df_2feature_be_generates(BE,-1,0,importancePermu)\n",
    "x_be = df_2feature_be.iloc[:, :-1].values\n",
    "y_be = df_2feature_be.iloc[:,-1].values\n",
    "X_train,X_test,y_train, y_test = train_test_split(x_be, y_be, test_size=0.2,random_state=1)\n",
    "KNN_BE = KNeighborsClassifier()\n",
    "KNN_BE.fit(X_train, y_train)\n",
    "y_BE_predict = KNN_BE.predict(X_test)\n",
    "result_BE_train = KNN_BE.score(X_train, y_train)\n",
    "result_BE_test = KNN_BE.score(X_test, y_test)\n",
    "subset_raw = KNN_BE.score(subsample_x, subsample_y)\n",
    "print('BEKNN Accuracy (on training) = with x1 bounded error ('+str(BE)+'%*'+str(importancePermu[1])+'),x2 with error ('+str(BE)+'%*'+str(importancePermu[0])+') : '+str(result_BE_train))\n",
    "print('BEKNN Accuracy (on testing) = with x1 bounded error ('+str(BE)+'%*'+str(importancePermu[1])+'),x2 with error ('+str(BE)+'%*'+str(importancePermu[0])+') : '+str(result_BE_test))\n",
    "print('BEKNN Accuracy (on subset_raw) = with no bounded error,x2 with no error '+str(subset_raw))\n"
   ]
  },
  {
   "cell_type": "code",
   "execution_count": 115,
   "metadata": {},
   "outputs": [
    {
     "name": "stderr",
     "output_type": "stream",
     "text": [
      "d:\\BESVM\\BESVM\\.venv\\lib\\site-packages\\ipykernel_launcher.py:69: SettingWithCopyWarning: \n",
      "A value is trying to be set on a copy of a slice from a DataFrame\n",
      "\n",
      "See the caveats in the documentation: https://pandas.pydata.org/pandas-docs/stable/user_guide/indexing.html#returning-a-view-versus-a-copy\n",
      "d:\\BESVM\\BESVM\\.venv\\lib\\site-packages\\ipykernel_launcher.py:73: SettingWithCopyWarning: \n",
      "A value is trying to be set on a copy of a slice from a DataFrame\n",
      "\n",
      "See the caveats in the documentation: https://pandas.pydata.org/pandas-docs/stable/user_guide/indexing.html#returning-a-view-versus-a-copy\n",
      "d:\\BESVM\\BESVM\\.venv\\lib\\site-packages\\ipykernel_launcher.py:80: SettingWithCopyWarning: \n",
      "A value is trying to be set on a copy of a slice from a DataFrame\n",
      "\n",
      "See the caveats in the documentation: https://pandas.pydata.org/pandas-docs/stable/user_guide/indexing.html#returning-a-view-versus-a-copy\n",
      "d:\\BESVM\\BESVM\\.venv\\lib\\site-packages\\ipykernel_launcher.py:82: SettingWithCopyWarning: \n",
      "A value is trying to be set on a copy of a slice from a DataFrame\n",
      "\n",
      "See the caveats in the documentation: https://pandas.pydata.org/pandas-docs/stable/user_guide/indexing.html#returning-a-view-versus-a-copy\n"
     ]
    },
    {
     "name": "stdout",
     "output_type": "stream",
     "text": [
      "BESVM Accuracy (on training) using confidence score on x1 bounded error (0.2%*0.4942113780654799),x2 with error (0.2%*0.5057886219345201) : 0.9747779970399605\n",
      "BESVM Accuracy (on testing) = using confidence score on  x1 bounded error (0.2%*0.4942113780654799),x2 with error (0.2%*0.5057886219345201) : 0.973612823674476\n",
      "BESVM Accuracy (on subset_raw) = with no bounded error,x2 with no error 0.23346303501945526\n"
     ]
    }
   ],
   "source": [
    "light_CScore = 1.0117280381068128\n",
    "CO2_CSore = 0.9885700987654558\n",
    "ConfidenceSore_lightCO2 = [light_CScore/(light_CScore+CO2_CSore),CO2_CSore/(light_CScore+CO2_CSore)]\n",
    "\n",
    "#using confidence as error allocation rate to predict by svm\n",
    "df_2feature_be = df_2feature_be_generates(BE,-1,0,ConfidenceSore_lightCO2)\n",
    "x_be = df_2feature_be.iloc[:, :-1].values\n",
    "y_be = df_2feature_be.iloc[:,-1].values\n",
    "X_train,X_test,y_train, y_test = train_test_split(x_be, y_be, test_size=0.2,random_state=1)\n",
    "clf_BE = SVC(kernel='linear',C=1,gamma='auto')\n",
    "clf_BE.fit(X_train, y_train)\n",
    "y_BE_predict = clf_BE.predict(X_test)\n",
    "result_BE_train = clf_BE.score(X_train, y_train)\n",
    "result_BE_test = clf_BE.score(X_test, y_test)\n",
    "subset_raw = clf_BE.score(subsample_x, subsample_y)\n",
    "print('BESVM Accuracy (on training) using confidence score on x1 bounded error ('+str(BE)+'%*'+str(ConfidenceSore_lightCO2[1])+'),x2 with error ('+str(BE)+'%*'+str(ConfidenceSore_lightCO2[0])+') : '+str(result_BE_train))\n",
    "print('BESVM Accuracy (on testing) = using confidence score on  x1 bounded error ('+str(BE)+'%*'+str(ConfidenceSore_lightCO2[1])+'),x2 with error ('+str(BE)+'%*'+str(ConfidenceSore_lightCO2[0])+') : '+str(result_BE_test))\n",
    "print('BESVM Accuracy (on subset_raw) = with no bounded error,x2 with no error '+str(subset_raw))\n",
    "\n",
    "\n"
   ]
  },
  {
   "cell_type": "code",
   "execution_count": 116,
   "metadata": {},
   "outputs": [
    {
     "name": "stderr",
     "output_type": "stream",
     "text": [
      "d:\\BESVM\\BESVM\\.venv\\lib\\site-packages\\ipykernel_launcher.py:69: SettingWithCopyWarning: \n",
      "A value is trying to be set on a copy of a slice from a DataFrame\n",
      "\n",
      "See the caveats in the documentation: https://pandas.pydata.org/pandas-docs/stable/user_guide/indexing.html#returning-a-view-versus-a-copy\n",
      "d:\\BESVM\\BESVM\\.venv\\lib\\site-packages\\ipykernel_launcher.py:73: SettingWithCopyWarning: \n",
      "A value is trying to be set on a copy of a slice from a DataFrame\n",
      "\n",
      "See the caveats in the documentation: https://pandas.pydata.org/pandas-docs/stable/user_guide/indexing.html#returning-a-view-versus-a-copy\n",
      "d:\\BESVM\\BESVM\\.venv\\lib\\site-packages\\ipykernel_launcher.py:80: SettingWithCopyWarning: \n",
      "A value is trying to be set on a copy of a slice from a DataFrame\n",
      "\n",
      "See the caveats in the documentation: https://pandas.pydata.org/pandas-docs/stable/user_guide/indexing.html#returning-a-view-versus-a-copy\n",
      "d:\\BESVM\\BESVM\\.venv\\lib\\site-packages\\ipykernel_launcher.py:82: SettingWithCopyWarning: \n",
      "A value is trying to be set on a copy of a slice from a DataFrame\n",
      "\n",
      "See the caveats in the documentation: https://pandas.pydata.org/pandas-docs/stable/user_guide/indexing.html#returning-a-view-versus-a-copy\n"
     ]
    },
    {
     "name": "stdout",
     "output_type": "stream",
     "text": [
      "BEKN Accuracy (on training) using confidence score on x1 bounded error (0.2%*0.4942113780654799),x2 with error (0.2%*0.5057886219345201) : 0.9906265416872225\n",
      "BEKNN Accuracy (on testing) = using confidence score on  x1 bounded error (0.2%*0.4942113780654799),x2 with error (0.2%*0.5057886219345201) : 0.976078914919852\n",
      "BEKNN Accuracy (on subset_raw) = with no bounded error,x2 with no error 0.8983463035019456\n"
     ]
    }
   ],
   "source": [
    "#using confidence as error allocation rate to predict by knn\n",
    "df_2feature_be = df_2feature_be_generates(BE,-1,0,ConfidenceSore_lightCO2)\n",
    "x_be = df_2feature_be.iloc[:, :-1].values\n",
    "y_be = df_2feature_be.iloc[:,-1].values\n",
    "X_train,X_test,y_train, y_test = train_test_split(x_be, y_be, test_size=0.2,random_state=1)\n",
    "KNN_BE = KNeighborsClassifier()\n",
    "KNN_BE.fit(X_train, y_train)\n",
    "y_BE_predict = KNN_BE.predict(X_test)\n",
    "result_BE_train = KNN_BE.score(X_train, y_train)\n",
    "result_BE_test = KNN_BE.score(X_test, y_test)\n",
    "subset_raw = KNN_BE.score(subsample_x, subsample_y)\n",
    "print('BEKN Accuracy (on training) using confidence score on x1 bounded error ('+str(BE)+'%*'+str(ConfidenceSore_lightCO2[1])+'),x2 with error ('+str(BE)+'%*'+str(ConfidenceSore_lightCO2[0])+') : '+str(result_BE_train))\n",
    "print('BEKNN Accuracy (on testing) = using confidence score on  x1 bounded error ('+str(BE)+'%*'+str(ConfidenceSore_lightCO2[1])+'),x2 with error ('+str(BE)+'%*'+str(ConfidenceSore_lightCO2[0])+') : '+str(result_BE_test))\n",
    "print('BEKNN Accuracy (on subset_raw) = with no bounded error,x2 with no error '+str(subset_raw))\n"
   ]
  },
  {
   "cell_type": "code",
   "execution_count": 117,
   "metadata": {},
   "outputs": [
    {
     "name": "stderr",
     "output_type": "stream",
     "text": [
      "d:\\BESVM\\BESVM\\.venv\\lib\\site-packages\\ipykernel_launcher.py:69: SettingWithCopyWarning: \n",
      "A value is trying to be set on a copy of a slice from a DataFrame\n",
      "\n",
      "See the caveats in the documentation: https://pandas.pydata.org/pandas-docs/stable/user_guide/indexing.html#returning-a-view-versus-a-copy\n",
      "d:\\BESVM\\BESVM\\.venv\\lib\\site-packages\\ipykernel_launcher.py:73: SettingWithCopyWarning: \n",
      "A value is trying to be set on a copy of a slice from a DataFrame\n",
      "\n",
      "See the caveats in the documentation: https://pandas.pydata.org/pandas-docs/stable/user_guide/indexing.html#returning-a-view-versus-a-copy\n",
      "d:\\BESVM\\BESVM\\.venv\\lib\\site-packages\\ipykernel_launcher.py:80: SettingWithCopyWarning: \n",
      "A value is trying to be set on a copy of a slice from a DataFrame\n",
      "\n",
      "See the caveats in the documentation: https://pandas.pydata.org/pandas-docs/stable/user_guide/indexing.html#returning-a-view-versus-a-copy\n",
      "d:\\BESVM\\BESVM\\.venv\\lib\\site-packages\\ipykernel_launcher.py:82: SettingWithCopyWarning: \n",
      "A value is trying to be set on a copy of a slice from a DataFrame\n",
      "\n",
      "See the caveats in the documentation: https://pandas.pydata.org/pandas-docs/stable/user_guide/indexing.html#returning-a-view-versus-a-copy\n"
     ]
    },
    {
     "name": "stdout",
     "output_type": "stream",
     "text": [
      "BESVM Accuracy (on training) = with x1 bounded error (0.2%*0.0),x2 with error (0.2%*1.0) : 0.9747779970399605\n",
      "BESVM Accuracy (on testing) = with x1 bounded error (0.2%*0.0),x2 with error (0.2%*1.0) : 0.973612823674476\n",
      "BESVM Accuracy (on subset_raw) = with no bounded error,x2 with no error 0.23346303501945526\n"
     ]
    },
    {
     "name": "stderr",
     "output_type": "stream",
     "text": [
      "d:\\BESVM\\BESVM\\.venv\\lib\\site-packages\\ipykernel_launcher.py:69: SettingWithCopyWarning: \n",
      "A value is trying to be set on a copy of a slice from a DataFrame\n",
      "\n",
      "See the caveats in the documentation: https://pandas.pydata.org/pandas-docs/stable/user_guide/indexing.html#returning-a-view-versus-a-copy\n",
      "d:\\BESVM\\BESVM\\.venv\\lib\\site-packages\\ipykernel_launcher.py:73: SettingWithCopyWarning: \n",
      "A value is trying to be set on a copy of a slice from a DataFrame\n",
      "\n",
      "See the caveats in the documentation: https://pandas.pydata.org/pandas-docs/stable/user_guide/indexing.html#returning-a-view-versus-a-copy\n",
      "d:\\BESVM\\BESVM\\.venv\\lib\\site-packages\\ipykernel_launcher.py:80: SettingWithCopyWarning: \n",
      "A value is trying to be set on a copy of a slice from a DataFrame\n",
      "\n",
      "See the caveats in the documentation: https://pandas.pydata.org/pandas-docs/stable/user_guide/indexing.html#returning-a-view-versus-a-copy\n",
      "d:\\BESVM\\BESVM\\.venv\\lib\\site-packages\\ipykernel_launcher.py:82: SettingWithCopyWarning: \n",
      "A value is trying to be set on a copy of a slice from a DataFrame\n",
      "\n",
      "See the caveats in the documentation: https://pandas.pydata.org/pandas-docs/stable/user_guide/indexing.html#returning-a-view-versus-a-copy\n"
     ]
    },
    {
     "name": "stdout",
     "output_type": "stream",
     "text": [
      "BESVM Accuracy (on training) = with x1 bounded error (0.2%*0.041666666666666664),x2 with error (0.2%*0.9583333333333334) : 0.9747779970399605\n",
      "BESVM Accuracy (on testing) = with x1 bounded error (0.2%*0.041666666666666664),x2 with error (0.2%*0.9583333333333334) : 0.973612823674476\n",
      "BESVM Accuracy (on subset_raw) = with no bounded error,x2 with no error 0.23346303501945526\n"
     ]
    },
    {
     "name": "stderr",
     "output_type": "stream",
     "text": [
      "d:\\BESVM\\BESVM\\.venv\\lib\\site-packages\\ipykernel_launcher.py:69: SettingWithCopyWarning: \n",
      "A value is trying to be set on a copy of a slice from a DataFrame\n",
      "\n",
      "See the caveats in the documentation: https://pandas.pydata.org/pandas-docs/stable/user_guide/indexing.html#returning-a-view-versus-a-copy\n",
      "d:\\BESVM\\BESVM\\.venv\\lib\\site-packages\\ipykernel_launcher.py:73: SettingWithCopyWarning: \n",
      "A value is trying to be set on a copy of a slice from a DataFrame\n",
      "\n",
      "See the caveats in the documentation: https://pandas.pydata.org/pandas-docs/stable/user_guide/indexing.html#returning-a-view-versus-a-copy\n",
      "d:\\BESVM\\BESVM\\.venv\\lib\\site-packages\\ipykernel_launcher.py:80: SettingWithCopyWarning: \n",
      "A value is trying to be set on a copy of a slice from a DataFrame\n",
      "\n",
      "See the caveats in the documentation: https://pandas.pydata.org/pandas-docs/stable/user_guide/indexing.html#returning-a-view-versus-a-copy\n",
      "d:\\BESVM\\BESVM\\.venv\\lib\\site-packages\\ipykernel_launcher.py:82: SettingWithCopyWarning: \n",
      "A value is trying to be set on a copy of a slice from a DataFrame\n",
      "\n",
      "See the caveats in the documentation: https://pandas.pydata.org/pandas-docs/stable/user_guide/indexing.html#returning-a-view-versus-a-copy\n"
     ]
    },
    {
     "name": "stdout",
     "output_type": "stream",
     "text": [
      "BESVM Accuracy (on training) = with x1 bounded error (0.2%*0.08333333333333333),x2 with error (0.2%*0.9166666666666666) : 0.9747779970399605\n",
      "BESVM Accuracy (on testing) = with x1 bounded error (0.2%*0.08333333333333333),x2 with error (0.2%*0.9166666666666666) : 0.973612823674476\n",
      "BESVM Accuracy (on subset_raw) = with no bounded error,x2 with no error 0.23346303501945526\n"
     ]
    },
    {
     "name": "stderr",
     "output_type": "stream",
     "text": [
      "d:\\BESVM\\BESVM\\.venv\\lib\\site-packages\\ipykernel_launcher.py:69: SettingWithCopyWarning: \n",
      "A value is trying to be set on a copy of a slice from a DataFrame\n",
      "\n",
      "See the caveats in the documentation: https://pandas.pydata.org/pandas-docs/stable/user_guide/indexing.html#returning-a-view-versus-a-copy\n",
      "d:\\BESVM\\BESVM\\.venv\\lib\\site-packages\\ipykernel_launcher.py:73: SettingWithCopyWarning: \n",
      "A value is trying to be set on a copy of a slice from a DataFrame\n",
      "\n",
      "See the caveats in the documentation: https://pandas.pydata.org/pandas-docs/stable/user_guide/indexing.html#returning-a-view-versus-a-copy\n",
      "d:\\BESVM\\BESVM\\.venv\\lib\\site-packages\\ipykernel_launcher.py:80: SettingWithCopyWarning: \n",
      "A value is trying to be set on a copy of a slice from a DataFrame\n",
      "\n",
      "See the caveats in the documentation: https://pandas.pydata.org/pandas-docs/stable/user_guide/indexing.html#returning-a-view-versus-a-copy\n",
      "d:\\BESVM\\BESVM\\.venv\\lib\\site-packages\\ipykernel_launcher.py:82: SettingWithCopyWarning: \n",
      "A value is trying to be set on a copy of a slice from a DataFrame\n",
      "\n",
      "See the caveats in the documentation: https://pandas.pydata.org/pandas-docs/stable/user_guide/indexing.html#returning-a-view-versus-a-copy\n"
     ]
    },
    {
     "name": "stdout",
     "output_type": "stream",
     "text": [
      "BESVM Accuracy (on training) = with x1 bounded error (0.2%*0.125),x2 with error (0.2%*0.875) : 0.9747779970399605\n",
      "BESVM Accuracy (on testing) = with x1 bounded error (0.2%*0.125),x2 with error (0.2%*0.875) : 0.973612823674476\n",
      "BESVM Accuracy (on subset_raw) = with no bounded error,x2 with no error 0.23346303501945526\n"
     ]
    },
    {
     "name": "stderr",
     "output_type": "stream",
     "text": [
      "d:\\BESVM\\BESVM\\.venv\\lib\\site-packages\\ipykernel_launcher.py:69: SettingWithCopyWarning: \n",
      "A value is trying to be set on a copy of a slice from a DataFrame\n",
      "\n",
      "See the caveats in the documentation: https://pandas.pydata.org/pandas-docs/stable/user_guide/indexing.html#returning-a-view-versus-a-copy\n",
      "d:\\BESVM\\BESVM\\.venv\\lib\\site-packages\\ipykernel_launcher.py:73: SettingWithCopyWarning: \n",
      "A value is trying to be set on a copy of a slice from a DataFrame\n",
      "\n",
      "See the caveats in the documentation: https://pandas.pydata.org/pandas-docs/stable/user_guide/indexing.html#returning-a-view-versus-a-copy\n",
      "d:\\BESVM\\BESVM\\.venv\\lib\\site-packages\\ipykernel_launcher.py:80: SettingWithCopyWarning: \n",
      "A value is trying to be set on a copy of a slice from a DataFrame\n",
      "\n",
      "See the caveats in the documentation: https://pandas.pydata.org/pandas-docs/stable/user_guide/indexing.html#returning-a-view-versus-a-copy\n",
      "d:\\BESVM\\BESVM\\.venv\\lib\\site-packages\\ipykernel_launcher.py:82: SettingWithCopyWarning: \n",
      "A value is trying to be set on a copy of a slice from a DataFrame\n",
      "\n",
      "See the caveats in the documentation: https://pandas.pydata.org/pandas-docs/stable/user_guide/indexing.html#returning-a-view-versus-a-copy\n"
     ]
    },
    {
     "name": "stdout",
     "output_type": "stream",
     "text": [
      "BESVM Accuracy (on training) = with x1 bounded error (0.2%*0.16666666666666666),x2 with error (0.2%*0.8333333333333334) : 0.9747779970399605\n",
      "BESVM Accuracy (on testing) = with x1 bounded error (0.2%*0.16666666666666666),x2 with error (0.2%*0.8333333333333334) : 0.973612823674476\n",
      "BESVM Accuracy (on subset_raw) = with no bounded error,x2 with no error 0.23346303501945526\n"
     ]
    },
    {
     "name": "stderr",
     "output_type": "stream",
     "text": [
      "d:\\BESVM\\BESVM\\.venv\\lib\\site-packages\\ipykernel_launcher.py:69: SettingWithCopyWarning: \n",
      "A value is trying to be set on a copy of a slice from a DataFrame\n",
      "\n",
      "See the caveats in the documentation: https://pandas.pydata.org/pandas-docs/stable/user_guide/indexing.html#returning-a-view-versus-a-copy\n",
      "d:\\BESVM\\BESVM\\.venv\\lib\\site-packages\\ipykernel_launcher.py:73: SettingWithCopyWarning: \n",
      "A value is trying to be set on a copy of a slice from a DataFrame\n",
      "\n",
      "See the caveats in the documentation: https://pandas.pydata.org/pandas-docs/stable/user_guide/indexing.html#returning-a-view-versus-a-copy\n",
      "d:\\BESVM\\BESVM\\.venv\\lib\\site-packages\\ipykernel_launcher.py:80: SettingWithCopyWarning: \n",
      "A value is trying to be set on a copy of a slice from a DataFrame\n",
      "\n",
      "See the caveats in the documentation: https://pandas.pydata.org/pandas-docs/stable/user_guide/indexing.html#returning-a-view-versus-a-copy\n",
      "d:\\BESVM\\BESVM\\.venv\\lib\\site-packages\\ipykernel_launcher.py:82: SettingWithCopyWarning: \n",
      "A value is trying to be set on a copy of a slice from a DataFrame\n",
      "\n",
      "See the caveats in the documentation: https://pandas.pydata.org/pandas-docs/stable/user_guide/indexing.html#returning-a-view-versus-a-copy\n"
     ]
    },
    {
     "name": "stdout",
     "output_type": "stream",
     "text": [
      "BESVM Accuracy (on training) = with x1 bounded error (0.2%*0.20833333333333334),x2 with error (0.2%*0.7916666666666666) : 0.9747779970399605\n",
      "BESVM Accuracy (on testing) = with x1 bounded error (0.2%*0.20833333333333334),x2 with error (0.2%*0.7916666666666666) : 0.973612823674476\n",
      "BESVM Accuracy (on subset_raw) = with no bounded error,x2 with no error 0.23346303501945526\n"
     ]
    },
    {
     "name": "stderr",
     "output_type": "stream",
     "text": [
      "d:\\BESVM\\BESVM\\.venv\\lib\\site-packages\\ipykernel_launcher.py:69: SettingWithCopyWarning: \n",
      "A value is trying to be set on a copy of a slice from a DataFrame\n",
      "\n",
      "See the caveats in the documentation: https://pandas.pydata.org/pandas-docs/stable/user_guide/indexing.html#returning-a-view-versus-a-copy\n",
      "d:\\BESVM\\BESVM\\.venv\\lib\\site-packages\\ipykernel_launcher.py:73: SettingWithCopyWarning: \n",
      "A value is trying to be set on a copy of a slice from a DataFrame\n",
      "\n",
      "See the caveats in the documentation: https://pandas.pydata.org/pandas-docs/stable/user_guide/indexing.html#returning-a-view-versus-a-copy\n",
      "d:\\BESVM\\BESVM\\.venv\\lib\\site-packages\\ipykernel_launcher.py:80: SettingWithCopyWarning: \n",
      "A value is trying to be set on a copy of a slice from a DataFrame\n",
      "\n",
      "See the caveats in the documentation: https://pandas.pydata.org/pandas-docs/stable/user_guide/indexing.html#returning-a-view-versus-a-copy\n",
      "d:\\BESVM\\BESVM\\.venv\\lib\\site-packages\\ipykernel_launcher.py:82: SettingWithCopyWarning: \n",
      "A value is trying to be set on a copy of a slice from a DataFrame\n",
      "\n",
      "See the caveats in the documentation: https://pandas.pydata.org/pandas-docs/stable/user_guide/indexing.html#returning-a-view-versus-a-copy\n"
     ]
    },
    {
     "name": "stdout",
     "output_type": "stream",
     "text": [
      "BESVM Accuracy (on training) = with x1 bounded error (0.2%*0.25),x2 with error (0.2%*0.75) : 0.9747779970399605\n",
      "BESVM Accuracy (on testing) = with x1 bounded error (0.2%*0.25),x2 with error (0.2%*0.75) : 0.973612823674476\n",
      "BESVM Accuracy (on subset_raw) = with no bounded error,x2 with no error 0.23346303501945526\n"
     ]
    },
    {
     "name": "stderr",
     "output_type": "stream",
     "text": [
      "d:\\BESVM\\BESVM\\.venv\\lib\\site-packages\\ipykernel_launcher.py:69: SettingWithCopyWarning: \n",
      "A value is trying to be set on a copy of a slice from a DataFrame\n",
      "\n",
      "See the caveats in the documentation: https://pandas.pydata.org/pandas-docs/stable/user_guide/indexing.html#returning-a-view-versus-a-copy\n",
      "d:\\BESVM\\BESVM\\.venv\\lib\\site-packages\\ipykernel_launcher.py:73: SettingWithCopyWarning: \n",
      "A value is trying to be set on a copy of a slice from a DataFrame\n",
      "\n",
      "See the caveats in the documentation: https://pandas.pydata.org/pandas-docs/stable/user_guide/indexing.html#returning-a-view-versus-a-copy\n",
      "d:\\BESVM\\BESVM\\.venv\\lib\\site-packages\\ipykernel_launcher.py:80: SettingWithCopyWarning: \n",
      "A value is trying to be set on a copy of a slice from a DataFrame\n",
      "\n",
      "See the caveats in the documentation: https://pandas.pydata.org/pandas-docs/stable/user_guide/indexing.html#returning-a-view-versus-a-copy\n",
      "d:\\BESVM\\BESVM\\.venv\\lib\\site-packages\\ipykernel_launcher.py:82: SettingWithCopyWarning: \n",
      "A value is trying to be set on a copy of a slice from a DataFrame\n",
      "\n",
      "See the caveats in the documentation: https://pandas.pydata.org/pandas-docs/stable/user_guide/indexing.html#returning-a-view-versus-a-copy\n"
     ]
    },
    {
     "name": "stdout",
     "output_type": "stream",
     "text": [
      "BESVM Accuracy (on training) = with x1 bounded error (0.2%*0.2916666666666667),x2 with error (0.2%*0.7083333333333334) : 0.9747779970399605\n",
      "BESVM Accuracy (on testing) = with x1 bounded error (0.2%*0.2916666666666667),x2 with error (0.2%*0.7083333333333334) : 0.973612823674476\n",
      "BESVM Accuracy (on subset_raw) = with no bounded error,x2 with no error 0.23346303501945526\n"
     ]
    },
    {
     "name": "stderr",
     "output_type": "stream",
     "text": [
      "d:\\BESVM\\BESVM\\.venv\\lib\\site-packages\\ipykernel_launcher.py:69: SettingWithCopyWarning: \n",
      "A value is trying to be set on a copy of a slice from a DataFrame\n",
      "\n",
      "See the caveats in the documentation: https://pandas.pydata.org/pandas-docs/stable/user_guide/indexing.html#returning-a-view-versus-a-copy\n",
      "d:\\BESVM\\BESVM\\.venv\\lib\\site-packages\\ipykernel_launcher.py:73: SettingWithCopyWarning: \n",
      "A value is trying to be set on a copy of a slice from a DataFrame\n",
      "\n",
      "See the caveats in the documentation: https://pandas.pydata.org/pandas-docs/stable/user_guide/indexing.html#returning-a-view-versus-a-copy\n",
      "d:\\BESVM\\BESVM\\.venv\\lib\\site-packages\\ipykernel_launcher.py:80: SettingWithCopyWarning: \n",
      "A value is trying to be set on a copy of a slice from a DataFrame\n",
      "\n",
      "See the caveats in the documentation: https://pandas.pydata.org/pandas-docs/stable/user_guide/indexing.html#returning-a-view-versus-a-copy\n",
      "d:\\BESVM\\BESVM\\.venv\\lib\\site-packages\\ipykernel_launcher.py:82: SettingWithCopyWarning: \n",
      "A value is trying to be set on a copy of a slice from a DataFrame\n",
      "\n",
      "See the caveats in the documentation: https://pandas.pydata.org/pandas-docs/stable/user_guide/indexing.html#returning-a-view-versus-a-copy\n"
     ]
    },
    {
     "name": "stdout",
     "output_type": "stream",
     "text": [
      "BESVM Accuracy (on training) = with x1 bounded error (0.2%*0.3333333333333333),x2 with error (0.2%*0.6666666666666666) : 0.9747779970399605\n",
      "BESVM Accuracy (on testing) = with x1 bounded error (0.2%*0.3333333333333333),x2 with error (0.2%*0.6666666666666666) : 0.973612823674476\n",
      "BESVM Accuracy (on subset_raw) = with no bounded error,x2 with no error 0.23346303501945526\n"
     ]
    },
    {
     "name": "stderr",
     "output_type": "stream",
     "text": [
      "d:\\BESVM\\BESVM\\.venv\\lib\\site-packages\\ipykernel_launcher.py:69: SettingWithCopyWarning: \n",
      "A value is trying to be set on a copy of a slice from a DataFrame\n",
      "\n",
      "See the caveats in the documentation: https://pandas.pydata.org/pandas-docs/stable/user_guide/indexing.html#returning-a-view-versus-a-copy\n",
      "d:\\BESVM\\BESVM\\.venv\\lib\\site-packages\\ipykernel_launcher.py:73: SettingWithCopyWarning: \n",
      "A value is trying to be set on a copy of a slice from a DataFrame\n",
      "\n",
      "See the caveats in the documentation: https://pandas.pydata.org/pandas-docs/stable/user_guide/indexing.html#returning-a-view-versus-a-copy\n",
      "d:\\BESVM\\BESVM\\.venv\\lib\\site-packages\\ipykernel_launcher.py:80: SettingWithCopyWarning: \n",
      "A value is trying to be set on a copy of a slice from a DataFrame\n",
      "\n",
      "See the caveats in the documentation: https://pandas.pydata.org/pandas-docs/stable/user_guide/indexing.html#returning-a-view-versus-a-copy\n",
      "d:\\BESVM\\BESVM\\.venv\\lib\\site-packages\\ipykernel_launcher.py:82: SettingWithCopyWarning: \n",
      "A value is trying to be set on a copy of a slice from a DataFrame\n",
      "\n",
      "See the caveats in the documentation: https://pandas.pydata.org/pandas-docs/stable/user_guide/indexing.html#returning-a-view-versus-a-copy\n"
     ]
    },
    {
     "name": "stdout",
     "output_type": "stream",
     "text": [
      "BESVM Accuracy (on training) = with x1 bounded error (0.2%*0.375),x2 with error (0.2%*0.625) : 0.9747779970399605\n",
      "BESVM Accuracy (on testing) = with x1 bounded error (0.2%*0.375),x2 with error (0.2%*0.625) : 0.973612823674476\n",
      "BESVM Accuracy (on subset_raw) = with no bounded error,x2 with no error 0.23346303501945526\n"
     ]
    },
    {
     "name": "stderr",
     "output_type": "stream",
     "text": [
      "d:\\BESVM\\BESVM\\.venv\\lib\\site-packages\\ipykernel_launcher.py:69: SettingWithCopyWarning: \n",
      "A value is trying to be set on a copy of a slice from a DataFrame\n",
      "\n",
      "See the caveats in the documentation: https://pandas.pydata.org/pandas-docs/stable/user_guide/indexing.html#returning-a-view-versus-a-copy\n",
      "d:\\BESVM\\BESVM\\.venv\\lib\\site-packages\\ipykernel_launcher.py:73: SettingWithCopyWarning: \n",
      "A value is trying to be set on a copy of a slice from a DataFrame\n",
      "\n",
      "See the caveats in the documentation: https://pandas.pydata.org/pandas-docs/stable/user_guide/indexing.html#returning-a-view-versus-a-copy\n",
      "d:\\BESVM\\BESVM\\.venv\\lib\\site-packages\\ipykernel_launcher.py:80: SettingWithCopyWarning: \n",
      "A value is trying to be set on a copy of a slice from a DataFrame\n",
      "\n",
      "See the caveats in the documentation: https://pandas.pydata.org/pandas-docs/stable/user_guide/indexing.html#returning-a-view-versus-a-copy\n",
      "d:\\BESVM\\BESVM\\.venv\\lib\\site-packages\\ipykernel_launcher.py:82: SettingWithCopyWarning: \n",
      "A value is trying to be set on a copy of a slice from a DataFrame\n",
      "\n",
      "See the caveats in the documentation: https://pandas.pydata.org/pandas-docs/stable/user_guide/indexing.html#returning-a-view-versus-a-copy\n"
     ]
    },
    {
     "name": "stdout",
     "output_type": "stream",
     "text": [
      "BESVM Accuracy (on training) = with x1 bounded error (0.2%*0.4166666666666667),x2 with error (0.2%*0.5833333333333334) : 0.9747779970399605\n",
      "BESVM Accuracy (on testing) = with x1 bounded error (0.2%*0.4166666666666667),x2 with error (0.2%*0.5833333333333334) : 0.973612823674476\n",
      "BESVM Accuracy (on subset_raw) = with no bounded error,x2 with no error 0.23346303501945526\n"
     ]
    },
    {
     "name": "stderr",
     "output_type": "stream",
     "text": [
      "d:\\BESVM\\BESVM\\.venv\\lib\\site-packages\\ipykernel_launcher.py:69: SettingWithCopyWarning: \n",
      "A value is trying to be set on a copy of a slice from a DataFrame\n",
      "\n",
      "See the caveats in the documentation: https://pandas.pydata.org/pandas-docs/stable/user_guide/indexing.html#returning-a-view-versus-a-copy\n",
      "d:\\BESVM\\BESVM\\.venv\\lib\\site-packages\\ipykernel_launcher.py:73: SettingWithCopyWarning: \n",
      "A value is trying to be set on a copy of a slice from a DataFrame\n",
      "\n",
      "See the caveats in the documentation: https://pandas.pydata.org/pandas-docs/stable/user_guide/indexing.html#returning-a-view-versus-a-copy\n",
      "d:\\BESVM\\BESVM\\.venv\\lib\\site-packages\\ipykernel_launcher.py:80: SettingWithCopyWarning: \n",
      "A value is trying to be set on a copy of a slice from a DataFrame\n",
      "\n",
      "See the caveats in the documentation: https://pandas.pydata.org/pandas-docs/stable/user_guide/indexing.html#returning-a-view-versus-a-copy\n",
      "d:\\BESVM\\BESVM\\.venv\\lib\\site-packages\\ipykernel_launcher.py:82: SettingWithCopyWarning: \n",
      "A value is trying to be set on a copy of a slice from a DataFrame\n",
      "\n",
      "See the caveats in the documentation: https://pandas.pydata.org/pandas-docs/stable/user_guide/indexing.html#returning-a-view-versus-a-copy\n"
     ]
    },
    {
     "name": "stdout",
     "output_type": "stream",
     "text": [
      "BESVM Accuracy (on training) = with x1 bounded error (0.2%*0.4583333333333333),x2 with error (0.2%*0.5416666666666666) : 0.9747779970399605\n",
      "BESVM Accuracy (on testing) = with x1 bounded error (0.2%*0.4583333333333333),x2 with error (0.2%*0.5416666666666666) : 0.973612823674476\n",
      "BESVM Accuracy (on subset_raw) = with no bounded error,x2 with no error 0.23346303501945526\n"
     ]
    },
    {
     "name": "stderr",
     "output_type": "stream",
     "text": [
      "d:\\BESVM\\BESVM\\.venv\\lib\\site-packages\\ipykernel_launcher.py:69: SettingWithCopyWarning: \n",
      "A value is trying to be set on a copy of a slice from a DataFrame\n",
      "\n",
      "See the caveats in the documentation: https://pandas.pydata.org/pandas-docs/stable/user_guide/indexing.html#returning-a-view-versus-a-copy\n",
      "d:\\BESVM\\BESVM\\.venv\\lib\\site-packages\\ipykernel_launcher.py:73: SettingWithCopyWarning: \n",
      "A value is trying to be set on a copy of a slice from a DataFrame\n",
      "\n",
      "See the caveats in the documentation: https://pandas.pydata.org/pandas-docs/stable/user_guide/indexing.html#returning-a-view-versus-a-copy\n",
      "d:\\BESVM\\BESVM\\.venv\\lib\\site-packages\\ipykernel_launcher.py:80: SettingWithCopyWarning: \n",
      "A value is trying to be set on a copy of a slice from a DataFrame\n",
      "\n",
      "See the caveats in the documentation: https://pandas.pydata.org/pandas-docs/stable/user_guide/indexing.html#returning-a-view-versus-a-copy\n",
      "d:\\BESVM\\BESVM\\.venv\\lib\\site-packages\\ipykernel_launcher.py:82: SettingWithCopyWarning: \n",
      "A value is trying to be set on a copy of a slice from a DataFrame\n",
      "\n",
      "See the caveats in the documentation: https://pandas.pydata.org/pandas-docs/stable/user_guide/indexing.html#returning-a-view-versus-a-copy\n"
     ]
    },
    {
     "name": "stdout",
     "output_type": "stream",
     "text": [
      "BESVM Accuracy (on training) = with x1 bounded error (0.2%*0.5),x2 with error (0.2%*0.5) : 0.9747779970399605\n",
      "BESVM Accuracy (on testing) = with x1 bounded error (0.2%*0.5),x2 with error (0.2%*0.5) : 0.973612823674476\n",
      "BESVM Accuracy (on subset_raw) = with no bounded error,x2 with no error 0.23346303501945526\n"
     ]
    },
    {
     "name": "stderr",
     "output_type": "stream",
     "text": [
      "d:\\BESVM\\BESVM\\.venv\\lib\\site-packages\\ipykernel_launcher.py:69: SettingWithCopyWarning: \n",
      "A value is trying to be set on a copy of a slice from a DataFrame\n",
      "\n",
      "See the caveats in the documentation: https://pandas.pydata.org/pandas-docs/stable/user_guide/indexing.html#returning-a-view-versus-a-copy\n",
      "d:\\BESVM\\BESVM\\.venv\\lib\\site-packages\\ipykernel_launcher.py:73: SettingWithCopyWarning: \n",
      "A value is trying to be set on a copy of a slice from a DataFrame\n",
      "\n",
      "See the caveats in the documentation: https://pandas.pydata.org/pandas-docs/stable/user_guide/indexing.html#returning-a-view-versus-a-copy\n",
      "d:\\BESVM\\BESVM\\.venv\\lib\\site-packages\\ipykernel_launcher.py:80: SettingWithCopyWarning: \n",
      "A value is trying to be set on a copy of a slice from a DataFrame\n",
      "\n",
      "See the caveats in the documentation: https://pandas.pydata.org/pandas-docs/stable/user_guide/indexing.html#returning-a-view-versus-a-copy\n",
      "d:\\BESVM\\BESVM\\.venv\\lib\\site-packages\\ipykernel_launcher.py:82: SettingWithCopyWarning: \n",
      "A value is trying to be set on a copy of a slice from a DataFrame\n",
      "\n",
      "See the caveats in the documentation: https://pandas.pydata.org/pandas-docs/stable/user_guide/indexing.html#returning-a-view-versus-a-copy\n"
     ]
    },
    {
     "name": "stdout",
     "output_type": "stream",
     "text": [
      "BESVM Accuracy (on training) = with x1 bounded error (0.2%*0.5416666666666666),x2 with error (0.2%*0.4583333333333333) : 0.9747779970399605\n",
      "BESVM Accuracy (on testing) = with x1 bounded error (0.2%*0.5416666666666666),x2 with error (0.2%*0.4583333333333333) : 0.973612823674476\n",
      "BESVM Accuracy (on subset_raw) = with no bounded error,x2 with no error 0.23346303501945526\n"
     ]
    },
    {
     "name": "stderr",
     "output_type": "stream",
     "text": [
      "d:\\BESVM\\BESVM\\.venv\\lib\\site-packages\\ipykernel_launcher.py:69: SettingWithCopyWarning: \n",
      "A value is trying to be set on a copy of a slice from a DataFrame\n",
      "\n",
      "See the caveats in the documentation: https://pandas.pydata.org/pandas-docs/stable/user_guide/indexing.html#returning-a-view-versus-a-copy\n",
      "d:\\BESVM\\BESVM\\.venv\\lib\\site-packages\\ipykernel_launcher.py:73: SettingWithCopyWarning: \n",
      "A value is trying to be set on a copy of a slice from a DataFrame\n",
      "\n",
      "See the caveats in the documentation: https://pandas.pydata.org/pandas-docs/stable/user_guide/indexing.html#returning-a-view-versus-a-copy\n",
      "d:\\BESVM\\BESVM\\.venv\\lib\\site-packages\\ipykernel_launcher.py:80: SettingWithCopyWarning: \n",
      "A value is trying to be set on a copy of a slice from a DataFrame\n",
      "\n",
      "See the caveats in the documentation: https://pandas.pydata.org/pandas-docs/stable/user_guide/indexing.html#returning-a-view-versus-a-copy\n",
      "d:\\BESVM\\BESVM\\.venv\\lib\\site-packages\\ipykernel_launcher.py:82: SettingWithCopyWarning: \n",
      "A value is trying to be set on a copy of a slice from a DataFrame\n",
      "\n",
      "See the caveats in the documentation: https://pandas.pydata.org/pandas-docs/stable/user_guide/indexing.html#returning-a-view-versus-a-copy\n"
     ]
    },
    {
     "name": "stdout",
     "output_type": "stream",
     "text": [
      "BESVM Accuracy (on training) = with x1 bounded error (0.2%*0.5833333333333334),x2 with error (0.2%*0.4166666666666667) : 0.9747779970399605\n",
      "BESVM Accuracy (on testing) = with x1 bounded error (0.2%*0.5833333333333334),x2 with error (0.2%*0.4166666666666667) : 0.973612823674476\n",
      "BESVM Accuracy (on subset_raw) = with no bounded error,x2 with no error 0.23346303501945526\n"
     ]
    },
    {
     "name": "stderr",
     "output_type": "stream",
     "text": [
      "d:\\BESVM\\BESVM\\.venv\\lib\\site-packages\\ipykernel_launcher.py:69: SettingWithCopyWarning: \n",
      "A value is trying to be set on a copy of a slice from a DataFrame\n",
      "\n",
      "See the caveats in the documentation: https://pandas.pydata.org/pandas-docs/stable/user_guide/indexing.html#returning-a-view-versus-a-copy\n",
      "d:\\BESVM\\BESVM\\.venv\\lib\\site-packages\\ipykernel_launcher.py:73: SettingWithCopyWarning: \n",
      "A value is trying to be set on a copy of a slice from a DataFrame\n",
      "\n",
      "See the caveats in the documentation: https://pandas.pydata.org/pandas-docs/stable/user_guide/indexing.html#returning-a-view-versus-a-copy\n",
      "d:\\BESVM\\BESVM\\.venv\\lib\\site-packages\\ipykernel_launcher.py:80: SettingWithCopyWarning: \n",
      "A value is trying to be set on a copy of a slice from a DataFrame\n",
      "\n",
      "See the caveats in the documentation: https://pandas.pydata.org/pandas-docs/stable/user_guide/indexing.html#returning-a-view-versus-a-copy\n",
      "d:\\BESVM\\BESVM\\.venv\\lib\\site-packages\\ipykernel_launcher.py:82: SettingWithCopyWarning: \n",
      "A value is trying to be set on a copy of a slice from a DataFrame\n",
      "\n",
      "See the caveats in the documentation: https://pandas.pydata.org/pandas-docs/stable/user_guide/indexing.html#returning-a-view-versus-a-copy\n"
     ]
    },
    {
     "name": "stdout",
     "output_type": "stream",
     "text": [
      "BESVM Accuracy (on training) = with x1 bounded error (0.2%*0.625),x2 with error (0.2%*0.375) : 0.9747779970399605\n",
      "BESVM Accuracy (on testing) = with x1 bounded error (0.2%*0.625),x2 with error (0.2%*0.375) : 0.973612823674476\n",
      "BESVM Accuracy (on subset_raw) = with no bounded error,x2 with no error 0.23346303501945526\n"
     ]
    },
    {
     "name": "stderr",
     "output_type": "stream",
     "text": [
      "d:\\BESVM\\BESVM\\.venv\\lib\\site-packages\\ipykernel_launcher.py:69: SettingWithCopyWarning: \n",
      "A value is trying to be set on a copy of a slice from a DataFrame\n",
      "\n",
      "See the caveats in the documentation: https://pandas.pydata.org/pandas-docs/stable/user_guide/indexing.html#returning-a-view-versus-a-copy\n",
      "d:\\BESVM\\BESVM\\.venv\\lib\\site-packages\\ipykernel_launcher.py:73: SettingWithCopyWarning: \n",
      "A value is trying to be set on a copy of a slice from a DataFrame\n",
      "\n",
      "See the caveats in the documentation: https://pandas.pydata.org/pandas-docs/stable/user_guide/indexing.html#returning-a-view-versus-a-copy\n",
      "d:\\BESVM\\BESVM\\.venv\\lib\\site-packages\\ipykernel_launcher.py:80: SettingWithCopyWarning: \n",
      "A value is trying to be set on a copy of a slice from a DataFrame\n",
      "\n",
      "See the caveats in the documentation: https://pandas.pydata.org/pandas-docs/stable/user_guide/indexing.html#returning-a-view-versus-a-copy\n",
      "d:\\BESVM\\BESVM\\.venv\\lib\\site-packages\\ipykernel_launcher.py:82: SettingWithCopyWarning: \n",
      "A value is trying to be set on a copy of a slice from a DataFrame\n",
      "\n",
      "See the caveats in the documentation: https://pandas.pydata.org/pandas-docs/stable/user_guide/indexing.html#returning-a-view-versus-a-copy\n"
     ]
    },
    {
     "name": "stdout",
     "output_type": "stream",
     "text": [
      "BESVM Accuracy (on training) = with x1 bounded error (0.2%*0.6666666666666666),x2 with error (0.2%*0.3333333333333333) : 0.9747779970399605\n",
      "BESVM Accuracy (on testing) = with x1 bounded error (0.2%*0.6666666666666666),x2 with error (0.2%*0.3333333333333333) : 0.973612823674476\n",
      "BESVM Accuracy (on subset_raw) = with no bounded error,x2 with no error 0.23346303501945526\n"
     ]
    },
    {
     "name": "stderr",
     "output_type": "stream",
     "text": [
      "d:\\BESVM\\BESVM\\.venv\\lib\\site-packages\\ipykernel_launcher.py:69: SettingWithCopyWarning: \n",
      "A value is trying to be set on a copy of a slice from a DataFrame\n",
      "\n",
      "See the caveats in the documentation: https://pandas.pydata.org/pandas-docs/stable/user_guide/indexing.html#returning-a-view-versus-a-copy\n",
      "d:\\BESVM\\BESVM\\.venv\\lib\\site-packages\\ipykernel_launcher.py:73: SettingWithCopyWarning: \n",
      "A value is trying to be set on a copy of a slice from a DataFrame\n",
      "\n",
      "See the caveats in the documentation: https://pandas.pydata.org/pandas-docs/stable/user_guide/indexing.html#returning-a-view-versus-a-copy\n",
      "d:\\BESVM\\BESVM\\.venv\\lib\\site-packages\\ipykernel_launcher.py:80: SettingWithCopyWarning: \n",
      "A value is trying to be set on a copy of a slice from a DataFrame\n",
      "\n",
      "See the caveats in the documentation: https://pandas.pydata.org/pandas-docs/stable/user_guide/indexing.html#returning-a-view-versus-a-copy\n",
      "d:\\BESVM\\BESVM\\.venv\\lib\\site-packages\\ipykernel_launcher.py:82: SettingWithCopyWarning: \n",
      "A value is trying to be set on a copy of a slice from a DataFrame\n",
      "\n",
      "See the caveats in the documentation: https://pandas.pydata.org/pandas-docs/stable/user_guide/indexing.html#returning-a-view-versus-a-copy\n"
     ]
    },
    {
     "name": "stdout",
     "output_type": "stream",
     "text": [
      "BESVM Accuracy (on training) = with x1 bounded error (0.2%*0.7083333333333334),x2 with error (0.2%*0.2916666666666667) : 0.9747779970399605\n",
      "BESVM Accuracy (on testing) = with x1 bounded error (0.2%*0.7083333333333334),x2 with error (0.2%*0.2916666666666667) : 0.973612823674476\n",
      "BESVM Accuracy (on subset_raw) = with no bounded error,x2 with no error 0.23346303501945526\n"
     ]
    },
    {
     "name": "stderr",
     "output_type": "stream",
     "text": [
      "d:\\BESVM\\BESVM\\.venv\\lib\\site-packages\\ipykernel_launcher.py:69: SettingWithCopyWarning: \n",
      "A value is trying to be set on a copy of a slice from a DataFrame\n",
      "\n",
      "See the caveats in the documentation: https://pandas.pydata.org/pandas-docs/stable/user_guide/indexing.html#returning-a-view-versus-a-copy\n",
      "d:\\BESVM\\BESVM\\.venv\\lib\\site-packages\\ipykernel_launcher.py:73: SettingWithCopyWarning: \n",
      "A value is trying to be set on a copy of a slice from a DataFrame\n",
      "\n",
      "See the caveats in the documentation: https://pandas.pydata.org/pandas-docs/stable/user_guide/indexing.html#returning-a-view-versus-a-copy\n",
      "d:\\BESVM\\BESVM\\.venv\\lib\\site-packages\\ipykernel_launcher.py:80: SettingWithCopyWarning: \n",
      "A value is trying to be set on a copy of a slice from a DataFrame\n",
      "\n",
      "See the caveats in the documentation: https://pandas.pydata.org/pandas-docs/stable/user_guide/indexing.html#returning-a-view-versus-a-copy\n",
      "d:\\BESVM\\BESVM\\.venv\\lib\\site-packages\\ipykernel_launcher.py:82: SettingWithCopyWarning: \n",
      "A value is trying to be set on a copy of a slice from a DataFrame\n",
      "\n",
      "See the caveats in the documentation: https://pandas.pydata.org/pandas-docs/stable/user_guide/indexing.html#returning-a-view-versus-a-copy\n"
     ]
    },
    {
     "name": "stdout",
     "output_type": "stream",
     "text": [
      "BESVM Accuracy (on training) = with x1 bounded error (0.2%*0.75),x2 with error (0.2%*0.25) : 0.9747779970399605\n",
      "BESVM Accuracy (on testing) = with x1 bounded error (0.2%*0.75),x2 with error (0.2%*0.25) : 0.973612823674476\n",
      "BESVM Accuracy (on subset_raw) = with no bounded error,x2 with no error 0.23346303501945526\n"
     ]
    },
    {
     "name": "stderr",
     "output_type": "stream",
     "text": [
      "d:\\BESVM\\BESVM\\.venv\\lib\\site-packages\\ipykernel_launcher.py:69: SettingWithCopyWarning: \n",
      "A value is trying to be set on a copy of a slice from a DataFrame\n",
      "\n",
      "See the caveats in the documentation: https://pandas.pydata.org/pandas-docs/stable/user_guide/indexing.html#returning-a-view-versus-a-copy\n",
      "d:\\BESVM\\BESVM\\.venv\\lib\\site-packages\\ipykernel_launcher.py:73: SettingWithCopyWarning: \n",
      "A value is trying to be set on a copy of a slice from a DataFrame\n",
      "\n",
      "See the caveats in the documentation: https://pandas.pydata.org/pandas-docs/stable/user_guide/indexing.html#returning-a-view-versus-a-copy\n",
      "d:\\BESVM\\BESVM\\.venv\\lib\\site-packages\\ipykernel_launcher.py:80: SettingWithCopyWarning: \n",
      "A value is trying to be set on a copy of a slice from a DataFrame\n",
      "\n",
      "See the caveats in the documentation: https://pandas.pydata.org/pandas-docs/stable/user_guide/indexing.html#returning-a-view-versus-a-copy\n",
      "d:\\BESVM\\BESVM\\.venv\\lib\\site-packages\\ipykernel_launcher.py:82: SettingWithCopyWarning: \n",
      "A value is trying to be set on a copy of a slice from a DataFrame\n",
      "\n",
      "See the caveats in the documentation: https://pandas.pydata.org/pandas-docs/stable/user_guide/indexing.html#returning-a-view-versus-a-copy\n"
     ]
    },
    {
     "name": "stdout",
     "output_type": "stream",
     "text": [
      "BESVM Accuracy (on training) = with x1 bounded error (0.2%*0.7916666666666666),x2 with error (0.2%*0.20833333333333334) : 0.9747779970399605\n",
      "BESVM Accuracy (on testing) = with x1 bounded error (0.2%*0.7916666666666666),x2 with error (0.2%*0.20833333333333334) : 0.973612823674476\n",
      "BESVM Accuracy (on subset_raw) = with no bounded error,x2 with no error 0.23346303501945526\n"
     ]
    },
    {
     "name": "stderr",
     "output_type": "stream",
     "text": [
      "d:\\BESVM\\BESVM\\.venv\\lib\\site-packages\\ipykernel_launcher.py:69: SettingWithCopyWarning: \n",
      "A value is trying to be set on a copy of a slice from a DataFrame\n",
      "\n",
      "See the caveats in the documentation: https://pandas.pydata.org/pandas-docs/stable/user_guide/indexing.html#returning-a-view-versus-a-copy\n",
      "d:\\BESVM\\BESVM\\.venv\\lib\\site-packages\\ipykernel_launcher.py:73: SettingWithCopyWarning: \n",
      "A value is trying to be set on a copy of a slice from a DataFrame\n",
      "\n",
      "See the caveats in the documentation: https://pandas.pydata.org/pandas-docs/stable/user_guide/indexing.html#returning-a-view-versus-a-copy\n",
      "d:\\BESVM\\BESVM\\.venv\\lib\\site-packages\\ipykernel_launcher.py:80: SettingWithCopyWarning: \n",
      "A value is trying to be set on a copy of a slice from a DataFrame\n",
      "\n",
      "See the caveats in the documentation: https://pandas.pydata.org/pandas-docs/stable/user_guide/indexing.html#returning-a-view-versus-a-copy\n",
      "d:\\BESVM\\BESVM\\.venv\\lib\\site-packages\\ipykernel_launcher.py:82: SettingWithCopyWarning: \n",
      "A value is trying to be set on a copy of a slice from a DataFrame\n",
      "\n",
      "See the caveats in the documentation: https://pandas.pydata.org/pandas-docs/stable/user_guide/indexing.html#returning-a-view-versus-a-copy\n"
     ]
    },
    {
     "name": "stdout",
     "output_type": "stream",
     "text": [
      "BESVM Accuracy (on training) = with x1 bounded error (0.2%*0.8333333333333334),x2 with error (0.2%*0.16666666666666666) : 0.9747779970399605\n",
      "BESVM Accuracy (on testing) = with x1 bounded error (0.2%*0.8333333333333334),x2 with error (0.2%*0.16666666666666666) : 0.973612823674476\n",
      "BESVM Accuracy (on subset_raw) = with no bounded error,x2 with no error 0.23346303501945526\n"
     ]
    }
   ],
   "source": [
    "#brute force allocation\n",
    "#brute force from 0-20 using svm\n",
    "BE = 0.2\n",
    "for i in range(21) :\n",
    "    df_2feature_be = df_2feature_be_generates(BE,i,0)\n",
    "    x_be = df_2feature_be.iloc[:, :-1].values\n",
    "    y_be = df_2feature_be.iloc[:,-1].values\n",
    "    X_train,X_test,y_train, y_test = train_test_split(x_be, y_be, test_size=0.2,random_state=1)\n",
    "    clf_BE = SVC(kernel='linear',C=1,gamma='auto')\n",
    "    clf_BE.fit(X_train, y_train)\n",
    "    y_BE_predict = clf_BE.predict(X_test)\n",
    "    result_BE_train = clf_BE.score(X_train, y_train)\n",
    "    result_BE_test = clf_BE.score(X_test, y_test)\n",
    "    subset_raw = clf_BE.score(subsample_x, subsample_y)\n",
    "    print('BESVM Accuracy (on training) = with x1 bounded error ('+str(BE)+'%*'+str((error_a[i]/(error_a[i]+error_b[i])))+'),x2 with error ('+str(BE)+'%*'+str((error_b[i]/(error_a[i]+error_b[i])))+') : '+str(result_BE_train))\n",
    "    print('BESVM Accuracy (on testing) = with x1 bounded error ('+str(BE)+'%*'+str((error_a[i]/(error_a[i]+error_b[i])))+'),x2 with error ('+str(BE)+'%*'+str((error_b[i]/(error_a[i]+error_b[i])))+') : '+str(result_BE_test))\n",
    "    print('BESVM Accuracy (on subset_raw) = with no bounded error,x2 with no error '+str(subset_raw))\n",
    "    "
   ]
  },
  {
   "cell_type": "code",
   "execution_count": 118,
   "metadata": {},
   "outputs": [
    {
     "name": "stderr",
     "output_type": "stream",
     "text": [
      "d:\\BESVM\\BESVM\\.venv\\lib\\site-packages\\ipykernel_launcher.py:69: SettingWithCopyWarning: \n",
      "A value is trying to be set on a copy of a slice from a DataFrame\n",
      "\n",
      "See the caveats in the documentation: https://pandas.pydata.org/pandas-docs/stable/user_guide/indexing.html#returning-a-view-versus-a-copy\n",
      "d:\\BESVM\\BESVM\\.venv\\lib\\site-packages\\ipykernel_launcher.py:73: SettingWithCopyWarning: \n",
      "A value is trying to be set on a copy of a slice from a DataFrame\n",
      "\n",
      "See the caveats in the documentation: https://pandas.pydata.org/pandas-docs/stable/user_guide/indexing.html#returning-a-view-versus-a-copy\n",
      "d:\\BESVM\\BESVM\\.venv\\lib\\site-packages\\ipykernel_launcher.py:80: SettingWithCopyWarning: \n",
      "A value is trying to be set on a copy of a slice from a DataFrame\n",
      "\n",
      "See the caveats in the documentation: https://pandas.pydata.org/pandas-docs/stable/user_guide/indexing.html#returning-a-view-versus-a-copy\n",
      "d:\\BESVM\\BESVM\\.venv\\lib\\site-packages\\ipykernel_launcher.py:82: SettingWithCopyWarning: \n",
      "A value is trying to be set on a copy of a slice from a DataFrame\n",
      "\n",
      "See the caveats in the documentation: https://pandas.pydata.org/pandas-docs/stable/user_guide/indexing.html#returning-a-view-versus-a-copy\n"
     ]
    },
    {
     "name": "stdout",
     "output_type": "stream",
     "text": [
      "BEKNN Accuracy (on training) = with x1 bounded error (0.2%*0.0),x2 with error (0.2%*1.0) : 0.9906265416872225\n",
      "BEKNN Accuracy (on testing) = with x1 bounded error (0.2%*0.0),x2 with error (0.2%*1.0) : 0.976078914919852\n",
      "BEKNN Accuracy (on subset_raw) = with no bounded error,x2 with no error 0.8983463035019456\n"
     ]
    },
    {
     "name": "stderr",
     "output_type": "stream",
     "text": [
      "d:\\BESVM\\BESVM\\.venv\\lib\\site-packages\\ipykernel_launcher.py:69: SettingWithCopyWarning: \n",
      "A value is trying to be set on a copy of a slice from a DataFrame\n",
      "\n",
      "See the caveats in the documentation: https://pandas.pydata.org/pandas-docs/stable/user_guide/indexing.html#returning-a-view-versus-a-copy\n",
      "d:\\BESVM\\BESVM\\.venv\\lib\\site-packages\\ipykernel_launcher.py:73: SettingWithCopyWarning: \n",
      "A value is trying to be set on a copy of a slice from a DataFrame\n",
      "\n",
      "See the caveats in the documentation: https://pandas.pydata.org/pandas-docs/stable/user_guide/indexing.html#returning-a-view-versus-a-copy\n",
      "d:\\BESVM\\BESVM\\.venv\\lib\\site-packages\\ipykernel_launcher.py:80: SettingWithCopyWarning: \n",
      "A value is trying to be set on a copy of a slice from a DataFrame\n",
      "\n",
      "See the caveats in the documentation: https://pandas.pydata.org/pandas-docs/stable/user_guide/indexing.html#returning-a-view-versus-a-copy\n",
      "d:\\BESVM\\BESVM\\.venv\\lib\\site-packages\\ipykernel_launcher.py:82: SettingWithCopyWarning: \n",
      "A value is trying to be set on a copy of a slice from a DataFrame\n",
      "\n",
      "See the caveats in the documentation: https://pandas.pydata.org/pandas-docs/stable/user_guide/indexing.html#returning-a-view-versus-a-copy\n"
     ]
    },
    {
     "name": "stdout",
     "output_type": "stream",
     "text": [
      "BEKNN Accuracy (on training) = with x1 bounded error (0.2%*0.041666666666666664),x2 with error (0.2%*0.9583333333333334) : 0.9906265416872225\n",
      "BEKNN Accuracy (on testing) = with x1 bounded error (0.2%*0.041666666666666664),x2 with error (0.2%*0.9583333333333334) : 0.976078914919852\n",
      "BEKNN Accuracy (on subset_raw) = with no bounded error,x2 with no error 0.8983463035019456\n"
     ]
    },
    {
     "name": "stderr",
     "output_type": "stream",
     "text": [
      "d:\\BESVM\\BESVM\\.venv\\lib\\site-packages\\ipykernel_launcher.py:69: SettingWithCopyWarning: \n",
      "A value is trying to be set on a copy of a slice from a DataFrame\n",
      "\n",
      "See the caveats in the documentation: https://pandas.pydata.org/pandas-docs/stable/user_guide/indexing.html#returning-a-view-versus-a-copy\n",
      "d:\\BESVM\\BESVM\\.venv\\lib\\site-packages\\ipykernel_launcher.py:73: SettingWithCopyWarning: \n",
      "A value is trying to be set on a copy of a slice from a DataFrame\n",
      "\n",
      "See the caveats in the documentation: https://pandas.pydata.org/pandas-docs/stable/user_guide/indexing.html#returning-a-view-versus-a-copy\n",
      "d:\\BESVM\\BESVM\\.venv\\lib\\site-packages\\ipykernel_launcher.py:80: SettingWithCopyWarning: \n",
      "A value is trying to be set on a copy of a slice from a DataFrame\n",
      "\n",
      "See the caveats in the documentation: https://pandas.pydata.org/pandas-docs/stable/user_guide/indexing.html#returning-a-view-versus-a-copy\n",
      "d:\\BESVM\\BESVM\\.venv\\lib\\site-packages\\ipykernel_launcher.py:82: SettingWithCopyWarning: \n",
      "A value is trying to be set on a copy of a slice from a DataFrame\n",
      "\n",
      "See the caveats in the documentation: https://pandas.pydata.org/pandas-docs/stable/user_guide/indexing.html#returning-a-view-versus-a-copy\n"
     ]
    },
    {
     "name": "stdout",
     "output_type": "stream",
     "text": [
      "BEKNN Accuracy (on training) = with x1 bounded error (0.2%*0.08333333333333333),x2 with error (0.2%*0.9166666666666666) : 0.9906265416872225\n",
      "BEKNN Accuracy (on testing) = with x1 bounded error (0.2%*0.08333333333333333),x2 with error (0.2%*0.9166666666666666) : 0.976078914919852\n",
      "BEKNN Accuracy (on subset_raw) = with no bounded error,x2 with no error 0.8983463035019456\n"
     ]
    },
    {
     "name": "stderr",
     "output_type": "stream",
     "text": [
      "d:\\BESVM\\BESVM\\.venv\\lib\\site-packages\\ipykernel_launcher.py:69: SettingWithCopyWarning: \n",
      "A value is trying to be set on a copy of a slice from a DataFrame\n",
      "\n",
      "See the caveats in the documentation: https://pandas.pydata.org/pandas-docs/stable/user_guide/indexing.html#returning-a-view-versus-a-copy\n",
      "d:\\BESVM\\BESVM\\.venv\\lib\\site-packages\\ipykernel_launcher.py:73: SettingWithCopyWarning: \n",
      "A value is trying to be set on a copy of a slice from a DataFrame\n",
      "\n",
      "See the caveats in the documentation: https://pandas.pydata.org/pandas-docs/stable/user_guide/indexing.html#returning-a-view-versus-a-copy\n",
      "d:\\BESVM\\BESVM\\.venv\\lib\\site-packages\\ipykernel_launcher.py:80: SettingWithCopyWarning: \n",
      "A value is trying to be set on a copy of a slice from a DataFrame\n",
      "\n",
      "See the caveats in the documentation: https://pandas.pydata.org/pandas-docs/stable/user_guide/indexing.html#returning-a-view-versus-a-copy\n",
      "d:\\BESVM\\BESVM\\.venv\\lib\\site-packages\\ipykernel_launcher.py:82: SettingWithCopyWarning: \n",
      "A value is trying to be set on a copy of a slice from a DataFrame\n",
      "\n",
      "See the caveats in the documentation: https://pandas.pydata.org/pandas-docs/stable/user_guide/indexing.html#returning-a-view-versus-a-copy\n"
     ]
    },
    {
     "name": "stdout",
     "output_type": "stream",
     "text": [
      "BEKNN Accuracy (on training) = with x1 bounded error (0.2%*0.125),x2 with error (0.2%*0.875) : 0.9906265416872225\n",
      "BEKNN Accuracy (on testing) = with x1 bounded error (0.2%*0.125),x2 with error (0.2%*0.875) : 0.976078914919852\n",
      "BEKNN Accuracy (on subset_raw) = with no bounded error,x2 with no error 0.8983463035019456\n"
     ]
    },
    {
     "name": "stderr",
     "output_type": "stream",
     "text": [
      "d:\\BESVM\\BESVM\\.venv\\lib\\site-packages\\ipykernel_launcher.py:69: SettingWithCopyWarning: \n",
      "A value is trying to be set on a copy of a slice from a DataFrame\n",
      "\n",
      "See the caveats in the documentation: https://pandas.pydata.org/pandas-docs/stable/user_guide/indexing.html#returning-a-view-versus-a-copy\n",
      "d:\\BESVM\\BESVM\\.venv\\lib\\site-packages\\ipykernel_launcher.py:73: SettingWithCopyWarning: \n",
      "A value is trying to be set on a copy of a slice from a DataFrame\n",
      "\n",
      "See the caveats in the documentation: https://pandas.pydata.org/pandas-docs/stable/user_guide/indexing.html#returning-a-view-versus-a-copy\n",
      "d:\\BESVM\\BESVM\\.venv\\lib\\site-packages\\ipykernel_launcher.py:80: SettingWithCopyWarning: \n",
      "A value is trying to be set on a copy of a slice from a DataFrame\n",
      "\n",
      "See the caveats in the documentation: https://pandas.pydata.org/pandas-docs/stable/user_guide/indexing.html#returning-a-view-versus-a-copy\n",
      "d:\\BESVM\\BESVM\\.venv\\lib\\site-packages\\ipykernel_launcher.py:82: SettingWithCopyWarning: \n",
      "A value is trying to be set on a copy of a slice from a DataFrame\n",
      "\n",
      "See the caveats in the documentation: https://pandas.pydata.org/pandas-docs/stable/user_guide/indexing.html#returning-a-view-versus-a-copy\n"
     ]
    },
    {
     "name": "stdout",
     "output_type": "stream",
     "text": [
      "BEKNN Accuracy (on training) = with x1 bounded error (0.2%*0.16666666666666666),x2 with error (0.2%*0.8333333333333334) : 0.9906265416872225\n",
      "BEKNN Accuracy (on testing) = with x1 bounded error (0.2%*0.16666666666666666),x2 with error (0.2%*0.8333333333333334) : 0.976078914919852\n",
      "BEKNN Accuracy (on subset_raw) = with no bounded error,x2 with no error 0.8983463035019456\n"
     ]
    },
    {
     "name": "stderr",
     "output_type": "stream",
     "text": [
      "d:\\BESVM\\BESVM\\.venv\\lib\\site-packages\\ipykernel_launcher.py:69: SettingWithCopyWarning: \n",
      "A value is trying to be set on a copy of a slice from a DataFrame\n",
      "\n",
      "See the caveats in the documentation: https://pandas.pydata.org/pandas-docs/stable/user_guide/indexing.html#returning-a-view-versus-a-copy\n",
      "d:\\BESVM\\BESVM\\.venv\\lib\\site-packages\\ipykernel_launcher.py:73: SettingWithCopyWarning: \n",
      "A value is trying to be set on a copy of a slice from a DataFrame\n",
      "\n",
      "See the caveats in the documentation: https://pandas.pydata.org/pandas-docs/stable/user_guide/indexing.html#returning-a-view-versus-a-copy\n",
      "d:\\BESVM\\BESVM\\.venv\\lib\\site-packages\\ipykernel_launcher.py:80: SettingWithCopyWarning: \n",
      "A value is trying to be set on a copy of a slice from a DataFrame\n",
      "\n",
      "See the caveats in the documentation: https://pandas.pydata.org/pandas-docs/stable/user_guide/indexing.html#returning-a-view-versus-a-copy\n",
      "d:\\BESVM\\BESVM\\.venv\\lib\\site-packages\\ipykernel_launcher.py:82: SettingWithCopyWarning: \n",
      "A value is trying to be set on a copy of a slice from a DataFrame\n",
      "\n",
      "See the caveats in the documentation: https://pandas.pydata.org/pandas-docs/stable/user_guide/indexing.html#returning-a-view-versus-a-copy\n"
     ]
    },
    {
     "name": "stdout",
     "output_type": "stream",
     "text": [
      "BEKNN Accuracy (on training) = with x1 bounded error (0.2%*0.20833333333333334),x2 with error (0.2%*0.7916666666666666) : 0.9906265416872225\n",
      "BEKNN Accuracy (on testing) = with x1 bounded error (0.2%*0.20833333333333334),x2 with error (0.2%*0.7916666666666666) : 0.976078914919852\n",
      "BEKNN Accuracy (on subset_raw) = with no bounded error,x2 with no error 0.8983463035019456\n"
     ]
    },
    {
     "name": "stderr",
     "output_type": "stream",
     "text": [
      "d:\\BESVM\\BESVM\\.venv\\lib\\site-packages\\ipykernel_launcher.py:69: SettingWithCopyWarning: \n",
      "A value is trying to be set on a copy of a slice from a DataFrame\n",
      "\n",
      "See the caveats in the documentation: https://pandas.pydata.org/pandas-docs/stable/user_guide/indexing.html#returning-a-view-versus-a-copy\n",
      "d:\\BESVM\\BESVM\\.venv\\lib\\site-packages\\ipykernel_launcher.py:73: SettingWithCopyWarning: \n",
      "A value is trying to be set on a copy of a slice from a DataFrame\n",
      "\n",
      "See the caveats in the documentation: https://pandas.pydata.org/pandas-docs/stable/user_guide/indexing.html#returning-a-view-versus-a-copy\n",
      "d:\\BESVM\\BESVM\\.venv\\lib\\site-packages\\ipykernel_launcher.py:80: SettingWithCopyWarning: \n",
      "A value is trying to be set on a copy of a slice from a DataFrame\n",
      "\n",
      "See the caveats in the documentation: https://pandas.pydata.org/pandas-docs/stable/user_guide/indexing.html#returning-a-view-versus-a-copy\n",
      "d:\\BESVM\\BESVM\\.venv\\lib\\site-packages\\ipykernel_launcher.py:82: SettingWithCopyWarning: \n",
      "A value is trying to be set on a copy of a slice from a DataFrame\n",
      "\n",
      "See the caveats in the documentation: https://pandas.pydata.org/pandas-docs/stable/user_guide/indexing.html#returning-a-view-versus-a-copy\n"
     ]
    },
    {
     "name": "stdout",
     "output_type": "stream",
     "text": [
      "BEKNN Accuracy (on training) = with x1 bounded error (0.2%*0.25),x2 with error (0.2%*0.75) : 0.9906265416872225\n",
      "BEKNN Accuracy (on testing) = with x1 bounded error (0.2%*0.25),x2 with error (0.2%*0.75) : 0.976078914919852\n",
      "BEKNN Accuracy (on subset_raw) = with no bounded error,x2 with no error 0.8983463035019456\n"
     ]
    },
    {
     "name": "stderr",
     "output_type": "stream",
     "text": [
      "d:\\BESVM\\BESVM\\.venv\\lib\\site-packages\\ipykernel_launcher.py:69: SettingWithCopyWarning: \n",
      "A value is trying to be set on a copy of a slice from a DataFrame\n",
      "\n",
      "See the caveats in the documentation: https://pandas.pydata.org/pandas-docs/stable/user_guide/indexing.html#returning-a-view-versus-a-copy\n",
      "d:\\BESVM\\BESVM\\.venv\\lib\\site-packages\\ipykernel_launcher.py:73: SettingWithCopyWarning: \n",
      "A value is trying to be set on a copy of a slice from a DataFrame\n",
      "\n",
      "See the caveats in the documentation: https://pandas.pydata.org/pandas-docs/stable/user_guide/indexing.html#returning-a-view-versus-a-copy\n",
      "d:\\BESVM\\BESVM\\.venv\\lib\\site-packages\\ipykernel_launcher.py:80: SettingWithCopyWarning: \n",
      "A value is trying to be set on a copy of a slice from a DataFrame\n",
      "\n",
      "See the caveats in the documentation: https://pandas.pydata.org/pandas-docs/stable/user_guide/indexing.html#returning-a-view-versus-a-copy\n",
      "d:\\BESVM\\BESVM\\.venv\\lib\\site-packages\\ipykernel_launcher.py:82: SettingWithCopyWarning: \n",
      "A value is trying to be set on a copy of a slice from a DataFrame\n",
      "\n",
      "See the caveats in the documentation: https://pandas.pydata.org/pandas-docs/stable/user_guide/indexing.html#returning-a-view-versus-a-copy\n"
     ]
    },
    {
     "name": "stdout",
     "output_type": "stream",
     "text": [
      "BEKNN Accuracy (on training) = with x1 bounded error (0.2%*0.2916666666666667),x2 with error (0.2%*0.7083333333333334) : 0.9906265416872225\n",
      "BEKNN Accuracy (on testing) = with x1 bounded error (0.2%*0.2916666666666667),x2 with error (0.2%*0.7083333333333334) : 0.976078914919852\n",
      "BEKNN Accuracy (on subset_raw) = with no bounded error,x2 with no error 0.8983463035019456\n"
     ]
    },
    {
     "name": "stderr",
     "output_type": "stream",
     "text": [
      "d:\\BESVM\\BESVM\\.venv\\lib\\site-packages\\ipykernel_launcher.py:69: SettingWithCopyWarning: \n",
      "A value is trying to be set on a copy of a slice from a DataFrame\n",
      "\n",
      "See the caveats in the documentation: https://pandas.pydata.org/pandas-docs/stable/user_guide/indexing.html#returning-a-view-versus-a-copy\n",
      "d:\\BESVM\\BESVM\\.venv\\lib\\site-packages\\ipykernel_launcher.py:73: SettingWithCopyWarning: \n",
      "A value is trying to be set on a copy of a slice from a DataFrame\n",
      "\n",
      "See the caveats in the documentation: https://pandas.pydata.org/pandas-docs/stable/user_guide/indexing.html#returning-a-view-versus-a-copy\n",
      "d:\\BESVM\\BESVM\\.venv\\lib\\site-packages\\ipykernel_launcher.py:80: SettingWithCopyWarning: \n",
      "A value is trying to be set on a copy of a slice from a DataFrame\n",
      "\n",
      "See the caveats in the documentation: https://pandas.pydata.org/pandas-docs/stable/user_guide/indexing.html#returning-a-view-versus-a-copy\n",
      "d:\\BESVM\\BESVM\\.venv\\lib\\site-packages\\ipykernel_launcher.py:82: SettingWithCopyWarning: \n",
      "A value is trying to be set on a copy of a slice from a DataFrame\n",
      "\n",
      "See the caveats in the documentation: https://pandas.pydata.org/pandas-docs/stable/user_guide/indexing.html#returning-a-view-versus-a-copy\n"
     ]
    },
    {
     "name": "stdout",
     "output_type": "stream",
     "text": [
      "BEKNN Accuracy (on training) = with x1 bounded error (0.2%*0.3333333333333333),x2 with error (0.2%*0.6666666666666666) : 0.9906265416872225\n",
      "BEKNN Accuracy (on testing) = with x1 bounded error (0.2%*0.3333333333333333),x2 with error (0.2%*0.6666666666666666) : 0.976078914919852\n",
      "BEKNN Accuracy (on subset_raw) = with no bounded error,x2 with no error 0.8983463035019456\n"
     ]
    },
    {
     "name": "stderr",
     "output_type": "stream",
     "text": [
      "d:\\BESVM\\BESVM\\.venv\\lib\\site-packages\\ipykernel_launcher.py:69: SettingWithCopyWarning: \n",
      "A value is trying to be set on a copy of a slice from a DataFrame\n",
      "\n",
      "See the caveats in the documentation: https://pandas.pydata.org/pandas-docs/stable/user_guide/indexing.html#returning-a-view-versus-a-copy\n",
      "d:\\BESVM\\BESVM\\.venv\\lib\\site-packages\\ipykernel_launcher.py:73: SettingWithCopyWarning: \n",
      "A value is trying to be set on a copy of a slice from a DataFrame\n",
      "\n",
      "See the caveats in the documentation: https://pandas.pydata.org/pandas-docs/stable/user_guide/indexing.html#returning-a-view-versus-a-copy\n",
      "d:\\BESVM\\BESVM\\.venv\\lib\\site-packages\\ipykernel_launcher.py:80: SettingWithCopyWarning: \n",
      "A value is trying to be set on a copy of a slice from a DataFrame\n",
      "\n",
      "See the caveats in the documentation: https://pandas.pydata.org/pandas-docs/stable/user_guide/indexing.html#returning-a-view-versus-a-copy\n",
      "d:\\BESVM\\BESVM\\.venv\\lib\\site-packages\\ipykernel_launcher.py:82: SettingWithCopyWarning: \n",
      "A value is trying to be set on a copy of a slice from a DataFrame\n",
      "\n",
      "See the caveats in the documentation: https://pandas.pydata.org/pandas-docs/stable/user_guide/indexing.html#returning-a-view-versus-a-copy\n"
     ]
    },
    {
     "name": "stdout",
     "output_type": "stream",
     "text": [
      "BEKNN Accuracy (on training) = with x1 bounded error (0.2%*0.375),x2 with error (0.2%*0.625) : 0.9906265416872225\n",
      "BEKNN Accuracy (on testing) = with x1 bounded error (0.2%*0.375),x2 with error (0.2%*0.625) : 0.976078914919852\n",
      "BEKNN Accuracy (on subset_raw) = with no bounded error,x2 with no error 0.8983463035019456\n"
     ]
    },
    {
     "name": "stderr",
     "output_type": "stream",
     "text": [
      "d:\\BESVM\\BESVM\\.venv\\lib\\site-packages\\ipykernel_launcher.py:69: SettingWithCopyWarning: \n",
      "A value is trying to be set on a copy of a slice from a DataFrame\n",
      "\n",
      "See the caveats in the documentation: https://pandas.pydata.org/pandas-docs/stable/user_guide/indexing.html#returning-a-view-versus-a-copy\n",
      "d:\\BESVM\\BESVM\\.venv\\lib\\site-packages\\ipykernel_launcher.py:73: SettingWithCopyWarning: \n",
      "A value is trying to be set on a copy of a slice from a DataFrame\n",
      "\n",
      "See the caveats in the documentation: https://pandas.pydata.org/pandas-docs/stable/user_guide/indexing.html#returning-a-view-versus-a-copy\n",
      "d:\\BESVM\\BESVM\\.venv\\lib\\site-packages\\ipykernel_launcher.py:80: SettingWithCopyWarning: \n",
      "A value is trying to be set on a copy of a slice from a DataFrame\n",
      "\n",
      "See the caveats in the documentation: https://pandas.pydata.org/pandas-docs/stable/user_guide/indexing.html#returning-a-view-versus-a-copy\n",
      "d:\\BESVM\\BESVM\\.venv\\lib\\site-packages\\ipykernel_launcher.py:82: SettingWithCopyWarning: \n",
      "A value is trying to be set on a copy of a slice from a DataFrame\n",
      "\n",
      "See the caveats in the documentation: https://pandas.pydata.org/pandas-docs/stable/user_guide/indexing.html#returning-a-view-versus-a-copy\n"
     ]
    },
    {
     "name": "stdout",
     "output_type": "stream",
     "text": [
      "BEKNN Accuracy (on training) = with x1 bounded error (0.2%*0.4166666666666667),x2 with error (0.2%*0.5833333333333334) : 0.9906265416872225\n",
      "BEKNN Accuracy (on testing) = with x1 bounded error (0.2%*0.4166666666666667),x2 with error (0.2%*0.5833333333333334) : 0.976078914919852\n",
      "BEKNN Accuracy (on subset_raw) = with no bounded error,x2 with no error 0.8983463035019456\n"
     ]
    },
    {
     "name": "stderr",
     "output_type": "stream",
     "text": [
      "d:\\BESVM\\BESVM\\.venv\\lib\\site-packages\\ipykernel_launcher.py:69: SettingWithCopyWarning: \n",
      "A value is trying to be set on a copy of a slice from a DataFrame\n",
      "\n",
      "See the caveats in the documentation: https://pandas.pydata.org/pandas-docs/stable/user_guide/indexing.html#returning-a-view-versus-a-copy\n",
      "d:\\BESVM\\BESVM\\.venv\\lib\\site-packages\\ipykernel_launcher.py:73: SettingWithCopyWarning: \n",
      "A value is trying to be set on a copy of a slice from a DataFrame\n",
      "\n",
      "See the caveats in the documentation: https://pandas.pydata.org/pandas-docs/stable/user_guide/indexing.html#returning-a-view-versus-a-copy\n",
      "d:\\BESVM\\BESVM\\.venv\\lib\\site-packages\\ipykernel_launcher.py:80: SettingWithCopyWarning: \n",
      "A value is trying to be set on a copy of a slice from a DataFrame\n",
      "\n",
      "See the caveats in the documentation: https://pandas.pydata.org/pandas-docs/stable/user_guide/indexing.html#returning-a-view-versus-a-copy\n",
      "d:\\BESVM\\BESVM\\.venv\\lib\\site-packages\\ipykernel_launcher.py:82: SettingWithCopyWarning: \n",
      "A value is trying to be set on a copy of a slice from a DataFrame\n",
      "\n",
      "See the caveats in the documentation: https://pandas.pydata.org/pandas-docs/stable/user_guide/indexing.html#returning-a-view-versus-a-copy\n"
     ]
    },
    {
     "name": "stdout",
     "output_type": "stream",
     "text": [
      "BEKNN Accuracy (on training) = with x1 bounded error (0.2%*0.4583333333333333),x2 with error (0.2%*0.5416666666666666) : 0.9906265416872225\n",
      "BEKNN Accuracy (on testing) = with x1 bounded error (0.2%*0.4583333333333333),x2 with error (0.2%*0.5416666666666666) : 0.976078914919852\n",
      "BEKNN Accuracy (on subset_raw) = with no bounded error,x2 with no error 0.8983463035019456\n"
     ]
    },
    {
     "name": "stderr",
     "output_type": "stream",
     "text": [
      "d:\\BESVM\\BESVM\\.venv\\lib\\site-packages\\ipykernel_launcher.py:69: SettingWithCopyWarning: \n",
      "A value is trying to be set on a copy of a slice from a DataFrame\n",
      "\n",
      "See the caveats in the documentation: https://pandas.pydata.org/pandas-docs/stable/user_guide/indexing.html#returning-a-view-versus-a-copy\n",
      "d:\\BESVM\\BESVM\\.venv\\lib\\site-packages\\ipykernel_launcher.py:73: SettingWithCopyWarning: \n",
      "A value is trying to be set on a copy of a slice from a DataFrame\n",
      "\n",
      "See the caveats in the documentation: https://pandas.pydata.org/pandas-docs/stable/user_guide/indexing.html#returning-a-view-versus-a-copy\n",
      "d:\\BESVM\\BESVM\\.venv\\lib\\site-packages\\ipykernel_launcher.py:80: SettingWithCopyWarning: \n",
      "A value is trying to be set on a copy of a slice from a DataFrame\n",
      "\n",
      "See the caveats in the documentation: https://pandas.pydata.org/pandas-docs/stable/user_guide/indexing.html#returning-a-view-versus-a-copy\n",
      "d:\\BESVM\\BESVM\\.venv\\lib\\site-packages\\ipykernel_launcher.py:82: SettingWithCopyWarning: \n",
      "A value is trying to be set on a copy of a slice from a DataFrame\n",
      "\n",
      "See the caveats in the documentation: https://pandas.pydata.org/pandas-docs/stable/user_guide/indexing.html#returning-a-view-versus-a-copy\n"
     ]
    },
    {
     "name": "stdout",
     "output_type": "stream",
     "text": [
      "BEKNN Accuracy (on training) = with x1 bounded error (0.2%*0.5),x2 with error (0.2%*0.5) : 0.9906265416872225\n",
      "BEKNN Accuracy (on testing) = with x1 bounded error (0.2%*0.5),x2 with error (0.2%*0.5) : 0.976078914919852\n",
      "BEKNN Accuracy (on subset_raw) = with no bounded error,x2 with no error 0.8983463035019456\n"
     ]
    },
    {
     "name": "stderr",
     "output_type": "stream",
     "text": [
      "d:\\BESVM\\BESVM\\.venv\\lib\\site-packages\\ipykernel_launcher.py:69: SettingWithCopyWarning: \n",
      "A value is trying to be set on a copy of a slice from a DataFrame\n",
      "\n",
      "See the caveats in the documentation: https://pandas.pydata.org/pandas-docs/stable/user_guide/indexing.html#returning-a-view-versus-a-copy\n",
      "d:\\BESVM\\BESVM\\.venv\\lib\\site-packages\\ipykernel_launcher.py:73: SettingWithCopyWarning: \n",
      "A value is trying to be set on a copy of a slice from a DataFrame\n",
      "\n",
      "See the caveats in the documentation: https://pandas.pydata.org/pandas-docs/stable/user_guide/indexing.html#returning-a-view-versus-a-copy\n",
      "d:\\BESVM\\BESVM\\.venv\\lib\\site-packages\\ipykernel_launcher.py:80: SettingWithCopyWarning: \n",
      "A value is trying to be set on a copy of a slice from a DataFrame\n",
      "\n",
      "See the caveats in the documentation: https://pandas.pydata.org/pandas-docs/stable/user_guide/indexing.html#returning-a-view-versus-a-copy\n",
      "d:\\BESVM\\BESVM\\.venv\\lib\\site-packages\\ipykernel_launcher.py:82: SettingWithCopyWarning: \n",
      "A value is trying to be set on a copy of a slice from a DataFrame\n",
      "\n",
      "See the caveats in the documentation: https://pandas.pydata.org/pandas-docs/stable/user_guide/indexing.html#returning-a-view-versus-a-copy\n"
     ]
    },
    {
     "name": "stdout",
     "output_type": "stream",
     "text": [
      "BEKNN Accuracy (on training) = with x1 bounded error (0.2%*0.5416666666666666),x2 with error (0.2%*0.4583333333333333) : 0.9906265416872225\n",
      "BEKNN Accuracy (on testing) = with x1 bounded error (0.2%*0.5416666666666666),x2 with error (0.2%*0.4583333333333333) : 0.976078914919852\n",
      "BEKNN Accuracy (on subset_raw) = with no bounded error,x2 with no error 0.8983463035019456\n"
     ]
    },
    {
     "name": "stderr",
     "output_type": "stream",
     "text": [
      "d:\\BESVM\\BESVM\\.venv\\lib\\site-packages\\ipykernel_launcher.py:69: SettingWithCopyWarning: \n",
      "A value is trying to be set on a copy of a slice from a DataFrame\n",
      "\n",
      "See the caveats in the documentation: https://pandas.pydata.org/pandas-docs/stable/user_guide/indexing.html#returning-a-view-versus-a-copy\n",
      "d:\\BESVM\\BESVM\\.venv\\lib\\site-packages\\ipykernel_launcher.py:73: SettingWithCopyWarning: \n",
      "A value is trying to be set on a copy of a slice from a DataFrame\n",
      "\n",
      "See the caveats in the documentation: https://pandas.pydata.org/pandas-docs/stable/user_guide/indexing.html#returning-a-view-versus-a-copy\n",
      "d:\\BESVM\\BESVM\\.venv\\lib\\site-packages\\ipykernel_launcher.py:80: SettingWithCopyWarning: \n",
      "A value is trying to be set on a copy of a slice from a DataFrame\n",
      "\n",
      "See the caveats in the documentation: https://pandas.pydata.org/pandas-docs/stable/user_guide/indexing.html#returning-a-view-versus-a-copy\n",
      "d:\\BESVM\\BESVM\\.venv\\lib\\site-packages\\ipykernel_launcher.py:82: SettingWithCopyWarning: \n",
      "A value is trying to be set on a copy of a slice from a DataFrame\n",
      "\n",
      "See the caveats in the documentation: https://pandas.pydata.org/pandas-docs/stable/user_guide/indexing.html#returning-a-view-versus-a-copy\n"
     ]
    },
    {
     "name": "stdout",
     "output_type": "stream",
     "text": [
      "BEKNN Accuracy (on training) = with x1 bounded error (0.2%*0.5833333333333334),x2 with error (0.2%*0.4166666666666667) : 0.9906265416872225\n",
      "BEKNN Accuracy (on testing) = with x1 bounded error (0.2%*0.5833333333333334),x2 with error (0.2%*0.4166666666666667) : 0.976078914919852\n",
      "BEKNN Accuracy (on subset_raw) = with no bounded error,x2 with no error 0.8983463035019456\n"
     ]
    },
    {
     "name": "stderr",
     "output_type": "stream",
     "text": [
      "d:\\BESVM\\BESVM\\.venv\\lib\\site-packages\\ipykernel_launcher.py:69: SettingWithCopyWarning: \n",
      "A value is trying to be set on a copy of a slice from a DataFrame\n",
      "\n",
      "See the caveats in the documentation: https://pandas.pydata.org/pandas-docs/stable/user_guide/indexing.html#returning-a-view-versus-a-copy\n",
      "d:\\BESVM\\BESVM\\.venv\\lib\\site-packages\\ipykernel_launcher.py:73: SettingWithCopyWarning: \n",
      "A value is trying to be set on a copy of a slice from a DataFrame\n",
      "\n",
      "See the caveats in the documentation: https://pandas.pydata.org/pandas-docs/stable/user_guide/indexing.html#returning-a-view-versus-a-copy\n",
      "d:\\BESVM\\BESVM\\.venv\\lib\\site-packages\\ipykernel_launcher.py:80: SettingWithCopyWarning: \n",
      "A value is trying to be set on a copy of a slice from a DataFrame\n",
      "\n",
      "See the caveats in the documentation: https://pandas.pydata.org/pandas-docs/stable/user_guide/indexing.html#returning-a-view-versus-a-copy\n",
      "d:\\BESVM\\BESVM\\.venv\\lib\\site-packages\\ipykernel_launcher.py:82: SettingWithCopyWarning: \n",
      "A value is trying to be set on a copy of a slice from a DataFrame\n",
      "\n",
      "See the caveats in the documentation: https://pandas.pydata.org/pandas-docs/stable/user_guide/indexing.html#returning-a-view-versus-a-copy\n"
     ]
    },
    {
     "name": "stdout",
     "output_type": "stream",
     "text": [
      "BEKNN Accuracy (on training) = with x1 bounded error (0.2%*0.625),x2 with error (0.2%*0.375) : 0.9906265416872225\n",
      "BEKNN Accuracy (on testing) = with x1 bounded error (0.2%*0.625),x2 with error (0.2%*0.375) : 0.976078914919852\n",
      "BEKNN Accuracy (on subset_raw) = with no bounded error,x2 with no error 0.8983463035019456\n"
     ]
    },
    {
     "name": "stderr",
     "output_type": "stream",
     "text": [
      "d:\\BESVM\\BESVM\\.venv\\lib\\site-packages\\ipykernel_launcher.py:69: SettingWithCopyWarning: \n",
      "A value is trying to be set on a copy of a slice from a DataFrame\n",
      "\n",
      "See the caveats in the documentation: https://pandas.pydata.org/pandas-docs/stable/user_guide/indexing.html#returning-a-view-versus-a-copy\n",
      "d:\\BESVM\\BESVM\\.venv\\lib\\site-packages\\ipykernel_launcher.py:73: SettingWithCopyWarning: \n",
      "A value is trying to be set on a copy of a slice from a DataFrame\n",
      "\n",
      "See the caveats in the documentation: https://pandas.pydata.org/pandas-docs/stable/user_guide/indexing.html#returning-a-view-versus-a-copy\n",
      "d:\\BESVM\\BESVM\\.venv\\lib\\site-packages\\ipykernel_launcher.py:80: SettingWithCopyWarning: \n",
      "A value is trying to be set on a copy of a slice from a DataFrame\n",
      "\n",
      "See the caveats in the documentation: https://pandas.pydata.org/pandas-docs/stable/user_guide/indexing.html#returning-a-view-versus-a-copy\n",
      "d:\\BESVM\\BESVM\\.venv\\lib\\site-packages\\ipykernel_launcher.py:82: SettingWithCopyWarning: \n",
      "A value is trying to be set on a copy of a slice from a DataFrame\n",
      "\n",
      "See the caveats in the documentation: https://pandas.pydata.org/pandas-docs/stable/user_guide/indexing.html#returning-a-view-versus-a-copy\n"
     ]
    },
    {
     "name": "stdout",
     "output_type": "stream",
     "text": [
      "BEKNN Accuracy (on training) = with x1 bounded error (0.2%*0.6666666666666666),x2 with error (0.2%*0.3333333333333333) : 0.9906265416872225\n",
      "BEKNN Accuracy (on testing) = with x1 bounded error (0.2%*0.6666666666666666),x2 with error (0.2%*0.3333333333333333) : 0.976078914919852\n",
      "BEKNN Accuracy (on subset_raw) = with no bounded error,x2 with no error 0.8983463035019456\n"
     ]
    },
    {
     "name": "stderr",
     "output_type": "stream",
     "text": [
      "d:\\BESVM\\BESVM\\.venv\\lib\\site-packages\\ipykernel_launcher.py:69: SettingWithCopyWarning: \n",
      "A value is trying to be set on a copy of a slice from a DataFrame\n",
      "\n",
      "See the caveats in the documentation: https://pandas.pydata.org/pandas-docs/stable/user_guide/indexing.html#returning-a-view-versus-a-copy\n",
      "d:\\BESVM\\BESVM\\.venv\\lib\\site-packages\\ipykernel_launcher.py:73: SettingWithCopyWarning: \n",
      "A value is trying to be set on a copy of a slice from a DataFrame\n",
      "\n",
      "See the caveats in the documentation: https://pandas.pydata.org/pandas-docs/stable/user_guide/indexing.html#returning-a-view-versus-a-copy\n",
      "d:\\BESVM\\BESVM\\.venv\\lib\\site-packages\\ipykernel_launcher.py:80: SettingWithCopyWarning: \n",
      "A value is trying to be set on a copy of a slice from a DataFrame\n",
      "\n",
      "See the caveats in the documentation: https://pandas.pydata.org/pandas-docs/stable/user_guide/indexing.html#returning-a-view-versus-a-copy\n",
      "d:\\BESVM\\BESVM\\.venv\\lib\\site-packages\\ipykernel_launcher.py:82: SettingWithCopyWarning: \n",
      "A value is trying to be set on a copy of a slice from a DataFrame\n",
      "\n",
      "See the caveats in the documentation: https://pandas.pydata.org/pandas-docs/stable/user_guide/indexing.html#returning-a-view-versus-a-copy\n"
     ]
    },
    {
     "name": "stdout",
     "output_type": "stream",
     "text": [
      "BEKNN Accuracy (on training) = with x1 bounded error (0.2%*0.7083333333333334),x2 with error (0.2%*0.2916666666666667) : 0.9906265416872225\n",
      "BEKNN Accuracy (on testing) = with x1 bounded error (0.2%*0.7083333333333334),x2 with error (0.2%*0.2916666666666667) : 0.976078914919852\n",
      "BEKNN Accuracy (on subset_raw) = with no bounded error,x2 with no error 0.8983463035019456\n"
     ]
    },
    {
     "name": "stderr",
     "output_type": "stream",
     "text": [
      "d:\\BESVM\\BESVM\\.venv\\lib\\site-packages\\ipykernel_launcher.py:69: SettingWithCopyWarning: \n",
      "A value is trying to be set on a copy of a slice from a DataFrame\n",
      "\n",
      "See the caveats in the documentation: https://pandas.pydata.org/pandas-docs/stable/user_guide/indexing.html#returning-a-view-versus-a-copy\n",
      "d:\\BESVM\\BESVM\\.venv\\lib\\site-packages\\ipykernel_launcher.py:73: SettingWithCopyWarning: \n",
      "A value is trying to be set on a copy of a slice from a DataFrame\n",
      "\n",
      "See the caveats in the documentation: https://pandas.pydata.org/pandas-docs/stable/user_guide/indexing.html#returning-a-view-versus-a-copy\n",
      "d:\\BESVM\\BESVM\\.venv\\lib\\site-packages\\ipykernel_launcher.py:80: SettingWithCopyWarning: \n",
      "A value is trying to be set on a copy of a slice from a DataFrame\n",
      "\n",
      "See the caveats in the documentation: https://pandas.pydata.org/pandas-docs/stable/user_guide/indexing.html#returning-a-view-versus-a-copy\n",
      "d:\\BESVM\\BESVM\\.venv\\lib\\site-packages\\ipykernel_launcher.py:82: SettingWithCopyWarning: \n",
      "A value is trying to be set on a copy of a slice from a DataFrame\n",
      "\n",
      "See the caveats in the documentation: https://pandas.pydata.org/pandas-docs/stable/user_guide/indexing.html#returning-a-view-versus-a-copy\n"
     ]
    },
    {
     "name": "stdout",
     "output_type": "stream",
     "text": [
      "BEKNN Accuracy (on training) = with x1 bounded error (0.2%*0.75),x2 with error (0.2%*0.25) : 0.9906265416872225\n",
      "BEKNN Accuracy (on testing) = with x1 bounded error (0.2%*0.75),x2 with error (0.2%*0.25) : 0.976078914919852\n",
      "BEKNN Accuracy (on subset_raw) = with no bounded error,x2 with no error 0.8983463035019456\n"
     ]
    },
    {
     "name": "stderr",
     "output_type": "stream",
     "text": [
      "d:\\BESVM\\BESVM\\.venv\\lib\\site-packages\\ipykernel_launcher.py:69: SettingWithCopyWarning: \n",
      "A value is trying to be set on a copy of a slice from a DataFrame\n",
      "\n",
      "See the caveats in the documentation: https://pandas.pydata.org/pandas-docs/stable/user_guide/indexing.html#returning-a-view-versus-a-copy\n",
      "d:\\BESVM\\BESVM\\.venv\\lib\\site-packages\\ipykernel_launcher.py:73: SettingWithCopyWarning: \n",
      "A value is trying to be set on a copy of a slice from a DataFrame\n",
      "\n",
      "See the caveats in the documentation: https://pandas.pydata.org/pandas-docs/stable/user_guide/indexing.html#returning-a-view-versus-a-copy\n",
      "d:\\BESVM\\BESVM\\.venv\\lib\\site-packages\\ipykernel_launcher.py:80: SettingWithCopyWarning: \n",
      "A value is trying to be set on a copy of a slice from a DataFrame\n",
      "\n",
      "See the caveats in the documentation: https://pandas.pydata.org/pandas-docs/stable/user_guide/indexing.html#returning-a-view-versus-a-copy\n",
      "d:\\BESVM\\BESVM\\.venv\\lib\\site-packages\\ipykernel_launcher.py:82: SettingWithCopyWarning: \n",
      "A value is trying to be set on a copy of a slice from a DataFrame\n",
      "\n",
      "See the caveats in the documentation: https://pandas.pydata.org/pandas-docs/stable/user_guide/indexing.html#returning-a-view-versus-a-copy\n"
     ]
    },
    {
     "name": "stdout",
     "output_type": "stream",
     "text": [
      "BEKNN Accuracy (on training) = with x1 bounded error (0.2%*0.7916666666666666),x2 with error (0.2%*0.20833333333333334) : 0.9906265416872225\n",
      "BEKNN Accuracy (on testing) = with x1 bounded error (0.2%*0.7916666666666666),x2 with error (0.2%*0.20833333333333334) : 0.976078914919852\n",
      "BEKNN Accuracy (on subset_raw) = with no bounded error,x2 with no error 0.8983463035019456\n"
     ]
    },
    {
     "name": "stderr",
     "output_type": "stream",
     "text": [
      "d:\\BESVM\\BESVM\\.venv\\lib\\site-packages\\ipykernel_launcher.py:69: SettingWithCopyWarning: \n",
      "A value is trying to be set on a copy of a slice from a DataFrame\n",
      "\n",
      "See the caveats in the documentation: https://pandas.pydata.org/pandas-docs/stable/user_guide/indexing.html#returning-a-view-versus-a-copy\n",
      "d:\\BESVM\\BESVM\\.venv\\lib\\site-packages\\ipykernel_launcher.py:73: SettingWithCopyWarning: \n",
      "A value is trying to be set on a copy of a slice from a DataFrame\n",
      "\n",
      "See the caveats in the documentation: https://pandas.pydata.org/pandas-docs/stable/user_guide/indexing.html#returning-a-view-versus-a-copy\n",
      "d:\\BESVM\\BESVM\\.venv\\lib\\site-packages\\ipykernel_launcher.py:80: SettingWithCopyWarning: \n",
      "A value is trying to be set on a copy of a slice from a DataFrame\n",
      "\n",
      "See the caveats in the documentation: https://pandas.pydata.org/pandas-docs/stable/user_guide/indexing.html#returning-a-view-versus-a-copy\n",
      "d:\\BESVM\\BESVM\\.venv\\lib\\site-packages\\ipykernel_launcher.py:82: SettingWithCopyWarning: \n",
      "A value is trying to be set on a copy of a slice from a DataFrame\n",
      "\n",
      "See the caveats in the documentation: https://pandas.pydata.org/pandas-docs/stable/user_guide/indexing.html#returning-a-view-versus-a-copy\n"
     ]
    },
    {
     "name": "stdout",
     "output_type": "stream",
     "text": [
      "BEKNN Accuracy (on training) = with x1 bounded error (0.2%*0.8333333333333334),x2 with error (0.2%*0.16666666666666666) : 0.9906265416872225\n",
      "BEKNN Accuracy (on testing) = with x1 bounded error (0.2%*0.8333333333333334),x2 with error (0.2%*0.16666666666666666) : 0.976078914919852\n",
      "BEKNN Accuracy (on subset_raw) = with no bounded error,x2 with no error 0.8983463035019456\n"
     ]
    }
   ],
   "source": [
    "#using knn with brute force from 0-20\n",
    "for i in range(21):\n",
    "    df_2feature_be = df_2feature_be_generates(BE,i,0)\n",
    "    x_be = df_2feature_be.iloc[:, :-1].values\n",
    "    y_be = df_2feature_be.iloc[:,-1].values\n",
    "    X_train,X_test,y_train, y_test = train_test_split(x_be, y_be, test_size=0.2,random_state=1)\n",
    "    KNN_BE = KNeighborsClassifier()\n",
    "    KNN_BE.fit(X_train,y_train)\n",
    "    y_BE_predict = KNN_BE.predict(X_test)\n",
    "    result_BE_train = KNN_BE.score(X_train, y_train)\n",
    "    result_BE_test = KNN_BE.score(X_test, y_test)\n",
    "    subset_raw = KNN_BE.score(subsample_x, subsample_y)\n",
    "    \n",
    "    print('BEKNN Accuracy (on training) = with x1 bounded error ('+str(BE)+'%*'+str((error_a[i]/(error_a[i]+error_b[i])))+'),x2 with error ('+str(BE)+'%*'+str((error_b[i]/(error_a[i]+error_b[i])))+') : '+str(result_BE_train))\n",
    "    print('BEKNN Accuracy (on testing) = with x1 bounded error ('+str(BE)+'%*'+str((error_a[i]/(error_a[i]+error_b[i])))+'),x2 with error ('+str(BE)+'%*'+str((error_b[i]/(error_a[i]+error_b[i])))+') : '+str(result_BE_test))\n",
    "    print('BEKNN Accuracy (on subset_raw) = with no bounded error,x2 with no error '+str(subset_raw))\n",
    "    "
   ]
  },
  {
   "cell_type": "code",
   "execution_count": 119,
   "metadata": {},
   "outputs": [
    {
     "name": "stderr",
     "output_type": "stream",
     "text": [
      "d:\\BESVM\\BESVM\\.venv\\lib\\site-packages\\ipykernel_launcher.py:69: SettingWithCopyWarning: \n",
      "A value is trying to be set on a copy of a slice from a DataFrame\n",
      "\n",
      "See the caveats in the documentation: https://pandas.pydata.org/pandas-docs/stable/user_guide/indexing.html#returning-a-view-versus-a-copy\n",
      "d:\\BESVM\\BESVM\\.venv\\lib\\site-packages\\ipykernel_launcher.py:73: SettingWithCopyWarning: \n",
      "A value is trying to be set on a copy of a slice from a DataFrame\n",
      "\n",
      "See the caveats in the documentation: https://pandas.pydata.org/pandas-docs/stable/user_guide/indexing.html#returning-a-view-versus-a-copy\n",
      "d:\\BESVM\\BESVM\\.venv\\lib\\site-packages\\ipykernel_launcher.py:80: SettingWithCopyWarning: \n",
      "A value is trying to be set on a copy of a slice from a DataFrame\n",
      "\n",
      "See the caveats in the documentation: https://pandas.pydata.org/pandas-docs/stable/user_guide/indexing.html#returning-a-view-versus-a-copy\n",
      "d:\\BESVM\\BESVM\\.venv\\lib\\site-packages\\ipykernel_launcher.py:82: SettingWithCopyWarning: \n",
      "A value is trying to be set on a copy of a slice from a DataFrame\n",
      "\n",
      "See the caveats in the documentation: https://pandas.pydata.org/pandas-docs/stable/user_guide/indexing.html#returning-a-view-versus-a-copy\n"
     ]
    },
    {
     "name": "stdout",
     "output_type": "stream",
     "text": [
      "BESVM Accuracy (on training) = with x1 bounded error (0.2%*0.0),x2 with error (0.2%*1.0) : 0.9747779970399605\n",
      "BESVM Accuracy (on testing) = with x1 bounded error (0.2%*0.0),x2 with error (0.2%*1.0) : 0.973612823674476\n",
      "BESVM Accuracy (on subset_raw) = with no bounded error,x2 with no error 0.23346303501945526\n"
     ]
    },
    {
     "name": "stderr",
     "output_type": "stream",
     "text": [
      "d:\\BESVM\\BESVM\\.venv\\lib\\site-packages\\ipykernel_launcher.py:69: SettingWithCopyWarning: \n",
      "A value is trying to be set on a copy of a slice from a DataFrame\n",
      "\n",
      "See the caveats in the documentation: https://pandas.pydata.org/pandas-docs/stable/user_guide/indexing.html#returning-a-view-versus-a-copy\n",
      "d:\\BESVM\\BESVM\\.venv\\lib\\site-packages\\ipykernel_launcher.py:73: SettingWithCopyWarning: \n",
      "A value is trying to be set on a copy of a slice from a DataFrame\n",
      "\n",
      "See the caveats in the documentation: https://pandas.pydata.org/pandas-docs/stable/user_guide/indexing.html#returning-a-view-versus-a-copy\n",
      "d:\\BESVM\\BESVM\\.venv\\lib\\site-packages\\ipykernel_launcher.py:80: SettingWithCopyWarning: \n",
      "A value is trying to be set on a copy of a slice from a DataFrame\n",
      "\n",
      "See the caveats in the documentation: https://pandas.pydata.org/pandas-docs/stable/user_guide/indexing.html#returning-a-view-versus-a-copy\n",
      "d:\\BESVM\\BESVM\\.venv\\lib\\site-packages\\ipykernel_launcher.py:82: SettingWithCopyWarning: \n",
      "A value is trying to be set on a copy of a slice from a DataFrame\n",
      "\n",
      "See the caveats in the documentation: https://pandas.pydata.org/pandas-docs/stable/user_guide/indexing.html#returning-a-view-versus-a-copy\n"
     ]
    },
    {
     "name": "stdout",
     "output_type": "stream",
     "text": [
      "BESVM Accuracy (on training) = with x1 bounded error (0.2%*0.0),x2 with error (0.2%*1.0) : 0.9747779970399605\n",
      "BESVM Accuracy (on testing) = with x1 bounded error (0.2%*0.0),x2 with error (0.2%*1.0) : 0.973612823674476\n",
      "BESVM Accuracy (on subset_raw) = with no bounded error,x2 with no error 0.23346303501945526\n"
     ]
    },
    {
     "ename": "TypeError",
     "evalue": "list indices must be integers or slices, not float",
     "output_type": "error",
     "traceback": [
      "\u001b[1;31m---------------------------------------------------------------------------\u001b[0m",
      "\u001b[1;31mTypeError\u001b[0m                                 Traceback (most recent call last)",
      "\u001b[1;32m~\\AppData\\Local\\Temp\\ipykernel_15104\\1344596835.py\u001b[0m in \u001b[0;36m<module>\u001b[1;34m\u001b[0m\n\u001b[0;32m      4\u001b[0m \u001b[1;32mfor\u001b[0m \u001b[0mi\u001b[0m \u001b[1;32min\u001b[0m \u001b[0merr_rateA\u001b[0m\u001b[1;33m:\u001b[0m\u001b[1;33m\u001b[0m\u001b[1;33m\u001b[0m\u001b[0m\n\u001b[0;32m      5\u001b[0m     \u001b[1;32mfor\u001b[0m \u001b[0mj\u001b[0m \u001b[1;32min\u001b[0m \u001b[0merr_rateB\u001b[0m\u001b[1;33m:\u001b[0m\u001b[1;33m\u001b[0m\u001b[1;33m\u001b[0m\u001b[0m\n\u001b[1;32m----> 6\u001b[1;33m         \u001b[0mdf_2feature_be\u001b[0m \u001b[1;33m=\u001b[0m \u001b[0mdf_2feature_be_generates\u001b[0m\u001b[1;33m(\u001b[0m\u001b[0mBE\u001b[0m\u001b[1;33m,\u001b[0m\u001b[0mi\u001b[0m\u001b[1;33m,\u001b[0m\u001b[1;36m0\u001b[0m\u001b[1;33m)\u001b[0m\u001b[1;33m\u001b[0m\u001b[1;33m\u001b[0m\u001b[0m\n\u001b[0m\u001b[0;32m      7\u001b[0m         \u001b[0mx_be\u001b[0m \u001b[1;33m=\u001b[0m \u001b[0mdf_2feature_be\u001b[0m\u001b[1;33m.\u001b[0m\u001b[0miloc\u001b[0m\u001b[1;33m[\u001b[0m\u001b[1;33m:\u001b[0m\u001b[1;33m,\u001b[0m \u001b[1;33m:\u001b[0m\u001b[1;33m-\u001b[0m\u001b[1;36m1\u001b[0m\u001b[1;33m]\u001b[0m\u001b[1;33m.\u001b[0m\u001b[0mvalues\u001b[0m\u001b[1;33m\u001b[0m\u001b[1;33m\u001b[0m\u001b[0m\n\u001b[0;32m      8\u001b[0m         \u001b[0my_be\u001b[0m \u001b[1;33m=\u001b[0m \u001b[0mdf_2feature_be\u001b[0m\u001b[1;33m.\u001b[0m\u001b[0miloc\u001b[0m\u001b[1;33m[\u001b[0m\u001b[1;33m:\u001b[0m\u001b[1;33m,\u001b[0m\u001b[1;33m-\u001b[0m\u001b[1;36m1\u001b[0m\u001b[1;33m]\u001b[0m\u001b[1;33m.\u001b[0m\u001b[0mvalues\u001b[0m\u001b[1;33m\u001b[0m\u001b[1;33m\u001b[0m\u001b[0m\n",
      "\u001b[1;32m~\\AppData\\Local\\Temp\\ipykernel_15104\\175535995.py\u001b[0m in \u001b[0;36mdf_2feature_be_generates\u001b[1;34m(BE, i, n, importance, df)\u001b[0m\n\u001b[0;32m     13\u001b[0m     \u001b[1;32mif\u001b[0m \u001b[0mi\u001b[0m \u001b[1;33m>=\u001b[0m \u001b[1;36m0\u001b[0m \u001b[1;32mand\u001b[0m \u001b[0mn\u001b[0m \u001b[1;33m==\u001b[0m \u001b[1;36m0\u001b[0m \u001b[1;33m:\u001b[0m\u001b[1;33m\u001b[0m\u001b[1;33m\u001b[0m\u001b[0m\n\u001b[0;32m     14\u001b[0m         \u001b[0mangle\u001b[0m \u001b[1;33m=\u001b[0m \u001b[1;36m1\u001b[0m\u001b[1;33m\u001b[0m\u001b[1;33m\u001b[0m\u001b[0m\n\u001b[1;32m---> 15\u001b[1;33m         \u001b[0me1\u001b[0m \u001b[1;33m=\u001b[0m \u001b[0mtemp\u001b[0m\u001b[1;33m[\u001b[0m\u001b[1;34m'x1'\u001b[0m\u001b[1;33m]\u001b[0m\u001b[1;33m.\u001b[0m\u001b[0mmean\u001b[0m\u001b[1;33m(\u001b[0m\u001b[1;33m)\u001b[0m\u001b[1;33m*\u001b[0m\u001b[0mBE\u001b[0m\u001b[1;33m*\u001b[0m\u001b[0mmath\u001b[0m\u001b[1;33m.\u001b[0m\u001b[0mcos\u001b[0m\u001b[1;33m(\u001b[0m\u001b[1;33m(\u001b[0m\u001b[0merror_a\u001b[0m\u001b[1;33m[\u001b[0m\u001b[0mi\u001b[0m\u001b[1;33m]\u001b[0m\u001b[1;33m/\u001b[0m\u001b[1;33m(\u001b[0m\u001b[0merror_a\u001b[0m\u001b[1;33m[\u001b[0m\u001b[0mi\u001b[0m\u001b[1;33m]\u001b[0m\u001b[1;33m+\u001b[0m\u001b[0merror_b\u001b[0m\u001b[1;33m[\u001b[0m\u001b[0mi\u001b[0m\u001b[1;33m]\u001b[0m\u001b[1;33m)\u001b[0m\u001b[1;33m)\u001b[0m\u001b[1;33m)\u001b[0m\u001b[1;33m\u001b[0m\u001b[1;33m\u001b[0m\u001b[0m\n\u001b[0m\u001b[0;32m     16\u001b[0m         \u001b[0me2\u001b[0m \u001b[1;33m=\u001b[0m \u001b[0mtemp\u001b[0m\u001b[1;33m[\u001b[0m\u001b[1;34m'x2'\u001b[0m\u001b[1;33m]\u001b[0m\u001b[1;33m.\u001b[0m\u001b[0mmean\u001b[0m\u001b[1;33m(\u001b[0m\u001b[1;33m)\u001b[0m\u001b[1;33m*\u001b[0m\u001b[0mBE\u001b[0m\u001b[1;33m*\u001b[0m\u001b[0mmath\u001b[0m\u001b[1;33m.\u001b[0m\u001b[0msin\u001b[0m\u001b[1;33m(\u001b[0m\u001b[1;33m(\u001b[0m\u001b[0merror_b\u001b[0m\u001b[1;33m[\u001b[0m\u001b[0mi\u001b[0m\u001b[1;33m]\u001b[0m\u001b[1;33m/\u001b[0m\u001b[1;33m(\u001b[0m\u001b[0merror_a\u001b[0m\u001b[1;33m[\u001b[0m\u001b[0mi\u001b[0m\u001b[1;33m]\u001b[0m\u001b[1;33m+\u001b[0m\u001b[0merror_b\u001b[0m\u001b[1;33m[\u001b[0m\u001b[0mi\u001b[0m\u001b[1;33m]\u001b[0m\u001b[1;33m)\u001b[0m\u001b[1;33m)\u001b[0m\u001b[1;33m)\u001b[0m\u001b[1;33m\u001b[0m\u001b[1;33m\u001b[0m\u001b[0m\n\u001b[0;32m     17\u001b[0m     \u001b[1;32melif\u001b[0m \u001b[0mi\u001b[0m \u001b[1;33m==\u001b[0m \u001b[1;33m-\u001b[0m\u001b[1;36m1\u001b[0m \u001b[1;32mand\u001b[0m \u001b[0mn\u001b[0m \u001b[1;33m==\u001b[0m \u001b[1;36m1\u001b[0m\u001b[1;33m:\u001b[0m\u001b[1;33m\u001b[0m\u001b[1;33m\u001b[0m\u001b[0m\n",
      "\u001b[1;31mTypeError\u001b[0m: list indices must be integers or slices, not float"
     ]
    }
   ],
   "source": [
    "err_rateA = [0,0.1]\n",
    "err_rateB = [0,0.1]\n",
    "\n",
    "for i in err_rateA:\n",
    "    for j in err_rateB:\n",
    "        df_2feature_be = df_2feature_be_generates(BE,i,0)\n",
    "        x_be = df_2feature_be.iloc[:, :-1].values\n",
    "        y_be = df_2feature_be.iloc[:,-1].values\n",
    "        X_train,X_test,y_train, y_test = train_test_split(x_be, y_be, test_size=0.2,random_state=1)\n",
    "        clf_BE = SVC(kernel='linear',C=1,gamma='auto')\n",
    "        clf_BE.fit(X_train, y_train)\n",
    "        y_BE_predict = clf_BE.predict(X_test)\n",
    "        result_BE_train = clf_BE.score(X_train, y_train)\n",
    "        result_BE_test = clf_BE.score(X_test, y_test)\n",
    "        subset_raw = clf_BE.score(subsample_x, subsample_y)\n",
    "        print('BESVM Accuracy (on training) = with x1 bounded error ('+str(BE)+'%*'+str((error_a[i]/(error_a[i]+error_b[i])))+'),x2 with error ('+str(BE)+'%*'+str((error_b[i]/(error_a[i]+error_b[i])))+') : '+str(result_BE_train))\n",
    "        print('BESVM Accuracy (on testing) = with x1 bounded error ('+str(BE)+'%*'+str((error_a[i]/(error_a[i]+error_b[i])))+'),x2 with error ('+str(BE)+'%*'+str((error_b[i]/(error_a[i]+error_b[i])))+') : '+str(result_BE_test))\n",
    "        print('BESVM Accuracy (on subset_raw) = with no bounded error,x2 with no error '+str(subset_raw))\n",
    "        \n"
   ]
  }
 ],
 "metadata": {
  "interpreter": {
   "hash": "823264832876f692eb60ba3c01443ddcf5448cec612e602318bd1dc48bf5d5c1"
  },
  "kernelspec": {
   "display_name": "Python 3.7.9 ('.venv': venv)",
   "language": "python",
   "name": "python3"
  },
  "language_info": {
   "codemirror_mode": {
    "name": "ipython",
    "version": 3
   },
   "file_extension": ".py",
   "mimetype": "text/x-python",
   "name": "python",
   "nbconvert_exporter": "python",
   "pygments_lexer": "ipython3",
   "version": "3.7.9"
  },
  "orig_nbformat": 4
 },
 "nbformat": 4,
 "nbformat_minor": 2
}
